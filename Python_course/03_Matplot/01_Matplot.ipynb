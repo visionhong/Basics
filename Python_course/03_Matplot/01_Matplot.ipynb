{
 "cells": [
  {
   "cell_type": "markdown",
   "metadata": {},
   "source": [
    "### Matplot Lib를 이용한 시각화"
   ]
  },
  {
   "cell_type": "code",
   "execution_count": 4,
   "metadata": {},
   "outputs": [],
   "source": [
    "import matplotlib.pyplot as plt\n",
    "import seaborn as sns"
   ]
  },
  {
   "cell_type": "markdown",
   "metadata": {},
   "source": [
    "#### 1. 산점도 그래프 그리기"
   ]
  },
  {
   "cell_type": "code",
   "execution_count": null,
   "metadata": {},
   "outputs": [],
   "source": [
    "# scatter() 함수를 사용해서 시각화한다.\n",
    "'''\n",
    "산점도는 x,y축에 해당하는 데이타의 상관관계를 표시할때 사용하며\n",
    "점들이 흩어져 있는 분포를 확인할 수 있는 그래프\n",
    "'''"
   ]
  },
  {
   "cell_type": "code",
   "execution_count": 11,
   "metadata": {},
   "outputs": [
    {
     "data": {
      "image/png": "[encoded data removed]",
      "text/plain": [
       "<Figure size 432x288 with 2 Axes>"
      ]
     },
     "metadata": {
      "needs_background": "light"
     },
     "output_type": "display_data"
    }
   ],
   "source": [
    "# plt.scatter([1,2,3,4],[10,30,20,40],s=[100,200,350,500],c=['yellow','orange','brown','red'])\n",
    "\n",
    "plt.scatter([1,2,3,4],[10,30,20,40],s=[100,200,350,500],c=range(4),cmap='jet')\n",
    "plt.colorbar()\n",
    "plt.show()"
   ]
  },
  {
   "cell_type": "code",
   "execution_count": null,
   "metadata": {},
   "outputs": [],
   "source": [
    "plt.scatter([1,2,3,4],[10,30,20,40],s=[100,200,350,500],c=range(4),cmap='jet')\n",
    "plt.show()"
   ]
  },
  {
   "cell_type": "code",
   "execution_count": 15,
   "metadata": {},
   "outputs": [],
   "source": [
    "# 1. 딕셔너리를 이용한 DataFrame 생성하기\n",
    "import numpy as np\n",
    "np.random.seed(1)\n",
    "data = {\n",
    "    'a':np.arange(50),\n",
    "    'c':np.random.randint(0,50,50),\n",
    "    'd':np.random.randn(50)\n",
    "}"
   ]
  },
  {
   "cell_type": "code",
   "execution_count": 16,
   "metadata": {
    "collapsed": true
   },
   "outputs": [
    {
     "data": {
      "text/plain": [
       "{'a': array([ 0,  1,  2,  3,  4,  5,  6,  7,  8,  9, 10, 11, 12, 13, 14, 15, 16,\n",
       "        17, 18, 19, 20, 21, 22, 23, 24, 25, 26, 27, 28, 29, 30, 31, 32, 33,\n",
       "        34, 35, 36, 37, 38, 39, 40, 41, 42, 43, 44, 45, 46, 47, 48, 49]),\n",
       " 'c': array([37, 43, 12,  8,  9, 11,  5, 15,  0, 16,  1, 12,  7, 45,  6, 25, 20,\n",
       "        37, 18, 20, 11, 42, 28, 29, 14,  4, 23, 23, 41, 49, 30, 32, 22, 13,\n",
       "        41,  9,  7, 22,  1,  0, 17,  8, 24, 13, 47, 42,  8, 30,  7,  3]),\n",
       " 'd': array([8.91913759e-01, 1.73559653e+00, 6.31108331e-01, 9.07343356e-01,\n",
       "        3.74751973e-01, 4.73382754e-01, 4.54520824e-01, 8.53380627e-02,\n",
       "        1.50318838e+00, 1.16064112e+00, 4.82941397e-01, 1.80662901e+00,\n",
       "        9.15447608e-01, 6.97339847e-02, 8.49954772e-01, 5.06232307e-02,\n",
       "        7.05072381e-01, 1.67994195e+00, 1.99997564e+00, 1.15696327e+00,\n",
       "        1.93117963e-01, 1.55300741e+00, 1.00135380e-02, 6.49165533e-01,\n",
       "        1.55857293e+00, 2.38351806e-01, 1.08086617e-01, 1.01526292e+00,\n",
       "        9.59636776e-01, 1.27303148e-01, 6.98554164e-01, 2.22549508e+00,\n",
       "        1.26822935e+00, 1.39218201e+00, 1.92383191e+00, 9.91091266e-01,\n",
       "        3.80610804e-01, 7.47766359e-01, 1.31767750e+00, 1.33291008e+00,\n",
       "        6.84540250e-01, 1.25598233e+00, 4.96726354e-01, 3.29275803e-01,\n",
       "        1.18990846e-03, 3.07292625e-01, 1.83536999e-01, 5.52975151e-01,\n",
       "        1.55712804e-01, 5.72392274e-01]),\n",
       " 'b': array([ 7.59955476,  8.35681993, 12.13892432, -4.38431181,  6.57706672,\n",
       "        -6.37451728, 21.78141345,  5.24889432, -9.29088822,  6.55925525,\n",
       "        11.93079609, 23.47796373, 11.50679496,  5.29652081,  6.25947811,\n",
       "        21.1001901 ,  0.52918991, 14.95232271,  3.31707767, 19.41552775,\n",
       "        20.26831491, 14.58874005, 18.30683747, 11.32705482, 24.24545422,\n",
       "        15.17623745, 22.97084697, 21.29581171, 18.69244801, 21.25419144,\n",
       "        31.46522589, 22.45867559, 13.64174189, 21.59895033, 28.07554802,\n",
       "        43.8200328 , 43.78838041, 51.99032386, 53.42909317, 34.52268308,\n",
       "        22.22307664, 23.08164766, 31.94934572, 38.99623663, 49.36258367,\n",
       "        57.99784714, 46.94180386, 44.16830715, 44.04287256, 41.87568031])}"
      ]
     },
     "execution_count": 16,
     "metadata": {},
     "output_type": "execute_result"
    }
   ],
   "source": [
    "data['b'] = data['a'] +10*np.random.randn(50)\n",
    "data['d'] = np.abs(data['d'])\n",
    "\n",
    "data"
   ]
  },
  {
   "cell_type": "code",
   "execution_count": 17,
   "metadata": {
    "collapsed": true
   },
   "outputs": [
    {
     "data": {
      "text/html": [
       "<div>\n",
       "<style scoped>\n",
       "    .dataframe tbody tr th:only-of-type {\n",
       "        vertical-align: middle;\n",
       "    }\n",
       "\n",
       "    .dataframe tbody tr th {\n",
       "        vertical-align: top;\n",
       "    }\n",
       "\n",
       "    .dataframe thead th {\n",
       "        text-align: right;\n",
       "    }\n",
       "</style>\n",
       "<table border=\"1\" class=\"dataframe\">\n",
       "  <thead>\n",
       "    <tr style=\"text-align: right;\">\n",
       "      <th></th>\n",
       "      <th>a</th>\n",
       "      <th>c</th>\n",
       "      <th>d</th>\n",
       "      <th>b</th>\n",
       "    </tr>\n",
       "  </thead>\n",
       "  <tbody>\n",
       "    <tr>\n",
       "      <td>0</td>\n",
       "      <td>0</td>\n",
       "      <td>37</td>\n",
       "      <td>0.891914</td>\n",
       "      <td>7.599555</td>\n",
       "    </tr>\n",
       "    <tr>\n",
       "      <td>1</td>\n",
       "      <td>1</td>\n",
       "      <td>43</td>\n",
       "      <td>1.735597</td>\n",
       "      <td>8.356820</td>\n",
       "    </tr>\n",
       "    <tr>\n",
       "      <td>2</td>\n",
       "      <td>2</td>\n",
       "      <td>12</td>\n",
       "      <td>0.631108</td>\n",
       "      <td>12.138924</td>\n",
       "    </tr>\n",
       "    <tr>\n",
       "      <td>3</td>\n",
       "      <td>3</td>\n",
       "      <td>8</td>\n",
       "      <td>0.907343</td>\n",
       "      <td>-4.384312</td>\n",
       "    </tr>\n",
       "    <tr>\n",
       "      <td>4</td>\n",
       "      <td>4</td>\n",
       "      <td>9</td>\n",
       "      <td>0.374752</td>\n",
       "      <td>6.577067</td>\n",
       "    </tr>\n",
       "    <tr>\n",
       "      <td>5</td>\n",
       "      <td>5</td>\n",
       "      <td>11</td>\n",
       "      <td>0.473383</td>\n",
       "      <td>-6.374517</td>\n",
       "    </tr>\n",
       "    <tr>\n",
       "      <td>6</td>\n",
       "      <td>6</td>\n",
       "      <td>5</td>\n",
       "      <td>0.454521</td>\n",
       "      <td>21.781413</td>\n",
       "    </tr>\n",
       "    <tr>\n",
       "      <td>7</td>\n",
       "      <td>7</td>\n",
       "      <td>15</td>\n",
       "      <td>0.085338</td>\n",
       "      <td>5.248894</td>\n",
       "    </tr>\n",
       "    <tr>\n",
       "      <td>8</td>\n",
       "      <td>8</td>\n",
       "      <td>0</td>\n",
       "      <td>1.503188</td>\n",
       "      <td>-9.290888</td>\n",
       "    </tr>\n",
       "    <tr>\n",
       "      <td>9</td>\n",
       "      <td>9</td>\n",
       "      <td>16</td>\n",
       "      <td>1.160641</td>\n",
       "      <td>6.559255</td>\n",
       "    </tr>\n",
       "    <tr>\n",
       "      <td>10</td>\n",
       "      <td>10</td>\n",
       "      <td>1</td>\n",
       "      <td>0.482941</td>\n",
       "      <td>11.930796</td>\n",
       "    </tr>\n",
       "    <tr>\n",
       "      <td>11</td>\n",
       "      <td>11</td>\n",
       "      <td>12</td>\n",
       "      <td>1.806629</td>\n",
       "      <td>23.477964</td>\n",
       "    </tr>\n",
       "    <tr>\n",
       "      <td>12</td>\n",
       "      <td>12</td>\n",
       "      <td>7</td>\n",
       "      <td>0.915448</td>\n",
       "      <td>11.506795</td>\n",
       "    </tr>\n",
       "    <tr>\n",
       "      <td>13</td>\n",
       "      <td>13</td>\n",
       "      <td>45</td>\n",
       "      <td>0.069734</td>\n",
       "      <td>5.296521</td>\n",
       "    </tr>\n",
       "    <tr>\n",
       "      <td>14</td>\n",
       "      <td>14</td>\n",
       "      <td>6</td>\n",
       "      <td>0.849955</td>\n",
       "      <td>6.259478</td>\n",
       "    </tr>\n",
       "    <tr>\n",
       "      <td>15</td>\n",
       "      <td>15</td>\n",
       "      <td>25</td>\n",
       "      <td>0.050623</td>\n",
       "      <td>21.100190</td>\n",
       "    </tr>\n",
       "    <tr>\n",
       "      <td>16</td>\n",
       "      <td>16</td>\n",
       "      <td>20</td>\n",
       "      <td>0.705072</td>\n",
       "      <td>0.529190</td>\n",
       "    </tr>\n",
       "    <tr>\n",
       "      <td>17</td>\n",
       "      <td>17</td>\n",
       "      <td>37</td>\n",
       "      <td>1.679942</td>\n",
       "      <td>14.952323</td>\n",
       "    </tr>\n",
       "    <tr>\n",
       "      <td>18</td>\n",
       "      <td>18</td>\n",
       "      <td>18</td>\n",
       "      <td>1.999976</td>\n",
       "      <td>3.317078</td>\n",
       "    </tr>\n",
       "    <tr>\n",
       "      <td>19</td>\n",
       "      <td>19</td>\n",
       "      <td>20</td>\n",
       "      <td>1.156963</td>\n",
       "      <td>19.415528</td>\n",
       "    </tr>\n",
       "    <tr>\n",
       "      <td>20</td>\n",
       "      <td>20</td>\n",
       "      <td>11</td>\n",
       "      <td>0.193118</td>\n",
       "      <td>20.268315</td>\n",
       "    </tr>\n",
       "    <tr>\n",
       "      <td>21</td>\n",
       "      <td>21</td>\n",
       "      <td>42</td>\n",
       "      <td>1.553007</td>\n",
       "      <td>14.588740</td>\n",
       "    </tr>\n",
       "    <tr>\n",
       "      <td>22</td>\n",
       "      <td>22</td>\n",
       "      <td>28</td>\n",
       "      <td>0.010014</td>\n",
       "      <td>18.306837</td>\n",
       "    </tr>\n",
       "    <tr>\n",
       "      <td>23</td>\n",
       "      <td>23</td>\n",
       "      <td>29</td>\n",
       "      <td>0.649166</td>\n",
       "      <td>11.327055</td>\n",
       "    </tr>\n",
       "    <tr>\n",
       "      <td>24</td>\n",
       "      <td>24</td>\n",
       "      <td>14</td>\n",
       "      <td>1.558573</td>\n",
       "      <td>24.245454</td>\n",
       "    </tr>\n",
       "    <tr>\n",
       "      <td>25</td>\n",
       "      <td>25</td>\n",
       "      <td>4</td>\n",
       "      <td>0.238352</td>\n",
       "      <td>15.176237</td>\n",
       "    </tr>\n",
       "    <tr>\n",
       "      <td>26</td>\n",
       "      <td>26</td>\n",
       "      <td>23</td>\n",
       "      <td>0.108087</td>\n",
       "      <td>22.970847</td>\n",
       "    </tr>\n",
       "    <tr>\n",
       "      <td>27</td>\n",
       "      <td>27</td>\n",
       "      <td>23</td>\n",
       "      <td>1.015263</td>\n",
       "      <td>21.295812</td>\n",
       "    </tr>\n",
       "    <tr>\n",
       "      <td>28</td>\n",
       "      <td>28</td>\n",
       "      <td>41</td>\n",
       "      <td>0.959637</td>\n",
       "      <td>18.692448</td>\n",
       "    </tr>\n",
       "    <tr>\n",
       "      <td>29</td>\n",
       "      <td>29</td>\n",
       "      <td>49</td>\n",
       "      <td>0.127303</td>\n",
       "      <td>21.254191</td>\n",
       "    </tr>\n",
       "    <tr>\n",
       "      <td>30</td>\n",
       "      <td>30</td>\n",
       "      <td>30</td>\n",
       "      <td>0.698554</td>\n",
       "      <td>31.465226</td>\n",
       "    </tr>\n",
       "    <tr>\n",
       "      <td>31</td>\n",
       "      <td>31</td>\n",
       "      <td>32</td>\n",
       "      <td>2.225495</td>\n",
       "      <td>22.458676</td>\n",
       "    </tr>\n",
       "    <tr>\n",
       "      <td>32</td>\n",
       "      <td>32</td>\n",
       "      <td>22</td>\n",
       "      <td>1.268229</td>\n",
       "      <td>13.641742</td>\n",
       "    </tr>\n",
       "    <tr>\n",
       "      <td>33</td>\n",
       "      <td>33</td>\n",
       "      <td>13</td>\n",
       "      <td>1.392182</td>\n",
       "      <td>21.598950</td>\n",
       "    </tr>\n",
       "    <tr>\n",
       "      <td>34</td>\n",
       "      <td>34</td>\n",
       "      <td>41</td>\n",
       "      <td>1.923832</td>\n",
       "      <td>28.075548</td>\n",
       "    </tr>\n",
       "    <tr>\n",
       "      <td>35</td>\n",
       "      <td>35</td>\n",
       "      <td>9</td>\n",
       "      <td>0.991091</td>\n",
       "      <td>43.820033</td>\n",
       "    </tr>\n",
       "    <tr>\n",
       "      <td>36</td>\n",
       "      <td>36</td>\n",
       "      <td>7</td>\n",
       "      <td>0.380611</td>\n",
       "      <td>43.788380</td>\n",
       "    </tr>\n",
       "    <tr>\n",
       "      <td>37</td>\n",
       "      <td>37</td>\n",
       "      <td>22</td>\n",
       "      <td>0.747766</td>\n",
       "      <td>51.990324</td>\n",
       "    </tr>\n",
       "    <tr>\n",
       "      <td>38</td>\n",
       "      <td>38</td>\n",
       "      <td>1</td>\n",
       "      <td>1.317678</td>\n",
       "      <td>53.429093</td>\n",
       "    </tr>\n",
       "    <tr>\n",
       "      <td>39</td>\n",
       "      <td>39</td>\n",
       "      <td>0</td>\n",
       "      <td>1.332910</td>\n",
       "      <td>34.522683</td>\n",
       "    </tr>\n",
       "    <tr>\n",
       "      <td>40</td>\n",
       "      <td>40</td>\n",
       "      <td>17</td>\n",
       "      <td>0.684540</td>\n",
       "      <td>22.223077</td>\n",
       "    </tr>\n",
       "    <tr>\n",
       "      <td>41</td>\n",
       "      <td>41</td>\n",
       "      <td>8</td>\n",
       "      <td>1.255982</td>\n",
       "      <td>23.081648</td>\n",
       "    </tr>\n",
       "    <tr>\n",
       "      <td>42</td>\n",
       "      <td>42</td>\n",
       "      <td>24</td>\n",
       "      <td>0.496726</td>\n",
       "      <td>31.949346</td>\n",
       "    </tr>\n",
       "    <tr>\n",
       "      <td>43</td>\n",
       "      <td>43</td>\n",
       "      <td>13</td>\n",
       "      <td>0.329276</td>\n",
       "      <td>38.996237</td>\n",
       "    </tr>\n",
       "    <tr>\n",
       "      <td>44</td>\n",
       "      <td>44</td>\n",
       "      <td>47</td>\n",
       "      <td>0.001190</td>\n",
       "      <td>49.362584</td>\n",
       "    </tr>\n",
       "    <tr>\n",
       "      <td>45</td>\n",
       "      <td>45</td>\n",
       "      <td>42</td>\n",
       "      <td>0.307293</td>\n",
       "      <td>57.997847</td>\n",
       "    </tr>\n",
       "    <tr>\n",
       "      <td>46</td>\n",
       "      <td>46</td>\n",
       "      <td>8</td>\n",
       "      <td>0.183537</td>\n",
       "      <td>46.941804</td>\n",
       "    </tr>\n",
       "    <tr>\n",
       "      <td>47</td>\n",
       "      <td>47</td>\n",
       "      <td>30</td>\n",
       "      <td>0.552975</td>\n",
       "      <td>44.168307</td>\n",
       "    </tr>\n",
       "    <tr>\n",
       "      <td>48</td>\n",
       "      <td>48</td>\n",
       "      <td>7</td>\n",
       "      <td>0.155713</td>\n",
       "      <td>44.042873</td>\n",
       "    </tr>\n",
       "    <tr>\n",
       "      <td>49</td>\n",
       "      <td>49</td>\n",
       "      <td>3</td>\n",
       "      <td>0.572392</td>\n",
       "      <td>41.875680</td>\n",
       "    </tr>\n",
       "  </tbody>\n",
       "</table>\n",
       "</div>"
      ],
      "text/plain": [
       "     a   c         d          b\n",
       "0    0  37  0.891914   7.599555\n",
       "1    1  43  1.735597   8.356820\n",
       "2    2  12  0.631108  12.138924\n",
       "3    3   8  0.907343  -4.384312\n",
       "4    4   9  0.374752   6.577067\n",
       "5    5  11  0.473383  -6.374517\n",
       "6    6   5  0.454521  21.781413\n",
       "7    7  15  0.085338   5.248894\n",
       "8    8   0  1.503188  -9.290888\n",
       "9    9  16  1.160641   6.559255\n",
       "10  10   1  0.482941  11.930796\n",
       "11  11  12  1.806629  23.477964\n",
       "12  12   7  0.915448  11.506795\n",
       "13  13  45  0.069734   5.296521\n",
       "14  14   6  0.849955   6.259478\n",
       "15  15  25  0.050623  21.100190\n",
       "16  16  20  0.705072   0.529190\n",
       "17  17  37  1.679942  14.952323\n",
       "18  18  18  1.999976   3.317078\n",
       "19  19  20  1.156963  19.415528\n",
       "20  20  11  0.193118  20.268315\n",
       "21  21  42  1.553007  14.588740\n",
       "22  22  28  0.010014  18.306837\n",
       "23  23  29  0.649166  11.327055\n",
       "24  24  14  1.558573  24.245454\n",
       "25  25   4  0.238352  15.176237\n",
       "26  26  23  0.108087  22.970847\n",
       "27  27  23  1.015263  21.295812\n",
       "28  28  41  0.959637  18.692448\n",
       "29  29  49  0.127303  21.254191\n",
       "30  30  30  0.698554  31.465226\n",
       "31  31  32  2.225495  22.458676\n",
       "32  32  22  1.268229  13.641742\n",
       "33  33  13  1.392182  21.598950\n",
       "34  34  41  1.923832  28.075548\n",
       "35  35   9  0.991091  43.820033\n",
       "36  36   7  0.380611  43.788380\n",
       "37  37  22  0.747766  51.990324\n",
       "38  38   1  1.317678  53.429093\n",
       "39  39   0  1.332910  34.522683\n",
       "40  40  17  0.684540  22.223077\n",
       "41  41   8  1.255982  23.081648\n",
       "42  42  24  0.496726  31.949346\n",
       "43  43  13  0.329276  38.996237\n",
       "44  44  47  0.001190  49.362584\n",
       "45  45  42  0.307293  57.997847\n",
       "46  46   8  0.183537  46.941804\n",
       "47  47  30  0.552975  44.168307\n",
       "48  48   7  0.155713  44.042873\n",
       "49  49   3  0.572392  41.875680"
      ]
     },
     "execution_count": 17,
     "metadata": {},
     "output_type": "execute_result"
    }
   ],
   "source": [
    "import pandas as pd\n",
    "df = pd.DataFrame(data)"
   ]
  },
  {
   "cell_type": "code",
   "execution_count": 21,
   "metadata": {},
   "outputs": [
    {
     "data": {
      "image/png": "[encoded data removed]",
      "text/plain": [
       "<Figure size 432x288 with 1 Axes>"
      ]
     },
     "metadata": {
      "needs_background": "light"
     },
     "output_type": "display_data"
    }
   ],
   "source": [
    "plt.scatter('a','b',data=df)\n",
    "plt.show()"
   ]
  },
  {
   "cell_type": "code",
   "execution_count": 25,
   "metadata": {},
   "outputs": [
    {
     "data": {
      "image/png": "[encoded data removed]",
      "text/plain": [
       "<Figure size 432x288 with 2 Axes>"
      ]
     },
     "metadata": {
      "needs_background": "light"
     },
     "output_type": "display_data"
    }
   ],
   "source": [
    "plt.scatter('a','b',data=df,c='c',cmap='PuBuGn')\n",
    "plt.colorbar()\n",
    "plt.show()"
   ]
  },
  {
   "cell_type": "markdown",
   "metadata": {},
   "source": [
    "#### 2. Subplot으로 plot(), scatter(), bar() 시각화를 동시에 이용하기"
   ]
  },
  {
   "cell_type": "code",
   "execution_count": null,
   "metadata": {},
   "outputs": [],
   "source": [
    "'''\n",
    "Subplot : 여러개의 그래프를 동시에 보여주는 기능\n",
    "'''"
   ]
  },
  {
   "cell_type": "code",
   "execution_count": 26,
   "metadata": {},
   "outputs": [],
   "source": [
    "names = ['group_a','group_b','group_c']\n",
    "values = [1,10,100]"
   ]
  },
  {
   "cell_type": "code",
   "execution_count": 33,
   "metadata": {},
   "outputs": [
    {
     "data": {
      "text/plain": [
       "[<matplotlib.lines.Line2D at 0x290dff96dc8>]"
      ]
     },
     "execution_count": 33,
     "metadata": {},
     "output_type": "execute_result"
    },
    {
     "data": {
      "image/png": "[encoded data removed]",
      "text/plain": [
       "<Figure size 648x216 with 3 Axes>"
      ]
     },
     "metadata": {
      "needs_background": "light"
     },
     "output_type": "display_data"
    }
   ],
   "source": [
    "plt.figure(1,figsize=(9,3))\n",
    "plt.subplot(131)\n",
    "plt.bar(names,values)\n",
    "\n",
    "plt.subplot(132)\n",
    "plt.scatter(names,values)\n",
    "\n",
    "plt.subplot(133)\n",
    "plt.plot(names,values)"
   ]
  },
  {
   "cell_type": "markdown",
   "metadata": {},
   "source": [
    "#### 3. 히스토그램"
   ]
  },
  {
   "cell_type": "code",
   "execution_count": null,
   "metadata": {},
   "outputs": [],
   "source": [
    "'''\n",
    "hist() 함수를 사용\n",
    "히스토그램은 자료의 분포상태를 직사각형의 막대그래프를 나타낸 것\n",
    "데이터의 빈도를 알아보는것으로\n",
    "반도에 따라서 그래프의 높이가 결정됨\n",
    "scatter()는 산포도\n",
    "hist()는 막대그래프의 파형을 가짐\n",
    "'''"
   ]
  },
  {
   "cell_type": "code",
   "execution_count": 136,
   "metadata": {},
   "outputs": [
    {
     "data": {
      "image/png": "[encoded data removed]",
      "text/plain": [
       "<Figure size 432x288 with 1 Axes>"
      ]
     },
     "metadata": {
      "needs_background": "light"
     },
     "output_type": "display_data"
    }
   ],
   "source": [
    "dice = []\n",
    "for i in range(5):\n",
    "    dice.append(np.random.randint(1,7))\n",
    "    \n",
    "# print(dice)\n",
    "plt.hist(dice,bins=10,color='orange')\n",
    "plt.show()\n",
    "\n",
    "# bins가 클수록 두께가 얇아짐"
   ]
  },
  {
   "cell_type": "code",
   "execution_count": 195,
   "metadata": {},
   "outputs": [
    {
     "data": {
      "image/png": "[encoded data removed]",
      "text/plain": [
       "<Figure size 432x288 with 1 Axes>"
      ]
     },
     "metadata": {
      "needs_background": "light"
     },
     "output_type": "display_data"
    }
   ],
   "source": [
    "dice = []\n",
    "for i in range(10000):\n",
    "    dice.append(np.random.randint(1,7))\n",
    "\n",
    "plt.hist(dice,color='pink',bins=30)\n",
    "plt.show()"
   ]
  },
  {
   "cell_type": "markdown",
   "metadata": {},
   "source": [
    "#### 4. 그림문자 표현하기"
   ]
  },
  {
   "cell_type": "code",
   "execution_count": 198,
   "metadata": {},
   "outputs": [],
   "source": [
    "mu, sigma = 100, 15\n",
    "\n",
    "x = mu+sigma * np.random.randn(10000)"
   ]
  },
  {
   "cell_type": "code",
   "execution_count": 201,
   "metadata": {},
   "outputs": [
    {
     "data": {
      "text/plain": [
       "(10000,)"
      ]
     },
     "execution_count": 201,
     "metadata": {},
     "output_type": "execute_result"
    }
   ],
   "source": [
    "x.shape"
   ]
  },
  {
   "cell_type": "code",
   "execution_count": 208,
   "metadata": {},
   "outputs": [
    {
     "data": {
      "image/png": "[encoded data removed]",
      "text/plain": [
       "<Figure size 432x288 with 1 Axes>"
      ]
     },
     "metadata": {
      "needs_background": "light"
     },
     "output_type": "display_data"
    }
   ],
   "source": [
    "plt.hist(x,bins=20)\n",
    "plt.show()"
   ]
  },
  {
   "cell_type": "code",
   "execution_count": 233,
   "metadata": {},
   "outputs": [
    {
     "data": {
      "image/png": "[encoded data removed]",
      "text/plain": [
       "<Figure size 432x288 with 1 Axes>"
      ]
     },
     "metadata": {
      "needs_background": "light"
     },
     "output_type": "display_data"
    }
   ],
   "source": [
    "# density = 1 로하면 0~1로 normalize\n",
    "# alpha = 투명고(0~1사이 값)\n",
    "plt.hist(x,bins=20,density=1,facecolor='g',alpha=0.4)\n",
    "plt.xlabel('Smart')\n",
    "plt.ylabel('Probability')\n",
    "plt.title('Histogram Of IQ')\n",
    "plt.grid()\n",
    "plt.text(60,0.025,r'$\\mu=100, \\sigma=15$')\n",
    "plt.axis([50,155,0,0.03]) # 필요한 부분은 자른다.\n",
    "# plt.xlim([40,160])\n",
    "plt.show()"
   ]
  },
  {
   "cell_type": "code",
   "execution_count": null,
   "metadata": {},
   "outputs": [],
   "source": []
  }
 ],
 "metadata": {
  "kernelspec": {
   "display_name": "Python 3",
   "language": "python",
   "name": "python3"
  },
  "language_info": {
   "codemirror_mode": {
    "name": "ipython",
    "version": 3
   },
   "file_extension": ".py",
   "mimetype": "text/x-python",
   "name": "python",
   "nbconvert_exporter": "python",
   "pygments_lexer": "ipython3",
   "version": "3.7.4"
  }
 },
 "nbformat": 4,
 "nbformat_minor": 2
}
