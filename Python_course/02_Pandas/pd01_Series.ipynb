{
 "cells": [
  {
   "cell_type": "code",
   "execution_count": 27,
   "metadata": {},
   "outputs": [
    {
     "data": {
      "text/plain": [
       "'\\nPandas는 panel datas의 약자로서 파이썬을 이용한 데이터 분석에서 가장많이 사용되는 라이브러리\\nNumpy를 기반으로 만들어졌으며 데이ㅓ분석을 위한 효율적인 데이타구조를 제공한다.\\n\\nPandas의 자료구조\\n1. Series - vector\\n2. DataFrame - matrix\\n3. Panel - 3차원\\n'"
      ]
     },
     "execution_count": 27,
     "metadata": {},
     "output_type": "execute_result"
    }
   ],
   "source": [
    "'''\n",
    "Pandas는 panel datas의 약자로서 파이썬을 이용한 데이터 분석에서 가장많이 사용되는 라이브러리\n",
    "Numpy를 기반으로 만들어졌으며 데이ㅓ분석을 위한 효율적인 데이타구조를 제공한다.\n",
    "\n",
    "Pandas의 자료구조\n",
    "1. Series - vector\n",
    "2. DataFrame - matrix\n",
    "3. Panel - 3차원\n",
    "'''"
   ]
  },
  {
   "cell_type": "markdown",
   "metadata": {},
   "source": [
    "### Series"
   ]
  },
  {
   "cell_type": "code",
   "execution_count": 28,
   "metadata": {},
   "outputs": [],
   "source": [
    "import pandas as pd\n",
    "import numpy as np\n",
    "from pandas import Series, DataFrame\n",
    "\n",
    "np.random.seed(100)"
   ]
  },
  {
   "cell_type": "markdown",
   "metadata": {},
   "source": [
    "#### 1. 시리즈 생성, 구조확인"
   ]
  },
  {
   "cell_type": "code",
   "execution_count": 29,
   "metadata": {},
   "outputs": [
    {
     "name": "stdout",
     "output_type": "stream",
     "text": [
      "a    18\n",
      "b    18\n",
      "c    13\n",
      "d    17\n",
      "e    17\n",
      "dtype: int32\n",
      "Index(['a', 'b', 'c', 'd', 'e'], dtype='object')\n",
      "[18 18 13 17 17]\n",
      "int32\n"
     ]
    }
   ],
   "source": [
    "# 처음에는 index 속성없이 생성.  data는 배열형태\n",
    "# ser1 = pd.Series(np.random.randint(10,20,5), index=['a','b','c','d','e'])\n",
    "ser1 = pd.Series(np.random.randint(10,20,5), index=list('abcde'))\n",
    "# ser1 = pd.Series(np.random.randint(10,20,5), index=['abcde']) # 이거 안됨\n",
    "\n",
    "print(ser1)\n",
    "print(ser1.index)\n",
    "print(ser1.values)\n",
    "print(ser1.dtype)"
   ]
  },
  {
   "cell_type": "markdown",
   "metadata": {},
   "source": [
    "#### 2. 시리즈 값 조회하기\n",
    "---- 인덱싱 | 슬라이싱  \n",
    "1) 라벨사용\n",
    "2) 숫자사용"
   ]
  },
  {
   "cell_type": "code",
   "execution_count": null,
   "metadata": {},
   "outputs": [],
   "source": []
  },
  {
   "cell_type": "code",
   "execution_count": 35,
   "metadata": {},
   "outputs": [
    {
     "name": "stdout",
     "output_type": "stream",
     "text": [
      "13\n",
      "13\n"
     ]
    }
   ],
   "source": [
    "# 인덱싱\n",
    "# 라벨사용\n",
    "print(ser1['c'])\n",
    "\n",
    "# 숫자사용\n",
    "print(ser1[2])"
   ]
  },
  {
   "cell_type": "code",
   "execution_count": 36,
   "metadata": {},
   "outputs": [
    {
     "name": "stdout",
     "output_type": "stream",
     "text": [
      "b    18\n",
      "c    13\n",
      "d    17\n",
      "dtype: int32\n",
      "b    18\n",
      "c    13\n",
      "d    17\n",
      "dtype: int32\n"
     ]
    }
   ],
   "source": [
    "# 슬라이싱\n",
    "# 라벨사용\n",
    "print(ser1['b':'d']) # 뒤 값을 포함한다.\n",
    "\n",
    "# 숫자사용\n",
    "print(ser1[1:4])"
   ]
  },
  {
   "cell_type": "code",
   "execution_count": 46,
   "metadata": {},
   "outputs": [
    {
     "name": "stdout",
     "output_type": "stream",
     "text": [
      "a    18\n",
      "c    13\n",
      "e    17\n",
      "dtype: int32\n"
     ]
    }
   ],
   "source": [
    "# 응용해서 조회하기\n",
    "ser1_1 = ser1[::2]\n",
    "print(ser1_1)\n",
    "\n",
    "ser1_2 = ser1[::-1]\n",
    "print(ser1_2)"
   ]
  },
  {
   "cell_type": "markdown",
   "metadata": {},
   "source": [
    "#### 3. 시리즈 간의 연산과 누락데이타 처리하기"
   ]
  },
  {
   "cell_type": "code",
   "execution_count": 53,
   "metadata": {},
   "outputs": [
    {
     "name": "stdout",
     "output_type": "stream",
     "text": [
      "a    18\n",
      "b    18\n",
      "c    13\n",
      "d    17\n",
      "e    17\n",
      "dtype: int32\n",
      "a    18\n",
      "c    13\n",
      "e    17\n",
      "dtype: int32\n"
     ]
    }
   ],
   "source": [
    "print(ser1)\n",
    "print(ser1_1)"
   ]
  },
  {
   "cell_type": "code",
   "execution_count": 52,
   "metadata": {},
   "outputs": [
    {
     "name": "stdout",
     "output_type": "stream",
     "text": [
      "a    36.0\n",
      "b     NaN\n",
      "c    26.0\n",
      "d     NaN\n",
      "e    34.0\n",
      "dtype: float64\n"
     ]
    }
   ],
   "source": [
    "result = ser1 + ser1_1\n",
    "print(result) # b,d의 해당하는 값들은 NaN(누락데이터, 결측값)으로 채워짐\n",
    "# NaN의 타입이 float64이기 때문에 데이터 타입이 바뀜"
   ]
  },
  {
   "cell_type": "markdown",
   "metadata": {},
   "source": [
    "#### 4. 누락 데이터 조회하기"
   ]
  },
  {
   "cell_type": "code",
   "execution_count": 65,
   "metadata": {},
   "outputs": [
    {
     "name": "stdout",
     "output_type": "stream",
     "text": [
      "a    36.0\n",
      "c    26.0\n",
      "e    34.0\n",
      "dtype: float64\n",
      "------------------------------\n",
      "b   NaN\n",
      "d   NaN\n",
      "dtype: float64\n",
      "------------------------------\n",
      "2\n"
     ]
    }
   ],
   "source": [
    "print(result[result.notnull()])\n",
    "print('-'*30)\n",
    "print(result[result.isnull()])\n",
    "print('-'*30)\n",
    "print(result.isnull().sum())\n"
   ]
  },
  {
   "cell_type": "markdown",
   "metadata": {},
   "source": [
    "#### 5. Matplot을 이용한 시각화"
   ]
  },
  {
   "cell_type": "code",
   "execution_count": 72,
   "metadata": {},
   "outputs": [],
   "source": [
    "import matplotlib.pyplot as plt"
   ]
  },
  {
   "cell_type": "code",
   "execution_count": 74,
   "metadata": {},
   "outputs": [
    {
     "data": {
      "image/png": "[encoded data removed]",
      "text/plain": [
       "<Figure size 432x288 with 1 Axes>"
      ]
     },
     "metadata": {
      "needs_background": "light"
     },
     "output_type": "display_data"
    }
   ],
   "source": [
    "# 누락데이터가 아닌 값들을 시각해 본다\n",
    "result[result.notnull()].plot(kind='bar')\n",
    "#result[result.isnull()].plot(kind='bar') # numeric한 것만이 그래프 대상\n",
    "\n",
    "plt.show()"
   ]
  }
 ],
 "metadata": {
  "kernelspec": {
   "display_name": "Python 3",
   "language": "python",
   "name": "python3"
  },
  "language_info": {
   "codemirror_mode": {
    "name": "ipython",
    "version": 3
   },
   "file_extension": ".py",
   "mimetype": "text/x-python",
   "name": "python",
   "nbconvert_exporter": "python",
   "pygments_lexer": "ipython3",
   "version": "3.7.4"
  }
 },
 "nbformat": 4,
 "nbformat_minor": 2
}
