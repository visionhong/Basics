{
 "cells": [
  {
   "cell_type": "code",
   "execution_count": 1,
   "metadata": {},
   "outputs": [],
   "source": [
    "import pandas as pd\n",
    "import numpy as np\n",
    "import seaborn as sns\n",
    "import matplotlib.pyplot as plt\n",
    "%matplotlib inline\n",
    "import warnings\n",
    "warnings.filterwarnings('ignore')"
   ]
  },
  {
   "cell_type": "code",
   "execution_count": 2,
   "metadata": {},
   "outputs": [],
   "source": [
    "import platform\n",
    "\n",
    "from matplotlib import font_manager, rc\n",
    "plt.rcParams['axes.unicode_minus'] = False\n",
    "\n",
    "if platform.system() == 'Darwin':\n",
    "    rc('font', family='AppleGothic')\n",
    "elif platform.system() == 'Windows':\n",
    "    path = \"c:/Windows/Fonts/malgun.ttf\"\n",
    "    font_name = font_manager.FontProperties(fname=path).get_name()\n",
    "    rc('font', family=font_name)\n",
    "else:\n",
    "    print('Unknown system... sorry~~~~')"
   ]
  },
  {
   "cell_type": "markdown",
   "metadata": {},
   "source": [
    "# 1. 법정동 코드 가공"
   ]
  },
  {
   "cell_type": "code",
   "execution_count": 3,
   "metadata": {},
   "outputs": [
    {
     "data": {
      "text/html": [
       "<div>\n",
       "<style scoped>\n",
       "    .dataframe tbody tr th:only-of-type {\n",
       "        vertical-align: middle;\n",
       "    }\n",
       "\n",
       "    .dataframe tbody tr th {\n",
       "        vertical-align: top;\n",
       "    }\n",
       "\n",
       "    .dataframe thead th {\n",
       "        text-align: right;\n",
       "    }\n",
       "</style>\n",
       "<table border=\"1\" class=\"dataframe\">\n",
       "  <thead>\n",
       "    <tr style=\"text-align: right;\">\n",
       "      <th></th>\n",
       "      <th>법정동코드</th>\n",
       "      <th>시도명</th>\n",
       "      <th>시군구명</th>\n",
       "      <th>읍면동명</th>\n",
       "      <th>동리명</th>\n",
       "      <th>생성일자</th>\n",
       "      <th>말소일자</th>\n",
       "    </tr>\n",
       "  </thead>\n",
       "  <tbody>\n",
       "    <tr>\n",
       "      <td>0</td>\n",
       "      <td>1100000000</td>\n",
       "      <td>서울특별시</td>\n",
       "      <td>NaN</td>\n",
       "      <td>NaN</td>\n",
       "      <td>NaN</td>\n",
       "      <td>19880423</td>\n",
       "      <td>NaN</td>\n",
       "    </tr>\n",
       "    <tr>\n",
       "      <td>1</td>\n",
       "      <td>1111000000</td>\n",
       "      <td>서울특별시</td>\n",
       "      <td>종로구</td>\n",
       "      <td>NaN</td>\n",
       "      <td>NaN</td>\n",
       "      <td>19880423</td>\n",
       "      <td>NaN</td>\n",
       "    </tr>\n",
       "    <tr>\n",
       "      <td>2</td>\n",
       "      <td>1111010100</td>\n",
       "      <td>서울특별시</td>\n",
       "      <td>종로구</td>\n",
       "      <td>청운동</td>\n",
       "      <td>NaN</td>\n",
       "      <td>19880423</td>\n",
       "      <td>NaN</td>\n",
       "    </tr>\n",
       "    <tr>\n",
       "      <td>3</td>\n",
       "      <td>1111010200</td>\n",
       "      <td>서울특별시</td>\n",
       "      <td>종로구</td>\n",
       "      <td>신교동</td>\n",
       "      <td>NaN</td>\n",
       "      <td>19880423</td>\n",
       "      <td>NaN</td>\n",
       "    </tr>\n",
       "    <tr>\n",
       "      <td>4</td>\n",
       "      <td>1111010300</td>\n",
       "      <td>서울특별시</td>\n",
       "      <td>종로구</td>\n",
       "      <td>궁정동</td>\n",
       "      <td>NaN</td>\n",
       "      <td>19880423</td>\n",
       "      <td>NaN</td>\n",
       "    </tr>\n",
       "  </tbody>\n",
       "</table>\n",
       "</div>"
      ],
      "text/plain": [
       "        법정동코드    시도명 시군구명 읍면동명  동리명      생성일자  말소일자\n",
       "0  1100000000  서울특별시  NaN  NaN  NaN  19880423   NaN\n",
       "1  1111000000  서울특별시  종로구  NaN  NaN  19880423   NaN\n",
       "2  1111010100  서울특별시  종로구  청운동  NaN  19880423   NaN\n",
       "3  1111010200  서울특별시  종로구  신교동  NaN  19880423   NaN\n",
       "4  1111010300  서울특별시  종로구  궁정동  NaN  19880423   NaN"
      ]
     },
     "execution_count": 3,
     "metadata": {},
     "output_type": "execute_result"
    }
   ],
   "source": [
    "locCode = pd.read_excel('../data/법정동코드.xlsx')\n",
    "locCode.head()"
   ]
  },
  {
   "cell_type": "code",
   "execution_count": 4,
   "metadata": {},
   "outputs": [
    {
     "data": {
      "text/html": [
       "<div>\n",
       "<style scoped>\n",
       "    .dataframe tbody tr th:only-of-type {\n",
       "        vertical-align: middle;\n",
       "    }\n",
       "\n",
       "    .dataframe tbody tr th {\n",
       "        vertical-align: top;\n",
       "    }\n",
       "\n",
       "    .dataframe thead th {\n",
       "        text-align: right;\n",
       "    }\n",
       "</style>\n",
       "<table border=\"1\" class=\"dataframe\">\n",
       "  <thead>\n",
       "    <tr style=\"text-align: right;\">\n",
       "      <th></th>\n",
       "      <th>법정동코드</th>\n",
       "      <th>시도명</th>\n",
       "      <th>시군구명</th>\n",
       "      <th>읍면동명</th>\n",
       "      <th>동리명</th>\n",
       "      <th>생성일자</th>\n",
       "      <th>말소일자</th>\n",
       "    </tr>\n",
       "  </thead>\n",
       "  <tbody>\n",
       "    <tr>\n",
       "      <td>2</td>\n",
       "      <td>1111010100</td>\n",
       "      <td>서울특별시</td>\n",
       "      <td>종로구</td>\n",
       "      <td>청운동</td>\n",
       "      <td>NaN</td>\n",
       "      <td>19880423</td>\n",
       "      <td>NaN</td>\n",
       "    </tr>\n",
       "    <tr>\n",
       "      <td>3</td>\n",
       "      <td>1111010200</td>\n",
       "      <td>서울특별시</td>\n",
       "      <td>종로구</td>\n",
       "      <td>신교동</td>\n",
       "      <td>NaN</td>\n",
       "      <td>19880423</td>\n",
       "      <td>NaN</td>\n",
       "    </tr>\n",
       "    <tr>\n",
       "      <td>4</td>\n",
       "      <td>1111010300</td>\n",
       "      <td>서울특별시</td>\n",
       "      <td>종로구</td>\n",
       "      <td>궁정동</td>\n",
       "      <td>NaN</td>\n",
       "      <td>19880423</td>\n",
       "      <td>NaN</td>\n",
       "    </tr>\n",
       "    <tr>\n",
       "      <td>5</td>\n",
       "      <td>1111010400</td>\n",
       "      <td>서울특별시</td>\n",
       "      <td>종로구</td>\n",
       "      <td>효자동</td>\n",
       "      <td>NaN</td>\n",
       "      <td>19880423</td>\n",
       "      <td>NaN</td>\n",
       "    </tr>\n",
       "    <tr>\n",
       "      <td>6</td>\n",
       "      <td>1111010500</td>\n",
       "      <td>서울특별시</td>\n",
       "      <td>종로구</td>\n",
       "      <td>창성동</td>\n",
       "      <td>NaN</td>\n",
       "      <td>19880423</td>\n",
       "      <td>NaN</td>\n",
       "    </tr>\n",
       "  </tbody>\n",
       "</table>\n",
       "</div>"
      ],
      "text/plain": [
       "        법정동코드    시도명 시군구명 읍면동명  동리명      생성일자  말소일자\n",
       "2  1111010100  서울특별시  종로구  청운동  NaN  19880423   NaN\n",
       "3  1111010200  서울특별시  종로구  신교동  NaN  19880423   NaN\n",
       "4  1111010300  서울특별시  종로구  궁정동  NaN  19880423   NaN\n",
       "5  1111010400  서울특별시  종로구  효자동  NaN  19880423   NaN\n",
       "6  1111010500  서울특별시  종로구  창성동  NaN  19880423   NaN"
      ]
     },
     "execution_count": 4,
     "metadata": {},
     "output_type": "execute_result"
    }
   ],
   "source": [
    "#읍면동이 NaN인 데이터 추출 > 읍면동 제외\n",
    "locCode = locCode.drop(locCode[locCode['읍면동명'].isna()].index)\n",
    "locCode.head()"
   ]
  },
  {
   "cell_type": "code",
   "execution_count": 5,
   "metadata": {},
   "outputs": [],
   "source": [
    "# 시군구가 NaN이 아닌 데이터 추출 > 시도명 제외\n"
   ]
  },
  {
   "cell_type": "code",
   "execution_count": 6,
   "metadata": {},
   "outputs": [
    {
     "data": {
      "text/html": [
       "<div>\n",
       "<style scoped>\n",
       "    .dataframe tbody tr th:only-of-type {\n",
       "        vertical-align: middle;\n",
       "    }\n",
       "\n",
       "    .dataframe tbody tr th {\n",
       "        vertical-align: top;\n",
       "    }\n",
       "\n",
       "    .dataframe thead th {\n",
       "        text-align: right;\n",
       "    }\n",
       "</style>\n",
       "<table border=\"1\" class=\"dataframe\">\n",
       "  <thead>\n",
       "    <tr style=\"text-align: right;\">\n",
       "      <th></th>\n",
       "      <th>법정동코드</th>\n",
       "      <th>시도명</th>\n",
       "      <th>시군구명</th>\n",
       "      <th>읍면동명</th>\n",
       "      <th>동리명</th>\n",
       "      <th>생성일자</th>\n",
       "      <th>말소일자</th>\n",
       "    </tr>\n",
       "  </thead>\n",
       "  <tbody>\n",
       "    <tr>\n",
       "      <td>2</td>\n",
       "      <td>1111010100</td>\n",
       "      <td>서울특별시</td>\n",
       "      <td>종로구</td>\n",
       "      <td>청운동</td>\n",
       "      <td>NaN</td>\n",
       "      <td>19880423</td>\n",
       "      <td>NaN</td>\n",
       "    </tr>\n",
       "    <tr>\n",
       "      <td>3</td>\n",
       "      <td>1111010200</td>\n",
       "      <td>서울특별시</td>\n",
       "      <td>종로구</td>\n",
       "      <td>신교동</td>\n",
       "      <td>NaN</td>\n",
       "      <td>19880423</td>\n",
       "      <td>NaN</td>\n",
       "    </tr>\n",
       "    <tr>\n",
       "      <td>4</td>\n",
       "      <td>1111010300</td>\n",
       "      <td>서울특별시</td>\n",
       "      <td>종로구</td>\n",
       "      <td>궁정동</td>\n",
       "      <td>NaN</td>\n",
       "      <td>19880423</td>\n",
       "      <td>NaN</td>\n",
       "    </tr>\n",
       "    <tr>\n",
       "      <td>5</td>\n",
       "      <td>1111010400</td>\n",
       "      <td>서울특별시</td>\n",
       "      <td>종로구</td>\n",
       "      <td>효자동</td>\n",
       "      <td>NaN</td>\n",
       "      <td>19880423</td>\n",
       "      <td>NaN</td>\n",
       "    </tr>\n",
       "    <tr>\n",
       "      <td>6</td>\n",
       "      <td>1111010500</td>\n",
       "      <td>서울특별시</td>\n",
       "      <td>종로구</td>\n",
       "      <td>창성동</td>\n",
       "      <td>NaN</td>\n",
       "      <td>19880423</td>\n",
       "      <td>NaN</td>\n",
       "    </tr>\n",
       "    <tr>\n",
       "      <td>...</td>\n",
       "      <td>...</td>\n",
       "      <td>...</td>\n",
       "      <td>...</td>\n",
       "      <td>...</td>\n",
       "      <td>...</td>\n",
       "      <td>...</td>\n",
       "      <td>...</td>\n",
       "    </tr>\n",
       "    <tr>\n",
       "      <td>20551</td>\n",
       "      <td>5013032022</td>\n",
       "      <td>제주특별자치도</td>\n",
       "      <td>서귀포시</td>\n",
       "      <td>표선면</td>\n",
       "      <td>하천리</td>\n",
       "      <td>20060701</td>\n",
       "      <td>NaN</td>\n",
       "    </tr>\n",
       "    <tr>\n",
       "      <td>20552</td>\n",
       "      <td>5013032023</td>\n",
       "      <td>제주특별자치도</td>\n",
       "      <td>서귀포시</td>\n",
       "      <td>표선면</td>\n",
       "      <td>성읍리</td>\n",
       "      <td>20060701</td>\n",
       "      <td>NaN</td>\n",
       "    </tr>\n",
       "    <tr>\n",
       "      <td>20553</td>\n",
       "      <td>5013032024</td>\n",
       "      <td>제주특별자치도</td>\n",
       "      <td>서귀포시</td>\n",
       "      <td>표선면</td>\n",
       "      <td>가시리</td>\n",
       "      <td>20060701</td>\n",
       "      <td>NaN</td>\n",
       "    </tr>\n",
       "    <tr>\n",
       "      <td>20554</td>\n",
       "      <td>5013032025</td>\n",
       "      <td>제주특별자치도</td>\n",
       "      <td>서귀포시</td>\n",
       "      <td>표선면</td>\n",
       "      <td>세화리</td>\n",
       "      <td>20060701</td>\n",
       "      <td>NaN</td>\n",
       "    </tr>\n",
       "    <tr>\n",
       "      <td>20555</td>\n",
       "      <td>5013032026</td>\n",
       "      <td>제주특별자치도</td>\n",
       "      <td>서귀포시</td>\n",
       "      <td>표선면</td>\n",
       "      <td>토산리</td>\n",
       "      <td>20060701</td>\n",
       "      <td>NaN</td>\n",
       "    </tr>\n",
       "  </tbody>\n",
       "</table>\n",
       "<p>20270 rows × 7 columns</p>\n",
       "</div>"
      ],
      "text/plain": [
       "            법정동코드      시도명  시군구명 읍면동명  동리명      생성일자  말소일자\n",
       "2      1111010100    서울특별시   종로구  청운동  NaN  19880423   NaN\n",
       "3      1111010200    서울특별시   종로구  신교동  NaN  19880423   NaN\n",
       "4      1111010300    서울특별시   종로구  궁정동  NaN  19880423   NaN\n",
       "5      1111010400    서울특별시   종로구  효자동  NaN  19880423   NaN\n",
       "6      1111010500    서울특별시   종로구  창성동  NaN  19880423   NaN\n",
       "...           ...      ...   ...  ...  ...       ...   ...\n",
       "20551  5013032022  제주특별자치도  서귀포시  표선면  하천리  20060701   NaN\n",
       "20552  5013032023  제주특별자치도  서귀포시  표선면  성읍리  20060701   NaN\n",
       "20553  5013032024  제주특별자치도  서귀포시  표선면  가시리  20060701   NaN\n",
       "20554  5013032025  제주특별자치도  서귀포시  표선면  세화리  20060701   NaN\n",
       "20555  5013032026  제주특별자치도  서귀포시  표선면  토산리  20060701   NaN\n",
       "\n",
       "[20270 rows x 7 columns]"
      ]
     },
     "execution_count": 6,
     "metadata": {},
     "output_type": "execute_result"
    }
   ],
   "source": [
    "locCode"
   ]
  },
  {
   "cell_type": "code",
   "execution_count": 7,
   "metadata": {},
   "outputs": [
    {
     "data": {
      "text/html": [
       "<div>\n",
       "<style scoped>\n",
       "    .dataframe tbody tr th:only-of-type {\n",
       "        vertical-align: middle;\n",
       "    }\n",
       "\n",
       "    .dataframe tbody tr th {\n",
       "        vertical-align: top;\n",
       "    }\n",
       "\n",
       "    .dataframe thead th {\n",
       "        text-align: right;\n",
       "    }\n",
       "</style>\n",
       "<table border=\"1\" class=\"dataframe\">\n",
       "  <thead>\n",
       "    <tr style=\"text-align: right;\">\n",
       "      <th></th>\n",
       "      <th>법정동코드</th>\n",
       "      <th>시도명</th>\n",
       "      <th>시군구명</th>\n",
       "      <th>읍면동명</th>\n",
       "      <th>동리명</th>\n",
       "      <th>생성일자</th>\n",
       "      <th>말소일자</th>\n",
       "      <th>지역코드</th>\n",
       "    </tr>\n",
       "  </thead>\n",
       "  <tbody>\n",
       "    <tr>\n",
       "      <td>2</td>\n",
       "      <td>1111010100</td>\n",
       "      <td>서울특별시</td>\n",
       "      <td>종로구</td>\n",
       "      <td>청운동</td>\n",
       "      <td>NaN</td>\n",
       "      <td>19880423</td>\n",
       "      <td>NaN</td>\n",
       "      <td>11110</td>\n",
       "    </tr>\n",
       "    <tr>\n",
       "      <td>3</td>\n",
       "      <td>1111010200</td>\n",
       "      <td>서울특별시</td>\n",
       "      <td>종로구</td>\n",
       "      <td>신교동</td>\n",
       "      <td>NaN</td>\n",
       "      <td>19880423</td>\n",
       "      <td>NaN</td>\n",
       "      <td>11110</td>\n",
       "    </tr>\n",
       "    <tr>\n",
       "      <td>4</td>\n",
       "      <td>1111010300</td>\n",
       "      <td>서울특별시</td>\n",
       "      <td>종로구</td>\n",
       "      <td>궁정동</td>\n",
       "      <td>NaN</td>\n",
       "      <td>19880423</td>\n",
       "      <td>NaN</td>\n",
       "      <td>11110</td>\n",
       "    </tr>\n",
       "    <tr>\n",
       "      <td>5</td>\n",
       "      <td>1111010400</td>\n",
       "      <td>서울특별시</td>\n",
       "      <td>종로구</td>\n",
       "      <td>효자동</td>\n",
       "      <td>NaN</td>\n",
       "      <td>19880423</td>\n",
       "      <td>NaN</td>\n",
       "      <td>11110</td>\n",
       "    </tr>\n",
       "    <tr>\n",
       "      <td>6</td>\n",
       "      <td>1111010500</td>\n",
       "      <td>서울특별시</td>\n",
       "      <td>종로구</td>\n",
       "      <td>창성동</td>\n",
       "      <td>NaN</td>\n",
       "      <td>19880423</td>\n",
       "      <td>NaN</td>\n",
       "      <td>11110</td>\n",
       "    </tr>\n",
       "  </tbody>\n",
       "</table>\n",
       "</div>"
      ],
      "text/plain": [
       "        법정동코드    시도명 시군구명 읍면동명  동리명      생성일자  말소일자   지역코드\n",
       "2  1111010100  서울특별시  종로구  청운동  NaN  19880423   NaN  11110\n",
       "3  1111010200  서울특별시  종로구  신교동  NaN  19880423   NaN  11110\n",
       "4  1111010300  서울특별시  종로구  궁정동  NaN  19880423   NaN  11110\n",
       "5  1111010400  서울특별시  종로구  효자동  NaN  19880423   NaN  11110\n",
       "6  1111010500  서울특별시  종로구  창성동  NaN  19880423   NaN  11110"
      ]
     },
     "execution_count": 7,
     "metadata": {},
     "output_type": "execute_result"
    }
   ],
   "source": [
    "# 법정동 코드 컬럼에서 5자리 추출합니다.\n",
    "# 예) 서울특별시 종로구 > 11000\n",
    "locCode['지역코드'] = locCode['법정동코드'].astype('str').str[:5].astype('int64')\n",
    "locCode.head()"
   ]
  },
  {
   "cell_type": "code",
   "execution_count": 8,
   "metadata": {},
   "outputs": [
    {
     "data": {
      "text/html": [
       "<div>\n",
       "<style scoped>\n",
       "    .dataframe tbody tr th:only-of-type {\n",
       "        vertical-align: middle;\n",
       "    }\n",
       "\n",
       "    .dataframe tbody tr th {\n",
       "        vertical-align: top;\n",
       "    }\n",
       "\n",
       "    .dataframe thead th {\n",
       "        text-align: right;\n",
       "    }\n",
       "</style>\n",
       "<table border=\"1\" class=\"dataframe\">\n",
       "  <thead>\n",
       "    <tr style=\"text-align: right;\">\n",
       "      <th></th>\n",
       "      <th>시도명</th>\n",
       "      <th>시군구명</th>\n",
       "      <th>지역코드</th>\n",
       "    </tr>\n",
       "  </thead>\n",
       "  <tbody>\n",
       "    <tr>\n",
       "      <td>2</td>\n",
       "      <td>서울특별시</td>\n",
       "      <td>종로구</td>\n",
       "      <td>11110</td>\n",
       "    </tr>\n",
       "    <tr>\n",
       "      <td>90</td>\n",
       "      <td>서울특별시</td>\n",
       "      <td>중구</td>\n",
       "      <td>11140</td>\n",
       "    </tr>\n",
       "    <tr>\n",
       "      <td>165</td>\n",
       "      <td>서울특별시</td>\n",
       "      <td>용산구</td>\n",
       "      <td>11170</td>\n",
       "    </tr>\n",
       "    <tr>\n",
       "      <td>202</td>\n",
       "      <td>서울특별시</td>\n",
       "      <td>성동구</td>\n",
       "      <td>11200</td>\n",
       "    </tr>\n",
       "    <tr>\n",
       "      <td>220</td>\n",
       "      <td>서울특별시</td>\n",
       "      <td>광진구</td>\n",
       "      <td>11215</td>\n",
       "    </tr>\n",
       "    <tr>\n",
       "      <td>228</td>\n",
       "      <td>서울특별시</td>\n",
       "      <td>동대문구</td>\n",
       "      <td>11230</td>\n",
       "    </tr>\n",
       "    <tr>\n",
       "      <td>239</td>\n",
       "      <td>서울특별시</td>\n",
       "      <td>중랑구</td>\n",
       "      <td>11260</td>\n",
       "    </tr>\n",
       "    <tr>\n",
       "      <td>246</td>\n",
       "      <td>서울특별시</td>\n",
       "      <td>성북구</td>\n",
       "      <td>11290</td>\n",
       "    </tr>\n",
       "    <tr>\n",
       "      <td>286</td>\n",
       "      <td>서울특별시</td>\n",
       "      <td>강북구</td>\n",
       "      <td>11305</td>\n",
       "    </tr>\n",
       "    <tr>\n",
       "      <td>291</td>\n",
       "      <td>서울특별시</td>\n",
       "      <td>도봉구</td>\n",
       "      <td>11320</td>\n",
       "    </tr>\n",
       "    <tr>\n",
       "      <td>296</td>\n",
       "      <td>서울특별시</td>\n",
       "      <td>노원구</td>\n",
       "      <td>11350</td>\n",
       "    </tr>\n",
       "    <tr>\n",
       "      <td>302</td>\n",
       "      <td>서울특별시</td>\n",
       "      <td>은평구</td>\n",
       "      <td>11380</td>\n",
       "    </tr>\n",
       "    <tr>\n",
       "      <td>314</td>\n",
       "      <td>서울특별시</td>\n",
       "      <td>서대문구</td>\n",
       "      <td>11410</td>\n",
       "    </tr>\n",
       "    <tr>\n",
       "      <td>335</td>\n",
       "      <td>서울특별시</td>\n",
       "      <td>마포구</td>\n",
       "      <td>11440</td>\n",
       "    </tr>\n",
       "    <tr>\n",
       "      <td>362</td>\n",
       "      <td>서울특별시</td>\n",
       "      <td>양천구</td>\n",
       "      <td>11470</td>\n",
       "    </tr>\n",
       "    <tr>\n",
       "      <td>366</td>\n",
       "      <td>서울특별시</td>\n",
       "      <td>강서구</td>\n",
       "      <td>11500</td>\n",
       "    </tr>\n",
       "    <tr>\n",
       "      <td>380</td>\n",
       "      <td>서울특별시</td>\n",
       "      <td>구로구</td>\n",
       "      <td>11530</td>\n",
       "    </tr>\n",
       "    <tr>\n",
       "      <td>391</td>\n",
       "      <td>서울특별시</td>\n",
       "      <td>금천구</td>\n",
       "      <td>11545</td>\n",
       "    </tr>\n",
       "    <tr>\n",
       "      <td>395</td>\n",
       "      <td>서울특별시</td>\n",
       "      <td>영등포구</td>\n",
       "      <td>11560</td>\n",
       "    </tr>\n",
       "    <tr>\n",
       "      <td>430</td>\n",
       "      <td>서울특별시</td>\n",
       "      <td>동작구</td>\n",
       "      <td>11590</td>\n",
       "    </tr>\n",
       "    <tr>\n",
       "      <td>440</td>\n",
       "      <td>서울특별시</td>\n",
       "      <td>관악구</td>\n",
       "      <td>11620</td>\n",
       "    </tr>\n",
       "    <tr>\n",
       "      <td>444</td>\n",
       "      <td>서울특별시</td>\n",
       "      <td>서초구</td>\n",
       "      <td>11650</td>\n",
       "    </tr>\n",
       "    <tr>\n",
       "      <td>455</td>\n",
       "      <td>서울특별시</td>\n",
       "      <td>강남구</td>\n",
       "      <td>11680</td>\n",
       "    </tr>\n",
       "    <tr>\n",
       "      <td>470</td>\n",
       "      <td>서울특별시</td>\n",
       "      <td>송파구</td>\n",
       "      <td>11710</td>\n",
       "    </tr>\n",
       "    <tr>\n",
       "      <td>484</td>\n",
       "      <td>서울특별시</td>\n",
       "      <td>강동구</td>\n",
       "      <td>11740</td>\n",
       "    </tr>\n",
       "  </tbody>\n",
       "</table>\n",
       "</div>"
      ],
      "text/plain": [
       "       시도명  시군구명   지역코드\n",
       "2    서울특별시   종로구  11110\n",
       "90   서울특별시    중구  11140\n",
       "165  서울특별시   용산구  11170\n",
       "202  서울특별시   성동구  11200\n",
       "220  서울특별시   광진구  11215\n",
       "228  서울특별시  동대문구  11230\n",
       "239  서울특별시   중랑구  11260\n",
       "246  서울특별시   성북구  11290\n",
       "286  서울특별시   강북구  11305\n",
       "291  서울특별시   도봉구  11320\n",
       "296  서울특별시   노원구  11350\n",
       "302  서울특별시   은평구  11380\n",
       "314  서울특별시  서대문구  11410\n",
       "335  서울특별시   마포구  11440\n",
       "362  서울특별시   양천구  11470\n",
       "366  서울특별시   강서구  11500\n",
       "380  서울특별시   구로구  11530\n",
       "391  서울특별시   금천구  11545\n",
       "395  서울특별시  영등포구  11560\n",
       "430  서울특별시   동작구  11590\n",
       "440  서울특별시   관악구  11620\n",
       "444  서울특별시   서초구  11650\n",
       "455  서울특별시   강남구  11680\n",
       "470  서울특별시   송파구  11710\n",
       "484  서울특별시   강동구  11740"
      ]
     },
     "execution_count": 8,
     "metadata": {},
     "output_type": "execute_result"
    }
   ],
   "source": [
    "# 시도명이 서울특별시인 데이터만 추출 후 시도명, 시군구명, 지역코드 컬럼만 추출 \n",
    "loc = locCode[locCode['시도명'] == '서울특별시'][['시도명','시군구명','지역코드']].drop_duplicates()\n",
    "loc"
   ]
  },
  {
   "cell_type": "markdown",
   "metadata": {},
   "source": [
    "# 2. 실거래가 데이터 가공"
   ]
  },
  {
   "cell_type": "code",
   "execution_count": 9,
   "metadata": {},
   "outputs": [
    {
     "data": {
      "text/html": [
       "<div>\n",
       "<style scoped>\n",
       "    .dataframe tbody tr th:only-of-type {\n",
       "        vertical-align: middle;\n",
       "    }\n",
       "\n",
       "    .dataframe tbody tr th {\n",
       "        vertical-align: top;\n",
       "    }\n",
       "\n",
       "    .dataframe thead th {\n",
       "        text-align: right;\n",
       "    }\n",
       "</style>\n",
       "<table border=\"1\" class=\"dataframe\">\n",
       "  <thead>\n",
       "    <tr style=\"text-align: right;\">\n",
       "      <th></th>\n",
       "      <th>건축년도</th>\n",
       "      <th>거래년도</th>\n",
       "      <th>거래월</th>\n",
       "      <th>거래일자</th>\n",
       "      <th>법정동</th>\n",
       "      <th>거래금액</th>\n",
       "      <th>아파트이름</th>\n",
       "      <th>전용면적</th>\n",
       "      <th>지역코드</th>\n",
       "      <th>층</th>\n",
       "      <th>지번</th>\n",
       "    </tr>\n",
       "  </thead>\n",
       "  <tbody>\n",
       "    <tr>\n",
       "      <td>0</td>\n",
       "      <td>2008</td>\n",
       "      <td>2019</td>\n",
       "      <td>1</td>\n",
       "      <td>7</td>\n",
       "      <td>사직동</td>\n",
       "      <td>105,000</td>\n",
       "      <td>광화문풍림스페이스본(101동~105동)</td>\n",
       "      <td>97.61</td>\n",
       "      <td>11110</td>\n",
       "      <td>10</td>\n",
       "      <td>9</td>\n",
       "    </tr>\n",
       "    <tr>\n",
       "      <td>1</td>\n",
       "      <td>2008</td>\n",
       "      <td>2019</td>\n",
       "      <td>1</td>\n",
       "      <td>11</td>\n",
       "      <td>사직동</td>\n",
       "      <td>162,000</td>\n",
       "      <td>광화문풍림스페이스본(106동)</td>\n",
       "      <td>163.33</td>\n",
       "      <td>11110</td>\n",
       "      <td>11</td>\n",
       "      <td>9-1</td>\n",
       "    </tr>\n",
       "    <tr>\n",
       "      <td>2</td>\n",
       "      <td>2008</td>\n",
       "      <td>2019</td>\n",
       "      <td>1</td>\n",
       "      <td>19</td>\n",
       "      <td>사직동</td>\n",
       "      <td>119,000</td>\n",
       "      <td>광화문풍림스페이스본(101동~105동)</td>\n",
       "      <td>131.44</td>\n",
       "      <td>11110</td>\n",
       "      <td>13</td>\n",
       "      <td>9</td>\n",
       "    </tr>\n",
       "    <tr>\n",
       "      <td>3</td>\n",
       "      <td>2008</td>\n",
       "      <td>2019</td>\n",
       "      <td>1</td>\n",
       "      <td>30</td>\n",
       "      <td>사직동</td>\n",
       "      <td>119,000</td>\n",
       "      <td>광화문풍림스페이스본(101동~105동)</td>\n",
       "      <td>147.31</td>\n",
       "      <td>11110</td>\n",
       "      <td>1</td>\n",
       "      <td>9</td>\n",
       "    </tr>\n",
       "    <tr>\n",
       "      <td>4</td>\n",
       "      <td>2004</td>\n",
       "      <td>2019</td>\n",
       "      <td>1</td>\n",
       "      <td>25</td>\n",
       "      <td>내수동</td>\n",
       "      <td>160,000</td>\n",
       "      <td>경희궁의아침4단지</td>\n",
       "      <td>150.48</td>\n",
       "      <td>11110</td>\n",
       "      <td>14</td>\n",
       "      <td>73</td>\n",
       "    </tr>\n",
       "  </tbody>\n",
       "</table>\n",
       "</div>"
      ],
      "text/plain": [
       "   건축년도  거래년도  거래월  거래일자   법정동        거래금액                  아파트이름    전용면적  \\\n",
       "0  2008  2019    1     7   사직동     105,000  광화문풍림스페이스본(101동~105동)   97.61   \n",
       "1  2008  2019    1    11   사직동     162,000       광화문풍림스페이스본(106동)  163.33   \n",
       "2  2008  2019    1    19   사직동     119,000  광화문풍림스페이스본(101동~105동)  131.44   \n",
       "3  2008  2019    1    30   사직동     119,000  광화문풍림스페이스본(101동~105동)  147.31   \n",
       "4  2004  2019    1    25   내수동     160,000              경희궁의아침4단지  150.48   \n",
       "\n",
       "    지역코드   층   지번  \n",
       "0  11110  10    9  \n",
       "1  11110  11  9-1  \n",
       "2  11110  13    9  \n",
       "3  11110   1    9  \n",
       "4  11110  14   73  "
      ]
     },
     "execution_count": 9,
     "metadata": {},
     "output_type": "execute_result"
    }
   ],
   "source": [
    "# 실거래가 데이터 불러오기  전용면적    3.3나눠서 평으로\n",
    "apt = pd.read_csv('../data/2019년 서울 아파트 실거래가.csv',encoding='cp949')\n",
    "apt.head()"
   ]
  },
  {
   "cell_type": "code",
   "execution_count": 10,
   "metadata": {},
   "outputs": [
    {
     "data": {
      "text/plain": [
       "Index(['건축년도', '거래년도', '거래월', '거래일자', '법정동', '거래금액', '아파트이름', '전용면적', '지역코드',\n",
       "       '층', '지번'],\n",
       "      dtype='object')"
      ]
     },
     "execution_count": 10,
     "metadata": {},
     "output_type": "execute_result"
    }
   ],
   "source": [
    "# 데이터 프레임의 컬럼을 확인합니다.\n",
    "apt.columns"
   ]
  },
  {
   "cell_type": "code",
   "execution_count": 11,
   "metadata": {},
   "outputs": [
    {
     "data": {
      "text/plain": [
       "(68864, 11)"
      ]
     },
     "execution_count": 11,
     "metadata": {},
     "output_type": "execute_result"
    }
   ],
   "source": [
    "# 데이터 프레임의 크기(차원)을 조회합니다\n",
    "apt.shape"
   ]
  },
  {
   "cell_type": "code",
   "execution_count": 12,
   "metadata": {},
   "outputs": [
    {
     "data": {
      "text/plain": [
       "건축년도     0\n",
       "거래년도     0\n",
       "거래월      0\n",
       "거래일자     0\n",
       "법정동      0\n",
       "거래금액     0\n",
       "아파트이름    0\n",
       "전용면적     0\n",
       "지역코드     0\n",
       "층        0\n",
       "지번       0\n",
       "dtype: int64"
      ]
     },
     "execution_count": 12,
     "metadata": {},
     "output_type": "execute_result"
    }
   ],
   "source": [
    "# 불러온 데이터에 NA값이 있는지 조회합니다.\n",
    "apt.isna().sum()"
   ]
  },
  {
   "cell_type": "code",
   "execution_count": 13,
   "metadata": {},
   "outputs": [
    {
     "name": "stdout",
     "output_type": "stream",
     "text": [
      "<class 'pandas.core.frame.DataFrame'>\n",
      "RangeIndex: 68864 entries, 0 to 68863\n",
      "Data columns (total 11 columns):\n",
      "건축년도     68864 non-null int64\n",
      "거래년도     68864 non-null int64\n",
      "거래월      68864 non-null int64\n",
      "거래일자     68864 non-null int64\n",
      "법정동      68864 non-null object\n",
      "거래금액     68864 non-null object\n",
      "아파트이름    68864 non-null object\n",
      "전용면적     68864 non-null float64\n",
      "지역코드     68864 non-null int64\n",
      "층        68864 non-null int64\n",
      "지번       68864 non-null object\n",
      "dtypes: float64(1), int64(6), object(4)\n",
      "memory usage: 5.8+ MB\n"
     ]
    }
   ],
   "source": [
    "# 실거래가 데이터프레임 정보 조회\n",
    "apt.info()"
   ]
  },
  {
   "cell_type": "code",
   "execution_count": 14,
   "metadata": {},
   "outputs": [],
   "source": [
    "# 거래금액 컬럼의 콤마(,) 제거 후 데이터 타입 변경\n",
    "transform = apt['거래금액'].str.split(',').str[0] + apt['거래금액'].str.split(',').str[1]\n",
    "apt['거래금액'] = transform.astype('int64')"
   ]
  },
  {
   "cell_type": "code",
   "execution_count": 15,
   "metadata": {},
   "outputs": [
    {
     "name": "stdout",
     "output_type": "stream",
     "text": [
      "<class 'pandas.core.frame.DataFrame'>\n",
      "RangeIndex: 68864 entries, 0 to 68863\n",
      "Data columns (total 11 columns):\n",
      "건축년도     68864 non-null int64\n",
      "거래년도     68864 non-null int64\n",
      "거래월      68864 non-null int64\n",
      "거래일자     68864 non-null int64\n",
      "법정동      68864 non-null object\n",
      "거래금액     68864 non-null int64\n",
      "아파트이름    68864 non-null object\n",
      "전용면적     68864 non-null float64\n",
      "지역코드     68864 non-null int64\n",
      "층        68864 non-null int64\n",
      "지번       68864 non-null object\n",
      "dtypes: float64(1), int64(7), object(3)\n",
      "memory usage: 5.8+ MB\n"
     ]
    }
   ],
   "source": [
    "# 실거래가 데이터프레임 정보 조회 (거래금액 컬럼 변경 확인)\n",
    "apt.info()"
   ]
  },
  {
   "cell_type": "code",
   "execution_count": 16,
   "metadata": {},
   "outputs": [
    {
     "data": {
      "text/html": [
       "<div>\n",
       "<style scoped>\n",
       "    .dataframe tbody tr th:only-of-type {\n",
       "        vertical-align: middle;\n",
       "    }\n",
       "\n",
       "    .dataframe tbody tr th {\n",
       "        vertical-align: top;\n",
       "    }\n",
       "\n",
       "    .dataframe thead th {\n",
       "        text-align: right;\n",
       "    }\n",
       "</style>\n",
       "<table border=\"1\" class=\"dataframe\">\n",
       "  <thead>\n",
       "    <tr style=\"text-align: right;\">\n",
       "      <th></th>\n",
       "      <th>건축년도</th>\n",
       "      <th>거래년도</th>\n",
       "      <th>거래월</th>\n",
       "      <th>거래일자</th>\n",
       "      <th>법정동</th>\n",
       "      <th>거래금액</th>\n",
       "      <th>아파트이름</th>\n",
       "      <th>전용면적</th>\n",
       "      <th>지역코드</th>\n",
       "      <th>층</th>\n",
       "      <th>지번</th>\n",
       "      <th>전용면적(평)</th>\n",
       "    </tr>\n",
       "  </thead>\n",
       "  <tbody>\n",
       "    <tr>\n",
       "      <td>0</td>\n",
       "      <td>2008</td>\n",
       "      <td>2019</td>\n",
       "      <td>1</td>\n",
       "      <td>7</td>\n",
       "      <td>사직동</td>\n",
       "      <td>105000</td>\n",
       "      <td>광화문풍림스페이스본(101동~105동)</td>\n",
       "      <td>97.61</td>\n",
       "      <td>11110</td>\n",
       "      <td>10</td>\n",
       "      <td>9</td>\n",
       "      <td>29.53</td>\n",
       "    </tr>\n",
       "    <tr>\n",
       "      <td>1</td>\n",
       "      <td>2008</td>\n",
       "      <td>2019</td>\n",
       "      <td>1</td>\n",
       "      <td>11</td>\n",
       "      <td>사직동</td>\n",
       "      <td>162000</td>\n",
       "      <td>광화문풍림스페이스본(106동)</td>\n",
       "      <td>163.33</td>\n",
       "      <td>11110</td>\n",
       "      <td>11</td>\n",
       "      <td>9-1</td>\n",
       "      <td>49.40</td>\n",
       "    </tr>\n",
       "    <tr>\n",
       "      <td>2</td>\n",
       "      <td>2008</td>\n",
       "      <td>2019</td>\n",
       "      <td>1</td>\n",
       "      <td>19</td>\n",
       "      <td>사직동</td>\n",
       "      <td>119000</td>\n",
       "      <td>광화문풍림스페이스본(101동~105동)</td>\n",
       "      <td>131.44</td>\n",
       "      <td>11110</td>\n",
       "      <td>13</td>\n",
       "      <td>9</td>\n",
       "      <td>39.76</td>\n",
       "    </tr>\n",
       "    <tr>\n",
       "      <td>3</td>\n",
       "      <td>2008</td>\n",
       "      <td>2019</td>\n",
       "      <td>1</td>\n",
       "      <td>30</td>\n",
       "      <td>사직동</td>\n",
       "      <td>119000</td>\n",
       "      <td>광화문풍림스페이스본(101동~105동)</td>\n",
       "      <td>147.31</td>\n",
       "      <td>11110</td>\n",
       "      <td>1</td>\n",
       "      <td>9</td>\n",
       "      <td>44.56</td>\n",
       "    </tr>\n",
       "    <tr>\n",
       "      <td>4</td>\n",
       "      <td>2004</td>\n",
       "      <td>2019</td>\n",
       "      <td>1</td>\n",
       "      <td>25</td>\n",
       "      <td>내수동</td>\n",
       "      <td>160000</td>\n",
       "      <td>경희궁의아침4단지</td>\n",
       "      <td>150.48</td>\n",
       "      <td>11110</td>\n",
       "      <td>14</td>\n",
       "      <td>73</td>\n",
       "      <td>45.52</td>\n",
       "    </tr>\n",
       "  </tbody>\n",
       "</table>\n",
       "</div>"
      ],
      "text/plain": [
       "   건축년도  거래년도  거래월  거래일자   법정동    거래금액                  아파트이름    전용면적   지역코드  \\\n",
       "0  2008  2019    1     7   사직동  105000  광화문풍림스페이스본(101동~105동)   97.61  11110   \n",
       "1  2008  2019    1    11   사직동  162000       광화문풍림스페이스본(106동)  163.33  11110   \n",
       "2  2008  2019    1    19   사직동  119000  광화문풍림스페이스본(101동~105동)  131.44  11110   \n",
       "3  2008  2019    1    30   사직동  119000  광화문풍림스페이스본(101동~105동)  147.31  11110   \n",
       "4  2004  2019    1    25   내수동  160000              경희궁의아침4단지  150.48  11110   \n",
       "\n",
       "    층   지번  전용면적(평)  \n",
       "0  10    9    29.53  \n",
       "1  11  9-1    49.40  \n",
       "2  13    9    39.76  \n",
       "3   1    9    44.56  \n",
       "4  14   73    45.52  "
      ]
     },
     "execution_count": 16,
     "metadata": {},
     "output_type": "execute_result"
    }
   ],
   "source": [
    "# 전용면적(제곱미터)를 평으로 변환(나누기 3.306)하여 전용면적(평) 컬럼 생성 후 소숫점 둘쨰자리까지 표시합니다.\n",
    "apt['전용면적(평)'] = round(apt['전용면적'] / 3.306,2)\n",
    "apt.head()"
   ]
  },
  {
   "cell_type": "code",
   "execution_count": 17,
   "metadata": {},
   "outputs": [
    {
     "data": {
      "text/html": [
       "<div>\n",
       "<style scoped>\n",
       "    .dataframe tbody tr th:only-of-type {\n",
       "        vertical-align: middle;\n",
       "    }\n",
       "\n",
       "    .dataframe tbody tr th {\n",
       "        vertical-align: top;\n",
       "    }\n",
       "\n",
       "    .dataframe thead th {\n",
       "        text-align: right;\n",
       "    }\n",
       "</style>\n",
       "<table border=\"1\" class=\"dataframe\">\n",
       "  <thead>\n",
       "    <tr style=\"text-align: right;\">\n",
       "      <th></th>\n",
       "      <th>건축년도</th>\n",
       "      <th>거래년도</th>\n",
       "      <th>거래월</th>\n",
       "      <th>거래일자</th>\n",
       "      <th>법정동</th>\n",
       "      <th>거래금액</th>\n",
       "      <th>아파트이름</th>\n",
       "      <th>전용면적</th>\n",
       "      <th>지역코드</th>\n",
       "      <th>층</th>\n",
       "      <th>지번</th>\n",
       "      <th>전용면적(평)</th>\n",
       "      <th>전용면적(평)2</th>\n",
       "    </tr>\n",
       "  </thead>\n",
       "  <tbody>\n",
       "    <tr>\n",
       "      <td>0</td>\n",
       "      <td>2008</td>\n",
       "      <td>2019</td>\n",
       "      <td>1</td>\n",
       "      <td>7</td>\n",
       "      <td>사직동</td>\n",
       "      <td>105000</td>\n",
       "      <td>광화문풍림스페이스본(101동~105동)</td>\n",
       "      <td>97.61</td>\n",
       "      <td>11110</td>\n",
       "      <td>10</td>\n",
       "      <td>9</td>\n",
       "      <td>29.53</td>\n",
       "      <td>29</td>\n",
       "    </tr>\n",
       "    <tr>\n",
       "      <td>1</td>\n",
       "      <td>2008</td>\n",
       "      <td>2019</td>\n",
       "      <td>1</td>\n",
       "      <td>11</td>\n",
       "      <td>사직동</td>\n",
       "      <td>162000</td>\n",
       "      <td>광화문풍림스페이스본(106동)</td>\n",
       "      <td>163.33</td>\n",
       "      <td>11110</td>\n",
       "      <td>11</td>\n",
       "      <td>9-1</td>\n",
       "      <td>49.40</td>\n",
       "      <td>49</td>\n",
       "    </tr>\n",
       "    <tr>\n",
       "      <td>2</td>\n",
       "      <td>2008</td>\n",
       "      <td>2019</td>\n",
       "      <td>1</td>\n",
       "      <td>19</td>\n",
       "      <td>사직동</td>\n",
       "      <td>119000</td>\n",
       "      <td>광화문풍림스페이스본(101동~105동)</td>\n",
       "      <td>131.44</td>\n",
       "      <td>11110</td>\n",
       "      <td>13</td>\n",
       "      <td>9</td>\n",
       "      <td>39.76</td>\n",
       "      <td>39</td>\n",
       "    </tr>\n",
       "    <tr>\n",
       "      <td>3</td>\n",
       "      <td>2008</td>\n",
       "      <td>2019</td>\n",
       "      <td>1</td>\n",
       "      <td>30</td>\n",
       "      <td>사직동</td>\n",
       "      <td>119000</td>\n",
       "      <td>광화문풍림스페이스본(101동~105동)</td>\n",
       "      <td>147.31</td>\n",
       "      <td>11110</td>\n",
       "      <td>1</td>\n",
       "      <td>9</td>\n",
       "      <td>44.56</td>\n",
       "      <td>44</td>\n",
       "    </tr>\n",
       "    <tr>\n",
       "      <td>4</td>\n",
       "      <td>2004</td>\n",
       "      <td>2019</td>\n",
       "      <td>1</td>\n",
       "      <td>25</td>\n",
       "      <td>내수동</td>\n",
       "      <td>160000</td>\n",
       "      <td>경희궁의아침4단지</td>\n",
       "      <td>150.48</td>\n",
       "      <td>11110</td>\n",
       "      <td>14</td>\n",
       "      <td>73</td>\n",
       "      <td>45.52</td>\n",
       "      <td>45</td>\n",
       "    </tr>\n",
       "  </tbody>\n",
       "</table>\n",
       "</div>"
      ],
      "text/plain": [
       "   건축년도  거래년도  거래월  거래일자   법정동    거래금액                  아파트이름    전용면적   지역코드  \\\n",
       "0  2008  2019    1     7   사직동  105000  광화문풍림스페이스본(101동~105동)   97.61  11110   \n",
       "1  2008  2019    1    11   사직동  162000       광화문풍림스페이스본(106동)  163.33  11110   \n",
       "2  2008  2019    1    19   사직동  119000  광화문풍림스페이스본(101동~105동)  131.44  11110   \n",
       "3  2008  2019    1    30   사직동  119000  광화문풍림스페이스본(101동~105동)  147.31  11110   \n",
       "4  2004  2019    1    25   내수동  160000              경희궁의아침4단지  150.48  11110   \n",
       "\n",
       "    층   지번  전용면적(평)  전용면적(평)2  \n",
       "0  10    9    29.53        29  \n",
       "1  11  9-1    49.40        49  \n",
       "2  13    9    39.76        39  \n",
       "3   1    9    44.56        44  \n",
       "4  14   73    45.52        45  "
      ]
     },
     "execution_count": 17,
     "metadata": {},
     "output_type": "execute_result"
    }
   ],
   "source": [
    "# 전용면적을 범주화 하기 위해 전용면적(평) 컬럼을 정수형으로 바꾼 새로운 컬럼을 생성합니다.\n",
    "apt['전용면적(평)2'] = apt['전용면적(평)'].astype('int')\n",
    "apt.head()"
   ]
  },
  {
   "cell_type": "code",
   "execution_count": 18,
   "metadata": {},
   "outputs": [
    {
     "data": {
      "text/html": [
       "<div>\n",
       "<style scoped>\n",
       "    .dataframe tbody tr th:only-of-type {\n",
       "        vertical-align: middle;\n",
       "    }\n",
       "\n",
       "    .dataframe tbody tr th {\n",
       "        vertical-align: top;\n",
       "    }\n",
       "\n",
       "    .dataframe thead th {\n",
       "        text-align: right;\n",
       "    }\n",
       "</style>\n",
       "<table border=\"1\" class=\"dataframe\">\n",
       "  <thead>\n",
       "    <tr style=\"text-align: right;\">\n",
       "      <th></th>\n",
       "      <th>건축년도</th>\n",
       "      <th>거래년도</th>\n",
       "      <th>거래월</th>\n",
       "      <th>거래일자</th>\n",
       "      <th>법정동</th>\n",
       "      <th>거래금액</th>\n",
       "      <th>아파트이름</th>\n",
       "      <th>전용면적</th>\n",
       "      <th>지역코드</th>\n",
       "      <th>층</th>\n",
       "      <th>지번</th>\n",
       "      <th>전용면적(평)</th>\n",
       "      <th>전용면적(평)2</th>\n",
       "      <th>전용면적(평)3</th>\n",
       "    </tr>\n",
       "  </thead>\n",
       "  <tbody>\n",
       "    <tr>\n",
       "      <td>0</td>\n",
       "      <td>2008</td>\n",
       "      <td>2019</td>\n",
       "      <td>1</td>\n",
       "      <td>7</td>\n",
       "      <td>사직동</td>\n",
       "      <td>105000</td>\n",
       "      <td>광화문풍림스페이스본(101동~105동)</td>\n",
       "      <td>97.61</td>\n",
       "      <td>11110</td>\n",
       "      <td>10</td>\n",
       "      <td>9</td>\n",
       "      <td>29.53</td>\n",
       "      <td>29</td>\n",
       "      <td>(25, 30]</td>\n",
       "    </tr>\n",
       "    <tr>\n",
       "      <td>1</td>\n",
       "      <td>2008</td>\n",
       "      <td>2019</td>\n",
       "      <td>1</td>\n",
       "      <td>11</td>\n",
       "      <td>사직동</td>\n",
       "      <td>162000</td>\n",
       "      <td>광화문풍림스페이스본(106동)</td>\n",
       "      <td>163.33</td>\n",
       "      <td>11110</td>\n",
       "      <td>11</td>\n",
       "      <td>9-1</td>\n",
       "      <td>49.40</td>\n",
       "      <td>49</td>\n",
       "      <td>(45, 50]</td>\n",
       "    </tr>\n",
       "    <tr>\n",
       "      <td>2</td>\n",
       "      <td>2008</td>\n",
       "      <td>2019</td>\n",
       "      <td>1</td>\n",
       "      <td>19</td>\n",
       "      <td>사직동</td>\n",
       "      <td>119000</td>\n",
       "      <td>광화문풍림스페이스본(101동~105동)</td>\n",
       "      <td>131.44</td>\n",
       "      <td>11110</td>\n",
       "      <td>13</td>\n",
       "      <td>9</td>\n",
       "      <td>39.76</td>\n",
       "      <td>39</td>\n",
       "      <td>(35, 40]</td>\n",
       "    </tr>\n",
       "    <tr>\n",
       "      <td>3</td>\n",
       "      <td>2008</td>\n",
       "      <td>2019</td>\n",
       "      <td>1</td>\n",
       "      <td>30</td>\n",
       "      <td>사직동</td>\n",
       "      <td>119000</td>\n",
       "      <td>광화문풍림스페이스본(101동~105동)</td>\n",
       "      <td>147.31</td>\n",
       "      <td>11110</td>\n",
       "      <td>1</td>\n",
       "      <td>9</td>\n",
       "      <td>44.56</td>\n",
       "      <td>44</td>\n",
       "      <td>(40, 45]</td>\n",
       "    </tr>\n",
       "    <tr>\n",
       "      <td>4</td>\n",
       "      <td>2004</td>\n",
       "      <td>2019</td>\n",
       "      <td>1</td>\n",
       "      <td>25</td>\n",
       "      <td>내수동</td>\n",
       "      <td>160000</td>\n",
       "      <td>경희궁의아침4단지</td>\n",
       "      <td>150.48</td>\n",
       "      <td>11110</td>\n",
       "      <td>14</td>\n",
       "      <td>73</td>\n",
       "      <td>45.52</td>\n",
       "      <td>45</td>\n",
       "      <td>(40, 45]</td>\n",
       "    </tr>\n",
       "  </tbody>\n",
       "</table>\n",
       "</div>"
      ],
      "text/plain": [
       "   건축년도  거래년도  거래월  거래일자   법정동    거래금액                  아파트이름    전용면적   지역코드  \\\n",
       "0  2008  2019    1     7   사직동  105000  광화문풍림스페이스본(101동~105동)   97.61  11110   \n",
       "1  2008  2019    1    11   사직동  162000       광화문풍림스페이스본(106동)  163.33  11110   \n",
       "2  2008  2019    1    19   사직동  119000  광화문풍림스페이스본(101동~105동)  131.44  11110   \n",
       "3  2008  2019    1    30   사직동  119000  광화문풍림스페이스본(101동~105동)  147.31  11110   \n",
       "4  2004  2019    1    25   내수동  160000              경희궁의아침4단지  150.48  11110   \n",
       "\n",
       "    층   지번  전용면적(평)  전용면적(평)2  전용면적(평)3  \n",
       "0  10    9    29.53        29  (25, 30]  \n",
       "1  11  9-1    49.40        49  (45, 50]  \n",
       "2  13    9    39.76        39  (35, 40]  \n",
       "3   1    9    44.56        44  (40, 45]  \n",
       "4  14   73    45.52        45  (40, 45]  "
      ]
     },
     "execution_count": 18,
     "metadata": {},
     "output_type": "execute_result"
    }
   ],
   "source": [
    "# 아래의 코드를 실행하여 전용면적을 범주화 합니다.\n",
    "daterange = np.arange(0,(int(max(apt['전용면적(평)2']) / 5) + 2) * 5, 5)\n",
    "apt['전용면적(평)3'] = pd.cut(apt['전용면적(평)2'], daterange)\n",
    "apt.head()"
   ]
  },
  {
   "cell_type": "code",
   "execution_count": 19,
   "metadata": {},
   "outputs": [
    {
     "data": {
      "text/plain": [
       "[(25, 30], (45, 50], (35, 40], (40, 45], (0, 5], ..., (65, 70], (55, 60], (60, 65], (80, 85], (75, 80]]\n",
       "Length: 17\n",
       "Categories (17, interval[int64]): [(0, 5] < (5, 10] < (10, 15] < (15, 20] ... (65, 70] < (70, 75] < (75, 80] < (80, 85]]"
      ]
     },
     "execution_count": 19,
     "metadata": {},
     "output_type": "execute_result"
    }
   ],
   "source": [
    "# 범주화된 전용면적의 고유값을 확인합니다.\n",
    "apt['전용면적(평)3'].unique()"
   ]
  },
  {
   "cell_type": "markdown",
   "metadata": {},
   "source": [
    "# 3. 데이터 프레임 결합"
   ]
  },
  {
   "cell_type": "code",
   "execution_count": 20,
   "metadata": {},
   "outputs": [],
   "source": [
    "apt['반기'] = np.NaN\n",
    "apt.at[apt['거래월'] <= 6,'반기'] = '상반기'\n",
    "apt.at[apt['거래월'] > 6,'반기'] = '하반기'\n",
    "\n",
    "apt['분기'] = np.NaN\n",
    "apt.at[(apt['거래월'] > 0) & (apt['거래월'] < 4),'분기']='1분기'\n",
    "apt.at[(apt['거래월'] > 3) & (apt['거래월'] < 7),'분기']='2분기'\n",
    "apt.at[(apt['거래월'] > 6) & (apt['거래월'] < 10),'분기']='3분기'\n",
    "apt.at[(apt['거래월'] > 9) & (apt['거래월'] < 13),'분기']='4분기'"
   ]
  },
  {
   "cell_type": "code",
   "execution_count": 21,
   "metadata": {},
   "outputs": [],
   "source": [
    "# apt['반기'] = np.NaN\n",
    "# apt.set_value(apt['거래월'] <= 6,'반기','상반기')\n",
    "# apt.set_value(apt['거래월'] > 6,'반기','하반기')\n",
    "\n",
    "# apt['분기'] = np.NaN\n",
    "# apt.set_value((apt['거래월'] > 0) & (apt['거래월'] < 4),'분기','1분기')\n",
    "# apt.set_value((apt['거래월'] > 3) & (apt['거래월'] < 7),'분기','2분기')\n",
    "# apt.set_value((apt['거래월'] > 6) & (apt['거래월'] < 10),'분기','3분기')\n",
    "# apt.set_value((apt['거래월'] > 9) & (apt['거래월'] < 13),'분기','4분기')"
   ]
  },
  {
   "cell_type": "code",
   "execution_count": 22,
   "metadata": {},
   "outputs": [
    {
     "data": {
      "text/html": [
       "<div>\n",
       "<style scoped>\n",
       "    .dataframe tbody tr th:only-of-type {\n",
       "        vertical-align: middle;\n",
       "    }\n",
       "\n",
       "    .dataframe tbody tr th {\n",
       "        vertical-align: top;\n",
       "    }\n",
       "\n",
       "    .dataframe thead th {\n",
       "        text-align: right;\n",
       "    }\n",
       "</style>\n",
       "<table border=\"1\" class=\"dataframe\">\n",
       "  <thead>\n",
       "    <tr style=\"text-align: right;\">\n",
       "      <th></th>\n",
       "      <th>건축년도</th>\n",
       "      <th>거래년도</th>\n",
       "      <th>거래월</th>\n",
       "      <th>거래일자</th>\n",
       "      <th>법정동</th>\n",
       "      <th>거래금액</th>\n",
       "      <th>아파트이름</th>\n",
       "      <th>전용면적</th>\n",
       "      <th>지역코드</th>\n",
       "      <th>층</th>\n",
       "      <th>지번</th>\n",
       "      <th>전용면적(평)</th>\n",
       "      <th>전용면적(평)2</th>\n",
       "      <th>전용면적(평)3</th>\n",
       "      <th>반기</th>\n",
       "      <th>분기</th>\n",
       "      <th>평당거래금액</th>\n",
       "    </tr>\n",
       "  </thead>\n",
       "  <tbody>\n",
       "    <tr>\n",
       "      <td>0</td>\n",
       "      <td>2008</td>\n",
       "      <td>2019</td>\n",
       "      <td>1</td>\n",
       "      <td>7</td>\n",
       "      <td>사직동</td>\n",
       "      <td>105000</td>\n",
       "      <td>광화문풍림스페이스본(101동~105동)</td>\n",
       "      <td>97.61</td>\n",
       "      <td>11110</td>\n",
       "      <td>10</td>\n",
       "      <td>9</td>\n",
       "      <td>29.53</td>\n",
       "      <td>29</td>\n",
       "      <td>(25, 30]</td>\n",
       "      <td>상반기</td>\n",
       "      <td>1분기</td>\n",
       "      <td>3620</td>\n",
       "    </tr>\n",
       "    <tr>\n",
       "      <td>1</td>\n",
       "      <td>2008</td>\n",
       "      <td>2019</td>\n",
       "      <td>1</td>\n",
       "      <td>11</td>\n",
       "      <td>사직동</td>\n",
       "      <td>162000</td>\n",
       "      <td>광화문풍림스페이스본(106동)</td>\n",
       "      <td>163.33</td>\n",
       "      <td>11110</td>\n",
       "      <td>11</td>\n",
       "      <td>9-1</td>\n",
       "      <td>49.40</td>\n",
       "      <td>49</td>\n",
       "      <td>(45, 50]</td>\n",
       "      <td>상반기</td>\n",
       "      <td>1분기</td>\n",
       "      <td>3306</td>\n",
       "    </tr>\n",
       "    <tr>\n",
       "      <td>2</td>\n",
       "      <td>2008</td>\n",
       "      <td>2019</td>\n",
       "      <td>1</td>\n",
       "      <td>19</td>\n",
       "      <td>사직동</td>\n",
       "      <td>119000</td>\n",
       "      <td>광화문풍림스페이스본(101동~105동)</td>\n",
       "      <td>131.44</td>\n",
       "      <td>11110</td>\n",
       "      <td>13</td>\n",
       "      <td>9</td>\n",
       "      <td>39.76</td>\n",
       "      <td>39</td>\n",
       "      <td>(35, 40]</td>\n",
       "      <td>상반기</td>\n",
       "      <td>1분기</td>\n",
       "      <td>3051</td>\n",
       "    </tr>\n",
       "    <tr>\n",
       "      <td>3</td>\n",
       "      <td>2008</td>\n",
       "      <td>2019</td>\n",
       "      <td>1</td>\n",
       "      <td>30</td>\n",
       "      <td>사직동</td>\n",
       "      <td>119000</td>\n",
       "      <td>광화문풍림스페이스본(101동~105동)</td>\n",
       "      <td>147.31</td>\n",
       "      <td>11110</td>\n",
       "      <td>1</td>\n",
       "      <td>9</td>\n",
       "      <td>44.56</td>\n",
       "      <td>44</td>\n",
       "      <td>(40, 45]</td>\n",
       "      <td>상반기</td>\n",
       "      <td>1분기</td>\n",
       "      <td>2704</td>\n",
       "    </tr>\n",
       "    <tr>\n",
       "      <td>4</td>\n",
       "      <td>2004</td>\n",
       "      <td>2019</td>\n",
       "      <td>1</td>\n",
       "      <td>25</td>\n",
       "      <td>내수동</td>\n",
       "      <td>160000</td>\n",
       "      <td>경희궁의아침4단지</td>\n",
       "      <td>150.48</td>\n",
       "      <td>11110</td>\n",
       "      <td>14</td>\n",
       "      <td>73</td>\n",
       "      <td>45.52</td>\n",
       "      <td>45</td>\n",
       "      <td>(40, 45]</td>\n",
       "      <td>상반기</td>\n",
       "      <td>1분기</td>\n",
       "      <td>3555</td>\n",
       "    </tr>\n",
       "  </tbody>\n",
       "</table>\n",
       "</div>"
      ],
      "text/plain": [
       "   건축년도  거래년도  거래월  거래일자   법정동    거래금액                  아파트이름    전용면적   지역코드  \\\n",
       "0  2008  2019    1     7   사직동  105000  광화문풍림스페이스본(101동~105동)   97.61  11110   \n",
       "1  2008  2019    1    11   사직동  162000       광화문풍림스페이스본(106동)  163.33  11110   \n",
       "2  2008  2019    1    19   사직동  119000  광화문풍림스페이스본(101동~105동)  131.44  11110   \n",
       "3  2008  2019    1    30   사직동  119000  광화문풍림스페이스본(101동~105동)  147.31  11110   \n",
       "4  2004  2019    1    25   내수동  160000              경희궁의아침4단지  150.48  11110   \n",
       "\n",
       "    층   지번  전용면적(평)  전용면적(평)2  전용면적(평)3   반기   분기  평당거래금액  \n",
       "0  10    9    29.53        29  (25, 30]  상반기  1분기    3620  \n",
       "1  11  9-1    49.40        49  (45, 50]  상반기  1분기    3306  \n",
       "2  13    9    39.76        39  (35, 40]  상반기  1분기    3051  \n",
       "3   1    9    44.56        44  (40, 45]  상반기  1분기    2704  \n",
       "4  14   73    45.52        45  (40, 45]  상반기  1분기    3555  "
      ]
     },
     "execution_count": 22,
     "metadata": {},
     "output_type": "execute_result"
    }
   ],
   "source": [
    "apt['평당거래금액'] = (apt['거래금액'] / apt['전용면적(평)2']).astype('int')\n",
    "apt.head()"
   ]
  },
  {
   "cell_type": "code",
   "execution_count": 23,
   "metadata": {},
   "outputs": [
    {
     "data": {
      "text/html": [
       "<div>\n",
       "<style scoped>\n",
       "    .dataframe tbody tr th:only-of-type {\n",
       "        vertical-align: middle;\n",
       "    }\n",
       "\n",
       "    .dataframe tbody tr th {\n",
       "        vertical-align: top;\n",
       "    }\n",
       "\n",
       "    .dataframe thead th {\n",
       "        text-align: right;\n",
       "    }\n",
       "</style>\n",
       "<table border=\"1\" class=\"dataframe\">\n",
       "  <thead>\n",
       "    <tr style=\"text-align: right;\">\n",
       "      <th></th>\n",
       "      <th>건축년도</th>\n",
       "      <th>거래년도</th>\n",
       "      <th>거래월</th>\n",
       "      <th>거래일자</th>\n",
       "      <th>법정동</th>\n",
       "      <th>거래금액</th>\n",
       "      <th>아파트이름</th>\n",
       "      <th>전용면적</th>\n",
       "      <th>지역코드</th>\n",
       "      <th>층</th>\n",
       "      <th>지번</th>\n",
       "      <th>전용면적(평)</th>\n",
       "      <th>전용면적(평)2</th>\n",
       "      <th>전용면적(평)3</th>\n",
       "      <th>반기</th>\n",
       "      <th>분기</th>\n",
       "      <th>평당거래금액</th>\n",
       "      <th>시도명</th>\n",
       "      <th>시군구명</th>\n",
       "    </tr>\n",
       "  </thead>\n",
       "  <tbody>\n",
       "    <tr>\n",
       "      <td>0</td>\n",
       "      <td>2008</td>\n",
       "      <td>2019</td>\n",
       "      <td>1</td>\n",
       "      <td>7</td>\n",
       "      <td>사직동</td>\n",
       "      <td>105000</td>\n",
       "      <td>광화문풍림스페이스본(101동~105동)</td>\n",
       "      <td>97.61</td>\n",
       "      <td>11110</td>\n",
       "      <td>10</td>\n",
       "      <td>9</td>\n",
       "      <td>29.53</td>\n",
       "      <td>29</td>\n",
       "      <td>(25, 30]</td>\n",
       "      <td>상반기</td>\n",
       "      <td>1분기</td>\n",
       "      <td>3620</td>\n",
       "      <td>서울특별시</td>\n",
       "      <td>종로구</td>\n",
       "    </tr>\n",
       "    <tr>\n",
       "      <td>1</td>\n",
       "      <td>2008</td>\n",
       "      <td>2019</td>\n",
       "      <td>1</td>\n",
       "      <td>11</td>\n",
       "      <td>사직동</td>\n",
       "      <td>162000</td>\n",
       "      <td>광화문풍림스페이스본(106동)</td>\n",
       "      <td>163.33</td>\n",
       "      <td>11110</td>\n",
       "      <td>11</td>\n",
       "      <td>9-1</td>\n",
       "      <td>49.40</td>\n",
       "      <td>49</td>\n",
       "      <td>(45, 50]</td>\n",
       "      <td>상반기</td>\n",
       "      <td>1분기</td>\n",
       "      <td>3306</td>\n",
       "      <td>서울특별시</td>\n",
       "      <td>종로구</td>\n",
       "    </tr>\n",
       "    <tr>\n",
       "      <td>2</td>\n",
       "      <td>2008</td>\n",
       "      <td>2019</td>\n",
       "      <td>1</td>\n",
       "      <td>19</td>\n",
       "      <td>사직동</td>\n",
       "      <td>119000</td>\n",
       "      <td>광화문풍림스페이스본(101동~105동)</td>\n",
       "      <td>131.44</td>\n",
       "      <td>11110</td>\n",
       "      <td>13</td>\n",
       "      <td>9</td>\n",
       "      <td>39.76</td>\n",
       "      <td>39</td>\n",
       "      <td>(35, 40]</td>\n",
       "      <td>상반기</td>\n",
       "      <td>1분기</td>\n",
       "      <td>3051</td>\n",
       "      <td>서울특별시</td>\n",
       "      <td>종로구</td>\n",
       "    </tr>\n",
       "    <tr>\n",
       "      <td>3</td>\n",
       "      <td>2008</td>\n",
       "      <td>2019</td>\n",
       "      <td>1</td>\n",
       "      <td>30</td>\n",
       "      <td>사직동</td>\n",
       "      <td>119000</td>\n",
       "      <td>광화문풍림스페이스본(101동~105동)</td>\n",
       "      <td>147.31</td>\n",
       "      <td>11110</td>\n",
       "      <td>1</td>\n",
       "      <td>9</td>\n",
       "      <td>44.56</td>\n",
       "      <td>44</td>\n",
       "      <td>(40, 45]</td>\n",
       "      <td>상반기</td>\n",
       "      <td>1분기</td>\n",
       "      <td>2704</td>\n",
       "      <td>서울특별시</td>\n",
       "      <td>종로구</td>\n",
       "    </tr>\n",
       "    <tr>\n",
       "      <td>4</td>\n",
       "      <td>2004</td>\n",
       "      <td>2019</td>\n",
       "      <td>1</td>\n",
       "      <td>25</td>\n",
       "      <td>내수동</td>\n",
       "      <td>160000</td>\n",
       "      <td>경희궁의아침4단지</td>\n",
       "      <td>150.48</td>\n",
       "      <td>11110</td>\n",
       "      <td>14</td>\n",
       "      <td>73</td>\n",
       "      <td>45.52</td>\n",
       "      <td>45</td>\n",
       "      <td>(40, 45]</td>\n",
       "      <td>상반기</td>\n",
       "      <td>1분기</td>\n",
       "      <td>3555</td>\n",
       "      <td>서울특별시</td>\n",
       "      <td>종로구</td>\n",
       "    </tr>\n",
       "    <tr>\n",
       "      <td>...</td>\n",
       "      <td>...</td>\n",
       "      <td>...</td>\n",
       "      <td>...</td>\n",
       "      <td>...</td>\n",
       "      <td>...</td>\n",
       "      <td>...</td>\n",
       "      <td>...</td>\n",
       "      <td>...</td>\n",
       "      <td>...</td>\n",
       "      <td>...</td>\n",
       "      <td>...</td>\n",
       "      <td>...</td>\n",
       "      <td>...</td>\n",
       "      <td>...</td>\n",
       "      <td>...</td>\n",
       "      <td>...</td>\n",
       "      <td>...</td>\n",
       "      <td>...</td>\n",
       "      <td>...</td>\n",
       "    </tr>\n",
       "    <tr>\n",
       "      <td>68859</td>\n",
       "      <td>2013</td>\n",
       "      <td>2019</td>\n",
       "      <td>12</td>\n",
       "      <td>30</td>\n",
       "      <td>천호동</td>\n",
       "      <td>14500</td>\n",
       "      <td>하이브2</td>\n",
       "      <td>13.50</td>\n",
       "      <td>11740</td>\n",
       "      <td>11</td>\n",
       "      <td>164-70</td>\n",
       "      <td>4.08</td>\n",
       "      <td>4</td>\n",
       "      <td>(0, 5]</td>\n",
       "      <td>하반기</td>\n",
       "      <td>4분기</td>\n",
       "      <td>3625</td>\n",
       "      <td>서울특별시</td>\n",
       "      <td>강동구</td>\n",
       "    </tr>\n",
       "    <tr>\n",
       "      <td>68860</td>\n",
       "      <td>2009</td>\n",
       "      <td>2019</td>\n",
       "      <td>12</td>\n",
       "      <td>7</td>\n",
       "      <td>강일동</td>\n",
       "      <td>79750</td>\n",
       "      <td>강일리버파크10단지</td>\n",
       "      <td>84.53</td>\n",
       "      <td>11740</td>\n",
       "      <td>9</td>\n",
       "      <td>695</td>\n",
       "      <td>25.57</td>\n",
       "      <td>25</td>\n",
       "      <td>(20, 25]</td>\n",
       "      <td>하반기</td>\n",
       "      <td>4분기</td>\n",
       "      <td>3190</td>\n",
       "      <td>서울특별시</td>\n",
       "      <td>강동구</td>\n",
       "    </tr>\n",
       "    <tr>\n",
       "      <td>68861</td>\n",
       "      <td>2009</td>\n",
       "      <td>2019</td>\n",
       "      <td>12</td>\n",
       "      <td>9</td>\n",
       "      <td>강일동</td>\n",
       "      <td>77800</td>\n",
       "      <td>강일리버파크2단지</td>\n",
       "      <td>84.74</td>\n",
       "      <td>11740</td>\n",
       "      <td>4</td>\n",
       "      <td>668</td>\n",
       "      <td>25.63</td>\n",
       "      <td>25</td>\n",
       "      <td>(20, 25]</td>\n",
       "      <td>하반기</td>\n",
       "      <td>4분기</td>\n",
       "      <td>3112</td>\n",
       "      <td>서울특별시</td>\n",
       "      <td>강동구</td>\n",
       "    </tr>\n",
       "    <tr>\n",
       "      <td>68862</td>\n",
       "      <td>2009</td>\n",
       "      <td>2019</td>\n",
       "      <td>12</td>\n",
       "      <td>25</td>\n",
       "      <td>강일동</td>\n",
       "      <td>80000</td>\n",
       "      <td>강일리버파크7단지</td>\n",
       "      <td>84.83</td>\n",
       "      <td>11740</td>\n",
       "      <td>3</td>\n",
       "      <td>686</td>\n",
       "      <td>25.66</td>\n",
       "      <td>25</td>\n",
       "      <td>(20, 25]</td>\n",
       "      <td>하반기</td>\n",
       "      <td>4분기</td>\n",
       "      <td>3200</td>\n",
       "      <td>서울특별시</td>\n",
       "      <td>강동구</td>\n",
       "    </tr>\n",
       "    <tr>\n",
       "      <td>68863</td>\n",
       "      <td>2009</td>\n",
       "      <td>2019</td>\n",
       "      <td>12</td>\n",
       "      <td>30</td>\n",
       "      <td>강일동</td>\n",
       "      <td>85000</td>\n",
       "      <td>강일리버파크10단지</td>\n",
       "      <td>114.81</td>\n",
       "      <td>11740</td>\n",
       "      <td>14</td>\n",
       "      <td>695</td>\n",
       "      <td>34.73</td>\n",
       "      <td>34</td>\n",
       "      <td>(30, 35]</td>\n",
       "      <td>하반기</td>\n",
       "      <td>4분기</td>\n",
       "      <td>2500</td>\n",
       "      <td>서울특별시</td>\n",
       "      <td>강동구</td>\n",
       "    </tr>\n",
       "  </tbody>\n",
       "</table>\n",
       "<p>68864 rows × 19 columns</p>\n",
       "</div>"
      ],
      "text/plain": [
       "       건축년도  거래년도  거래월  거래일자   법정동    거래금액                  아파트이름    전용면적  \\\n",
       "0      2008  2019    1     7   사직동  105000  광화문풍림스페이스본(101동~105동)   97.61   \n",
       "1      2008  2019    1    11   사직동  162000       광화문풍림스페이스본(106동)  163.33   \n",
       "2      2008  2019    1    19   사직동  119000  광화문풍림스페이스본(101동~105동)  131.44   \n",
       "3      2008  2019    1    30   사직동  119000  광화문풍림스페이스본(101동~105동)  147.31   \n",
       "4      2004  2019    1    25   내수동  160000              경희궁의아침4단지  150.48   \n",
       "...     ...   ...  ...   ...   ...     ...                    ...     ...   \n",
       "68859  2013  2019   12    30   천호동   14500                   하이브2   13.50   \n",
       "68860  2009  2019   12     7   강일동   79750             강일리버파크10단지   84.53   \n",
       "68861  2009  2019   12     9   강일동   77800              강일리버파크2단지   84.74   \n",
       "68862  2009  2019   12    25   강일동   80000              강일리버파크7단지   84.83   \n",
       "68863  2009  2019   12    30   강일동   85000             강일리버파크10단지  114.81   \n",
       "\n",
       "        지역코드   층      지번  전용면적(평)  전용면적(평)2  전용면적(평)3   반기   분기  평당거래금액  \\\n",
       "0      11110  10       9    29.53        29  (25, 30]  상반기  1분기    3620   \n",
       "1      11110  11     9-1    49.40        49  (45, 50]  상반기  1분기    3306   \n",
       "2      11110  13       9    39.76        39  (35, 40]  상반기  1분기    3051   \n",
       "3      11110   1       9    44.56        44  (40, 45]  상반기  1분기    2704   \n",
       "4      11110  14      73    45.52        45  (40, 45]  상반기  1분기    3555   \n",
       "...      ...  ..     ...      ...       ...       ...  ...  ...     ...   \n",
       "68859  11740  11  164-70     4.08         4    (0, 5]  하반기  4분기    3625   \n",
       "68860  11740   9     695    25.57        25  (20, 25]  하반기  4분기    3190   \n",
       "68861  11740   4     668    25.63        25  (20, 25]  하반기  4분기    3112   \n",
       "68862  11740   3     686    25.66        25  (20, 25]  하반기  4분기    3200   \n",
       "68863  11740  14     695    34.73        34  (30, 35]  하반기  4분기    2500   \n",
       "\n",
       "         시도명 시군구명  \n",
       "0      서울특별시  종로구  \n",
       "1      서울특별시  종로구  \n",
       "2      서울특별시  종로구  \n",
       "3      서울특별시  종로구  \n",
       "4      서울특별시  종로구  \n",
       "...      ...  ...  \n",
       "68859  서울특별시  강동구  \n",
       "68860  서울특별시  강동구  \n",
       "68861  서울특별시  강동구  \n",
       "68862  서울특별시  강동구  \n",
       "68863  서울특별시  강동구  \n",
       "\n",
       "[68864 rows x 19 columns]"
      ]
     },
     "execution_count": 23,
     "metadata": {},
     "output_type": "execute_result"
    }
   ],
   "source": [
    "# 지역 코드를 기준으로 법정동 코드 데이터 프레임과 아파트 실거래가 데이터 프레임을 결합합니다.\n",
    "df = apt.merge(loc,on='지역코드',how='left')\n",
    "df"
   ]
  },
  {
   "cell_type": "code",
   "execution_count": 24,
   "metadata": {},
   "outputs": [],
   "source": [
    "# 지역 코드 컬럼을 삭제합니다.\n",
    "del df['지역코드']"
   ]
  },
  {
   "cell_type": "code",
   "execution_count": 25,
   "metadata": {},
   "outputs": [],
   "source": [
    "# Datetime 컬럼 추가\n",
    "df['기간'] = df['거래년도'].astype('str')+'-'+df['거래월'].astype('str')+'-'+df['거래일자'].astype('str')\n",
    "df['기간'] = pd.to_datetime(df['기간'])"
   ]
  },
  {
   "cell_type": "code",
   "execution_count": 26,
   "metadata": {},
   "outputs": [],
   "source": [
    "# 전용면적(평)3 컬럼 형변환\n",
    "df['전용면적(평)3'] = df['전용면적(평)3'].astype('str')"
   ]
  },
  {
   "cell_type": "code",
   "execution_count": 27,
   "metadata": {},
   "outputs": [],
   "source": [
    "#법정동의 공백 제거\n",
    "df['법정동'] = df['법정동'].str.strip()"
   ]
  },
  {
   "cell_type": "code",
   "execution_count": 28,
   "metadata": {},
   "outputs": [],
   "source": [
    "df1 = df.copy()"
   ]
  },
  {
   "cell_type": "markdown",
   "metadata": {},
   "source": [
    "# 4. Data Analysis & Visualization "
   ]
  },
  {
   "cell_type": "code",
   "execution_count": 29,
   "metadata": {},
   "outputs": [
    {
     "data": {
      "text/html": [
       "        <script type=\"text/javascript\">\n",
       "        window.PlotlyConfig = {MathJaxConfig: 'local'};\n",
       "        if (window.MathJax) {MathJax.Hub.Config({SVG: {font: \"STIX-Web\"}});}\n",
       "        if (typeof require !== 'undefined') {\n",
       "        require.undef(\"plotly\");\n",
       "        requirejs.config({\n",
       "            paths: {\n",
       "                'plotly': ['https://cdn.plot.ly/plotly-latest.min']\n",
       "            }\n",
       "        });\n",
       "        require(['plotly'], function(Plotly) {\n",
       "            window._Plotly = Plotly;\n",
       "        });\n",
       "        }\n",
       "        </script>\n",
       "        "
      ]
     },
     "metadata": {},
     "output_type": "display_data"
    }
   ],
   "source": [
    "import numpy as np \n",
    "import pandas as pd \n",
    "\n",
    "from plotly.offline import init_notebook_mode, iplot, plot\n",
    "import plotly as py\n",
    "init_notebook_mode(connected=True)\n",
    "import plotly.graph_objs as go\n",
    "\n",
    "import matplotlib.pyplot as plt"
   ]
  },
  {
   "cell_type": "code",
   "execution_count": 30,
   "metadata": {},
   "outputs": [
    {
     "data": {
      "application/vnd.jupyter.widget-view+json": {
       "model_id": "0c0a7c91d73642dd8202587d12abcf58",
       "version_major": 2,
       "version_minor": 0
      },
      "text/plain": [
       "FigureWidget({\n",
       "    'data': [{'hoverinfo': 'value',\n",
       "              'labels': array(['4분기', '3분기', '2분기', '1분기'],…"
      ]
     },
     "metadata": {},
     "output_type": "display_data"
    }
   ],
   "source": [
    "labels = df1['분기'].value_counts().index\n",
    "values = df1['분기'].value_counts().values\n",
    "\n",
    "colors = ['aliceblue',  'aqua', 'aquamarine', 'darkturquoise']\n",
    "\n",
    "trace = go.Pie(labels=labels, values=values,\n",
    "               hoverinfo='value', textinfo='label+percent', \n",
    "               textfont=dict(size=20),\n",
    "               marker=dict(colors=colors, \n",
    "                           line=dict(color='rgb(100,100,100)', \n",
    "                                     width=1)\n",
    "                          )\n",
    "              )\n",
    "\n",
    "fw=go.FigureWidget(data=[trace])\n",
    "fw.update_layout(margin=dict(t=0, b=0, l=0, r=0))\n",
    "fw"
   ]
  },
  {
   "cell_type": "markdown",
   "metadata": {},
   "source": [
    "#### 1 - 2019년 서울의 아파트 분기별 거래량\n",
    "- 목적 : 어느 분기에 아파트 거래가 많이 발생했는지 파악하기 위함\n",
    "\n",
    "\n",
    "- 결과 : 1분기에서 4분기로 갈수록 거래가 많이 발생하였다.(1분기보다 4분기에 약 4배정도 많은 거래가 일어남)"
   ]
  },
  {
   "cell_type": "markdown",
   "metadata": {},
   "source": [
    "----------------------------------------------------------------------------------------------------------------------------------------------------------"
   ]
  },
  {
   "cell_type": "code",
   "execution_count": 31,
   "metadata": {},
   "outputs": [
    {
     "data": {
      "application/vnd.plotly.v1+json": {
       "config": {
        "linkText": "Export to plot.ly",
        "plotlyServerURL": "https://plot.ly",
        "showLink": false
       },
       "data": [
        {
         "marker": {
          "color": "rgb(12, 12, 140)"
         },
         "name": "1분기",
         "type": "box",
         "x": [
          55866.666666666664,
          50748.958333333336,
          66728.57142857143,
          66216.66666666667,
          65839.28571428571,
          56639.28571428572,
          73434.0579710145,
          74066.66666666667,
          60580.852459016394,
          74521.69491525424,
          66342.24137931035,
          60114.333333333336,
          49627.77777777778,
          51168.51851851852,
          58956.666666666664,
          66735.16176470589,
          65787.30158730158,
          60164.42307692308,
          55520.58823529412,
          70447.05882352941,
          61033.637931034486,
          54857.75862068965,
          52520,
          90290,
          53032.5,
          56752.247191011236,
          64230.769230769234,
          63211.86440677966,
          53093.333333333336,
          54547.32142857143,
          73612.74509803922,
          52355.07246376811,
          58638.88888888889,
          101625,
          38150,
          33250,
          58600,
          72097.14285714286,
          68120.58823529411,
          54571.09756097561,
          59765.625,
          60915.71428571428,
          66905.93220338984,
          50932.53968253968,
          65332.692307692305,
          70604.9696969697,
          59798.958333333336,
          52018.181818181816,
          69285.29032258065,
          60253.454545454544,
          66343.71212121213,
          61425.39682539683,
          77975.86885245901,
          58830.645161290326,
          65826.31578947368,
          70192.02898550725,
          63800,
          62616.12903225807,
          63754.705882352944,
          52351.971830985916,
          58970.149253731346,
          64528.125,
          68084.50704225352,
          62366.666666666664,
          61861.34328358209,
          71065.15151515152,
          76220.45454545454,
          66622.78571428571,
          69732.25806451614,
          61361.971830985916,
          87923.13432835821,
          71205.79104477612,
          78192.98245614035,
          76650,
          65781.75925925926,
          68926.31578947368,
          68161.23595505618,
          64102.61363636364,
          79362.14285714286,
          66931.33333333333,
          73124.73333333334,
          72180,
          66823.5294117647,
          79530.97826086957,
          74915,
          81266.25352112677,
          60824.75490196078,
          80189.50617283951,
          70840,
          76477.27272727272
         ]
        },
        {
         "marker": {
          "color": "#FF851B"
         },
         "name": "2분기",
         "type": "box",
         "x": [
          76712.60606060606,
          60236.36363636364,
          69438.54166666667,
          70138.11881188118,
          75212.27272727272,
          78206.73076923077,
          68898,
          75983.6551724138,
          79155.38043478261,
          68967.52631578948,
          78808.5376344086,
          77895.26315789473,
          71900.99337748345,
          96754.45454545454,
          57604.25654450262,
          75539.36170212766,
          94334.28571428571,
          100636.13333333333,
          79134.15841584158,
          74863.25925925926,
          72348,
          73814.14893617021,
          83330.23148148147,
          76943.57664233577,
          72933.87096774194,
          88087.10743801652,
          82861.39310344828,
          78481.81818181818,
          89040.35087719298,
          92189.34426229508,
          76055.95238095238,
          77914.22764227643,
          92272.07142857143,
          83283.97435897436,
          68270,
          79286.81818181818,
          98819.375,
          79800.88495575222,
          86972.5,
          83145.53459119497,
          83435.42713567839,
          93787.5,
          84367.02127659574,
          92673.62204724409,
          81294.27083333333,
          84503.44827586207,
          89706.4,
          85686.17050691244,
          87634.4827586207,
          88798.29931972788,
          83460.86956521739,
          88383.04964539007,
          83499.00709219858,
          93992.76729559748,
          84691.16465863455,
          117700,
          86835.85365853658,
          85553.29545454546,
          83269.03614457832,
          89780.23255813954,
          92183.28402366865,
          82783.22834645669,
          82932.88461538461,
          80439.42105263157,
          87099.50292397662,
          83530.05882352941,
          86876.8018018018,
          64929.141630901286,
          81634.25925925926,
          77050,
          80608.11881188118,
          81503.4756097561,
          83219.16666666667,
          87411.72670807454,
          74876.42960288809,
          92198.38323353294,
          98199.15254237287,
          95966.13909774437,
          68675.58673469388,
          95140.10344827586,
          98417.59911894273,
          92474.88235294117,
          89199.85138004247,
          98605.40697674418,
          93490.97619047618,
          86997.23793103448,
          89872.21774193548,
          95780.21641791044,
          92589.41379310345,
          84776.47428571428,
          93863.95348837209
         ]
        },
        {
         "marker": {
          "color": "#FF4136"
         },
         "name": "3분기",
         "type": "box",
         "x": [
          88229.64743589744,
          88954.22324159021,
          94918.86496350366,
          79713.02352941176,
          86254.70219435736,
          91159.71537001898,
          85759.02777777778,
          85302.65363128492,
          88500.80459770115,
          89852.68382352941,
          97762.92465753424,
          85850.78301886792,
          85653.24742268042,
          102044.73684210527,
          87106.2786377709,
          86713.56589147287,
          85982.45491803279,
          85283.47906976745,
          84956.63120567377,
          82936.6447368421,
          86571.8085106383,
          81612.18637992832,
          87949.8735632184,
          85928.09187279151,
          86190.06870229008,
          87356.55172413793,
          85083.44031311154,
          81975.25773195876,
          82384.21052631579,
          85849.96742671009,
          85428.0895522388,
          81963.17575757575,
          93424.93788819876,
          85776.15384615384,
          86360.22727272728,
          85065.15151515152,
          86868.52586206897,
          86778.0612244898,
          76701.55660377358,
          78943.16176470589,
          76291.27272727272,
          72216.30434782608,
          79938.00847457627,
          80276.92924528301,
          79468.5628742515,
          73647.2,
          77351.09289617486,
          76368.97770700637,
          97479.59183673469,
          83983.84955752212,
          80438.42105263157,
          77733.41346153847,
          77259.00492610838,
          82091.75115207373,
          80694.46766169154,
          81991.46341463414,
          81201.27615062761,
          78443.84792626728,
          86389.37768240343,
          72976.74107142857,
          78998.29268292683,
          79628.11764705883,
          82366.19718309859,
          77928.48056537102,
          84844.65296803653,
          84176.25,
          83202.80882352941,
          91304.21198156683,
          90467.13136729223,
          86039.32432432432,
          91292.29787234042,
          93878.46666666666,
          89776.37362637362,
          113710.43478260869,
          68216.66666666667,
          101636.36363636363,
          80964,
          82634.68421052632,
          89499.69047619047,
          84015.9604743083,
          89131.68699186992,
          88068.56466876972,
          79135.00604838709,
          94944.63716814159,
          85142.28571428571,
          83544.29325513197,
          92549.325,
          84250.64396284829,
          86351.596875,
          83535.22866344606,
          96012.2641509434,
          81614.25753424657
         ]
        },
        {
         "marker": {
          "color": "#3D9970"
         },
         "name": "4분기",
         "type": "box",
         "x": [
          81850.13455657492,
          89934.56521739131,
          85421.86334056398,
          84286.36411609499,
          86966.38418079096,
          81390.19642857143,
          86490.89523809524,
          90629.32441471572,
          85086.40378006872,
          88143.05035971223,
          84481.18733509234,
          86028.87709497206,
          92962.49285714286,
          84850.95599022004,
          82649.06862745098,
          85536.7634730539,
          80840.02958579881,
          88586.95844155844,
          83181.94196428571,
          85135.0546875,
          80124.91435768262,
          85559.27167630057,
          85566.07142857143,
          90265.8375,
          83869.42349726777,
          82274.34576271186,
          93257.17692307693,
          86278.14245810056,
          80020.77507598784,
          89181.32530120482,
          80569.69444444444,
          84176.97567567567,
          86725.98522167488,
          90052.0325203252,
          86555.41620111732,
          79512.93175853019,
          86752.21726190476,
          81897.17868338557,
          80805.63517060368,
          80343.64012251148,
          79520.17777777778,
          79679.89603960396,
          83538.00539083558,
          87097.6501305483,
          87978.05333333333,
          87192.79842931937,
          81501.96399345335,
          88463.125,
          83910.20942408378,
          84912.76353276354,
          78714.35838150288,
          84555.87412587412,
          78546.709375,
          81164.81365313653,
          82777.84090909091,
          84095.4806451613,
          77280.28990228013,
          83508.13620071685,
          78937.69597069598,
          79262.13178294574,
          77554,
          85604.09090909091,
          77424.05594405594,
          79583.30508474576,
          58519.40849673202,
          77697.44897959183,
          75864.08866995074,
          77408.48901098901,
          74102.30769230769,
          73327.04918032787,
          70571.48514851485,
          80628.60696517413,
          76190.43478260869,
          63430.54924242424,
          77607.74598070739,
          90606.15384615384,
          69851.85185185185,
          57921.08108108108,
          52735,
          60889.895833333336,
          60828.94736842105,
          65745.60283687944,
          78476.92307692308,
          60409.65909090909,
          51674.15254237288,
          61589.47368421053,
          54982.74193548387,
          52491.93548387097,
          62921.83098591549,
          87164.28571428571,
          55821.11111111111,
          54634.09090909091
         ]
        }
       ],
       "layout": {
        "barmode": "group",
        "font": {
         "size": 16
        },
        "template": {
         "data": {
          "bar": [
           {
            "error_x": {
             "color": "#2a3f5f"
            },
            "error_y": {
             "color": "#2a3f5f"
            },
            "marker": {
             "line": {
              "color": "#E5ECF6",
              "width": 0.5
             }
            },
            "type": "bar"
           }
          ],
          "barpolar": [
           {
            "marker": {
             "line": {
              "color": "#E5ECF6",
              "width": 0.5
             }
            },
            "type": "barpolar"
           }
          ],
          "carpet": [
           {
            "aaxis": {
             "endlinecolor": "#2a3f5f",
             "gridcolor": "white",
             "linecolor": "white",
             "minorgridcolor": "white",
             "startlinecolor": "#2a3f5f"
            },
            "baxis": {
             "endlinecolor": "#2a3f5f",
             "gridcolor": "white",
             "linecolor": "white",
             "minorgridcolor": "white",
             "startlinecolor": "#2a3f5f"
            },
            "type": "carpet"
           }
          ],
          "choropleth": [
           {
            "colorbar": {
             "outlinewidth": 0,
             "ticks": ""
            },
            "type": "choropleth"
           }
          ],
          "contour": [
           {
            "colorbar": {
             "outlinewidth": 0,
             "ticks": ""
            },
            "colorscale": [
             [
              0,
              "#0d0887"
             ],
             [
              0.1111111111111111,
              "#46039f"
             ],
             [
              0.2222222222222222,
              "#7201a8"
             ],
             [
              0.3333333333333333,
              "#9c179e"
             ],
             [
              0.4444444444444444,
              "#bd3786"
             ],
             [
              0.5555555555555556,
              "#d8576b"
             ],
             [
              0.6666666666666666,
              "#ed7953"
             ],
             [
              0.7777777777777778,
              "#fb9f3a"
             ],
             [
              0.8888888888888888,
              "#fdca26"
             ],
             [
              1,
              "#f0f921"
             ]
            ],
            "type": "contour"
           }
          ],
          "contourcarpet": [
           {
            "colorbar": {
             "outlinewidth": 0,
             "ticks": ""
            },
            "type": "contourcarpet"
           }
          ],
          "heatmap": [
           {
            "colorbar": {
             "outlinewidth": 0,
             "ticks": ""
            },
            "colorscale": [
             [
              0,
              "#0d0887"
             ],
             [
              0.1111111111111111,
              "#46039f"
             ],
             [
              0.2222222222222222,
              "#7201a8"
             ],
             [
              0.3333333333333333,
              "#9c179e"
             ],
             [
              0.4444444444444444,
              "#bd3786"
             ],
             [
              0.5555555555555556,
              "#d8576b"
             ],
             [
              0.6666666666666666,
              "#ed7953"
             ],
             [
              0.7777777777777778,
              "#fb9f3a"
             ],
             [
              0.8888888888888888,
              "#fdca26"
             ],
             [
              1,
              "#f0f921"
             ]
            ],
            "type": "heatmap"
           }
          ],
          "heatmapgl": [
           {
            "colorbar": {
             "outlinewidth": 0,
             "ticks": ""
            },
            "colorscale": [
             [
              0,
              "#0d0887"
             ],
             [
              0.1111111111111111,
              "#46039f"
             ],
             [
              0.2222222222222222,
              "#7201a8"
             ],
             [
              0.3333333333333333,
              "#9c179e"
             ],
             [
              0.4444444444444444,
              "#bd3786"
             ],
             [
              0.5555555555555556,
              "#d8576b"
             ],
             [
              0.6666666666666666,
              "#ed7953"
             ],
             [
              0.7777777777777778,
              "#fb9f3a"
             ],
             [
              0.8888888888888888,
              "#fdca26"
             ],
             [
              1,
              "#f0f921"
             ]
            ],
            "type": "heatmapgl"
           }
          ],
          "histogram": [
           {
            "marker": {
             "colorbar": {
              "outlinewidth": 0,
              "ticks": ""
             }
            },
            "type": "histogram"
           }
          ],
          "histogram2d": [
           {
            "colorbar": {
             "outlinewidth": 0,
             "ticks": ""
            },
            "colorscale": [
             [
              0,
              "#0d0887"
             ],
             [
              0.1111111111111111,
              "#46039f"
             ],
             [
              0.2222222222222222,
              "#7201a8"
             ],
             [
              0.3333333333333333,
              "#9c179e"
             ],
             [
              0.4444444444444444,
              "#bd3786"
             ],
             [
              0.5555555555555556,
              "#d8576b"
             ],
             [
              0.6666666666666666,
              "#ed7953"
             ],
             [
              0.7777777777777778,
              "#fb9f3a"
             ],
             [
              0.8888888888888888,
              "#fdca26"
             ],
             [
              1,
              "#f0f921"
             ]
            ],
            "type": "histogram2d"
           }
          ],
          "histogram2dcontour": [
           {
            "colorbar": {
             "outlinewidth": 0,
             "ticks": ""
            },
            "colorscale": [
             [
              0,
              "#0d0887"
             ],
             [
              0.1111111111111111,
              "#46039f"
             ],
             [
              0.2222222222222222,
              "#7201a8"
             ],
             [
              0.3333333333333333,
              "#9c179e"
             ],
             [
              0.4444444444444444,
              "#bd3786"
             ],
             [
              0.5555555555555556,
              "#d8576b"
             ],
             [
              0.6666666666666666,
              "#ed7953"
             ],
             [
              0.7777777777777778,
              "#fb9f3a"
             ],
             [
              0.8888888888888888,
              "#fdca26"
             ],
             [
              1,
              "#f0f921"
             ]
            ],
            "type": "histogram2dcontour"
           }
          ],
          "mesh3d": [
           {
            "colorbar": {
             "outlinewidth": 0,
             "ticks": ""
            },
            "type": "mesh3d"
           }
          ],
          "parcoords": [
           {
            "line": {
             "colorbar": {
              "outlinewidth": 0,
              "ticks": ""
             }
            },
            "type": "parcoords"
           }
          ],
          "pie": [
           {
            "automargin": true,
            "type": "pie"
           }
          ],
          "scatter": [
           {
            "marker": {
             "colorbar": {
              "outlinewidth": 0,
              "ticks": ""
             }
            },
            "type": "scatter"
           }
          ],
          "scatter3d": [
           {
            "line": {
             "colorbar": {
              "outlinewidth": 0,
              "ticks": ""
             }
            },
            "marker": {
             "colorbar": {
              "outlinewidth": 0,
              "ticks": ""
             }
            },
            "type": "scatter3d"
           }
          ],
          "scattercarpet": [
           {
            "marker": {
             "colorbar": {
              "outlinewidth": 0,
              "ticks": ""
             }
            },
            "type": "scattercarpet"
           }
          ],
          "scattergeo": [
           {
            "marker": {
             "colorbar": {
              "outlinewidth": 0,
              "ticks": ""
             }
            },
            "type": "scattergeo"
           }
          ],
          "scattergl": [
           {
            "marker": {
             "colorbar": {
              "outlinewidth": 0,
              "ticks": ""
             }
            },
            "type": "scattergl"
           }
          ],
          "scattermapbox": [
           {
            "marker": {
             "colorbar": {
              "outlinewidth": 0,
              "ticks": ""
             }
            },
            "type": "scattermapbox"
           }
          ],
          "scatterpolar": [
           {
            "marker": {
             "colorbar": {
              "outlinewidth": 0,
              "ticks": ""
             }
            },
            "type": "scatterpolar"
           }
          ],
          "scatterpolargl": [
           {
            "marker": {
             "colorbar": {
              "outlinewidth": 0,
              "ticks": ""
             }
            },
            "type": "scatterpolargl"
           }
          ],
          "scatterternary": [
           {
            "marker": {
             "colorbar": {
              "outlinewidth": 0,
              "ticks": ""
             }
            },
            "type": "scatterternary"
           }
          ],
          "surface": [
           {
            "colorbar": {
             "outlinewidth": 0,
             "ticks": ""
            },
            "colorscale": [
             [
              0,
              "#0d0887"
             ],
             [
              0.1111111111111111,
              "#46039f"
             ],
             [
              0.2222222222222222,
              "#7201a8"
             ],
             [
              0.3333333333333333,
              "#9c179e"
             ],
             [
              0.4444444444444444,
              "#bd3786"
             ],
             [
              0.5555555555555556,
              "#d8576b"
             ],
             [
              0.6666666666666666,
              "#ed7953"
             ],
             [
              0.7777777777777778,
              "#fb9f3a"
             ],
             [
              0.8888888888888888,
              "#fdca26"
             ],
             [
              1,
              "#f0f921"
             ]
            ],
            "type": "surface"
           }
          ],
          "table": [
           {
            "cells": {
             "fill": {
              "color": "#EBF0F8"
             },
             "line": {
              "color": "white"
             }
            },
            "header": {
             "fill": {
              "color": "#C8D4E3"
             },
             "line": {
              "color": "white"
             }
            },
            "type": "table"
           }
          ]
         },
         "layout": {
          "annotationdefaults": {
           "arrowcolor": "#2a3f5f",
           "arrowhead": 0,
           "arrowwidth": 1
          },
          "autotypenumbers": "strict",
          "coloraxis": {
           "colorbar": {
            "outlinewidth": 0,
            "ticks": ""
           }
          },
          "colorscale": {
           "diverging": [
            [
             0,
             "#8e0152"
            ],
            [
             0.1,
             "#c51b7d"
            ],
            [
             0.2,
             "#de77ae"
            ],
            [
             0.3,
             "#f1b6da"
            ],
            [
             0.4,
             "#fde0ef"
            ],
            [
             0.5,
             "#f7f7f7"
            ],
            [
             0.6,
             "#e6f5d0"
            ],
            [
             0.7,
             "#b8e186"
            ],
            [
             0.8,
             "#7fbc41"
            ],
            [
             0.9,
             "#4d9221"
            ],
            [
             1,
             "#276419"
            ]
           ],
           "sequential": [
            [
             0,
             "#0d0887"
            ],
            [
             0.1111111111111111,
             "#46039f"
            ],
            [
             0.2222222222222222,
             "#7201a8"
            ],
            [
             0.3333333333333333,
             "#9c179e"
            ],
            [
             0.4444444444444444,
             "#bd3786"
            ],
            [
             0.5555555555555556,
             "#d8576b"
            ],
            [
             0.6666666666666666,
             "#ed7953"
            ],
            [
             0.7777777777777778,
             "#fb9f3a"
            ],
            [
             0.8888888888888888,
             "#fdca26"
            ],
            [
             1,
             "#f0f921"
            ]
           ],
           "sequentialminus": [
            [
             0,
             "#0d0887"
            ],
            [
             0.1111111111111111,
             "#46039f"
            ],
            [
             0.2222222222222222,
             "#7201a8"
            ],
            [
             0.3333333333333333,
             "#9c179e"
            ],
            [
             0.4444444444444444,
             "#bd3786"
            ],
            [
             0.5555555555555556,
             "#d8576b"
            ],
            [
             0.6666666666666666,
             "#ed7953"
            ],
            [
             0.7777777777777778,
             "#fb9f3a"
            ],
            [
             0.8888888888888888,
             "#fdca26"
            ],
            [
             1,
             "#f0f921"
            ]
           ]
          },
          "colorway": [
           "#636efa",
           "#EF553B",
           "#00cc96",
           "#ab63fa",
           "#FFA15A",
           "#19d3f3",
           "#FF6692",
           "#B6E880",
           "#FF97FF",
           "#FECB52"
          ],
          "font": {
           "color": "#2a3f5f"
          },
          "geo": {
           "bgcolor": "white",
           "lakecolor": "white",
           "landcolor": "#E5ECF6",
           "showlakes": true,
           "showland": true,
           "subunitcolor": "white"
          },
          "hoverlabel": {
           "align": "left"
          },
          "hovermode": "closest",
          "mapbox": {
           "style": "light"
          },
          "paper_bgcolor": "white",
          "plot_bgcolor": "#E5ECF6",
          "polar": {
           "angularaxis": {
            "gridcolor": "white",
            "linecolor": "white",
            "ticks": ""
           },
           "bgcolor": "#E5ECF6",
           "radialaxis": {
            "gridcolor": "white",
            "linecolor": "white",
            "ticks": ""
           }
          },
          "scene": {
           "xaxis": {
            "backgroundcolor": "#E5ECF6",
            "gridcolor": "white",
            "gridwidth": 2,
            "linecolor": "white",
            "showbackground": true,
            "ticks": "",
            "zerolinecolor": "white"
           },
           "yaxis": {
            "backgroundcolor": "#E5ECF6",
            "gridcolor": "white",
            "gridwidth": 2,
            "linecolor": "white",
            "showbackground": true,
            "ticks": "",
            "zerolinecolor": "white"
           },
           "zaxis": {
            "backgroundcolor": "#E5ECF6",
            "gridcolor": "white",
            "gridwidth": 2,
            "linecolor": "white",
            "showbackground": true,
            "ticks": "",
            "zerolinecolor": "white"
           }
          },
          "shapedefaults": {
           "line": {
            "color": "#2a3f5f"
           }
          },
          "ternary": {
           "aaxis": {
            "gridcolor": "white",
            "linecolor": "white",
            "ticks": ""
           },
           "baxis": {
            "gridcolor": "white",
            "linecolor": "white",
            "ticks": ""
           },
           "bgcolor": "#E5ECF6",
           "caxis": {
            "gridcolor": "white",
            "linecolor": "white",
            "ticks": ""
           }
          },
          "title": {
           "x": 0.05
          },
          "xaxis": {
           "automargin": true,
           "gridcolor": "white",
           "linecolor": "white",
           "ticks": "",
           "title": {
            "standoff": 15
           },
           "zerolinecolor": "white",
           "zerolinewidth": 2
          },
          "yaxis": {
           "automargin": true,
           "gridcolor": "white",
           "linecolor": "white",
           "ticks": "",
           "title": {
            "standoff": 15
           },
           "zerolinecolor": "white",
           "zerolinewidth": 2
          }
         }
        },
        "title": {
         "text": "분기별 거래금액 분포"
        },
        "xaxis": {
         "title": {
          "text": "거래금액"
         }
        },
        "yaxis": {
         "title": {
          "text": "분기"
         }
        }
       }
      },
      "text/html": [
       "<div>                            <div id=\"da1981f5-ee34-446c-8edb-ea1d346492eb\" class=\"plotly-graph-div\" style=\"height:525px; width:100%;\"></div>            <script type=\"text/javascript\">                require([\"plotly\"], function(Plotly) {                    window.PLOTLYENV=window.PLOTLYENV || {};                                    if (document.getElementById(\"da1981f5-ee34-446c-8edb-ea1d346492eb\")) {                    Plotly.newPlot(                        \"da1981f5-ee34-446c-8edb-ea1d346492eb\",                        [{\"marker\": {\"color\": \"rgb(12, 12, 140)\"}, \"name\": \"1\\ubd84\\uae30\", \"type\": \"box\", \"x\": [55866.666666666664, 50748.958333333336, 66728.57142857143, 66216.66666666667, 65839.28571428571, 56639.28571428572, 73434.0579710145, 74066.66666666667, 60580.852459016394, 74521.69491525424, 66342.24137931035, 60114.333333333336, 49627.77777777778, 51168.51851851852, 58956.666666666664, 66735.16176470589, 65787.30158730158, 60164.42307692308, 55520.58823529412, 70447.05882352941, 61033.637931034486, 54857.75862068965, 52520.0, 90290.0, 53032.5, 56752.247191011236, 64230.769230769234, 63211.86440677966, 53093.333333333336, 54547.32142857143, 73612.74509803922, 52355.07246376811, 58638.88888888889, 101625.0, 38150.0, 33250.0, 58600.0, 72097.14285714286, 68120.58823529411, 54571.09756097561, 59765.625, 60915.71428571428, 66905.93220338984, 50932.53968253968, 65332.692307692305, 70604.9696969697, 59798.958333333336, 52018.181818181816, 69285.29032258065, 60253.454545454544, 66343.71212121213, 61425.39682539683, 77975.86885245901, 58830.645161290326, 65826.31578947368, 70192.02898550725, 63800.0, 62616.12903225807, 63754.705882352944, 52351.971830985916, 58970.149253731346, 64528.125, 68084.50704225352, 62366.666666666664, 61861.34328358209, 71065.15151515152, 76220.45454545454, 66622.78571428571, 69732.25806451614, 61361.971830985916, 87923.13432835821, 71205.79104477612, 78192.98245614035, 76650.0, 65781.75925925926, 68926.31578947368, 68161.23595505618, 64102.61363636364, 79362.14285714286, 66931.33333333333, 73124.73333333334, 72180.0, 66823.5294117647, 79530.97826086957, 74915.0, 81266.25352112677, 60824.75490196078, 80189.50617283951, 70840.0, 76477.27272727272]}, {\"marker\": {\"color\": \"#FF851B\"}, \"name\": \"2\\ubd84\\uae30\", \"type\": \"box\", \"x\": [76712.60606060606, 60236.36363636364, 69438.54166666667, 70138.11881188118, 75212.27272727272, 78206.73076923077, 68898.0, 75983.6551724138, 79155.38043478261, 68967.52631578948, 78808.5376344086, 77895.26315789473, 71900.99337748345, 96754.45454545454, 57604.25654450262, 75539.36170212766, 94334.28571428571, 100636.13333333333, 79134.15841584158, 74863.25925925926, 72348.0, 73814.14893617021, 83330.23148148147, 76943.57664233577, 72933.87096774194, 88087.10743801652, 82861.39310344828, 78481.81818181818, 89040.35087719298, 92189.34426229508, 76055.95238095238, 77914.22764227643, 92272.07142857143, 83283.97435897436, 68270.0, 79286.81818181818, 98819.375, 79800.88495575222, 86972.5, 83145.53459119497, 83435.42713567839, 93787.5, 84367.02127659574, 92673.62204724409, 81294.27083333333, 84503.44827586207, 89706.4, 85686.17050691244, 87634.4827586207, 88798.29931972788, 83460.86956521739, 88383.04964539007, 83499.00709219858, 93992.76729559748, 84691.16465863455, 117700.0, 86835.85365853658, 85553.29545454546, 83269.03614457832, 89780.23255813954, 92183.28402366865, 82783.22834645669, 82932.88461538461, 80439.42105263157, 87099.50292397662, 83530.05882352941, 86876.8018018018, 64929.141630901286, 81634.25925925926, 77050.0, 80608.11881188118, 81503.4756097561, 83219.16666666667, 87411.72670807454, 74876.42960288809, 92198.38323353294, 98199.15254237287, 95966.13909774437, 68675.58673469388, 95140.10344827586, 98417.59911894273, 92474.88235294117, 89199.85138004247, 98605.40697674418, 93490.97619047618, 86997.23793103448, 89872.21774193548, 95780.21641791044, 92589.41379310345, 84776.47428571428, 93863.95348837209]}, {\"marker\": {\"color\": \"#FF4136\"}, \"name\": \"3\\ubd84\\uae30\", \"type\": \"box\", \"x\": [88229.64743589744, 88954.22324159021, 94918.86496350366, 79713.02352941176, 86254.70219435736, 91159.71537001898, 85759.02777777778, 85302.65363128492, 88500.80459770115, 89852.68382352941, 97762.92465753424, 85850.78301886792, 85653.24742268042, 102044.73684210527, 87106.2786377709, 86713.56589147287, 85982.45491803279, 85283.47906976745, 84956.63120567377, 82936.6447368421, 86571.8085106383, 81612.18637992832, 87949.8735632184, 85928.09187279151, 86190.06870229008, 87356.55172413793, 85083.44031311154, 81975.25773195876, 82384.21052631579, 85849.96742671009, 85428.0895522388, 81963.17575757575, 93424.93788819876, 85776.15384615384, 86360.22727272728, 85065.15151515152, 86868.52586206897, 86778.0612244898, 76701.55660377358, 78943.16176470589, 76291.27272727272, 72216.30434782608, 79938.00847457627, 80276.92924528301, 79468.5628742515, 73647.2, 77351.09289617486, 76368.97770700637, 97479.59183673469, 83983.84955752212, 80438.42105263157, 77733.41346153847, 77259.00492610838, 82091.75115207373, 80694.46766169154, 81991.46341463414, 81201.27615062761, 78443.84792626728, 86389.37768240343, 72976.74107142857, 78998.29268292683, 79628.11764705883, 82366.19718309859, 77928.48056537102, 84844.65296803653, 84176.25, 83202.80882352941, 91304.21198156683, 90467.13136729223, 86039.32432432432, 91292.29787234042, 93878.46666666666, 89776.37362637362, 113710.43478260869, 68216.66666666667, 101636.36363636363, 80964.0, 82634.68421052632, 89499.69047619047, 84015.9604743083, 89131.68699186992, 88068.56466876972, 79135.00604838709, 94944.63716814159, 85142.28571428571, 83544.29325513197, 92549.325, 84250.64396284829, 86351.596875, 83535.22866344606, 96012.2641509434, 81614.25753424657]}, {\"marker\": {\"color\": \"#3D9970\"}, \"name\": \"4\\ubd84\\uae30\", \"type\": \"box\", \"x\": [81850.13455657492, 89934.56521739131, 85421.86334056398, 84286.36411609499, 86966.38418079096, 81390.19642857143, 86490.89523809524, 90629.32441471572, 85086.40378006872, 88143.05035971223, 84481.18733509234, 86028.87709497206, 92962.49285714286, 84850.95599022004, 82649.06862745098, 85536.7634730539, 80840.02958579881, 88586.95844155844, 83181.94196428571, 85135.0546875, 80124.91435768262, 85559.27167630057, 85566.07142857143, 90265.8375, 83869.42349726777, 82274.34576271186, 93257.17692307693, 86278.14245810056, 80020.77507598784, 89181.32530120482, 80569.69444444444, 84176.97567567567, 86725.98522167488, 90052.0325203252, 86555.41620111732, 79512.93175853019, 86752.21726190476, 81897.17868338557, 80805.63517060368, 80343.64012251148, 79520.17777777778, 79679.89603960396, 83538.00539083558, 87097.6501305483, 87978.05333333333, 87192.79842931937, 81501.96399345335, 88463.125, 83910.20942408378, 84912.76353276354, 78714.35838150288, 84555.87412587412, 78546.709375, 81164.81365313653, 82777.84090909091, 84095.4806451613, 77280.28990228013, 83508.13620071685, 78937.69597069598, 79262.13178294574, 77554.0, 85604.09090909091, 77424.05594405594, 79583.30508474576, 58519.40849673202, 77697.44897959183, 75864.08866995074, 77408.48901098901, 74102.30769230769, 73327.04918032787, 70571.48514851485, 80628.60696517413, 76190.43478260869, 63430.54924242424, 77607.74598070739, 90606.15384615384, 69851.85185185185, 57921.08108108108, 52735.0, 60889.895833333336, 60828.94736842105, 65745.60283687944, 78476.92307692308, 60409.65909090909, 51674.15254237288, 61589.47368421053, 54982.74193548387, 52491.93548387097, 62921.83098591549, 87164.28571428571, 55821.11111111111, 54634.09090909091]}],                        {\"barmode\": \"group\", \"font\": {\"size\": 16}, \"template\": {\"data\": {\"bar\": [{\"error_x\": {\"color\": \"#2a3f5f\"}, \"error_y\": {\"color\": \"#2a3f5f\"}, \"marker\": {\"line\": {\"color\": \"#E5ECF6\", \"width\": 0.5}}, \"type\": \"bar\"}], \"barpolar\": [{\"marker\": {\"line\": {\"color\": \"#E5ECF6\", \"width\": 0.5}}, \"type\": \"barpolar\"}], \"carpet\": [{\"aaxis\": {\"endlinecolor\": \"#2a3f5f\", \"gridcolor\": \"white\", \"linecolor\": \"white\", \"minorgridcolor\": \"white\", \"startlinecolor\": \"#2a3f5f\"}, \"baxis\": {\"endlinecolor\": \"#2a3f5f\", \"gridcolor\": \"white\", \"linecolor\": \"white\", \"minorgridcolor\": \"white\", \"startlinecolor\": \"#2a3f5f\"}, \"type\": \"carpet\"}], \"choropleth\": [{\"colorbar\": {\"outlinewidth\": 0, \"ticks\": \"\"}, \"type\": \"choropleth\"}], \"contour\": [{\"colorbar\": {\"outlinewidth\": 0, \"ticks\": \"\"}, \"colorscale\": [[0.0, \"#0d0887\"], [0.1111111111111111, \"#46039f\"], [0.2222222222222222, \"#7201a8\"], [0.3333333333333333, \"#9c179e\"], [0.4444444444444444, \"#bd3786\"], [0.5555555555555556, \"#d8576b\"], [0.6666666666666666, \"#ed7953\"], [0.7777777777777778, \"#fb9f3a\"], [0.8888888888888888, \"#fdca26\"], [1.0, \"#f0f921\"]], \"type\": \"contour\"}], \"contourcarpet\": [{\"colorbar\": {\"outlinewidth\": 0, \"ticks\": \"\"}, \"type\": \"contourcarpet\"}], \"heatmap\": [{\"colorbar\": {\"outlinewidth\": 0, \"ticks\": \"\"}, \"colorscale\": [[0.0, \"#0d0887\"], [0.1111111111111111, \"#46039f\"], [0.2222222222222222, \"#7201a8\"], [0.3333333333333333, \"#9c179e\"], [0.4444444444444444, \"#bd3786\"], [0.5555555555555556, \"#d8576b\"], [0.6666666666666666, \"#ed7953\"], [0.7777777777777778, \"#fb9f3a\"], [0.8888888888888888, \"#fdca26\"], [1.0, \"#f0f921\"]], \"type\": \"heatmap\"}], \"heatmapgl\": [{\"colorbar\": {\"outlinewidth\": 0, \"ticks\": \"\"}, \"colorscale\": [[0.0, \"#0d0887\"], [0.1111111111111111, \"#46039f\"], [0.2222222222222222, \"#7201a8\"], [0.3333333333333333, \"#9c179e\"], [0.4444444444444444, \"#bd3786\"], [0.5555555555555556, \"#d8576b\"], [0.6666666666666666, \"#ed7953\"], [0.7777777777777778, \"#fb9f3a\"], [0.8888888888888888, \"#fdca26\"], [1.0, \"#f0f921\"]], \"type\": \"heatmapgl\"}], \"histogram\": [{\"marker\": {\"colorbar\": {\"outlinewidth\": 0, \"ticks\": \"\"}}, \"type\": \"histogram\"}], \"histogram2d\": [{\"colorbar\": {\"outlinewidth\": 0, \"ticks\": \"\"}, \"colorscale\": [[0.0, \"#0d0887\"], [0.1111111111111111, \"#46039f\"], [0.2222222222222222, \"#7201a8\"], [0.3333333333333333, \"#9c179e\"], [0.4444444444444444, \"#bd3786\"], [0.5555555555555556, \"#d8576b\"], [0.6666666666666666, \"#ed7953\"], [0.7777777777777778, \"#fb9f3a\"], [0.8888888888888888, \"#fdca26\"], [1.0, \"#f0f921\"]], \"type\": \"histogram2d\"}], \"histogram2dcontour\": [{\"colorbar\": {\"outlinewidth\": 0, \"ticks\": \"\"}, \"colorscale\": [[0.0, \"#0d0887\"], [0.1111111111111111, \"#46039f\"], [0.2222222222222222, \"#7201a8\"], [0.3333333333333333, \"#9c179e\"], [0.4444444444444444, \"#bd3786\"], [0.5555555555555556, \"#d8576b\"], [0.6666666666666666, \"#ed7953\"], [0.7777777777777778, \"#fb9f3a\"], [0.8888888888888888, \"#fdca26\"], [1.0, \"#f0f921\"]], \"type\": \"histogram2dcontour\"}], \"mesh3d\": [{\"colorbar\": {\"outlinewidth\": 0, \"ticks\": \"\"}, \"type\": \"mesh3d\"}], \"parcoords\": [{\"line\": {\"colorbar\": {\"outlinewidth\": 0, \"ticks\": \"\"}}, \"type\": \"parcoords\"}], \"pie\": [{\"automargin\": true, \"type\": \"pie\"}], \"scatter\": [{\"marker\": {\"colorbar\": {\"outlinewidth\": 0, \"ticks\": \"\"}}, \"type\": \"scatter\"}], \"scatter3d\": [{\"line\": {\"colorbar\": {\"outlinewidth\": 0, \"ticks\": \"\"}}, \"marker\": {\"colorbar\": {\"outlinewidth\": 0, \"ticks\": \"\"}}, \"type\": \"scatter3d\"}], \"scattercarpet\": [{\"marker\": {\"colorbar\": {\"outlinewidth\": 0, \"ticks\": \"\"}}, \"type\": \"scattercarpet\"}], \"scattergeo\": [{\"marker\": {\"colorbar\": {\"outlinewidth\": 0, \"ticks\": \"\"}}, \"type\": \"scattergeo\"}], \"scattergl\": [{\"marker\": {\"colorbar\": {\"outlinewidth\": 0, \"ticks\": \"\"}}, \"type\": \"scattergl\"}], \"scattermapbox\": [{\"marker\": {\"colorbar\": {\"outlinewidth\": 0, \"ticks\": \"\"}}, \"type\": \"scattermapbox\"}], \"scatterpolar\": [{\"marker\": {\"colorbar\": {\"outlinewidth\": 0, \"ticks\": \"\"}}, \"type\": \"scatterpolar\"}], \"scatterpolargl\": [{\"marker\": {\"colorbar\": {\"outlinewidth\": 0, \"ticks\": \"\"}}, \"type\": \"scatterpolargl\"}], \"scatterternary\": [{\"marker\": {\"colorbar\": {\"outlinewidth\": 0, \"ticks\": \"\"}}, \"type\": \"scatterternary\"}], \"surface\": [{\"colorbar\": {\"outlinewidth\": 0, \"ticks\": \"\"}, \"colorscale\": [[0.0, \"#0d0887\"], [0.1111111111111111, \"#46039f\"], [0.2222222222222222, \"#7201a8\"], [0.3333333333333333, \"#9c179e\"], [0.4444444444444444, \"#bd3786\"], [0.5555555555555556, \"#d8576b\"], [0.6666666666666666, \"#ed7953\"], [0.7777777777777778, \"#fb9f3a\"], [0.8888888888888888, \"#fdca26\"], [1.0, \"#f0f921\"]], \"type\": \"surface\"}], \"table\": [{\"cells\": {\"fill\": {\"color\": \"#EBF0F8\"}, \"line\": {\"color\": \"white\"}}, \"header\": {\"fill\": {\"color\": \"#C8D4E3\"}, \"line\": {\"color\": \"white\"}}, \"type\": \"table\"}]}, \"layout\": {\"annotationdefaults\": {\"arrowcolor\": \"#2a3f5f\", \"arrowhead\": 0, \"arrowwidth\": 1}, \"autotypenumbers\": \"strict\", \"coloraxis\": {\"colorbar\": {\"outlinewidth\": 0, \"ticks\": \"\"}}, \"colorscale\": {\"diverging\": [[0, \"#8e0152\"], [0.1, \"#c51b7d\"], [0.2, \"#de77ae\"], [0.3, \"#f1b6da\"], [0.4, \"#fde0ef\"], [0.5, \"#f7f7f7\"], [0.6, \"#e6f5d0\"], [0.7, \"#b8e186\"], [0.8, \"#7fbc41\"], [0.9, \"#4d9221\"], [1, \"#276419\"]], \"sequential\": [[0.0, \"#0d0887\"], [0.1111111111111111, \"#46039f\"], [0.2222222222222222, \"#7201a8\"], [0.3333333333333333, \"#9c179e\"], [0.4444444444444444, \"#bd3786\"], [0.5555555555555556, \"#d8576b\"], [0.6666666666666666, \"#ed7953\"], [0.7777777777777778, \"#fb9f3a\"], [0.8888888888888888, \"#fdca26\"], [1.0, \"#f0f921\"]], \"sequentialminus\": [[0.0, \"#0d0887\"], [0.1111111111111111, \"#46039f\"], [0.2222222222222222, \"#7201a8\"], [0.3333333333333333, \"#9c179e\"], [0.4444444444444444, \"#bd3786\"], [0.5555555555555556, \"#d8576b\"], [0.6666666666666666, \"#ed7953\"], [0.7777777777777778, \"#fb9f3a\"], [0.8888888888888888, \"#fdca26\"], [1.0, \"#f0f921\"]]}, \"colorway\": [\"#636efa\", \"#EF553B\", \"#00cc96\", \"#ab63fa\", \"#FFA15A\", \"#19d3f3\", \"#FF6692\", \"#B6E880\", \"#FF97FF\", \"#FECB52\"], \"font\": {\"color\": \"#2a3f5f\"}, \"geo\": {\"bgcolor\": \"white\", \"lakecolor\": \"white\", \"landcolor\": \"#E5ECF6\", \"showlakes\": true, \"showland\": true, \"subunitcolor\": \"white\"}, \"hoverlabel\": {\"align\": \"left\"}, \"hovermode\": \"closest\", \"mapbox\": {\"style\": \"light\"}, \"paper_bgcolor\": \"white\", \"plot_bgcolor\": \"#E5ECF6\", \"polar\": {\"angularaxis\": {\"gridcolor\": \"white\", \"linecolor\": \"white\", \"ticks\": \"\"}, \"bgcolor\": \"#E5ECF6\", \"radialaxis\": {\"gridcolor\": \"white\", \"linecolor\": \"white\", \"ticks\": \"\"}}, \"scene\": {\"xaxis\": {\"backgroundcolor\": \"#E5ECF6\", \"gridcolor\": \"white\", \"gridwidth\": 2, \"linecolor\": \"white\", \"showbackground\": true, \"ticks\": \"\", \"zerolinecolor\": \"white\"}, \"yaxis\": {\"backgroundcolor\": \"#E5ECF6\", \"gridcolor\": \"white\", \"gridwidth\": 2, \"linecolor\": \"white\", \"showbackground\": true, \"ticks\": \"\", \"zerolinecolor\": \"white\"}, \"zaxis\": {\"backgroundcolor\": \"#E5ECF6\", \"gridcolor\": \"white\", \"gridwidth\": 2, \"linecolor\": \"white\", \"showbackground\": true, \"ticks\": \"\", \"zerolinecolor\": \"white\"}}, \"shapedefaults\": {\"line\": {\"color\": \"#2a3f5f\"}}, \"ternary\": {\"aaxis\": {\"gridcolor\": \"white\", \"linecolor\": \"white\", \"ticks\": \"\"}, \"baxis\": {\"gridcolor\": \"white\", \"linecolor\": \"white\", \"ticks\": \"\"}, \"bgcolor\": \"#E5ECF6\", \"caxis\": {\"gridcolor\": \"white\", \"linecolor\": \"white\", \"ticks\": \"\"}}, \"title\": {\"x\": 0.05}, \"xaxis\": {\"automargin\": true, \"gridcolor\": \"white\", \"linecolor\": \"white\", \"ticks\": \"\", \"title\": {\"standoff\": 15}, \"zerolinecolor\": \"white\", \"zerolinewidth\": 2}, \"yaxis\": {\"automargin\": true, \"gridcolor\": \"white\", \"linecolor\": \"white\", \"ticks\": \"\", \"title\": {\"standoff\": 15}, \"zerolinecolor\": \"white\", \"zerolinewidth\": 2}}}, \"title\": {\"text\": \"\\ubd84\\uae30\\ubcc4 \\uac70\\ub798\\uae08\\uc561 \\ubd84\\ud3ec\"}, \"xaxis\": {\"title\": {\"text\": \"\\uac70\\ub798\\uae08\\uc561\"}}, \"yaxis\": {\"title\": {\"text\": \"\\ubd84\\uae30\"}}},                        {\"responsive\": true}                    ).then(function(){\n",
       "                            \n",
       "var gd = document.getElementById('da1981f5-ee34-446c-8edb-ea1d346492eb');\n",
       "var x = new MutationObserver(function (mutations, observer) {{\n",
       "        var display = window.getComputedStyle(gd).display;\n",
       "        if (!display || display === 'none') {{\n",
       "            console.log([gd, 'removed!']);\n",
       "            Plotly.purge(gd);\n",
       "            observer.disconnect();\n",
       "        }}\n",
       "}});\n",
       "\n",
       "// Listen for the removal of the full notebook cells\n",
       "var notebookContainer = gd.closest('#notebook-container');\n",
       "if (notebookContainer) {{\n",
       "    x.observe(notebookContainer, {childList: true});\n",
       "}}\n",
       "\n",
       "// Listen for the clearing of the current output cell\n",
       "var outputEl = gd.closest('.output');\n",
       "if (outputEl) {{\n",
       "    x.observe(outputEl, {childList: true});\n",
       "}}\n",
       "\n",
       "                        })                };                });            </script>        </div>"
      ]
     },
     "metadata": {},
     "output_type": "display_data"
    }
   ],
   "source": [
    "# data preparation\n",
    "date = df1.groupby('기간')[['거래금액']].agg('mean').reset_index()\n",
    "a = date[date['기간'] <'2019-04']\n",
    "b = date[(date['기간'] >='2019-04') & (date['기간'] <'2019-07')]\n",
    "c = date[(date['기간'] >='2019-07') & (date['기간'] <'2019-10')]\n",
    "d = date[(date['기간'] >='2019-10') & (date['기간'] <='2019-12-31')]\n",
    "\n",
    "a['분기'] = '1분기'\n",
    "b['분기'] = '2분기'\n",
    "c['분기'] = '3분기'\n",
    "d['분기'] = '4분기'\n",
    "\n",
    "trace0 = go.Box(\n",
    "    x=a['거래금액'],\n",
    "    name = '1분기',\n",
    "    marker = dict(\n",
    "    color = 'rgb(12, 12, 140)',\n",
    "    )\n",
    ")\n",
    "trace1 = go.Box(\n",
    "    x=b['거래금액'],\n",
    "    name = '2분기',\n",
    "    marker = dict(\n",
    "    color = '#FF851B',\n",
    "    )\n",
    ")\n",
    "\n",
    "trace2 = go.Box(\n",
    "    x=c['거래금액'],\n",
    "    name = '3분기',\n",
    "    marker = dict(\n",
    "        color = '#FF4136',\n",
    "    )\n",
    ")\n",
    "trace3 = go.Box(\n",
    "    x=d['거래금액'],\n",
    "    name = '4분기',\n",
    "    marker = dict(\n",
    "        color = '#3D9970',\n",
    "    )\n",
    ")\n",
    "\n",
    "layout = go.Layout(barmode='group',\n",
    "                   title='분기별 거래금액 분포',\n",
    "                   xaxis=dict(title='거래금액'),\n",
    "                   yaxis=dict( title='분기'),\n",
    "                   font=dict(size=16),\n",
    "                   \n",
    "                  )\n",
    "\n",
    "data = [trace0, trace1,trace2, trace3]\n",
    "fig = go.Figure(data = data, layout = layout)\n",
    "iplot(fig)"
   ]
  },
  {
   "cell_type": "markdown",
   "metadata": {},
   "source": [
    "#### 2 - 2019년 분기별 서울 아파트 거래금액 분포\n",
    "- 목적 : 분기별의 거래가격 분포의 차이를 확인하기 위함\n",
    "\n",
    "\n",
    "- 결과 : 1번 차트에서 1분기에서 2분기로 가면서 거래량도 많이 증가했지만 위의 차트에서 보니 거래금액도 2분기로 가면서 갑자기 높아졌다.\n",
    "\n",
    "\n",
    "- 의문점 : 거래가격과 거래량이 동시에 급증한다?"
   ]
  },
  {
   "cell_type": "markdown",
   "metadata": {},
   "source": [
    "----------------------------------------------------------------------------------------------------------------------------------------------------------"
   ]
  },
  {
   "cell_type": "code",
   "execution_count": 32,
   "metadata": {
    "scrolled": false
   },
   "outputs": [
    {
     "data": {
      "application/vnd.plotly.v1+json": {
       "config": {
        "linkText": "Export to plot.ly",
        "plotlyServerURL": "https://plot.ly",
        "showLink": false
       },
       "data": [
        {
         "marker": {
          "color": "steelblue",
          "line": {
           "color": "rgb(0,0,0)",
           "width": 0.5
          }
         },
         "name": "1분기",
         "text": "1분기",
         "type": "bar",
         "x": [
          "강남구",
          "서초구",
          "용산구",
          "송파구",
          "마포구",
          "성동구",
          "강동구",
          "영등포구",
          "광진구",
          "중구",
          "종로구",
          "동작구",
          "양천구",
          "동대문구",
          "서대문구",
          "강서구",
          "관악구",
          "성북구",
          "은평구",
          "노원구",
          "중랑구",
          "구로구",
          "강북구",
          "금천구",
          "도봉구"
         ],
         "y": [
          5952.751824817518,
          5094.084415584415,
          4859.183486238532,
          4716.809248554913,
          3908.276073619632,
          3741.4297520661157,
          3239.6186770428017,
          3149.3350515463917,
          3067.7631578947367,
          3049,
          2992.5072463768115,
          2964.590163934426,
          2894.417808219178,
          2661.133079847909,
          2558.7276995305165,
          2551.0258302583024,
          2368.346341463415,
          2302.4157303370785,
          2230.2027027027025,
          2157.8003875968993,
          2013.84,
          2013.0555555555557,
          1989.7723577235772,
          1821.5549132947976,
          1814.928338762215
         ]
        },
        {
         "marker": {
          "color": "tan",
          "line": {
           "color": "rgb(0,0,0)",
           "width": 0.5
          }
         },
         "name": "2분기",
         "text": "2분기",
         "type": "bar",
         "x": [
          "강남구",
          "서초구",
          "용산구",
          "송파구",
          "마포구",
          "성동구",
          "강동구",
          "영등포구",
          "광진구",
          "중구",
          "종로구",
          "동작구",
          "양천구",
          "동대문구",
          "서대문구",
          "강서구",
          "관악구",
          "성북구",
          "은평구",
          "노원구",
          "중랑구",
          "구로구",
          "강북구",
          "금천구",
          "도봉구"
         ],
         "y": [
          6817.048013245033,
          5857.270524899058,
          4972.023391812865,
          4829.59723183391,
          3984.9755102040817,
          4019.102119460501,
          3319.357452966715,
          3737.149051490515,
          3519.212121212121,
          3284.0224719101125,
          3142.5378151260506,
          3463.5102974828374,
          3656.7915151515153,
          2764.817073170732,
          2888.7342995169083,
          2700.5396578538102,
          2437,
          2426.513307984791,
          2241.6,
          2324.975468975469,
          2105.306701030928,
          2194.096308186196,
          2042.4357798165138,
          2056.231046931408,
          1927.4383802816901
         ]
        },
        {
         "marker": {
          "color": "teal",
          "line": {
           "color": "rgb(0,0,0)",
           "width": 0.5
          }
         },
         "name": "3분기",
         "text": "3분기",
         "type": "bar",
         "x": [
          "강남구",
          "서초구",
          "용산구",
          "송파구",
          "마포구",
          "성동구",
          "강동구",
          "영등포구",
          "광진구",
          "중구",
          "종로구",
          "동작구",
          "양천구",
          "동대문구",
          "서대문구",
          "강서구",
          "관악구",
          "성북구",
          "은평구",
          "노원구",
          "중랑구",
          "구로구",
          "강북구",
          "금천구",
          "도봉구"
         ],
         "y": [
          7112.447058823529,
          5966.622516556291,
          4981.596881959911,
          4853.750994883457,
          4110.531631520533,
          4196.727921498662,
          3448.198127925117,
          3464.53734671126,
          3733.0124113475176,
          3488.3463035019454,
          3766.1833333333334,
          3603.6186335403727,
          3424.768732654949,
          2910.5839598997495,
          3262.7939393939396,
          2870.5424575424577,
          2594.378164556962,
          2610.039301310044,
          2458.263399693721,
          2335.3557237464524,
          2165.285714285714,
          2427.345323741007,
          2145.3949367088608,
          2183.3298097251586,
          2010.234355828221
         ]
        },
        {
         "marker": {
          "color": "khaki",
          "line": {
           "color": "rgb(0,0,0)",
           "width": 0.5
          }
         },
         "name": "4분기",
         "text": "4분기",
         "type": "bar",
         "x": [
          "강남구",
          "서초구",
          "용산구",
          "송파구",
          "마포구",
          "성동구",
          "강동구",
          "영등포구",
          "광진구",
          "중구",
          "종로구",
          "동작구",
          "양천구",
          "동대문구",
          "서대문구",
          "강서구",
          "관악구",
          "성북구",
          "은평구",
          "노원구",
          "중랑구",
          "구로구",
          "강북구",
          "금천구",
          "도봉구"
         ],
         "y": [
          7116.464714714714,
          6030.740181268882,
          4955.466527196652,
          4955.69756097561,
          4289.505607476635,
          4319.000814995925,
          3462.327763496144,
          3573.197507190796,
          3953.2413793103447,
          3654.384236453202,
          3506.5270935960593,
          3744.597918637654,
          3578.262931034483,
          2916.7824831568814,
          3269.878787878788,
          3027.2578125,
          2665.6447831184055,
          2667.910222804718,
          2610.892601431981,
          2514.9572293716883,
          2425.9192771084336,
          2540.333808844508,
          2322.9166666666665,
          2164.023575638507,
          2095.201550387597
         ]
        }
       ],
       "layout": {
        "barmode": "group",
        "font": {
         "size": 16
        },
        "template": {
         "data": {
          "bar": [
           {
            "error_x": {
             "color": "#2a3f5f"
            },
            "error_y": {
             "color": "#2a3f5f"
            },
            "marker": {
             "line": {
              "color": "#E5ECF6",
              "width": 0.5
             }
            },
            "type": "bar"
           }
          ],
          "barpolar": [
           {
            "marker": {
             "line": {
              "color": "#E5ECF6",
              "width": 0.5
             }
            },
            "type": "barpolar"
           }
          ],
          "carpet": [
           {
            "aaxis": {
             "endlinecolor": "#2a3f5f",
             "gridcolor": "white",
             "linecolor": "white",
             "minorgridcolor": "white",
             "startlinecolor": "#2a3f5f"
            },
            "baxis": {
             "endlinecolor": "#2a3f5f",
             "gridcolor": "white",
             "linecolor": "white",
             "minorgridcolor": "white",
             "startlinecolor": "#2a3f5f"
            },
            "type": "carpet"
           }
          ],
          "choropleth": [
           {
            "colorbar": {
             "outlinewidth": 0,
             "ticks": ""
            },
            "type": "choropleth"
           }
          ],
          "contour": [
           {
            "colorbar": {
             "outlinewidth": 0,
             "ticks": ""
            },
            "colorscale": [
             [
              0,
              "#0d0887"
             ],
             [
              0.1111111111111111,
              "#46039f"
             ],
             [
              0.2222222222222222,
              "#7201a8"
             ],
             [
              0.3333333333333333,
              "#9c179e"
             ],
             [
              0.4444444444444444,
              "#bd3786"
             ],
             [
              0.5555555555555556,
              "#d8576b"
             ],
             [
              0.6666666666666666,
              "#ed7953"
             ],
             [
              0.7777777777777778,
              "#fb9f3a"
             ],
             [
              0.8888888888888888,
              "#fdca26"
             ],
             [
              1,
              "#f0f921"
             ]
            ],
            "type": "contour"
           }
          ],
          "contourcarpet": [
           {
            "colorbar": {
             "outlinewidth": 0,
             "ticks": ""
            },
            "type": "contourcarpet"
           }
          ],
          "heatmap": [
           {
            "colorbar": {
             "outlinewidth": 0,
             "ticks": ""
            },
            "colorscale": [
             [
              0,
              "#0d0887"
             ],
             [
              0.1111111111111111,
              "#46039f"
             ],
             [
              0.2222222222222222,
              "#7201a8"
             ],
             [
              0.3333333333333333,
              "#9c179e"
             ],
             [
              0.4444444444444444,
              "#bd3786"
             ],
             [
              0.5555555555555556,
              "#d8576b"
             ],
             [
              0.6666666666666666,
              "#ed7953"
             ],
             [
              0.7777777777777778,
              "#fb9f3a"
             ],
             [
              0.8888888888888888,
              "#fdca26"
             ],
             [
              1,
              "#f0f921"
             ]
            ],
            "type": "heatmap"
           }
          ],
          "heatmapgl": [
           {
            "colorbar": {
             "outlinewidth": 0,
             "ticks": ""
            },
            "colorscale": [
             [
              0,
              "#0d0887"
             ],
             [
              0.1111111111111111,
              "#46039f"
             ],
             [
              0.2222222222222222,
              "#7201a8"
             ],
             [
              0.3333333333333333,
              "#9c179e"
             ],
             [
              0.4444444444444444,
              "#bd3786"
             ],
             [
              0.5555555555555556,
              "#d8576b"
             ],
             [
              0.6666666666666666,
              "#ed7953"
             ],
             [
              0.7777777777777778,
              "#fb9f3a"
             ],
             [
              0.8888888888888888,
              "#fdca26"
             ],
             [
              1,
              "#f0f921"
             ]
            ],
            "type": "heatmapgl"
           }
          ],
          "histogram": [
           {
            "marker": {
             "colorbar": {
              "outlinewidth": 0,
              "ticks": ""
             }
            },
            "type": "histogram"
           }
          ],
          "histogram2d": [
           {
            "colorbar": {
             "outlinewidth": 0,
             "ticks": ""
            },
            "colorscale": [
             [
              0,
              "#0d0887"
             ],
             [
              0.1111111111111111,
              "#46039f"
             ],
             [
              0.2222222222222222,
              "#7201a8"
             ],
             [
              0.3333333333333333,
              "#9c179e"
             ],
             [
              0.4444444444444444,
              "#bd3786"
             ],
             [
              0.5555555555555556,
              "#d8576b"
             ],
             [
              0.6666666666666666,
              "#ed7953"
             ],
             [
              0.7777777777777778,
              "#fb9f3a"
             ],
             [
              0.8888888888888888,
              "#fdca26"
             ],
             [
              1,
              "#f0f921"
             ]
            ],
            "type": "histogram2d"
           }
          ],
          "histogram2dcontour": [
           {
            "colorbar": {
             "outlinewidth": 0,
             "ticks": ""
            },
            "colorscale": [
             [
              0,
              "#0d0887"
             ],
             [
              0.1111111111111111,
              "#46039f"
             ],
             [
              0.2222222222222222,
              "#7201a8"
             ],
             [
              0.3333333333333333,
              "#9c179e"
             ],
             [
              0.4444444444444444,
              "#bd3786"
             ],
             [
              0.5555555555555556,
              "#d8576b"
             ],
             [
              0.6666666666666666,
              "#ed7953"
             ],
             [
              0.7777777777777778,
              "#fb9f3a"
             ],
             [
              0.8888888888888888,
              "#fdca26"
             ],
             [
              1,
              "#f0f921"
             ]
            ],
            "type": "histogram2dcontour"
           }
          ],
          "mesh3d": [
           {
            "colorbar": {
             "outlinewidth": 0,
             "ticks": ""
            },
            "type": "mesh3d"
           }
          ],
          "parcoords": [
           {
            "line": {
             "colorbar": {
              "outlinewidth": 0,
              "ticks": ""
             }
            },
            "type": "parcoords"
           }
          ],
          "pie": [
           {
            "automargin": true,
            "type": "pie"
           }
          ],
          "scatter": [
           {
            "marker": {
             "colorbar": {
              "outlinewidth": 0,
              "ticks": ""
             }
            },
            "type": "scatter"
           }
          ],
          "scatter3d": [
           {
            "line": {
             "colorbar": {
              "outlinewidth": 0,
              "ticks": ""
             }
            },
            "marker": {
             "colorbar": {
              "outlinewidth": 0,
              "ticks": ""
             }
            },
            "type": "scatter3d"
           }
          ],
          "scattercarpet": [
           {
            "marker": {
             "colorbar": {
              "outlinewidth": 0,
              "ticks": ""
             }
            },
            "type": "scattercarpet"
           }
          ],
          "scattergeo": [
           {
            "marker": {
             "colorbar": {
              "outlinewidth": 0,
              "ticks": ""
             }
            },
            "type": "scattergeo"
           }
          ],
          "scattergl": [
           {
            "marker": {
             "colorbar": {
              "outlinewidth": 0,
              "ticks": ""
             }
            },
            "type": "scattergl"
           }
          ],
          "scattermapbox": [
           {
            "marker": {
             "colorbar": {
              "outlinewidth": 0,
              "ticks": ""
             }
            },
            "type": "scattermapbox"
           }
          ],
          "scatterpolar": [
           {
            "marker": {
             "colorbar": {
              "outlinewidth": 0,
              "ticks": ""
             }
            },
            "type": "scatterpolar"
           }
          ],
          "scatterpolargl": [
           {
            "marker": {
             "colorbar": {
              "outlinewidth": 0,
              "ticks": ""
             }
            },
            "type": "scatterpolargl"
           }
          ],
          "scatterternary": [
           {
            "marker": {
             "colorbar": {
              "outlinewidth": 0,
              "ticks": ""
             }
            },
            "type": "scatterternary"
           }
          ],
          "surface": [
           {
            "colorbar": {
             "outlinewidth": 0,
             "ticks": ""
            },
            "colorscale": [
             [
              0,
              "#0d0887"
             ],
             [
              0.1111111111111111,
              "#46039f"
             ],
             [
              0.2222222222222222,
              "#7201a8"
             ],
             [
              0.3333333333333333,
              "#9c179e"
             ],
             [
              0.4444444444444444,
              "#bd3786"
             ],
             [
              0.5555555555555556,
              "#d8576b"
             ],
             [
              0.6666666666666666,
              "#ed7953"
             ],
             [
              0.7777777777777778,
              "#fb9f3a"
             ],
             [
              0.8888888888888888,
              "#fdca26"
             ],
             [
              1,
              "#f0f921"
             ]
            ],
            "type": "surface"
           }
          ],
          "table": [
           {
            "cells": {
             "fill": {
              "color": "#EBF0F8"
             },
             "line": {
              "color": "white"
             }
            },
            "header": {
             "fill": {
              "color": "#C8D4E3"
             },
             "line": {
              "color": "white"
             }
            },
            "type": "table"
           }
          ]
         },
         "layout": {
          "annotationdefaults": {
           "arrowcolor": "#2a3f5f",
           "arrowhead": 0,
           "arrowwidth": 1
          },
          "autotypenumbers": "strict",
          "coloraxis": {
           "colorbar": {
            "outlinewidth": 0,
            "ticks": ""
           }
          },
          "colorscale": {
           "diverging": [
            [
             0,
             "#8e0152"
            ],
            [
             0.1,
             "#c51b7d"
            ],
            [
             0.2,
             "#de77ae"
            ],
            [
             0.3,
             "#f1b6da"
            ],
            [
             0.4,
             "#fde0ef"
            ],
            [
             0.5,
             "#f7f7f7"
            ],
            [
             0.6,
             "#e6f5d0"
            ],
            [
             0.7,
             "#b8e186"
            ],
            [
             0.8,
             "#7fbc41"
            ],
            [
             0.9,
             "#4d9221"
            ],
            [
             1,
             "#276419"
            ]
           ],
           "sequential": [
            [
             0,
             "#0d0887"
            ],
            [
             0.1111111111111111,
             "#46039f"
            ],
            [
             0.2222222222222222,
             "#7201a8"
            ],
            [
             0.3333333333333333,
             "#9c179e"
            ],
            [
             0.4444444444444444,
             "#bd3786"
            ],
            [
             0.5555555555555556,
             "#d8576b"
            ],
            [
             0.6666666666666666,
             "#ed7953"
            ],
            [
             0.7777777777777778,
             "#fb9f3a"
            ],
            [
             0.8888888888888888,
             "#fdca26"
            ],
            [
             1,
             "#f0f921"
            ]
           ],
           "sequentialminus": [
            [
             0,
             "#0d0887"
            ],
            [
             0.1111111111111111,
             "#46039f"
            ],
            [
             0.2222222222222222,
             "#7201a8"
            ],
            [
             0.3333333333333333,
             "#9c179e"
            ],
            [
             0.4444444444444444,
             "#bd3786"
            ],
            [
             0.5555555555555556,
             "#d8576b"
            ],
            [
             0.6666666666666666,
             "#ed7953"
            ],
            [
             0.7777777777777778,
             "#fb9f3a"
            ],
            [
             0.8888888888888888,
             "#fdca26"
            ],
            [
             1,
             "#f0f921"
            ]
           ]
          },
          "colorway": [
           "#636efa",
           "#EF553B",
           "#00cc96",
           "#ab63fa",
           "#FFA15A",
           "#19d3f3",
           "#FF6692",
           "#B6E880",
           "#FF97FF",
           "#FECB52"
          ],
          "font": {
           "color": "#2a3f5f"
          },
          "geo": {
           "bgcolor": "white",
           "lakecolor": "white",
           "landcolor": "#E5ECF6",
           "showlakes": true,
           "showland": true,
           "subunitcolor": "white"
          },
          "hoverlabel": {
           "align": "left"
          },
          "hovermode": "closest",
          "mapbox": {
           "style": "light"
          },
          "paper_bgcolor": "white",
          "plot_bgcolor": "#E5ECF6",
          "polar": {
           "angularaxis": {
            "gridcolor": "white",
            "linecolor": "white",
            "ticks": ""
           },
           "bgcolor": "#E5ECF6",
           "radialaxis": {
            "gridcolor": "white",
            "linecolor": "white",
            "ticks": ""
           }
          },
          "scene": {
           "xaxis": {
            "backgroundcolor": "#E5ECF6",
            "gridcolor": "white",
            "gridwidth": 2,
            "linecolor": "white",
            "showbackground": true,
            "ticks": "",
            "zerolinecolor": "white"
           },
           "yaxis": {
            "backgroundcolor": "#E5ECF6",
            "gridcolor": "white",
            "gridwidth": 2,
            "linecolor": "white",
            "showbackground": true,
            "ticks": "",
            "zerolinecolor": "white"
           },
           "zaxis": {
            "backgroundcolor": "#E5ECF6",
            "gridcolor": "white",
            "gridwidth": 2,
            "linecolor": "white",
            "showbackground": true,
            "ticks": "",
            "zerolinecolor": "white"
           }
          },
          "shapedefaults": {
           "line": {
            "color": "#2a3f5f"
           }
          },
          "ternary": {
           "aaxis": {
            "gridcolor": "white",
            "linecolor": "white",
            "ticks": ""
           },
           "baxis": {
            "gridcolor": "white",
            "linecolor": "white",
            "ticks": ""
           },
           "bgcolor": "#E5ECF6",
           "caxis": {
            "gridcolor": "white",
            "linecolor": "white",
            "ticks": ""
           }
          },
          "title": {
           "x": 0.05
          },
          "xaxis": {
           "automargin": true,
           "gridcolor": "white",
           "linecolor": "white",
           "ticks": "",
           "title": {
            "standoff": 15
           },
           "zerolinecolor": "white",
           "zerolinewidth": 2
          },
          "yaxis": {
           "automargin": true,
           "gridcolor": "white",
           "linecolor": "white",
           "ticks": "",
           "title": {
            "standoff": 15
           },
           "zerolinecolor": "white",
           "zerolinewidth": 2
          }
         }
        },
        "title": {
         "text": "분기별 각지역의 평균 거래금액"
        },
        "xaxis": {
         "title": {
          "text": "지역"
         }
        },
        "yaxis": {
         "title": {
          "text": "평균 거래금액"
         }
        }
       }
      },
      "text/html": [
       "<div>                            <div id=\"99247762-e9f8-443a-a6c8-10e7725ca287\" class=\"plotly-graph-div\" style=\"height:525px; width:100%;\"></div>            <script type=\"text/javascript\">                require([\"plotly\"], function(Plotly) {                    window.PLOTLYENV=window.PLOTLYENV || {};                                    if (document.getElementById(\"99247762-e9f8-443a-a6c8-10e7725ca287\")) {                    Plotly.newPlot(                        \"99247762-e9f8-443a-a6c8-10e7725ca287\",                        [{\"marker\": {\"color\": \"steelblue\", \"line\": {\"color\": \"rgb(0,0,0)\", \"width\": 0.5}}, \"name\": \"1\\ubd84\\uae30\", \"text\": \"1\\ubd84\\uae30\", \"type\": \"bar\", \"x\": [\"\\uac15\\ub0a8\\uad6c\", \"\\uc11c\\ucd08\\uad6c\", \"\\uc6a9\\uc0b0\\uad6c\", \"\\uc1a1\\ud30c\\uad6c\", \"\\ub9c8\\ud3ec\\uad6c\", \"\\uc131\\ub3d9\\uad6c\", \"\\uac15\\ub3d9\\uad6c\", \"\\uc601\\ub4f1\\ud3ec\\uad6c\", \"\\uad11\\uc9c4\\uad6c\", \"\\uc911\\uad6c\", \"\\uc885\\ub85c\\uad6c\", \"\\ub3d9\\uc791\\uad6c\", \"\\uc591\\ucc9c\\uad6c\", \"\\ub3d9\\ub300\\ubb38\\uad6c\", \"\\uc11c\\ub300\\ubb38\\uad6c\", \"\\uac15\\uc11c\\uad6c\", \"\\uad00\\uc545\\uad6c\", \"\\uc131\\ubd81\\uad6c\", \"\\uc740\\ud3c9\\uad6c\", \"\\ub178\\uc6d0\\uad6c\", \"\\uc911\\ub791\\uad6c\", \"\\uad6c\\ub85c\\uad6c\", \"\\uac15\\ubd81\\uad6c\", \"\\uae08\\ucc9c\\uad6c\", \"\\ub3c4\\ubd09\\uad6c\"], \"y\": [5952.751824817518, 5094.084415584415, 4859.183486238532, 4716.809248554913, 3908.276073619632, 3741.4297520661157, 3239.6186770428017, 3149.3350515463917, 3067.7631578947367, 3049.0, 2992.5072463768115, 2964.590163934426, 2894.417808219178, 2661.133079847909, 2558.7276995305165, 2551.0258302583024, 2368.346341463415, 2302.4157303370785, 2230.2027027027025, 2157.8003875968993, 2013.84, 2013.0555555555557, 1989.7723577235772, 1821.5549132947976, 1814.928338762215]}, {\"marker\": {\"color\": \"tan\", \"line\": {\"color\": \"rgb(0,0,0)\", \"width\": 0.5}}, \"name\": \"2\\ubd84\\uae30\", \"text\": \"2\\ubd84\\uae30\", \"type\": \"bar\", \"x\": [\"\\uac15\\ub0a8\\uad6c\", \"\\uc11c\\ucd08\\uad6c\", \"\\uc6a9\\uc0b0\\uad6c\", \"\\uc1a1\\ud30c\\uad6c\", \"\\ub9c8\\ud3ec\\uad6c\", \"\\uc131\\ub3d9\\uad6c\", \"\\uac15\\ub3d9\\uad6c\", \"\\uc601\\ub4f1\\ud3ec\\uad6c\", \"\\uad11\\uc9c4\\uad6c\", \"\\uc911\\uad6c\", \"\\uc885\\ub85c\\uad6c\", \"\\ub3d9\\uc791\\uad6c\", \"\\uc591\\ucc9c\\uad6c\", \"\\ub3d9\\ub300\\ubb38\\uad6c\", \"\\uc11c\\ub300\\ubb38\\uad6c\", \"\\uac15\\uc11c\\uad6c\", \"\\uad00\\uc545\\uad6c\", \"\\uc131\\ubd81\\uad6c\", \"\\uc740\\ud3c9\\uad6c\", \"\\ub178\\uc6d0\\uad6c\", \"\\uc911\\ub791\\uad6c\", \"\\uad6c\\ub85c\\uad6c\", \"\\uac15\\ubd81\\uad6c\", \"\\uae08\\ucc9c\\uad6c\", \"\\ub3c4\\ubd09\\uad6c\"], \"y\": [6817.048013245033, 5857.270524899058, 4972.023391812865, 4829.59723183391, 3984.9755102040817, 4019.102119460501, 3319.357452966715, 3737.149051490515, 3519.212121212121, 3284.0224719101125, 3142.5378151260506, 3463.5102974828374, 3656.7915151515153, 2764.817073170732, 2888.7342995169083, 2700.5396578538102, 2437.0, 2426.513307984791, 2241.6, 2324.975468975469, 2105.306701030928, 2194.096308186196, 2042.4357798165138, 2056.231046931408, 1927.4383802816901]}, {\"marker\": {\"color\": \"teal\", \"line\": {\"color\": \"rgb(0,0,0)\", \"width\": 0.5}}, \"name\": \"3\\ubd84\\uae30\", \"text\": \"3\\ubd84\\uae30\", \"type\": \"bar\", \"x\": [\"\\uac15\\ub0a8\\uad6c\", \"\\uc11c\\ucd08\\uad6c\", \"\\uc6a9\\uc0b0\\uad6c\", \"\\uc1a1\\ud30c\\uad6c\", \"\\ub9c8\\ud3ec\\uad6c\", \"\\uc131\\ub3d9\\uad6c\", \"\\uac15\\ub3d9\\uad6c\", \"\\uc601\\ub4f1\\ud3ec\\uad6c\", \"\\uad11\\uc9c4\\uad6c\", \"\\uc911\\uad6c\", \"\\uc885\\ub85c\\uad6c\", \"\\ub3d9\\uc791\\uad6c\", \"\\uc591\\ucc9c\\uad6c\", \"\\ub3d9\\ub300\\ubb38\\uad6c\", \"\\uc11c\\ub300\\ubb38\\uad6c\", \"\\uac15\\uc11c\\uad6c\", \"\\uad00\\uc545\\uad6c\", \"\\uc131\\ubd81\\uad6c\", \"\\uc740\\ud3c9\\uad6c\", \"\\ub178\\uc6d0\\uad6c\", \"\\uc911\\ub791\\uad6c\", \"\\uad6c\\ub85c\\uad6c\", \"\\uac15\\ubd81\\uad6c\", \"\\uae08\\ucc9c\\uad6c\", \"\\ub3c4\\ubd09\\uad6c\"], \"y\": [7112.447058823529, 5966.622516556291, 4981.596881959911, 4853.750994883457, 4110.531631520533, 4196.727921498662, 3448.198127925117, 3464.53734671126, 3733.0124113475176, 3488.3463035019454, 3766.1833333333334, 3603.6186335403727, 3424.768732654949, 2910.5839598997495, 3262.7939393939396, 2870.5424575424577, 2594.378164556962, 2610.039301310044, 2458.263399693721, 2335.3557237464524, 2165.285714285714, 2427.345323741007, 2145.3949367088608, 2183.3298097251586, 2010.234355828221]}, {\"marker\": {\"color\": \"khaki\", \"line\": {\"color\": \"rgb(0,0,0)\", \"width\": 0.5}}, \"name\": \"4\\ubd84\\uae30\", \"text\": \"4\\ubd84\\uae30\", \"type\": \"bar\", \"x\": [\"\\uac15\\ub0a8\\uad6c\", \"\\uc11c\\ucd08\\uad6c\", \"\\uc6a9\\uc0b0\\uad6c\", \"\\uc1a1\\ud30c\\uad6c\", \"\\ub9c8\\ud3ec\\uad6c\", \"\\uc131\\ub3d9\\uad6c\", \"\\uac15\\ub3d9\\uad6c\", \"\\uc601\\ub4f1\\ud3ec\\uad6c\", \"\\uad11\\uc9c4\\uad6c\", \"\\uc911\\uad6c\", \"\\uc885\\ub85c\\uad6c\", \"\\ub3d9\\uc791\\uad6c\", \"\\uc591\\ucc9c\\uad6c\", \"\\ub3d9\\ub300\\ubb38\\uad6c\", \"\\uc11c\\ub300\\ubb38\\uad6c\", \"\\uac15\\uc11c\\uad6c\", \"\\uad00\\uc545\\uad6c\", \"\\uc131\\ubd81\\uad6c\", \"\\uc740\\ud3c9\\uad6c\", \"\\ub178\\uc6d0\\uad6c\", \"\\uc911\\ub791\\uad6c\", \"\\uad6c\\ub85c\\uad6c\", \"\\uac15\\ubd81\\uad6c\", \"\\uae08\\ucc9c\\uad6c\", \"\\ub3c4\\ubd09\\uad6c\"], \"y\": [7116.464714714714, 6030.740181268882, 4955.466527196652, 4955.69756097561, 4289.505607476635, 4319.000814995925, 3462.327763496144, 3573.197507190796, 3953.2413793103447, 3654.384236453202, 3506.5270935960593, 3744.597918637654, 3578.262931034483, 2916.7824831568814, 3269.878787878788, 3027.2578125, 2665.6447831184055, 2667.910222804718, 2610.892601431981, 2514.9572293716883, 2425.9192771084336, 2540.333808844508, 2322.9166666666665, 2164.023575638507, 2095.201550387597]}],                        {\"barmode\": \"group\", \"font\": {\"size\": 16}, \"template\": {\"data\": {\"bar\": [{\"error_x\": {\"color\": \"#2a3f5f\"}, \"error_y\": {\"color\": \"#2a3f5f\"}, \"marker\": {\"line\": {\"color\": \"#E5ECF6\", \"width\": 0.5}}, \"type\": \"bar\"}], \"barpolar\": [{\"marker\": {\"line\": {\"color\": \"#E5ECF6\", \"width\": 0.5}}, \"type\": \"barpolar\"}], \"carpet\": [{\"aaxis\": {\"endlinecolor\": \"#2a3f5f\", \"gridcolor\": \"white\", \"linecolor\": \"white\", \"minorgridcolor\": \"white\", \"startlinecolor\": \"#2a3f5f\"}, \"baxis\": {\"endlinecolor\": \"#2a3f5f\", \"gridcolor\": \"white\", \"linecolor\": \"white\", \"minorgridcolor\": \"white\", \"startlinecolor\": \"#2a3f5f\"}, \"type\": \"carpet\"}], \"choropleth\": [{\"colorbar\": {\"outlinewidth\": 0, \"ticks\": \"\"}, \"type\": \"choropleth\"}], \"contour\": [{\"colorbar\": {\"outlinewidth\": 0, \"ticks\": \"\"}, \"colorscale\": [[0.0, \"#0d0887\"], [0.1111111111111111, \"#46039f\"], [0.2222222222222222, \"#7201a8\"], [0.3333333333333333, \"#9c179e\"], [0.4444444444444444, \"#bd3786\"], [0.5555555555555556, \"#d8576b\"], [0.6666666666666666, \"#ed7953\"], [0.7777777777777778, \"#fb9f3a\"], [0.8888888888888888, \"#fdca26\"], [1.0, \"#f0f921\"]], \"type\": \"contour\"}], \"contourcarpet\": [{\"colorbar\": {\"outlinewidth\": 0, \"ticks\": \"\"}, \"type\": \"contourcarpet\"}], \"heatmap\": [{\"colorbar\": {\"outlinewidth\": 0, \"ticks\": \"\"}, \"colorscale\": [[0.0, \"#0d0887\"], [0.1111111111111111, \"#46039f\"], [0.2222222222222222, \"#7201a8\"], [0.3333333333333333, \"#9c179e\"], [0.4444444444444444, \"#bd3786\"], [0.5555555555555556, \"#d8576b\"], [0.6666666666666666, \"#ed7953\"], [0.7777777777777778, \"#fb9f3a\"], [0.8888888888888888, \"#fdca26\"], [1.0, \"#f0f921\"]], \"type\": \"heatmap\"}], \"heatmapgl\": [{\"colorbar\": {\"outlinewidth\": 0, \"ticks\": \"\"}, \"colorscale\": [[0.0, \"#0d0887\"], [0.1111111111111111, \"#46039f\"], [0.2222222222222222, \"#7201a8\"], [0.3333333333333333, \"#9c179e\"], [0.4444444444444444, \"#bd3786\"], [0.5555555555555556, \"#d8576b\"], [0.6666666666666666, \"#ed7953\"], [0.7777777777777778, \"#fb9f3a\"], [0.8888888888888888, \"#fdca26\"], [1.0, \"#f0f921\"]], \"type\": \"heatmapgl\"}], \"histogram\": [{\"marker\": {\"colorbar\": {\"outlinewidth\": 0, \"ticks\": \"\"}}, \"type\": \"histogram\"}], \"histogram2d\": [{\"colorbar\": {\"outlinewidth\": 0, \"ticks\": \"\"}, \"colorscale\": [[0.0, \"#0d0887\"], [0.1111111111111111, \"#46039f\"], [0.2222222222222222, \"#7201a8\"], [0.3333333333333333, \"#9c179e\"], [0.4444444444444444, \"#bd3786\"], [0.5555555555555556, \"#d8576b\"], [0.6666666666666666, \"#ed7953\"], [0.7777777777777778, \"#fb9f3a\"], [0.8888888888888888, \"#fdca26\"], [1.0, \"#f0f921\"]], \"type\": \"histogram2d\"}], \"histogram2dcontour\": [{\"colorbar\": {\"outlinewidth\": 0, \"ticks\": \"\"}, \"colorscale\": [[0.0, \"#0d0887\"], [0.1111111111111111, \"#46039f\"], [0.2222222222222222, \"#7201a8\"], [0.3333333333333333, \"#9c179e\"], [0.4444444444444444, \"#bd3786\"], [0.5555555555555556, \"#d8576b\"], [0.6666666666666666, \"#ed7953\"], [0.7777777777777778, \"#fb9f3a\"], [0.8888888888888888, \"#fdca26\"], [1.0, \"#f0f921\"]], \"type\": \"histogram2dcontour\"}], \"mesh3d\": [{\"colorbar\": {\"outlinewidth\": 0, \"ticks\": \"\"}, \"type\": \"mesh3d\"}], \"parcoords\": [{\"line\": {\"colorbar\": {\"outlinewidth\": 0, \"ticks\": \"\"}}, \"type\": \"parcoords\"}], \"pie\": [{\"automargin\": true, \"type\": \"pie\"}], \"scatter\": [{\"marker\": {\"colorbar\": {\"outlinewidth\": 0, \"ticks\": \"\"}}, \"type\": \"scatter\"}], \"scatter3d\": [{\"line\": {\"colorbar\": {\"outlinewidth\": 0, \"ticks\": \"\"}}, \"marker\": {\"colorbar\": {\"outlinewidth\": 0, \"ticks\": \"\"}}, \"type\": \"scatter3d\"}], \"scattercarpet\": [{\"marker\": {\"colorbar\": {\"outlinewidth\": 0, \"ticks\": \"\"}}, \"type\": \"scattercarpet\"}], \"scattergeo\": [{\"marker\": {\"colorbar\": {\"outlinewidth\": 0, \"ticks\": \"\"}}, \"type\": \"scattergeo\"}], \"scattergl\": [{\"marker\": {\"colorbar\": {\"outlinewidth\": 0, \"ticks\": \"\"}}, \"type\": \"scattergl\"}], \"scattermapbox\": [{\"marker\": {\"colorbar\": {\"outlinewidth\": 0, \"ticks\": \"\"}}, \"type\": \"scattermapbox\"}], \"scatterpolar\": [{\"marker\": {\"colorbar\": {\"outlinewidth\": 0, \"ticks\": \"\"}}, \"type\": \"scatterpolar\"}], \"scatterpolargl\": [{\"marker\": {\"colorbar\": {\"outlinewidth\": 0, \"ticks\": \"\"}}, \"type\": \"scatterpolargl\"}], \"scatterternary\": [{\"marker\": {\"colorbar\": {\"outlinewidth\": 0, \"ticks\": \"\"}}, \"type\": \"scatterternary\"}], \"surface\": [{\"colorbar\": {\"outlinewidth\": 0, \"ticks\": \"\"}, \"colorscale\": [[0.0, \"#0d0887\"], [0.1111111111111111, \"#46039f\"], [0.2222222222222222, \"#7201a8\"], [0.3333333333333333, \"#9c179e\"], [0.4444444444444444, \"#bd3786\"], [0.5555555555555556, \"#d8576b\"], [0.6666666666666666, \"#ed7953\"], [0.7777777777777778, \"#fb9f3a\"], [0.8888888888888888, \"#fdca26\"], [1.0, \"#f0f921\"]], \"type\": \"surface\"}], \"table\": [{\"cells\": {\"fill\": {\"color\": \"#EBF0F8\"}, \"line\": {\"color\": \"white\"}}, \"header\": {\"fill\": {\"color\": \"#C8D4E3\"}, \"line\": {\"color\": \"white\"}}, \"type\": \"table\"}]}, \"layout\": {\"annotationdefaults\": {\"arrowcolor\": \"#2a3f5f\", \"arrowhead\": 0, \"arrowwidth\": 1}, \"autotypenumbers\": \"strict\", \"coloraxis\": {\"colorbar\": {\"outlinewidth\": 0, \"ticks\": \"\"}}, \"colorscale\": {\"diverging\": [[0, \"#8e0152\"], [0.1, \"#c51b7d\"], [0.2, \"#de77ae\"], [0.3, \"#f1b6da\"], [0.4, \"#fde0ef\"], [0.5, \"#f7f7f7\"], [0.6, \"#e6f5d0\"], [0.7, \"#b8e186\"], [0.8, \"#7fbc41\"], [0.9, \"#4d9221\"], [1, \"#276419\"]], \"sequential\": [[0.0, \"#0d0887\"], [0.1111111111111111, \"#46039f\"], [0.2222222222222222, \"#7201a8\"], [0.3333333333333333, \"#9c179e\"], [0.4444444444444444, \"#bd3786\"], [0.5555555555555556, \"#d8576b\"], [0.6666666666666666, \"#ed7953\"], [0.7777777777777778, \"#fb9f3a\"], [0.8888888888888888, \"#fdca26\"], [1.0, \"#f0f921\"]], \"sequentialminus\": [[0.0, \"#0d0887\"], [0.1111111111111111, \"#46039f\"], [0.2222222222222222, \"#7201a8\"], [0.3333333333333333, \"#9c179e\"], [0.4444444444444444, \"#bd3786\"], [0.5555555555555556, \"#d8576b\"], [0.6666666666666666, \"#ed7953\"], [0.7777777777777778, \"#fb9f3a\"], [0.8888888888888888, \"#fdca26\"], [1.0, \"#f0f921\"]]}, \"colorway\": [\"#636efa\", \"#EF553B\", \"#00cc96\", \"#ab63fa\", \"#FFA15A\", \"#19d3f3\", \"#FF6692\", \"#B6E880\", \"#FF97FF\", \"#FECB52\"], \"font\": {\"color\": \"#2a3f5f\"}, \"geo\": {\"bgcolor\": \"white\", \"lakecolor\": \"white\", \"landcolor\": \"#E5ECF6\", \"showlakes\": true, \"showland\": true, \"subunitcolor\": \"white\"}, \"hoverlabel\": {\"align\": \"left\"}, \"hovermode\": \"closest\", \"mapbox\": {\"style\": \"light\"}, \"paper_bgcolor\": \"white\", \"plot_bgcolor\": \"#E5ECF6\", \"polar\": {\"angularaxis\": {\"gridcolor\": \"white\", \"linecolor\": \"white\", \"ticks\": \"\"}, \"bgcolor\": \"#E5ECF6\", \"radialaxis\": {\"gridcolor\": \"white\", \"linecolor\": \"white\", \"ticks\": \"\"}}, \"scene\": {\"xaxis\": {\"backgroundcolor\": \"#E5ECF6\", \"gridcolor\": \"white\", \"gridwidth\": 2, \"linecolor\": \"white\", \"showbackground\": true, \"ticks\": \"\", \"zerolinecolor\": \"white\"}, \"yaxis\": {\"backgroundcolor\": \"#E5ECF6\", \"gridcolor\": \"white\", \"gridwidth\": 2, \"linecolor\": \"white\", \"showbackground\": true, \"ticks\": \"\", \"zerolinecolor\": \"white\"}, \"zaxis\": {\"backgroundcolor\": \"#E5ECF6\", \"gridcolor\": \"white\", \"gridwidth\": 2, \"linecolor\": \"white\", \"showbackground\": true, \"ticks\": \"\", \"zerolinecolor\": \"white\"}}, \"shapedefaults\": {\"line\": {\"color\": \"#2a3f5f\"}}, \"ternary\": {\"aaxis\": {\"gridcolor\": \"white\", \"linecolor\": \"white\", \"ticks\": \"\"}, \"baxis\": {\"gridcolor\": \"white\", \"linecolor\": \"white\", \"ticks\": \"\"}, \"bgcolor\": \"#E5ECF6\", \"caxis\": {\"gridcolor\": \"white\", \"linecolor\": \"white\", \"ticks\": \"\"}}, \"title\": {\"x\": 0.05}, \"xaxis\": {\"automargin\": true, \"gridcolor\": \"white\", \"linecolor\": \"white\", \"ticks\": \"\", \"title\": {\"standoff\": 15}, \"zerolinecolor\": \"white\", \"zerolinewidth\": 2}, \"yaxis\": {\"automargin\": true, \"gridcolor\": \"white\", \"linecolor\": \"white\", \"ticks\": \"\", \"title\": {\"standoff\": 15}, \"zerolinecolor\": \"white\", \"zerolinewidth\": 2}}}, \"title\": {\"text\": \"\\ubd84\\uae30\\ubcc4 \\uac01\\uc9c0\\uc5ed\\uc758 \\ud3c9\\uade0 \\uac70\\ub798\\uae08\\uc561\"}, \"xaxis\": {\"title\": {\"text\": \"\\uc9c0\\uc5ed\"}}, \"yaxis\": {\"title\": {\"text\": \"\\ud3c9\\uade0 \\uac70\\ub798\\uae08\\uc561\"}}},                        {\"responsive\": true}                    ).then(function(){\n",
       "                            \n",
       "var gd = document.getElementById('99247762-e9f8-443a-a6c8-10e7725ca287');\n",
       "var x = new MutationObserver(function (mutations, observer) {{\n",
       "        var display = window.getComputedStyle(gd).display;\n",
       "        if (!display || display === 'none') {{\n",
       "            console.log([gd, 'removed!']);\n",
       "            Plotly.purge(gd);\n",
       "            observer.disconnect();\n",
       "        }}\n",
       "}});\n",
       "\n",
       "// Listen for the removal of the full notebook cells\n",
       "var notebookContainer = gd.closest('#notebook-container');\n",
       "if (notebookContainer) {{\n",
       "    x.observe(notebookContainer, {childList: true});\n",
       "}}\n",
       "\n",
       "// Listen for the clearing of the current output cell\n",
       "var outputEl = gd.closest('.output');\n",
       "if (outputEl) {{\n",
       "    x.observe(outputEl, {childList: true});\n",
       "}}\n",
       "\n",
       "                        })                };                });            </script>        </div>"
      ]
     },
     "metadata": {},
     "output_type": "display_data"
    }
   ],
   "source": [
    "data =  df1.pivot_table(index=['시군구명'],columns=['분기'],values='평당거래금액').reset_index().sort_values('1분기',ascending=False)\n",
    "\n",
    "trace1 = go.Bar(\n",
    "                x = data['시군구명'],\n",
    "                y = data['1분기'],\n",
    "                name = \"1분기\",\n",
    "                marker = dict(color = 'steelblue',\n",
    "                             line=dict(color='rgb(0,0,0)',width=.5)),\n",
    "                text = '1분기')\n",
    "\n",
    "trace2 = go.Bar(\n",
    "                x = data['시군구명'],\n",
    "                y = data['2분기'],\n",
    "                name = \"2분기\",\n",
    "                marker = dict(color = 'tan',\n",
    "                              line=dict(color='rgb(0,0,0)',width=.5)),\n",
    "                text = '2분기')\n",
    "\n",
    "trace3 = go.Bar(\n",
    "                x = data['시군구명'],\n",
    "                y = data['3분기'],\n",
    "                name = \"3분기\",\n",
    "                marker = dict(color = 'teal',\n",
    "                             line=dict(color='rgb(0,0,0)',width=.5)),\n",
    "                text = '3분기')\n",
    "\n",
    "trace4 = go.Bar(\n",
    "                x = data['시군구명'],\n",
    "                y = data['4분기'],\n",
    "                name = \"4분기\",\n",
    "                marker = dict(color = 'khaki',\n",
    "                              line=dict(color='rgb(0,0,0)',width=.5)),\n",
    "                text = '4분기')\n",
    "\n",
    "data = [trace1, trace2, trace3, trace4]\n",
    "layout = go.Layout(barmode='group',\n",
    "                   title='분기별 각지역의 평균 거래금액',\n",
    "                   xaxis=dict(title='지역'),\n",
    "                   yaxis=dict( title='평균 거래금액'),\n",
    "                   font=dict(size=16),\n",
    "                  )\n",
    "\n",
    "fig = go.Figure(data = data, layout = layout)\n",
    "iplot(fig)"
   ]
  },
  {
   "cell_type": "markdown",
   "metadata": {},
   "source": [
    "#### 3 - 분기별 지역에 따른 아파트 거래금액\n",
    "- 목적 : 분기별 지역의 아파트 거래금액 차이를 파악\n",
    "\n",
    "\n",
    "- 결과 : 예상대로 용산, 강남, 서초의 가격이 높은 편이고 용산을 제외한 대부분의 지역에서 분기가 지나가면서 거래금액이 상승한다."
   ]
  },
  {
   "cell_type": "markdown",
   "metadata": {},
   "source": [
    "----------------------------------------------------------------------------------------------------------------------------------------------------------"
   ]
  },
  {
   "cell_type": "code",
   "execution_count": 33,
   "metadata": {},
   "outputs": [
    {
     "data": {
      "application/vnd.plotly.v1+json": {
       "config": {
        "plotlyServerURL": "https://plot.ly"
       },
       "data": [
        {
         "marker": {
          "color": "rgba(255, 255, 128, 0.5)",
          "line": {
           "color": "rgb(0,0,0)",
           "width": 1.5
          }
         },
         "type": "bar",
         "x": [
          1961,
          1965,
          1966,
          1968,
          1969,
          1970,
          1971,
          1972,
          1973,
          1974,
          1975,
          1976,
          1977,
          1978,
          1979,
          1980,
          1981,
          1982,
          1983,
          1984,
          1985,
          1986,
          1987,
          1988,
          1989,
          1990,
          1991,
          1992,
          1993,
          1994,
          1995,
          1996,
          1997,
          1998,
          1999,
          2000,
          2001,
          2002,
          2003,
          2004,
          2005,
          2006,
          2007,
          2008,
          2009,
          2010,
          2011,
          2012,
          2013,
          2014,
          2015,
          2016,
          2017,
          2018,
          2019
         ],
         "y": [
          1,
          1,
          5,
          16,
          35,
          41,
          128,
          27,
          27,
          156,
          143,
          179,
          167,
          460,
          345,
          320,
          219,
          437,
          628,
          595,
          594,
          1352,
          1441,
          3678,
          1383,
          836,
          994,
          1653,
          1623,
          1192,
          1666,
          1865,
          2408,
          2456,
          3528,
          3310,
          2291,
          2173,
          3489,
          3639,
          2556,
          1983,
          1750,
          2532,
          1496,
          1326,
          1594,
          1349,
          1327,
          1824,
          1092,
          1634,
          967,
          928,
          1005
         ]
        }
       ],
       "layout": {
        "font": {
         "size": 16
        },
        "template": {
         "data": {
          "pie": [
           {
            "automargin": true,
            "type": "pie"
           }
          ]
         },
         "layout": {
          "yaxis": {
           "showgrid": false
          }
         }
        },
        "title": {
         "text": "건축년도에 따른 평균 거래량"
        },
        "xaxis": {
         "title": {
          "text": "건축년도"
         }
        },
        "yaxis": {
         "title": {
          "text": "Count"
         }
        }
       }
      },
      "text/html": [
       "<div>                            <div id=\"a966cd1d-05b7-4ca2-9678-f4f4d3cf6c10\" class=\"plotly-graph-div\" style=\"height:525px; width:100%;\"></div>            <script type=\"text/javascript\">                require([\"plotly\"], function(Plotly) {                    window.PLOTLYENV=window.PLOTLYENV || {};                                    if (document.getElementById(\"a966cd1d-05b7-4ca2-9678-f4f4d3cf6c10\")) {                    Plotly.newPlot(                        \"a966cd1d-05b7-4ca2-9678-f4f4d3cf6c10\",                        [{\"marker\": {\"color\": \"rgba(255, 255, 128, 0.5)\", \"line\": {\"color\": \"rgb(0,0,0)\", \"width\": 1.5}}, \"type\": \"bar\", \"x\": [1961, 1965, 1966, 1968, 1969, 1970, 1971, 1972, 1973, 1974, 1975, 1976, 1977, 1978, 1979, 1980, 1981, 1982, 1983, 1984, 1985, 1986, 1987, 1988, 1989, 1990, 1991, 1992, 1993, 1994, 1995, 1996, 1997, 1998, 1999, 2000, 2001, 2002, 2003, 2004, 2005, 2006, 2007, 2008, 2009, 2010, 2011, 2012, 2013, 2014, 2015, 2016, 2017, 2018, 2019], \"y\": [1, 1, 5, 16, 35, 41, 128, 27, 27, 156, 143, 179, 167, 460, 345, 320, 219, 437, 628, 595, 594, 1352, 1441, 3678, 1383, 836, 994, 1653, 1623, 1192, 1666, 1865, 2408, 2456, 3528, 3310, 2291, 2173, 3489, 3639, 2556, 1983, 1750, 2532, 1496, 1326, 1594, 1349, 1327, 1824, 1092, 1634, 967, 928, 1005]}],                        {\"font\": {\"size\": 16}, \"template\": {\"data\": {\"pie\": [{\"automargin\": true, \"type\": \"pie\"}]}, \"layout\": {\"yaxis\": {\"showgrid\": false}}}, \"title\": {\"text\": \"\\uac74\\ucd95\\ub144\\ub3c4\\uc5d0 \\ub530\\ub978 \\ud3c9\\uade0 \\uac70\\ub798\\ub7c9\"}, \"xaxis\": {\"title\": {\"text\": \"\\uac74\\ucd95\\ub144\\ub3c4\"}}, \"yaxis\": {\"title\": {\"text\": \"Count\"}}},                        {\"responsive\": true}                    ).then(function(){\n",
       "                            \n",
       "var gd = document.getElementById('a966cd1d-05b7-4ca2-9678-f4f4d3cf6c10');\n",
       "var x = new MutationObserver(function (mutations, observer) {{\n",
       "        var display = window.getComputedStyle(gd).display;\n",
       "        if (!display || display === 'none') {{\n",
       "            console.log([gd, 'removed!']);\n",
       "            Plotly.purge(gd);\n",
       "            observer.disconnect();\n",
       "        }}\n",
       "}});\n",
       "\n",
       "// Listen for the removal of the full notebook cells\n",
       "var notebookContainer = gd.closest('#notebook-container');\n",
       "if (notebookContainer) {{\n",
       "    x.observe(notebookContainer, {childList: true});\n",
       "}}\n",
       "\n",
       "// Listen for the clearing of the current output cell\n",
       "var outputEl = gd.closest('.output');\n",
       "if (outputEl) {{\n",
       "    x.observe(outputEl, {childList: true});\n",
       "}}\n",
       "\n",
       "                        })                };                });            </script>        </div>"
      ]
     },
     "metadata": {},
     "output_type": "display_data"
    }
   ],
   "source": [
    "data = df1.groupby(['건축년도'])[['거래금액']].agg('count').reset_index()\n",
    "trace1 = go.Bar(\n",
    "                x = data['건축년도'],\n",
    "                y = data['거래금액'],\n",
    "                marker = dict(color = 'rgba(255, 255, 128, 0.5)',\n",
    "                              line=dict(color='rgb(0,0,0)',width=1.5)))\n",
    "layout = go.Layout(template= \"ygridoff\",title = '건축년도에 따른 평균 거래량' , xaxis = dict(title = '건축년도'), yaxis = dict(title = 'Count'),font=dict(size=16))\n",
    "fig = go.Figure(data = [trace1], layout = layout)\n",
    "fig.show()"
   ]
  },
  {
   "cell_type": "markdown",
   "metadata": {},
   "source": [
    "#### 4 - 아파트 건축년도에 따른 평균 거래량\n",
    "- 목적 : 어떤 연식의 아파트가 많이 거래되었는지 파악\n",
    "\n",
    "\n",
    "- 결과 : 1990년대 이후의 아파트들이 많이 거래가 되었다는것을 알 수 있음."
   ]
  },
  {
   "cell_type": "markdown",
   "metadata": {},
   "source": [
    "----------------------------------------------------------------------------------------------------------------------------------------------------------"
   ]
  },
  {
   "cell_type": "code",
   "execution_count": 34,
   "metadata": {},
   "outputs": [
    {
     "data": {
      "application/vnd.plotly.v1+json": {
       "config": {
        "plotlyServerURL": "https://plot.ly"
       },
       "data": [
        {
         "marker": {
          "color": "rgba(255, 174, 255, 0.5)",
          "line": {
           "color": "rgb(0,0,0)",
           "width": 1.5
          }
         },
         "type": "bar",
         "x": [
          1961,
          1965,
          1966,
          1968,
          1969,
          1970,
          1971,
          1972,
          1973,
          1974,
          1975,
          1976,
          1977,
          1978,
          1979,
          1980,
          1981,
          1982,
          1983,
          1984,
          1985,
          1986,
          1987,
          1988,
          1989,
          1990,
          1991,
          1992,
          1993,
          1994,
          1995,
          1996,
          1997,
          1998,
          1999,
          2000,
          2001,
          2002,
          2003,
          2004,
          2005,
          2006,
          2007,
          2008,
          2009,
          2010,
          2011,
          2012,
          2013,
          2014,
          2015,
          2016,
          2017,
          2018,
          2019
         ],
         "y": [
          17000,
          44500,
          29160,
          27181.25,
          27085.714285714286,
          58333.12195121951,
          85261.71875,
          40331.40740740741,
          159642.59259259258,
          146688.15384615384,
          101753.25174825174,
          172857.98882681565,
          132450.0119760479,
          189312.90217391305,
          188369.5652173913,
          165456.65625,
          147054.49771689498,
          164275.72082379862,
          136287.2388535032,
          113170.9243697479,
          113236.49494949495,
          97484.55547337278,
          78736.78070784178,
          67582.52446982055,
          49317.29067245119,
          51916.21291866029,
          52362.2384305835,
          60876.94555353902,
          68533.76524953789,
          64864.48154362416,
          58398.0912364946,
          55182.31581769437,
          67699.18147840531,
          60202.039495114004,
          64912.82851473923,
          67099.37703927493,
          71791.63640331733,
          73917.04555913484,
          76437.56090570363,
          72217.23742786479,
          80527.45266040688,
          99494.32677760968,
          100324.31771428572,
          117493.8720379147,
          116414.47259358289,
          87517.1742081448,
          114713.83939774153,
          85975.43736100815,
          63688.715146948,
          81428.22368421052,
          110000.49267399267,
          113866.04039167687,
          99748.07962771459,
          90837.88038793103,
          53443.987064676614
         ]
        }
       ],
       "layout": {
        "font": {
         "size": 16
        },
        "template": {
         "data": {
          "pie": [
           {
            "automargin": true,
            "type": "pie"
           }
          ]
         },
         "layout": {
          "yaxis": {
           "showgrid": false
          }
         }
        },
        "title": {
         "text": "건축년도에 따른 평균 거래금액"
        },
        "xaxis": {
         "title": {
          "text": "건축년도"
         }
        },
        "yaxis": {
         "title": {
          "text": "평균 거래금액"
         }
        }
       }
      },
      "text/html": [
       "<div>                            <div id=\"f1611367-a4a6-42fd-9991-aef019e9ba81\" class=\"plotly-graph-div\" style=\"height:525px; width:100%;\"></div>            <script type=\"text/javascript\">                require([\"plotly\"], function(Plotly) {                    window.PLOTLYENV=window.PLOTLYENV || {};                                    if (document.getElementById(\"f1611367-a4a6-42fd-9991-aef019e9ba81\")) {                    Plotly.newPlot(                        \"f1611367-a4a6-42fd-9991-aef019e9ba81\",                        [{\"marker\": {\"color\": \"rgba(255, 174, 255, 0.5)\", \"line\": {\"color\": \"rgb(0,0,0)\", \"width\": 1.5}}, \"type\": \"bar\", \"x\": [1961, 1965, 1966, 1968, 1969, 1970, 1971, 1972, 1973, 1974, 1975, 1976, 1977, 1978, 1979, 1980, 1981, 1982, 1983, 1984, 1985, 1986, 1987, 1988, 1989, 1990, 1991, 1992, 1993, 1994, 1995, 1996, 1997, 1998, 1999, 2000, 2001, 2002, 2003, 2004, 2005, 2006, 2007, 2008, 2009, 2010, 2011, 2012, 2013, 2014, 2015, 2016, 2017, 2018, 2019], \"y\": [17000.0, 44500.0, 29160.0, 27181.25, 27085.714285714286, 58333.12195121951, 85261.71875, 40331.40740740741, 159642.59259259258, 146688.15384615384, 101753.25174825174, 172857.98882681565, 132450.0119760479, 189312.90217391305, 188369.5652173913, 165456.65625, 147054.49771689498, 164275.72082379862, 136287.2388535032, 113170.9243697479, 113236.49494949495, 97484.55547337278, 78736.78070784178, 67582.52446982055, 49317.29067245119, 51916.21291866029, 52362.2384305835, 60876.94555353902, 68533.76524953789, 64864.48154362416, 58398.0912364946, 55182.31581769437, 67699.18147840531, 60202.039495114004, 64912.82851473923, 67099.37703927493, 71791.63640331733, 73917.04555913484, 76437.56090570363, 72217.23742786479, 80527.45266040688, 99494.32677760968, 100324.31771428572, 117493.8720379147, 116414.47259358289, 87517.1742081448, 114713.83939774153, 85975.43736100815, 63688.715146948, 81428.22368421052, 110000.49267399267, 113866.04039167687, 99748.07962771459, 90837.88038793103, 53443.987064676614]}],                        {\"font\": {\"size\": 16}, \"template\": {\"data\": {\"pie\": [{\"automargin\": true, \"type\": \"pie\"}]}, \"layout\": {\"yaxis\": {\"showgrid\": false}}}, \"title\": {\"text\": \"\\uac74\\ucd95\\ub144\\ub3c4\\uc5d0 \\ub530\\ub978 \\ud3c9\\uade0 \\uac70\\ub798\\uae08\\uc561\"}, \"xaxis\": {\"title\": {\"text\": \"\\uac74\\ucd95\\ub144\\ub3c4\"}}, \"yaxis\": {\"title\": {\"text\": \"\\ud3c9\\uade0 \\uac70\\ub798\\uae08\\uc561\"}}},                        {\"responsive\": true}                    ).then(function(){\n",
       "                            \n",
       "var gd = document.getElementById('f1611367-a4a6-42fd-9991-aef019e9ba81');\n",
       "var x = new MutationObserver(function (mutations, observer) {{\n",
       "        var display = window.getComputedStyle(gd).display;\n",
       "        if (!display || display === 'none') {{\n",
       "            console.log([gd, 'removed!']);\n",
       "            Plotly.purge(gd);\n",
       "            observer.disconnect();\n",
       "        }}\n",
       "}});\n",
       "\n",
       "// Listen for the removal of the full notebook cells\n",
       "var notebookContainer = gd.closest('#notebook-container');\n",
       "if (notebookContainer) {{\n",
       "    x.observe(notebookContainer, {childList: true});\n",
       "}}\n",
       "\n",
       "// Listen for the clearing of the current output cell\n",
       "var outputEl = gd.closest('.output');\n",
       "if (outputEl) {{\n",
       "    x.observe(outputEl, {childList: true});\n",
       "}}\n",
       "\n",
       "                        })                };                });            </script>        </div>"
      ]
     },
     "metadata": {},
     "output_type": "display_data"
    }
   ],
   "source": [
    "# data = df1[df1['시군구명'] == '강남구']\n",
    "data = df1.groupby(['건축년도'])[['거래금액']].agg('mean').reset_index()\n",
    "trace1 = go.Bar(\n",
    "                x = data['건축년도'],\n",
    "                y = data['거래금액'],\n",
    "                marker = dict(color = 'rgba(255, 174, 255, 0.5)',\n",
    "                              line=dict(color='rgb(0,0,0)',width=1.5)))\n",
    "layout = go.Layout(template= \"ygridoff\",title = '건축년도에 따른 평균 거래금액' , xaxis = dict(title = '건축년도'), yaxis = dict(title = '평균 거래금액'),font=dict(size=16))\n",
    "fig = go.Figure(data = [trace1], layout = layout)\n",
    "fig.show()"
   ]
  },
  {
   "cell_type": "markdown",
   "metadata": {},
   "source": [
    "#### 5 - 아파트 건축년도에 따른 평균 거래금액\n",
    "- 목적 : 아파트의 연식에 따른 가격차이를 파악\n",
    "\n",
    "\n",
    "- 결과 : 90년대보다 오래된 아파트는 거래된 횟수가 적은데 가격이 높게나왔다.\n",
    "\n",
    "\n",
    "- 의문점 : 거래가 된 구식 아파트의 소재지는 집값이 비싼 지역일까?"
   ]
  },
  {
   "cell_type": "markdown",
   "metadata": {},
   "source": [
    "----------------------------------------------------------------------------------------------------------------------------------------------------------"
   ]
  },
  {
   "cell_type": "code",
   "execution_count": 35,
   "metadata": {},
   "outputs": [
    {
     "data": {
      "application/vnd.jupyter.widget-view+json": {
       "model_id": "16da8840c8404c0ba91370db26d1a124",
       "version_major": 2,
       "version_minor": 0
      },
      "text/plain": [
       "FigureWidget({\n",
       "    'data': [{'hoverinfo': 'value',\n",
       "              'labels': array(['강남구', '송파구', '강동구', '서초구', …"
      ]
     },
     "metadata": {},
     "output_type": "display_data"
    }
   ],
   "source": [
    "# 구식 아파트의 소재지\n",
    "labels = df1[df1['건축년도'] <1985]['시군구명'].value_counts().index[:6]\n",
    "values = df1[df1['건축년도'] <1985]['시군구명'].value_counts().values[:6]\n",
    "\n",
    "trace = go.Pie(labels=labels, values=values,\n",
    "               hoverinfo='value', textinfo='label+percent', \n",
    "               textfont=dict(size=20),\n",
    "               marker=dict(colors=['whitesmoke','wheat','turquoise','powderblue','skyblue','salmon'], \n",
    "                           line=dict(color='rgb(100,100,100)', \n",
    "                                     width=1)\n",
    "                          )\n",
    "              )\n",
    "\n",
    "fw=go.FigureWidget(data=[trace])\n",
    "fw.update_layout(margin=dict(t=0, b=0, l=0, r=0))\n",
    "fw"
   ]
  },
  {
   "cell_type": "markdown",
   "metadata": {},
   "source": [
    "#### 6 - 1985년보다 오래된 아파트의 지역에 따른 거래량\n",
    "\n",
    "- 목적 : 연식이 오래된 아파트의 지역은 집값이 비싼 지역인지 파악\n",
    "\n",
    "\n",
    "- 결과 : 오래된 아파트가 많은 상위6개의 지역은 강동구를 제외하면 모두 아파트값이 비싼 지역임을 알 수 있다."
   ]
  },
  {
   "cell_type": "markdown",
   "metadata": {},
   "source": [
    "----------------------------------------------------------------------------------------------------------------------------------------------------------"
   ]
  },
  {
   "cell_type": "code",
   "execution_count": 36,
   "metadata": {},
   "outputs": [
    {
     "data": {
      "application/vnd.plotly.v1+json": {
       "config": {
        "linkText": "Export to plot.ly",
        "plotlyServerURL": "https://plot.ly",
        "showLink": false
       },
       "data": [
        {
         "marker": {
          "color": "deepskyblue",
          "line": {
           "color": "rgb(0,0,0)",
           "width": 0.5
          }
         },
         "type": "bar",
         "x": [
          "(0, 5]",
          "(10, 15]",
          "(15, 20]",
          "(20, 25]",
          "(25, 30]",
          "(30, 35]",
          "(35, 40]",
          "(40, 45]",
          "(45, 50]",
          "(5, 10]",
          "(50, 55]",
          "(55, 60]",
          "(60, 65]",
          "(65, 70]",
          "(70, 75]",
          "(75, 80]",
          "(80, 85]"
         ],
         "y": [
          1615,
          6596,
          19211,
          26620,
          2052,
          4854,
          2740,
          1296,
          863,
          2137,
          317,
          182,
          144,
          98,
          123,
          12,
          4
         ]
        }
       ],
       "layout": {
        "barmode": "overlay",
        "font": {
         "size": 16
        },
        "template": {
         "data": {
          "bar": [
           {
            "error_x": {
             "color": "#2a3f5f"
            },
            "error_y": {
             "color": "#2a3f5f"
            },
            "marker": {
             "line": {
              "color": "#E5ECF6",
              "width": 0.5
             }
            },
            "type": "bar"
           }
          ],
          "barpolar": [
           {
            "marker": {
             "line": {
              "color": "#E5ECF6",
              "width": 0.5
             }
            },
            "type": "barpolar"
           }
          ],
          "carpet": [
           {
            "aaxis": {
             "endlinecolor": "#2a3f5f",
             "gridcolor": "white",
             "linecolor": "white",
             "minorgridcolor": "white",
             "startlinecolor": "#2a3f5f"
            },
            "baxis": {
             "endlinecolor": "#2a3f5f",
             "gridcolor": "white",
             "linecolor": "white",
             "minorgridcolor": "white",
             "startlinecolor": "#2a3f5f"
            },
            "type": "carpet"
           }
          ],
          "choropleth": [
           {
            "colorbar": {
             "outlinewidth": 0,
             "ticks": ""
            },
            "type": "choropleth"
           }
          ],
          "contour": [
           {
            "colorbar": {
             "outlinewidth": 0,
             "ticks": ""
            },
            "colorscale": [
             [
              0,
              "#0d0887"
             ],
             [
              0.1111111111111111,
              "#46039f"
             ],
             [
              0.2222222222222222,
              "#7201a8"
             ],
             [
              0.3333333333333333,
              "#9c179e"
             ],
             [
              0.4444444444444444,
              "#bd3786"
             ],
             [
              0.5555555555555556,
              "#d8576b"
             ],
             [
              0.6666666666666666,
              "#ed7953"
             ],
             [
              0.7777777777777778,
              "#fb9f3a"
             ],
             [
              0.8888888888888888,
              "#fdca26"
             ],
             [
              1,
              "#f0f921"
             ]
            ],
            "type": "contour"
           }
          ],
          "contourcarpet": [
           {
            "colorbar": {
             "outlinewidth": 0,
             "ticks": ""
            },
            "type": "contourcarpet"
           }
          ],
          "heatmap": [
           {
            "colorbar": {
             "outlinewidth": 0,
             "ticks": ""
            },
            "colorscale": [
             [
              0,
              "#0d0887"
             ],
             [
              0.1111111111111111,
              "#46039f"
             ],
             [
              0.2222222222222222,
              "#7201a8"
             ],
             [
              0.3333333333333333,
              "#9c179e"
             ],
             [
              0.4444444444444444,
              "#bd3786"
             ],
             [
              0.5555555555555556,
              "#d8576b"
             ],
             [
              0.6666666666666666,
              "#ed7953"
             ],
             [
              0.7777777777777778,
              "#fb9f3a"
             ],
             [
              0.8888888888888888,
              "#fdca26"
             ],
             [
              1,
              "#f0f921"
             ]
            ],
            "type": "heatmap"
           }
          ],
          "heatmapgl": [
           {
            "colorbar": {
             "outlinewidth": 0,
             "ticks": ""
            },
            "colorscale": [
             [
              0,
              "#0d0887"
             ],
             [
              0.1111111111111111,
              "#46039f"
             ],
             [
              0.2222222222222222,
              "#7201a8"
             ],
             [
              0.3333333333333333,
              "#9c179e"
             ],
             [
              0.4444444444444444,
              "#bd3786"
             ],
             [
              0.5555555555555556,
              "#d8576b"
             ],
             [
              0.6666666666666666,
              "#ed7953"
             ],
             [
              0.7777777777777778,
              "#fb9f3a"
             ],
             [
              0.8888888888888888,
              "#fdca26"
             ],
             [
              1,
              "#f0f921"
             ]
            ],
            "type": "heatmapgl"
           }
          ],
          "histogram": [
           {
            "marker": {
             "colorbar": {
              "outlinewidth": 0,
              "ticks": ""
             }
            },
            "type": "histogram"
           }
          ],
          "histogram2d": [
           {
            "colorbar": {
             "outlinewidth": 0,
             "ticks": ""
            },
            "colorscale": [
             [
              0,
              "#0d0887"
             ],
             [
              0.1111111111111111,
              "#46039f"
             ],
             [
              0.2222222222222222,
              "#7201a8"
             ],
             [
              0.3333333333333333,
              "#9c179e"
             ],
             [
              0.4444444444444444,
              "#bd3786"
             ],
             [
              0.5555555555555556,
              "#d8576b"
             ],
             [
              0.6666666666666666,
              "#ed7953"
             ],
             [
              0.7777777777777778,
              "#fb9f3a"
             ],
             [
              0.8888888888888888,
              "#fdca26"
             ],
             [
              1,
              "#f0f921"
             ]
            ],
            "type": "histogram2d"
           }
          ],
          "histogram2dcontour": [
           {
            "colorbar": {
             "outlinewidth": 0,
             "ticks": ""
            },
            "colorscale": [
             [
              0,
              "#0d0887"
             ],
             [
              0.1111111111111111,
              "#46039f"
             ],
             [
              0.2222222222222222,
              "#7201a8"
             ],
             [
              0.3333333333333333,
              "#9c179e"
             ],
             [
              0.4444444444444444,
              "#bd3786"
             ],
             [
              0.5555555555555556,
              "#d8576b"
             ],
             [
              0.6666666666666666,
              "#ed7953"
             ],
             [
              0.7777777777777778,
              "#fb9f3a"
             ],
             [
              0.8888888888888888,
              "#fdca26"
             ],
             [
              1,
              "#f0f921"
             ]
            ],
            "type": "histogram2dcontour"
           }
          ],
          "mesh3d": [
           {
            "colorbar": {
             "outlinewidth": 0,
             "ticks": ""
            },
            "type": "mesh3d"
           }
          ],
          "parcoords": [
           {
            "line": {
             "colorbar": {
              "outlinewidth": 0,
              "ticks": ""
             }
            },
            "type": "parcoords"
           }
          ],
          "pie": [
           {
            "automargin": true,
            "type": "pie"
           }
          ],
          "scatter": [
           {
            "marker": {
             "colorbar": {
              "outlinewidth": 0,
              "ticks": ""
             }
            },
            "type": "scatter"
           }
          ],
          "scatter3d": [
           {
            "line": {
             "colorbar": {
              "outlinewidth": 0,
              "ticks": ""
             }
            },
            "marker": {
             "colorbar": {
              "outlinewidth": 0,
              "ticks": ""
             }
            },
            "type": "scatter3d"
           }
          ],
          "scattercarpet": [
           {
            "marker": {
             "colorbar": {
              "outlinewidth": 0,
              "ticks": ""
             }
            },
            "type": "scattercarpet"
           }
          ],
          "scattergeo": [
           {
            "marker": {
             "colorbar": {
              "outlinewidth": 0,
              "ticks": ""
             }
            },
            "type": "scattergeo"
           }
          ],
          "scattergl": [
           {
            "marker": {
             "colorbar": {
              "outlinewidth": 0,
              "ticks": ""
             }
            },
            "type": "scattergl"
           }
          ],
          "scattermapbox": [
           {
            "marker": {
             "colorbar": {
              "outlinewidth": 0,
              "ticks": ""
             }
            },
            "type": "scattermapbox"
           }
          ],
          "scatterpolar": [
           {
            "marker": {
             "colorbar": {
              "outlinewidth": 0,
              "ticks": ""
             }
            },
            "type": "scatterpolar"
           }
          ],
          "scatterpolargl": [
           {
            "marker": {
             "colorbar": {
              "outlinewidth": 0,
              "ticks": ""
             }
            },
            "type": "scatterpolargl"
           }
          ],
          "scatterternary": [
           {
            "marker": {
             "colorbar": {
              "outlinewidth": 0,
              "ticks": ""
             }
            },
            "type": "scatterternary"
           }
          ],
          "surface": [
           {
            "colorbar": {
             "outlinewidth": 0,
             "ticks": ""
            },
            "colorscale": [
             [
              0,
              "#0d0887"
             ],
             [
              0.1111111111111111,
              "#46039f"
             ],
             [
              0.2222222222222222,
              "#7201a8"
             ],
             [
              0.3333333333333333,
              "#9c179e"
             ],
             [
              0.4444444444444444,
              "#bd3786"
             ],
             [
              0.5555555555555556,
              "#d8576b"
             ],
             [
              0.6666666666666666,
              "#ed7953"
             ],
             [
              0.7777777777777778,
              "#fb9f3a"
             ],
             [
              0.8888888888888888,
              "#fdca26"
             ],
             [
              1,
              "#f0f921"
             ]
            ],
            "type": "surface"
           }
          ],
          "table": [
           {
            "cells": {
             "fill": {
              "color": "#EBF0F8"
             },
             "line": {
              "color": "white"
             }
            },
            "header": {
             "fill": {
              "color": "#C8D4E3"
             },
             "line": {
              "color": "white"
             }
            },
            "type": "table"
           }
          ]
         },
         "layout": {
          "annotationdefaults": {
           "arrowcolor": "#2a3f5f",
           "arrowhead": 0,
           "arrowwidth": 1
          },
          "autotypenumbers": "strict",
          "coloraxis": {
           "colorbar": {
            "outlinewidth": 0,
            "ticks": ""
           }
          },
          "colorscale": {
           "diverging": [
            [
             0,
             "#8e0152"
            ],
            [
             0.1,
             "#c51b7d"
            ],
            [
             0.2,
             "#de77ae"
            ],
            [
             0.3,
             "#f1b6da"
            ],
            [
             0.4,
             "#fde0ef"
            ],
            [
             0.5,
             "#f7f7f7"
            ],
            [
             0.6,
             "#e6f5d0"
            ],
            [
             0.7,
             "#b8e186"
            ],
            [
             0.8,
             "#7fbc41"
            ],
            [
             0.9,
             "#4d9221"
            ],
            [
             1,
             "#276419"
            ]
           ],
           "sequential": [
            [
             0,
             "#0d0887"
            ],
            [
             0.1111111111111111,
             "#46039f"
            ],
            [
             0.2222222222222222,
             "#7201a8"
            ],
            [
             0.3333333333333333,
             "#9c179e"
            ],
            [
             0.4444444444444444,
             "#bd3786"
            ],
            [
             0.5555555555555556,
             "#d8576b"
            ],
            [
             0.6666666666666666,
             "#ed7953"
            ],
            [
             0.7777777777777778,
             "#fb9f3a"
            ],
            [
             0.8888888888888888,
             "#fdca26"
            ],
            [
             1,
             "#f0f921"
            ]
           ],
           "sequentialminus": [
            [
             0,
             "#0d0887"
            ],
            [
             0.1111111111111111,
             "#46039f"
            ],
            [
             0.2222222222222222,
             "#7201a8"
            ],
            [
             0.3333333333333333,
             "#9c179e"
            ],
            [
             0.4444444444444444,
             "#bd3786"
            ],
            [
             0.5555555555555556,
             "#d8576b"
            ],
            [
             0.6666666666666666,
             "#ed7953"
            ],
            [
             0.7777777777777778,
             "#fb9f3a"
            ],
            [
             0.8888888888888888,
             "#fdca26"
            ],
            [
             1,
             "#f0f921"
            ]
           ]
          },
          "colorway": [
           "#636efa",
           "#EF553B",
           "#00cc96",
           "#ab63fa",
           "#FFA15A",
           "#19d3f3",
           "#FF6692",
           "#B6E880",
           "#FF97FF",
           "#FECB52"
          ],
          "font": {
           "color": "#2a3f5f"
          },
          "geo": {
           "bgcolor": "white",
           "lakecolor": "white",
           "landcolor": "#E5ECF6",
           "showlakes": true,
           "showland": true,
           "subunitcolor": "white"
          },
          "hoverlabel": {
           "align": "left"
          },
          "hovermode": "closest",
          "mapbox": {
           "style": "light"
          },
          "paper_bgcolor": "white",
          "plot_bgcolor": "#E5ECF6",
          "polar": {
           "angularaxis": {
            "gridcolor": "white",
            "linecolor": "white",
            "ticks": ""
           },
           "bgcolor": "#E5ECF6",
           "radialaxis": {
            "gridcolor": "white",
            "linecolor": "white",
            "ticks": ""
           }
          },
          "scene": {
           "xaxis": {
            "backgroundcolor": "#E5ECF6",
            "gridcolor": "white",
            "gridwidth": 2,
            "linecolor": "white",
            "showbackground": true,
            "ticks": "",
            "zerolinecolor": "white"
           },
           "yaxis": {
            "backgroundcolor": "#E5ECF6",
            "gridcolor": "white",
            "gridwidth": 2,
            "linecolor": "white",
            "showbackground": true,
            "ticks": "",
            "zerolinecolor": "white"
           },
           "zaxis": {
            "backgroundcolor": "#E5ECF6",
            "gridcolor": "white",
            "gridwidth": 2,
            "linecolor": "white",
            "showbackground": true,
            "ticks": "",
            "zerolinecolor": "white"
           }
          },
          "shapedefaults": {
           "line": {
            "color": "#2a3f5f"
           }
          },
          "ternary": {
           "aaxis": {
            "gridcolor": "white",
            "linecolor": "white",
            "ticks": ""
           },
           "baxis": {
            "gridcolor": "white",
            "linecolor": "white",
            "ticks": ""
           },
           "bgcolor": "#E5ECF6",
           "caxis": {
            "gridcolor": "white",
            "linecolor": "white",
            "ticks": ""
           }
          },
          "title": {
           "x": 0.05
          },
          "xaxis": {
           "automargin": true,
           "gridcolor": "white",
           "linecolor": "white",
           "ticks": "",
           "title": {
            "standoff": 15
           },
           "zerolinecolor": "white",
           "zerolinewidth": 2
          },
          "yaxis": {
           "automargin": true,
           "gridcolor": "white",
           "linecolor": "white",
           "ticks": "",
           "title": {
            "standoff": 15
           },
           "zerolinecolor": "white",
           "zerolinewidth": 2
          }
         }
        },
        "title": {
         "text": "평수별 거래량"
        },
        "xaxis": {
         "title": {
          "text": "평수"
         }
        },
        "yaxis": {
         "title": {
          "text": "Count"
         }
        }
       }
      },
      "text/html": [
       "<div>                            <div id=\"8242c42a-4e53-4433-84b3-b39b62b9d2da\" class=\"plotly-graph-div\" style=\"height:525px; width:100%;\"></div>            <script type=\"text/javascript\">                require([\"plotly\"], function(Plotly) {                    window.PLOTLYENV=window.PLOTLYENV || {};                                    if (document.getElementById(\"8242c42a-4e53-4433-84b3-b39b62b9d2da\")) {                    Plotly.newPlot(                        \"8242c42a-4e53-4433-84b3-b39b62b9d2da\",                        [{\"marker\": {\"color\": \"deepskyblue\", \"line\": {\"color\": \"rgb(0,0,0)\", \"width\": 0.5}}, \"type\": \"bar\", \"x\": [\"(0, 5]\", \"(10, 15]\", \"(15, 20]\", \"(20, 25]\", \"(25, 30]\", \"(30, 35]\", \"(35, 40]\", \"(40, 45]\", \"(45, 50]\", \"(5, 10]\", \"(50, 55]\", \"(55, 60]\", \"(60, 65]\", \"(65, 70]\", \"(70, 75]\", \"(75, 80]\", \"(80, 85]\"], \"y\": [1615, 6596, 19211, 26620, 2052, 4854, 2740, 1296, 863, 2137, 317, 182, 144, 98, 123, 12, 4]}],                        {\"barmode\": \"overlay\", \"font\": {\"size\": 16}, \"template\": {\"data\": {\"bar\": [{\"error_x\": {\"color\": \"#2a3f5f\"}, \"error_y\": {\"color\": \"#2a3f5f\"}, \"marker\": {\"line\": {\"color\": \"#E5ECF6\", \"width\": 0.5}}, \"type\": \"bar\"}], \"barpolar\": [{\"marker\": {\"line\": {\"color\": \"#E5ECF6\", \"width\": 0.5}}, \"type\": \"barpolar\"}], \"carpet\": [{\"aaxis\": {\"endlinecolor\": \"#2a3f5f\", \"gridcolor\": \"white\", \"linecolor\": \"white\", \"minorgridcolor\": \"white\", \"startlinecolor\": \"#2a3f5f\"}, \"baxis\": {\"endlinecolor\": \"#2a3f5f\", \"gridcolor\": \"white\", \"linecolor\": \"white\", \"minorgridcolor\": \"white\", \"startlinecolor\": \"#2a3f5f\"}, \"type\": \"carpet\"}], \"choropleth\": [{\"colorbar\": {\"outlinewidth\": 0, \"ticks\": \"\"}, \"type\": \"choropleth\"}], \"contour\": [{\"colorbar\": {\"outlinewidth\": 0, \"ticks\": \"\"}, \"colorscale\": [[0.0, \"#0d0887\"], [0.1111111111111111, \"#46039f\"], [0.2222222222222222, \"#7201a8\"], [0.3333333333333333, \"#9c179e\"], [0.4444444444444444, \"#bd3786\"], [0.5555555555555556, \"#d8576b\"], [0.6666666666666666, \"#ed7953\"], [0.7777777777777778, \"#fb9f3a\"], [0.8888888888888888, \"#fdca26\"], [1.0, \"#f0f921\"]], \"type\": \"contour\"}], \"contourcarpet\": [{\"colorbar\": {\"outlinewidth\": 0, \"ticks\": \"\"}, \"type\": \"contourcarpet\"}], \"heatmap\": [{\"colorbar\": {\"outlinewidth\": 0, \"ticks\": \"\"}, \"colorscale\": [[0.0, \"#0d0887\"], [0.1111111111111111, \"#46039f\"], [0.2222222222222222, \"#7201a8\"], [0.3333333333333333, \"#9c179e\"], [0.4444444444444444, \"#bd3786\"], [0.5555555555555556, \"#d8576b\"], [0.6666666666666666, \"#ed7953\"], [0.7777777777777778, \"#fb9f3a\"], [0.8888888888888888, \"#fdca26\"], [1.0, \"#f0f921\"]], \"type\": \"heatmap\"}], \"heatmapgl\": [{\"colorbar\": {\"outlinewidth\": 0, \"ticks\": \"\"}, \"colorscale\": [[0.0, \"#0d0887\"], [0.1111111111111111, \"#46039f\"], [0.2222222222222222, \"#7201a8\"], [0.3333333333333333, \"#9c179e\"], [0.4444444444444444, \"#bd3786\"], [0.5555555555555556, \"#d8576b\"], [0.6666666666666666, \"#ed7953\"], [0.7777777777777778, \"#fb9f3a\"], [0.8888888888888888, \"#fdca26\"], [1.0, \"#f0f921\"]], \"type\": \"heatmapgl\"}], \"histogram\": [{\"marker\": {\"colorbar\": {\"outlinewidth\": 0, \"ticks\": \"\"}}, \"type\": \"histogram\"}], \"histogram2d\": [{\"colorbar\": {\"outlinewidth\": 0, \"ticks\": \"\"}, \"colorscale\": [[0.0, \"#0d0887\"], [0.1111111111111111, \"#46039f\"], [0.2222222222222222, \"#7201a8\"], [0.3333333333333333, \"#9c179e\"], [0.4444444444444444, \"#bd3786\"], [0.5555555555555556, \"#d8576b\"], [0.6666666666666666, \"#ed7953\"], [0.7777777777777778, \"#fb9f3a\"], [0.8888888888888888, \"#fdca26\"], [1.0, \"#f0f921\"]], \"type\": \"histogram2d\"}], \"histogram2dcontour\": [{\"colorbar\": {\"outlinewidth\": 0, \"ticks\": \"\"}, \"colorscale\": [[0.0, \"#0d0887\"], [0.1111111111111111, \"#46039f\"], [0.2222222222222222, \"#7201a8\"], [0.3333333333333333, \"#9c179e\"], [0.4444444444444444, \"#bd3786\"], [0.5555555555555556, \"#d8576b\"], [0.6666666666666666, \"#ed7953\"], [0.7777777777777778, \"#fb9f3a\"], [0.8888888888888888, \"#fdca26\"], [1.0, \"#f0f921\"]], \"type\": \"histogram2dcontour\"}], \"mesh3d\": [{\"colorbar\": {\"outlinewidth\": 0, \"ticks\": \"\"}, \"type\": \"mesh3d\"}], \"parcoords\": [{\"line\": {\"colorbar\": {\"outlinewidth\": 0, \"ticks\": \"\"}}, \"type\": \"parcoords\"}], \"pie\": [{\"automargin\": true, \"type\": \"pie\"}], \"scatter\": [{\"marker\": {\"colorbar\": {\"outlinewidth\": 0, \"ticks\": \"\"}}, \"type\": \"scatter\"}], \"scatter3d\": [{\"line\": {\"colorbar\": {\"outlinewidth\": 0, \"ticks\": \"\"}}, \"marker\": {\"colorbar\": {\"outlinewidth\": 0, \"ticks\": \"\"}}, \"type\": \"scatter3d\"}], \"scattercarpet\": [{\"marker\": {\"colorbar\": {\"outlinewidth\": 0, \"ticks\": \"\"}}, \"type\": \"scattercarpet\"}], \"scattergeo\": [{\"marker\": {\"colorbar\": {\"outlinewidth\": 0, \"ticks\": \"\"}}, \"type\": \"scattergeo\"}], \"scattergl\": [{\"marker\": {\"colorbar\": {\"outlinewidth\": 0, \"ticks\": \"\"}}, \"type\": \"scattergl\"}], \"scattermapbox\": [{\"marker\": {\"colorbar\": {\"outlinewidth\": 0, \"ticks\": \"\"}}, \"type\": \"scattermapbox\"}], \"scatterpolar\": [{\"marker\": {\"colorbar\": {\"outlinewidth\": 0, \"ticks\": \"\"}}, \"type\": \"scatterpolar\"}], \"scatterpolargl\": [{\"marker\": {\"colorbar\": {\"outlinewidth\": 0, \"ticks\": \"\"}}, \"type\": \"scatterpolargl\"}], \"scatterternary\": [{\"marker\": {\"colorbar\": {\"outlinewidth\": 0, \"ticks\": \"\"}}, \"type\": \"scatterternary\"}], \"surface\": [{\"colorbar\": {\"outlinewidth\": 0, \"ticks\": \"\"}, \"colorscale\": [[0.0, \"#0d0887\"], [0.1111111111111111, \"#46039f\"], [0.2222222222222222, \"#7201a8\"], [0.3333333333333333, \"#9c179e\"], [0.4444444444444444, \"#bd3786\"], [0.5555555555555556, \"#d8576b\"], [0.6666666666666666, \"#ed7953\"], [0.7777777777777778, \"#fb9f3a\"], [0.8888888888888888, \"#fdca26\"], [1.0, \"#f0f921\"]], \"type\": \"surface\"}], \"table\": [{\"cells\": {\"fill\": {\"color\": \"#EBF0F8\"}, \"line\": {\"color\": \"white\"}}, \"header\": {\"fill\": {\"color\": \"#C8D4E3\"}, \"line\": {\"color\": \"white\"}}, \"type\": \"table\"}]}, \"layout\": {\"annotationdefaults\": {\"arrowcolor\": \"#2a3f5f\", \"arrowhead\": 0, \"arrowwidth\": 1}, \"autotypenumbers\": \"strict\", \"coloraxis\": {\"colorbar\": {\"outlinewidth\": 0, \"ticks\": \"\"}}, \"colorscale\": {\"diverging\": [[0, \"#8e0152\"], [0.1, \"#c51b7d\"], [0.2, \"#de77ae\"], [0.3, \"#f1b6da\"], [0.4, \"#fde0ef\"], [0.5, \"#f7f7f7\"], [0.6, \"#e6f5d0\"], [0.7, \"#b8e186\"], [0.8, \"#7fbc41\"], [0.9, \"#4d9221\"], [1, \"#276419\"]], \"sequential\": [[0.0, \"#0d0887\"], [0.1111111111111111, \"#46039f\"], [0.2222222222222222, \"#7201a8\"], [0.3333333333333333, \"#9c179e\"], [0.4444444444444444, \"#bd3786\"], [0.5555555555555556, \"#d8576b\"], [0.6666666666666666, \"#ed7953\"], [0.7777777777777778, \"#fb9f3a\"], [0.8888888888888888, \"#fdca26\"], [1.0, \"#f0f921\"]], \"sequentialminus\": [[0.0, \"#0d0887\"], [0.1111111111111111, \"#46039f\"], [0.2222222222222222, \"#7201a8\"], [0.3333333333333333, \"#9c179e\"], [0.4444444444444444, \"#bd3786\"], [0.5555555555555556, \"#d8576b\"], [0.6666666666666666, \"#ed7953\"], [0.7777777777777778, \"#fb9f3a\"], [0.8888888888888888, \"#fdca26\"], [1.0, \"#f0f921\"]]}, \"colorway\": [\"#636efa\", \"#EF553B\", \"#00cc96\", \"#ab63fa\", \"#FFA15A\", \"#19d3f3\", \"#FF6692\", \"#B6E880\", \"#FF97FF\", \"#FECB52\"], \"font\": {\"color\": \"#2a3f5f\"}, \"geo\": {\"bgcolor\": \"white\", \"lakecolor\": \"white\", \"landcolor\": \"#E5ECF6\", \"showlakes\": true, \"showland\": true, \"subunitcolor\": \"white\"}, \"hoverlabel\": {\"align\": \"left\"}, \"hovermode\": \"closest\", \"mapbox\": {\"style\": \"light\"}, \"paper_bgcolor\": \"white\", \"plot_bgcolor\": \"#E5ECF6\", \"polar\": {\"angularaxis\": {\"gridcolor\": \"white\", \"linecolor\": \"white\", \"ticks\": \"\"}, \"bgcolor\": \"#E5ECF6\", \"radialaxis\": {\"gridcolor\": \"white\", \"linecolor\": \"white\", \"ticks\": \"\"}}, \"scene\": {\"xaxis\": {\"backgroundcolor\": \"#E5ECF6\", \"gridcolor\": \"white\", \"gridwidth\": 2, \"linecolor\": \"white\", \"showbackground\": true, \"ticks\": \"\", \"zerolinecolor\": \"white\"}, \"yaxis\": {\"backgroundcolor\": \"#E5ECF6\", \"gridcolor\": \"white\", \"gridwidth\": 2, \"linecolor\": \"white\", \"showbackground\": true, \"ticks\": \"\", \"zerolinecolor\": \"white\"}, \"zaxis\": {\"backgroundcolor\": \"#E5ECF6\", \"gridcolor\": \"white\", \"gridwidth\": 2, \"linecolor\": \"white\", \"showbackground\": true, \"ticks\": \"\", \"zerolinecolor\": \"white\"}}, \"shapedefaults\": {\"line\": {\"color\": \"#2a3f5f\"}}, \"ternary\": {\"aaxis\": {\"gridcolor\": \"white\", \"linecolor\": \"white\", \"ticks\": \"\"}, \"baxis\": {\"gridcolor\": \"white\", \"linecolor\": \"white\", \"ticks\": \"\"}, \"bgcolor\": \"#E5ECF6\", \"caxis\": {\"gridcolor\": \"white\", \"linecolor\": \"white\", \"ticks\": \"\"}}, \"title\": {\"x\": 0.05}, \"xaxis\": {\"automargin\": true, \"gridcolor\": \"white\", \"linecolor\": \"white\", \"ticks\": \"\", \"title\": {\"standoff\": 15}, \"zerolinecolor\": \"white\", \"zerolinewidth\": 2}, \"yaxis\": {\"automargin\": true, \"gridcolor\": \"white\", \"linecolor\": \"white\", \"ticks\": \"\", \"title\": {\"standoff\": 15}, \"zerolinecolor\": \"white\", \"zerolinewidth\": 2}}}, \"title\": {\"text\": \"\\ud3c9\\uc218\\ubcc4 \\uac70\\ub798\\ub7c9\"}, \"xaxis\": {\"title\": {\"text\": \"\\ud3c9\\uc218\"}}, \"yaxis\": {\"title\": {\"text\": \"Count\"}}},                        {\"responsive\": true}                    ).then(function(){\n",
       "                            \n",
       "var gd = document.getElementById('8242c42a-4e53-4433-84b3-b39b62b9d2da');\n",
       "var x = new MutationObserver(function (mutations, observer) {{\n",
       "        var display = window.getComputedStyle(gd).display;\n",
       "        if (!display || display === 'none') {{\n",
       "            console.log([gd, 'removed!']);\n",
       "            Plotly.purge(gd);\n",
       "            observer.disconnect();\n",
       "        }}\n",
       "}});\n",
       "\n",
       "// Listen for the removal of the full notebook cells\n",
       "var notebookContainer = gd.closest('#notebook-container');\n",
       "if (notebookContainer) {{\n",
       "    x.observe(notebookContainer, {childList: true});\n",
       "}}\n",
       "\n",
       "// Listen for the clearing of the current output cell\n",
       "var outputEl = gd.closest('.output');\n",
       "if (outputEl) {{\n",
       "    x.observe(outputEl, {childList: true});\n",
       "}}\n",
       "\n",
       "                        })                };                });            </script>        </div>"
      ]
     },
     "metadata": {},
     "output_type": "display_data"
    }
   ],
   "source": [
    "data = df1.groupby('전용면적(평)3')['거래금액'].agg(['count']).reset_index().sort_values(by='전용면적(평)3')\n",
    "\n",
    "trace1 = go.Bar(\n",
    "                x = data['전용면적(평)3'],\n",
    "                y = data['count'],\n",
    "                marker = dict(color = 'deepskyblue',\n",
    "                             line=dict(color='rgb(0,0,0)',width=.5),\n",
    "                             ))\n",
    "\n",
    "data = [trace1]\n",
    "layout = go.Layout(barmode='overlay',\n",
    "                   title='평수별 거래량',\n",
    "                   xaxis=dict(title='평수'),\n",
    "                   yaxis=dict( title='Count'),\n",
    "                   font=dict(size=16),\n",
    "                  )\n",
    "\n",
    "fig = go.Figure(data = data, layout = layout,)\n",
    "iplot(fig)"
   ]
  },
  {
   "cell_type": "markdown",
   "metadata": {},
   "source": [
    "#### 7 - 아파트 평수별 거래량\n",
    "- 목적 : 어떤 평수의 아파트가 많이 거래되었는지 파악\n",
    "\n",
    "\n",
    "- 결과 : 15~25 평의 아파트가 많이 거래되었다."
   ]
  },
  {
   "cell_type": "markdown",
   "metadata": {},
   "source": [
    "----------------------------------------------------------------------------------------------------------------------------------------------------------"
   ]
  },
  {
   "cell_type": "code",
   "execution_count": 37,
   "metadata": {
    "scrolled": false
   },
   "outputs": [
    {
     "data": {
      "application/vnd.plotly.v1+json": {
       "config": {
        "linkText": "Export to plot.ly",
        "plotlyServerURL": "https://plot.ly",
        "showLink": false
       },
       "data": [
        {
         "hovertemplate": "전용면적(평)3=(10, 15]<br>거래월=%{x}<br>평균 거래량=%{y}<extra></extra>",
         "legendgroup": "(10, 15]",
         "line": {
          "color": "#636efa",
          "dash": "solid"
         },
         "mode": "lines",
         "name": "(10, 15]",
         "orientation": "v",
         "showlegend": true,
         "type": "scatter",
         "x": [
          1,
          2,
          3,
          4,
          5,
          6,
          7,
          8,
          9,
          10,
          11,
          12
         ],
         "xaxis": "x",
         "y": [
          198,
          157,
          272,
          320,
          431,
          648,
          828,
          596,
          662,
          1016,
          975,
          493
         ],
         "yaxis": "y"
        },
        {
         "hovertemplate": "전용면적(평)3=(15, 20]<br>거래월=%{x}<br>평균 거래량=%{y}<extra></extra>",
         "legendgroup": "(15, 20]",
         "line": {
          "color": "#EF553B",
          "dash": "solid"
         },
         "mode": "lines",
         "name": "(15, 20]",
         "orientation": "v",
         "showlegend": true,
         "type": "scatter",
         "x": [
          1,
          2,
          3,
          4,
          5,
          6,
          7,
          8,
          9,
          10,
          11,
          12
         ],
         "xaxis": "x",
         "y": [
          417,
          386,
          579,
          827,
          1224,
          1897,
          2513,
          1968,
          1901,
          3184,
          3061,
          1254
         ],
         "yaxis": "y"
        },
        {
         "hovertemplate": "전용면적(평)3=(20, 25]<br>거래월=%{x}<br>평균 거래량=%{y}<extra></extra>",
         "legendgroup": "(20, 25]",
         "line": {
          "color": "#00cc96",
          "dash": "solid"
         },
         "mode": "lines",
         "name": "(20, 25]",
         "orientation": "v",
         "showlegend": true,
         "type": "scatter",
         "x": [
          1,
          2,
          3,
          4,
          5,
          6,
          7,
          8,
          9,
          10,
          11,
          12
         ],
         "xaxis": "x",
         "y": [
          539,
          511,
          805,
          1102,
          1591,
          2660,
          3451,
          2608,
          2811,
          4667,
          4287,
          1588
         ],
         "yaxis": "y"
        },
        {
         "hovertemplate": "전용면적(평)3=(30, 35]<br>거래월=%{x}<br>평균 거래량=%{y}<extra></extra>",
         "legendgroup": "(30, 35]",
         "line": {
          "color": "#ab63fa",
          "dash": "solid"
         },
         "mode": "lines",
         "name": "(30, 35]",
         "orientation": "v",
         "showlegend": true,
         "type": "scatter",
         "x": [
          1,
          2,
          3,
          4,
          5,
          6,
          7,
          8,
          9,
          10,
          11,
          12
         ],
         "xaxis": "x",
         "y": [
          113,
          92,
          139,
          173,
          285,
          432,
          630,
          477,
          508,
          892,
          789,
          324
         ],
         "yaxis": "y"
        },
        {
         "hovertemplate": "전용면적(평)3=(35, 40]<br>거래월=%{x}<br>평균 거래량=%{y}<extra></extra>",
         "legendgroup": "(35, 40]",
         "line": {
          "color": "#FFA15A",
          "dash": "solid"
         },
         "mode": "lines",
         "name": "(35, 40]",
         "orientation": "v",
         "showlegend": true,
         "type": "scatter",
         "x": [
          1,
          2,
          3,
          4,
          5,
          6,
          7,
          8,
          9,
          10,
          11,
          12
         ],
         "xaxis": "x",
         "y": [
          61,
          42,
          97,
          113,
          203,
          313,
          376,
          242,
          292,
          492,
          381,
          128
         ],
         "yaxis": "y"
        }
       ],
       "layout": {
        "legend": {
         "title": {
          "text": "전용면적(평)3"
         },
         "tracegroupgap": 0
        },
        "margin": {
         "t": 60
        },
        "template": {
         "data": {
          "bar": [
           {
            "error_x": {
             "color": "#2a3f5f"
            },
            "error_y": {
             "color": "#2a3f5f"
            },
            "marker": {
             "line": {
              "color": "#E5ECF6",
              "width": 0.5
             }
            },
            "type": "bar"
           }
          ],
          "barpolar": [
           {
            "marker": {
             "line": {
              "color": "#E5ECF6",
              "width": 0.5
             }
            },
            "type": "barpolar"
           }
          ],
          "carpet": [
           {
            "aaxis": {
             "endlinecolor": "#2a3f5f",
             "gridcolor": "white",
             "linecolor": "white",
             "minorgridcolor": "white",
             "startlinecolor": "#2a3f5f"
            },
            "baxis": {
             "endlinecolor": "#2a3f5f",
             "gridcolor": "white",
             "linecolor": "white",
             "minorgridcolor": "white",
             "startlinecolor": "#2a3f5f"
            },
            "type": "carpet"
           }
          ],
          "choropleth": [
           {
            "colorbar": {
             "outlinewidth": 0,
             "ticks": ""
            },
            "type": "choropleth"
           }
          ],
          "contour": [
           {
            "colorbar": {
             "outlinewidth": 0,
             "ticks": ""
            },
            "colorscale": [
             [
              0,
              "#0d0887"
             ],
             [
              0.1111111111111111,
              "#46039f"
             ],
             [
              0.2222222222222222,
              "#7201a8"
             ],
             [
              0.3333333333333333,
              "#9c179e"
             ],
             [
              0.4444444444444444,
              "#bd3786"
             ],
             [
              0.5555555555555556,
              "#d8576b"
             ],
             [
              0.6666666666666666,
              "#ed7953"
             ],
             [
              0.7777777777777778,
              "#fb9f3a"
             ],
             [
              0.8888888888888888,
              "#fdca26"
             ],
             [
              1,
              "#f0f921"
             ]
            ],
            "type": "contour"
           }
          ],
          "contourcarpet": [
           {
            "colorbar": {
             "outlinewidth": 0,
             "ticks": ""
            },
            "type": "contourcarpet"
           }
          ],
          "heatmap": [
           {
            "colorbar": {
             "outlinewidth": 0,
             "ticks": ""
            },
            "colorscale": [
             [
              0,
              "#0d0887"
             ],
             [
              0.1111111111111111,
              "#46039f"
             ],
             [
              0.2222222222222222,
              "#7201a8"
             ],
             [
              0.3333333333333333,
              "#9c179e"
             ],
             [
              0.4444444444444444,
              "#bd3786"
             ],
             [
              0.5555555555555556,
              "#d8576b"
             ],
             [
              0.6666666666666666,
              "#ed7953"
             ],
             [
              0.7777777777777778,
              "#fb9f3a"
             ],
             [
              0.8888888888888888,
              "#fdca26"
             ],
             [
              1,
              "#f0f921"
             ]
            ],
            "type": "heatmap"
           }
          ],
          "heatmapgl": [
           {
            "colorbar": {
             "outlinewidth": 0,
             "ticks": ""
            },
            "colorscale": [
             [
              0,
              "#0d0887"
             ],
             [
              0.1111111111111111,
              "#46039f"
             ],
             [
              0.2222222222222222,
              "#7201a8"
             ],
             [
              0.3333333333333333,
              "#9c179e"
             ],
             [
              0.4444444444444444,
              "#bd3786"
             ],
             [
              0.5555555555555556,
              "#d8576b"
             ],
             [
              0.6666666666666666,
              "#ed7953"
             ],
             [
              0.7777777777777778,
              "#fb9f3a"
             ],
             [
              0.8888888888888888,
              "#fdca26"
             ],
             [
              1,
              "#f0f921"
             ]
            ],
            "type": "heatmapgl"
           }
          ],
          "histogram": [
           {
            "marker": {
             "colorbar": {
              "outlinewidth": 0,
              "ticks": ""
             }
            },
            "type": "histogram"
           }
          ],
          "histogram2d": [
           {
            "colorbar": {
             "outlinewidth": 0,
             "ticks": ""
            },
            "colorscale": [
             [
              0,
              "#0d0887"
             ],
             [
              0.1111111111111111,
              "#46039f"
             ],
             [
              0.2222222222222222,
              "#7201a8"
             ],
             [
              0.3333333333333333,
              "#9c179e"
             ],
             [
              0.4444444444444444,
              "#bd3786"
             ],
             [
              0.5555555555555556,
              "#d8576b"
             ],
             [
              0.6666666666666666,
              "#ed7953"
             ],
             [
              0.7777777777777778,
              "#fb9f3a"
             ],
             [
              0.8888888888888888,
              "#fdca26"
             ],
             [
              1,
              "#f0f921"
             ]
            ],
            "type": "histogram2d"
           }
          ],
          "histogram2dcontour": [
           {
            "colorbar": {
             "outlinewidth": 0,
             "ticks": ""
            },
            "colorscale": [
             [
              0,
              "#0d0887"
             ],
             [
              0.1111111111111111,
              "#46039f"
             ],
             [
              0.2222222222222222,
              "#7201a8"
             ],
             [
              0.3333333333333333,
              "#9c179e"
             ],
             [
              0.4444444444444444,
              "#bd3786"
             ],
             [
              0.5555555555555556,
              "#d8576b"
             ],
             [
              0.6666666666666666,
              "#ed7953"
             ],
             [
              0.7777777777777778,
              "#fb9f3a"
             ],
             [
              0.8888888888888888,
              "#fdca26"
             ],
             [
              1,
              "#f0f921"
             ]
            ],
            "type": "histogram2dcontour"
           }
          ],
          "mesh3d": [
           {
            "colorbar": {
             "outlinewidth": 0,
             "ticks": ""
            },
            "type": "mesh3d"
           }
          ],
          "parcoords": [
           {
            "line": {
             "colorbar": {
              "outlinewidth": 0,
              "ticks": ""
             }
            },
            "type": "parcoords"
           }
          ],
          "pie": [
           {
            "automargin": true,
            "type": "pie"
           }
          ],
          "scatter": [
           {
            "marker": {
             "colorbar": {
              "outlinewidth": 0,
              "ticks": ""
             }
            },
            "type": "scatter"
           }
          ],
          "scatter3d": [
           {
            "line": {
             "colorbar": {
              "outlinewidth": 0,
              "ticks": ""
             }
            },
            "marker": {
             "colorbar": {
              "outlinewidth": 0,
              "ticks": ""
             }
            },
            "type": "scatter3d"
           }
          ],
          "scattercarpet": [
           {
            "marker": {
             "colorbar": {
              "outlinewidth": 0,
              "ticks": ""
             }
            },
            "type": "scattercarpet"
           }
          ],
          "scattergeo": [
           {
            "marker": {
             "colorbar": {
              "outlinewidth": 0,
              "ticks": ""
             }
            },
            "type": "scattergeo"
           }
          ],
          "scattergl": [
           {
            "marker": {
             "colorbar": {
              "outlinewidth": 0,
              "ticks": ""
             }
            },
            "type": "scattergl"
           }
          ],
          "scattermapbox": [
           {
            "marker": {
             "colorbar": {
              "outlinewidth": 0,
              "ticks": ""
             }
            },
            "type": "scattermapbox"
           }
          ],
          "scatterpolar": [
           {
            "marker": {
             "colorbar": {
              "outlinewidth": 0,
              "ticks": ""
             }
            },
            "type": "scatterpolar"
           }
          ],
          "scatterpolargl": [
           {
            "marker": {
             "colorbar": {
              "outlinewidth": 0,
              "ticks": ""
             }
            },
            "type": "scatterpolargl"
           }
          ],
          "scatterternary": [
           {
            "marker": {
             "colorbar": {
              "outlinewidth": 0,
              "ticks": ""
             }
            },
            "type": "scatterternary"
           }
          ],
          "surface": [
           {
            "colorbar": {
             "outlinewidth": 0,
             "ticks": ""
            },
            "colorscale": [
             [
              0,
              "#0d0887"
             ],
             [
              0.1111111111111111,
              "#46039f"
             ],
             [
              0.2222222222222222,
              "#7201a8"
             ],
             [
              0.3333333333333333,
              "#9c179e"
             ],
             [
              0.4444444444444444,
              "#bd3786"
             ],
             [
              0.5555555555555556,
              "#d8576b"
             ],
             [
              0.6666666666666666,
              "#ed7953"
             ],
             [
              0.7777777777777778,
              "#fb9f3a"
             ],
             [
              0.8888888888888888,
              "#fdca26"
             ],
             [
              1,
              "#f0f921"
             ]
            ],
            "type": "surface"
           }
          ],
          "table": [
           {
            "cells": {
             "fill": {
              "color": "#EBF0F8"
             },
             "line": {
              "color": "white"
             }
            },
            "header": {
             "fill": {
              "color": "#C8D4E3"
             },
             "line": {
              "color": "white"
             }
            },
            "type": "table"
           }
          ]
         },
         "layout": {
          "annotationdefaults": {
           "arrowcolor": "#2a3f5f",
           "arrowhead": 0,
           "arrowwidth": 1
          },
          "autotypenumbers": "strict",
          "coloraxis": {
           "colorbar": {
            "outlinewidth": 0,
            "ticks": ""
           }
          },
          "colorscale": {
           "diverging": [
            [
             0,
             "#8e0152"
            ],
            [
             0.1,
             "#c51b7d"
            ],
            [
             0.2,
             "#de77ae"
            ],
            [
             0.3,
             "#f1b6da"
            ],
            [
             0.4,
             "#fde0ef"
            ],
            [
             0.5,
             "#f7f7f7"
            ],
            [
             0.6,
             "#e6f5d0"
            ],
            [
             0.7,
             "#b8e186"
            ],
            [
             0.8,
             "#7fbc41"
            ],
            [
             0.9,
             "#4d9221"
            ],
            [
             1,
             "#276419"
            ]
           ],
           "sequential": [
            [
             0,
             "#0d0887"
            ],
            [
             0.1111111111111111,
             "#46039f"
            ],
            [
             0.2222222222222222,
             "#7201a8"
            ],
            [
             0.3333333333333333,
             "#9c179e"
            ],
            [
             0.4444444444444444,
             "#bd3786"
            ],
            [
             0.5555555555555556,
             "#d8576b"
            ],
            [
             0.6666666666666666,
             "#ed7953"
            ],
            [
             0.7777777777777778,
             "#fb9f3a"
            ],
            [
             0.8888888888888888,
             "#fdca26"
            ],
            [
             1,
             "#f0f921"
            ]
           ],
           "sequentialminus": [
            [
             0,
             "#0d0887"
            ],
            [
             0.1111111111111111,
             "#46039f"
            ],
            [
             0.2222222222222222,
             "#7201a8"
            ],
            [
             0.3333333333333333,
             "#9c179e"
            ],
            [
             0.4444444444444444,
             "#bd3786"
            ],
            [
             0.5555555555555556,
             "#d8576b"
            ],
            [
             0.6666666666666666,
             "#ed7953"
            ],
            [
             0.7777777777777778,
             "#fb9f3a"
            ],
            [
             0.8888888888888888,
             "#fdca26"
            ],
            [
             1,
             "#f0f921"
            ]
           ]
          },
          "colorway": [
           "#636efa",
           "#EF553B",
           "#00cc96",
           "#ab63fa",
           "#FFA15A",
           "#19d3f3",
           "#FF6692",
           "#B6E880",
           "#FF97FF",
           "#FECB52"
          ],
          "font": {
           "color": "#2a3f5f"
          },
          "geo": {
           "bgcolor": "white",
           "lakecolor": "white",
           "landcolor": "#E5ECF6",
           "showlakes": true,
           "showland": true,
           "subunitcolor": "white"
          },
          "hoverlabel": {
           "align": "left"
          },
          "hovermode": "closest",
          "mapbox": {
           "style": "light"
          },
          "paper_bgcolor": "white",
          "plot_bgcolor": "#E5ECF6",
          "polar": {
           "angularaxis": {
            "gridcolor": "white",
            "linecolor": "white",
            "ticks": ""
           },
           "bgcolor": "#E5ECF6",
           "radialaxis": {
            "gridcolor": "white",
            "linecolor": "white",
            "ticks": ""
           }
          },
          "scene": {
           "xaxis": {
            "backgroundcolor": "#E5ECF6",
            "gridcolor": "white",
            "gridwidth": 2,
            "linecolor": "white",
            "showbackground": true,
            "ticks": "",
            "zerolinecolor": "white"
           },
           "yaxis": {
            "backgroundcolor": "#E5ECF6",
            "gridcolor": "white",
            "gridwidth": 2,
            "linecolor": "white",
            "showbackground": true,
            "ticks": "",
            "zerolinecolor": "white"
           },
           "zaxis": {
            "backgroundcolor": "#E5ECF6",
            "gridcolor": "white",
            "gridwidth": 2,
            "linecolor": "white",
            "showbackground": true,
            "ticks": "",
            "zerolinecolor": "white"
           }
          },
          "shapedefaults": {
           "line": {
            "color": "#2a3f5f"
           }
          },
          "ternary": {
           "aaxis": {
            "gridcolor": "white",
            "linecolor": "white",
            "ticks": ""
           },
           "baxis": {
            "gridcolor": "white",
            "linecolor": "white",
            "ticks": ""
           },
           "bgcolor": "#E5ECF6",
           "caxis": {
            "gridcolor": "white",
            "linecolor": "white",
            "ticks": ""
           }
          },
          "title": {
           "x": 0.05
          },
          "xaxis": {
           "automargin": true,
           "gridcolor": "white",
           "linecolor": "white",
           "ticks": "",
           "title": {
            "standoff": 15
           },
           "zerolinecolor": "white",
           "zerolinewidth": 2
          },
          "yaxis": {
           "automargin": true,
           "gridcolor": "white",
           "linecolor": "white",
           "ticks": "",
           "title": {
            "standoff": 15
           },
           "zerolinecolor": "white",
           "zerolinewidth": 2
          }
         }
        },
        "xaxis": {
         "anchor": "y",
         "domain": [
          0,
          1
         ],
         "title": {
          "text": "거래월"
         }
        },
        "yaxis": {
         "anchor": "x",
         "domain": [
          0,
          1
         ],
         "title": {
          "text": "평균 거래량"
         }
        }
       }
      },
      "text/html": [
       "<div>                            <div id=\"7ad0ea8c-9176-4858-ac3f-48e2cb200599\" class=\"plotly-graph-div\" style=\"height:525px; width:100%;\"></div>            <script type=\"text/javascript\">                require([\"plotly\"], function(Plotly) {                    window.PLOTLYENV=window.PLOTLYENV || {};                                    if (document.getElementById(\"7ad0ea8c-9176-4858-ac3f-48e2cb200599\")) {                    Plotly.newPlot(                        \"7ad0ea8c-9176-4858-ac3f-48e2cb200599\",                        [{\"hovertemplate\": \"\\uc804\\uc6a9\\uba74\\uc801(\\ud3c9)3=(10, 15]<br>\\uac70\\ub798\\uc6d4=%{x}<br>\\ud3c9\\uade0 \\uac70\\ub798\\ub7c9=%{y}<extra></extra>\", \"legendgroup\": \"(10, 15]\", \"line\": {\"color\": \"#636efa\", \"dash\": \"solid\"}, \"mode\": \"lines\", \"name\": \"(10, 15]\", \"orientation\": \"v\", \"showlegend\": true, \"type\": \"scatter\", \"x\": [1, 2, 3, 4, 5, 6, 7, 8, 9, 10, 11, 12], \"xaxis\": \"x\", \"y\": [198, 157, 272, 320, 431, 648, 828, 596, 662, 1016, 975, 493], \"yaxis\": \"y\"}, {\"hovertemplate\": \"\\uc804\\uc6a9\\uba74\\uc801(\\ud3c9)3=(15, 20]<br>\\uac70\\ub798\\uc6d4=%{x}<br>\\ud3c9\\uade0 \\uac70\\ub798\\ub7c9=%{y}<extra></extra>\", \"legendgroup\": \"(15, 20]\", \"line\": {\"color\": \"#EF553B\", \"dash\": \"solid\"}, \"mode\": \"lines\", \"name\": \"(15, 20]\", \"orientation\": \"v\", \"showlegend\": true, \"type\": \"scatter\", \"x\": [1, 2, 3, 4, 5, 6, 7, 8, 9, 10, 11, 12], \"xaxis\": \"x\", \"y\": [417, 386, 579, 827, 1224, 1897, 2513, 1968, 1901, 3184, 3061, 1254], \"yaxis\": \"y\"}, {\"hovertemplate\": \"\\uc804\\uc6a9\\uba74\\uc801(\\ud3c9)3=(20, 25]<br>\\uac70\\ub798\\uc6d4=%{x}<br>\\ud3c9\\uade0 \\uac70\\ub798\\ub7c9=%{y}<extra></extra>\", \"legendgroup\": \"(20, 25]\", \"line\": {\"color\": \"#00cc96\", \"dash\": \"solid\"}, \"mode\": \"lines\", \"name\": \"(20, 25]\", \"orientation\": \"v\", \"showlegend\": true, \"type\": \"scatter\", \"x\": [1, 2, 3, 4, 5, 6, 7, 8, 9, 10, 11, 12], \"xaxis\": \"x\", \"y\": [539, 511, 805, 1102, 1591, 2660, 3451, 2608, 2811, 4667, 4287, 1588], \"yaxis\": \"y\"}, {\"hovertemplate\": \"\\uc804\\uc6a9\\uba74\\uc801(\\ud3c9)3=(30, 35]<br>\\uac70\\ub798\\uc6d4=%{x}<br>\\ud3c9\\uade0 \\uac70\\ub798\\ub7c9=%{y}<extra></extra>\", \"legendgroup\": \"(30, 35]\", \"line\": {\"color\": \"#ab63fa\", \"dash\": \"solid\"}, \"mode\": \"lines\", \"name\": \"(30, 35]\", \"orientation\": \"v\", \"showlegend\": true, \"type\": \"scatter\", \"x\": [1, 2, 3, 4, 5, 6, 7, 8, 9, 10, 11, 12], \"xaxis\": \"x\", \"y\": [113, 92, 139, 173, 285, 432, 630, 477, 508, 892, 789, 324], \"yaxis\": \"y\"}, {\"hovertemplate\": \"\\uc804\\uc6a9\\uba74\\uc801(\\ud3c9)3=(35, 40]<br>\\uac70\\ub798\\uc6d4=%{x}<br>\\ud3c9\\uade0 \\uac70\\ub798\\ub7c9=%{y}<extra></extra>\", \"legendgroup\": \"(35, 40]\", \"line\": {\"color\": \"#FFA15A\", \"dash\": \"solid\"}, \"mode\": \"lines\", \"name\": \"(35, 40]\", \"orientation\": \"v\", \"showlegend\": true, \"type\": \"scatter\", \"x\": [1, 2, 3, 4, 5, 6, 7, 8, 9, 10, 11, 12], \"xaxis\": \"x\", \"y\": [61, 42, 97, 113, 203, 313, 376, 242, 292, 492, 381, 128], \"yaxis\": \"y\"}],                        {\"legend\": {\"title\": {\"text\": \"\\uc804\\uc6a9\\uba74\\uc801(\\ud3c9)3\"}, \"tracegroupgap\": 0}, \"margin\": {\"t\": 60}, \"template\": {\"data\": {\"bar\": [{\"error_x\": {\"color\": \"#2a3f5f\"}, \"error_y\": {\"color\": \"#2a3f5f\"}, \"marker\": {\"line\": {\"color\": \"#E5ECF6\", \"width\": 0.5}}, \"type\": \"bar\"}], \"barpolar\": [{\"marker\": {\"line\": {\"color\": \"#E5ECF6\", \"width\": 0.5}}, \"type\": \"barpolar\"}], \"carpet\": [{\"aaxis\": {\"endlinecolor\": \"#2a3f5f\", \"gridcolor\": \"white\", \"linecolor\": \"white\", \"minorgridcolor\": \"white\", \"startlinecolor\": \"#2a3f5f\"}, \"baxis\": {\"endlinecolor\": \"#2a3f5f\", \"gridcolor\": \"white\", \"linecolor\": \"white\", \"minorgridcolor\": \"white\", \"startlinecolor\": \"#2a3f5f\"}, \"type\": \"carpet\"}], \"choropleth\": [{\"colorbar\": {\"outlinewidth\": 0, \"ticks\": \"\"}, \"type\": \"choropleth\"}], \"contour\": [{\"colorbar\": {\"outlinewidth\": 0, \"ticks\": \"\"}, \"colorscale\": [[0.0, \"#0d0887\"], [0.1111111111111111, \"#46039f\"], [0.2222222222222222, \"#7201a8\"], [0.3333333333333333, \"#9c179e\"], [0.4444444444444444, \"#bd3786\"], [0.5555555555555556, \"#d8576b\"], [0.6666666666666666, \"#ed7953\"], [0.7777777777777778, \"#fb9f3a\"], [0.8888888888888888, \"#fdca26\"], [1.0, \"#f0f921\"]], \"type\": \"contour\"}], \"contourcarpet\": [{\"colorbar\": {\"outlinewidth\": 0, \"ticks\": \"\"}, \"type\": \"contourcarpet\"}], \"heatmap\": [{\"colorbar\": {\"outlinewidth\": 0, \"ticks\": \"\"}, \"colorscale\": [[0.0, \"#0d0887\"], [0.1111111111111111, \"#46039f\"], [0.2222222222222222, \"#7201a8\"], [0.3333333333333333, \"#9c179e\"], [0.4444444444444444, \"#bd3786\"], [0.5555555555555556, \"#d8576b\"], [0.6666666666666666, \"#ed7953\"], [0.7777777777777778, \"#fb9f3a\"], [0.8888888888888888, \"#fdca26\"], [1.0, \"#f0f921\"]], \"type\": \"heatmap\"}], \"heatmapgl\": [{\"colorbar\": {\"outlinewidth\": 0, \"ticks\": \"\"}, \"colorscale\": [[0.0, \"#0d0887\"], [0.1111111111111111, \"#46039f\"], [0.2222222222222222, \"#7201a8\"], [0.3333333333333333, \"#9c179e\"], [0.4444444444444444, \"#bd3786\"], [0.5555555555555556, \"#d8576b\"], [0.6666666666666666, \"#ed7953\"], [0.7777777777777778, \"#fb9f3a\"], [0.8888888888888888, \"#fdca26\"], [1.0, \"#f0f921\"]], \"type\": \"heatmapgl\"}], \"histogram\": [{\"marker\": {\"colorbar\": {\"outlinewidth\": 0, \"ticks\": \"\"}}, \"type\": \"histogram\"}], \"histogram2d\": [{\"colorbar\": {\"outlinewidth\": 0, \"ticks\": \"\"}, \"colorscale\": [[0.0, \"#0d0887\"], [0.1111111111111111, \"#46039f\"], [0.2222222222222222, \"#7201a8\"], [0.3333333333333333, \"#9c179e\"], [0.4444444444444444, \"#bd3786\"], [0.5555555555555556, \"#d8576b\"], [0.6666666666666666, \"#ed7953\"], [0.7777777777777778, \"#fb9f3a\"], [0.8888888888888888, \"#fdca26\"], [1.0, \"#f0f921\"]], \"type\": \"histogram2d\"}], \"histogram2dcontour\": [{\"colorbar\": {\"outlinewidth\": 0, \"ticks\": \"\"}, \"colorscale\": [[0.0, \"#0d0887\"], [0.1111111111111111, \"#46039f\"], [0.2222222222222222, \"#7201a8\"], [0.3333333333333333, \"#9c179e\"], [0.4444444444444444, \"#bd3786\"], [0.5555555555555556, \"#d8576b\"], [0.6666666666666666, \"#ed7953\"], [0.7777777777777778, \"#fb9f3a\"], [0.8888888888888888, \"#fdca26\"], [1.0, \"#f0f921\"]], \"type\": \"histogram2dcontour\"}], \"mesh3d\": [{\"colorbar\": {\"outlinewidth\": 0, \"ticks\": \"\"}, \"type\": \"mesh3d\"}], \"parcoords\": [{\"line\": {\"colorbar\": {\"outlinewidth\": 0, \"ticks\": \"\"}}, \"type\": \"parcoords\"}], \"pie\": [{\"automargin\": true, \"type\": \"pie\"}], \"scatter\": [{\"marker\": {\"colorbar\": {\"outlinewidth\": 0, \"ticks\": \"\"}}, \"type\": \"scatter\"}], \"scatter3d\": [{\"line\": {\"colorbar\": {\"outlinewidth\": 0, \"ticks\": \"\"}}, \"marker\": {\"colorbar\": {\"outlinewidth\": 0, \"ticks\": \"\"}}, \"type\": \"scatter3d\"}], \"scattercarpet\": [{\"marker\": {\"colorbar\": {\"outlinewidth\": 0, \"ticks\": \"\"}}, \"type\": \"scattercarpet\"}], \"scattergeo\": [{\"marker\": {\"colorbar\": {\"outlinewidth\": 0, \"ticks\": \"\"}}, \"type\": \"scattergeo\"}], \"scattergl\": [{\"marker\": {\"colorbar\": {\"outlinewidth\": 0, \"ticks\": \"\"}}, \"type\": \"scattergl\"}], \"scattermapbox\": [{\"marker\": {\"colorbar\": {\"outlinewidth\": 0, \"ticks\": \"\"}}, \"type\": \"scattermapbox\"}], \"scatterpolar\": [{\"marker\": {\"colorbar\": {\"outlinewidth\": 0, \"ticks\": \"\"}}, \"type\": \"scatterpolar\"}], \"scatterpolargl\": [{\"marker\": {\"colorbar\": {\"outlinewidth\": 0, \"ticks\": \"\"}}, \"type\": \"scatterpolargl\"}], \"scatterternary\": [{\"marker\": {\"colorbar\": {\"outlinewidth\": 0, \"ticks\": \"\"}}, \"type\": \"scatterternary\"}], \"surface\": [{\"colorbar\": {\"outlinewidth\": 0, \"ticks\": \"\"}, \"colorscale\": [[0.0, \"#0d0887\"], [0.1111111111111111, \"#46039f\"], [0.2222222222222222, \"#7201a8\"], [0.3333333333333333, \"#9c179e\"], [0.4444444444444444, \"#bd3786\"], [0.5555555555555556, \"#d8576b\"], [0.6666666666666666, \"#ed7953\"], [0.7777777777777778, \"#fb9f3a\"], [0.8888888888888888, \"#fdca26\"], [1.0, \"#f0f921\"]], \"type\": \"surface\"}], \"table\": [{\"cells\": {\"fill\": {\"color\": \"#EBF0F8\"}, \"line\": {\"color\": \"white\"}}, \"header\": {\"fill\": {\"color\": \"#C8D4E3\"}, \"line\": {\"color\": \"white\"}}, \"type\": \"table\"}]}, \"layout\": {\"annotationdefaults\": {\"arrowcolor\": \"#2a3f5f\", \"arrowhead\": 0, \"arrowwidth\": 1}, \"autotypenumbers\": \"strict\", \"coloraxis\": {\"colorbar\": {\"outlinewidth\": 0, \"ticks\": \"\"}}, \"colorscale\": {\"diverging\": [[0, \"#8e0152\"], [0.1, \"#c51b7d\"], [0.2, \"#de77ae\"], [0.3, \"#f1b6da\"], [0.4, \"#fde0ef\"], [0.5, \"#f7f7f7\"], [0.6, \"#e6f5d0\"], [0.7, \"#b8e186\"], [0.8, \"#7fbc41\"], [0.9, \"#4d9221\"], [1, \"#276419\"]], \"sequential\": [[0.0, \"#0d0887\"], [0.1111111111111111, \"#46039f\"], [0.2222222222222222, \"#7201a8\"], [0.3333333333333333, \"#9c179e\"], [0.4444444444444444, \"#bd3786\"], [0.5555555555555556, \"#d8576b\"], [0.6666666666666666, \"#ed7953\"], [0.7777777777777778, \"#fb9f3a\"], [0.8888888888888888, \"#fdca26\"], [1.0, \"#f0f921\"]], \"sequentialminus\": [[0.0, \"#0d0887\"], [0.1111111111111111, \"#46039f\"], [0.2222222222222222, \"#7201a8\"], [0.3333333333333333, \"#9c179e\"], [0.4444444444444444, \"#bd3786\"], [0.5555555555555556, \"#d8576b\"], [0.6666666666666666, \"#ed7953\"], [0.7777777777777778, \"#fb9f3a\"], [0.8888888888888888, \"#fdca26\"], [1.0, \"#f0f921\"]]}, \"colorway\": [\"#636efa\", \"#EF553B\", \"#00cc96\", \"#ab63fa\", \"#FFA15A\", \"#19d3f3\", \"#FF6692\", \"#B6E880\", \"#FF97FF\", \"#FECB52\"], \"font\": {\"color\": \"#2a3f5f\"}, \"geo\": {\"bgcolor\": \"white\", \"lakecolor\": \"white\", \"landcolor\": \"#E5ECF6\", \"showlakes\": true, \"showland\": true, \"subunitcolor\": \"white\"}, \"hoverlabel\": {\"align\": \"left\"}, \"hovermode\": \"closest\", \"mapbox\": {\"style\": \"light\"}, \"paper_bgcolor\": \"white\", \"plot_bgcolor\": \"#E5ECF6\", \"polar\": {\"angularaxis\": {\"gridcolor\": \"white\", \"linecolor\": \"white\", \"ticks\": \"\"}, \"bgcolor\": \"#E5ECF6\", \"radialaxis\": {\"gridcolor\": \"white\", \"linecolor\": \"white\", \"ticks\": \"\"}}, \"scene\": {\"xaxis\": {\"backgroundcolor\": \"#E5ECF6\", \"gridcolor\": \"white\", \"gridwidth\": 2, \"linecolor\": \"white\", \"showbackground\": true, \"ticks\": \"\", \"zerolinecolor\": \"white\"}, \"yaxis\": {\"backgroundcolor\": \"#E5ECF6\", \"gridcolor\": \"white\", \"gridwidth\": 2, \"linecolor\": \"white\", \"showbackground\": true, \"ticks\": \"\", \"zerolinecolor\": \"white\"}, \"zaxis\": {\"backgroundcolor\": \"#E5ECF6\", \"gridcolor\": \"white\", \"gridwidth\": 2, \"linecolor\": \"white\", \"showbackground\": true, \"ticks\": \"\", \"zerolinecolor\": \"white\"}}, \"shapedefaults\": {\"line\": {\"color\": \"#2a3f5f\"}}, \"ternary\": {\"aaxis\": {\"gridcolor\": \"white\", \"linecolor\": \"white\", \"ticks\": \"\"}, \"baxis\": {\"gridcolor\": \"white\", \"linecolor\": \"white\", \"ticks\": \"\"}, \"bgcolor\": \"#E5ECF6\", \"caxis\": {\"gridcolor\": \"white\", \"linecolor\": \"white\", \"ticks\": \"\"}}, \"title\": {\"x\": 0.05}, \"xaxis\": {\"automargin\": true, \"gridcolor\": \"white\", \"linecolor\": \"white\", \"ticks\": \"\", \"title\": {\"standoff\": 15}, \"zerolinecolor\": \"white\", \"zerolinewidth\": 2}, \"yaxis\": {\"automargin\": true, \"gridcolor\": \"white\", \"linecolor\": \"white\", \"ticks\": \"\", \"title\": {\"standoff\": 15}, \"zerolinecolor\": \"white\", \"zerolinewidth\": 2}}}, \"xaxis\": {\"anchor\": \"y\", \"domain\": [0.0, 1.0], \"title\": {\"text\": \"\\uac70\\ub798\\uc6d4\"}}, \"yaxis\": {\"anchor\": \"x\", \"domain\": [0.0, 1.0], \"title\": {\"text\": \"\\ud3c9\\uade0 \\uac70\\ub798\\ub7c9\"}}},                        {\"responsive\": true}                    ).then(function(){\n",
       "                            \n",
       "var gd = document.getElementById('7ad0ea8c-9176-4858-ac3f-48e2cb200599');\n",
       "var x = new MutationObserver(function (mutations, observer) {{\n",
       "        var display = window.getComputedStyle(gd).display;\n",
       "        if (!display || display === 'none') {{\n",
       "            console.log([gd, 'removed!']);\n",
       "            Plotly.purge(gd);\n",
       "            observer.disconnect();\n",
       "        }}\n",
       "}});\n",
       "\n",
       "// Listen for the removal of the full notebook cells\n",
       "var notebookContainer = gd.closest('#notebook-container');\n",
       "if (notebookContainer) {{\n",
       "    x.observe(notebookContainer, {childList: true});\n",
       "}}\n",
       "\n",
       "// Listen for the clearing of the current output cell\n",
       "var outputEl = gd.closest('.output');\n",
       "if (outputEl) {{\n",
       "    x.observe(outputEl, {childList: true});\n",
       "}}\n",
       "\n",
       "                        })                };                });            </script>        </div>"
      ]
     },
     "metadata": {},
     "output_type": "display_data"
    }
   ],
   "source": [
    "import plotly.express as px\n",
    "data = df1[df1['전용면적(평)3'].isin(df1['전용면적(평)3'].value_counts().index[:5])]\n",
    "data = data.groupby(['거래월','전용면적(평)3'])['거래금액'].agg(['count','mean']).sort_values('거래월').reset_index()\n",
    "\n",
    "data.rename(columns={'count':'평균 거래량'},inplace=True)\n",
    "fig = px.line(data, x=\"거래월\", y=\"평균 거래량\", color='전용면적(평)3')\n",
    "iplot(fig)"
   ]
  },
  {
   "cell_type": "markdown",
   "metadata": {},
   "source": [
    "#### 8 - 서울에서 가장 많이 거래된 평수 TOP5의 월간 평균 거래량 추이\n",
    "- 목적 : 평수별 시간의 흐름에 따른 평균 평당 거래량 파악\n",
    "\n",
    "\n",
    "- 결과 : 가장 많이 거래가 되는 15~25평대의 아파트의 거래량의 변동이 심한것을 알 수 있다.\n",
    "\n",
    "\n",
    "- 의문점 : 나머지 평수는 거래량이 대체로 큰 변화가 없는데 유독 15~25평 사이의 아파트의 거래량의 변동이 심한 이유?"
   ]
  },
  {
   "cell_type": "markdown",
   "metadata": {},
   "source": [
    "----------------------------------------------------------------------------------------------------------------------------------------------------------"
   ]
  },
  {
   "cell_type": "code",
   "execution_count": 38,
   "metadata": {},
   "outputs": [
    {
     "data": {
      "application/vnd.plotly.v1+json": {
       "config": {
        "linkText": "Export to plot.ly",
        "plotlyServerURL": "https://plot.ly",
        "showLink": false
       },
       "data": [
        {
         "hovertemplate": "전용면적(평)3=(10, 15]<br>거래월=%{x}<br>평균 평당 거래금액=%{y}<extra></extra>",
         "legendgroup": "(10, 15]",
         "line": {
          "color": "#636efa",
          "dash": "solid"
         },
         "mode": "lines",
         "name": "(10, 15]",
         "orientation": "v",
         "showlegend": true,
         "type": "scatter",
         "x": [
          1,
          2,
          3,
          4,
          5,
          6,
          7,
          8,
          9,
          10,
          11,
          12
         ],
         "xaxis": "x",
         "y": [
          2811.469696969697,
          2587.687898089172,
          2727.768382352941,
          3177.45,
          3422.2412993039443,
          3288.8395061728397,
          3233.8695652173915,
          3305.4446308724832,
          3392.6706948640485,
          3385.7785433070867,
          3305.2194871794873,
          3202.862068965517
         ],
         "yaxis": "y"
        },
        {
         "hovertemplate": "전용면적(평)3=(15, 20]<br>거래월=%{x}<br>평균 평당 거래금액=%{y}<extra></extra>",
         "legendgroup": "(15, 20]",
         "line": {
          "color": "#EF553B",
          "dash": "solid"
         },
         "mode": "lines",
         "name": "(15, 20]",
         "orientation": "v",
         "showlegend": true,
         "type": "scatter",
         "x": [
          1,
          2,
          3,
          4,
          5,
          6,
          7,
          8,
          9,
          10,
          11,
          12
         ],
         "xaxis": "x",
         "y": [
          2692.273381294964,
          2812.963730569948,
          2941.469775474957,
          3274.8536880290208,
          3557.8186274509803,
          3690.55930416447,
          3701.705929168325,
          3565.018800813008,
          3678.2940557601264,
          3605.191582914573,
          3694.764782750735,
          3472.964912280702
         ],
         "yaxis": "y"
        },
        {
         "hovertemplate": "전용면적(평)3=(20, 25]<br>거래월=%{x}<br>평균 평당 거래금액=%{y}<extra></extra>",
         "legendgroup": "(20, 25]",
         "line": {
          "color": "#00cc96",
          "dash": "solid"
         },
         "mode": "lines",
         "name": "(20, 25]",
         "orientation": "v",
         "showlegend": true,
         "type": "scatter",
         "x": [
          1,
          2,
          3,
          4,
          5,
          6,
          7,
          8,
          9,
          10,
          11,
          12
         ],
         "xaxis": "x",
         "y": [
          2651.8089053803337,
          2838.5440313111544,
          3011.1962732919255,
          3248.8248638838477,
          3571.500314267756,
          3660.2263157894736,
          3620.896261953057,
          3424.971625766871,
          3576.267520455354,
          3593.7756588815087,
          3549.9498483788198,
          3307.5207808564232
         ],
         "yaxis": "y"
        },
        {
         "hovertemplate": "전용면적(평)3=(30, 35]<br>거래월=%{x}<br>평균 평당 거래금액=%{y}<extra></extra>",
         "legendgroup": "(30, 35]",
         "line": {
          "color": "#ab63fa",
          "dash": "solid"
         },
         "mode": "lines",
         "name": "(30, 35]",
         "orientation": "v",
         "showlegend": true,
         "type": "scatter",
         "x": [
          1,
          2,
          3,
          4,
          5,
          6,
          7,
          8,
          9,
          10,
          11,
          12
         ],
         "xaxis": "x",
         "y": [
          2465.2035398230087,
          2663.228260869565,
          2832.122302158273,
          3065.2369942196533,
          3194.4105263157894,
          3515.8518518518517,
          3263.574603174603,
          3030.64570230608,
          3414.6279527559054,
          3243.8800448430493,
          3121.5386565272497,
          3024.287037037037
         ],
         "yaxis": "y"
        },
        {
         "hovertemplate": "전용면적(평)3=(35, 40]<br>거래월=%{x}<br>평균 평당 거래금액=%{y}<extra></extra>",
         "legendgroup": "(35, 40]",
         "line": {
          "color": "#FFA15A",
          "dash": "solid"
         },
         "mode": "lines",
         "name": "(35, 40]",
         "orientation": "v",
         "showlegend": true,
         "type": "scatter",
         "x": [
          1,
          2,
          3,
          4,
          5,
          6,
          7,
          8,
          9,
          10,
          11,
          12
         ],
         "xaxis": "x",
         "y": [
          2589.2950819672133,
          2784.190476190476,
          3268.6907216494847,
          3432.522123893805,
          3752.84236453202,
          3918.306709265176,
          3829.925531914894,
          3354.409090909091,
          3789.1609589041095,
          3511.9349593495936,
          3442.540682414698,
          3296.71875
         ],
         "yaxis": "y"
        }
       ],
       "layout": {
        "legend": {
         "title": {
          "text": "전용면적(평)3"
         },
         "tracegroupgap": 0
        },
        "margin": {
         "t": 60
        },
        "template": {
         "data": {
          "bar": [
           {
            "error_x": {
             "color": "#2a3f5f"
            },
            "error_y": {
             "color": "#2a3f5f"
            },
            "marker": {
             "line": {
              "color": "#E5ECF6",
              "width": 0.5
             }
            },
            "type": "bar"
           }
          ],
          "barpolar": [
           {
            "marker": {
             "line": {
              "color": "#E5ECF6",
              "width": 0.5
             }
            },
            "type": "barpolar"
           }
          ],
          "carpet": [
           {
            "aaxis": {
             "endlinecolor": "#2a3f5f",
             "gridcolor": "white",
             "linecolor": "white",
             "minorgridcolor": "white",
             "startlinecolor": "#2a3f5f"
            },
            "baxis": {
             "endlinecolor": "#2a3f5f",
             "gridcolor": "white",
             "linecolor": "white",
             "minorgridcolor": "white",
             "startlinecolor": "#2a3f5f"
            },
            "type": "carpet"
           }
          ],
          "choropleth": [
           {
            "colorbar": {
             "outlinewidth": 0,
             "ticks": ""
            },
            "type": "choropleth"
           }
          ],
          "contour": [
           {
            "colorbar": {
             "outlinewidth": 0,
             "ticks": ""
            },
            "colorscale": [
             [
              0,
              "#0d0887"
             ],
             [
              0.1111111111111111,
              "#46039f"
             ],
             [
              0.2222222222222222,
              "#7201a8"
             ],
             [
              0.3333333333333333,
              "#9c179e"
             ],
             [
              0.4444444444444444,
              "#bd3786"
             ],
             [
              0.5555555555555556,
              "#d8576b"
             ],
             [
              0.6666666666666666,
              "#ed7953"
             ],
             [
              0.7777777777777778,
              "#fb9f3a"
             ],
             [
              0.8888888888888888,
              "#fdca26"
             ],
             [
              1,
              "#f0f921"
             ]
            ],
            "type": "contour"
           }
          ],
          "contourcarpet": [
           {
            "colorbar": {
             "outlinewidth": 0,
             "ticks": ""
            },
            "type": "contourcarpet"
           }
          ],
          "heatmap": [
           {
            "colorbar": {
             "outlinewidth": 0,
             "ticks": ""
            },
            "colorscale": [
             [
              0,
              "#0d0887"
             ],
             [
              0.1111111111111111,
              "#46039f"
             ],
             [
              0.2222222222222222,
              "#7201a8"
             ],
             [
              0.3333333333333333,
              "#9c179e"
             ],
             [
              0.4444444444444444,
              "#bd3786"
             ],
             [
              0.5555555555555556,
              "#d8576b"
             ],
             [
              0.6666666666666666,
              "#ed7953"
             ],
             [
              0.7777777777777778,
              "#fb9f3a"
             ],
             [
              0.8888888888888888,
              "#fdca26"
             ],
             [
              1,
              "#f0f921"
             ]
            ],
            "type": "heatmap"
           }
          ],
          "heatmapgl": [
           {
            "colorbar": {
             "outlinewidth": 0,
             "ticks": ""
            },
            "colorscale": [
             [
              0,
              "#0d0887"
             ],
             [
              0.1111111111111111,
              "#46039f"
             ],
             [
              0.2222222222222222,
              "#7201a8"
             ],
             [
              0.3333333333333333,
              "#9c179e"
             ],
             [
              0.4444444444444444,
              "#bd3786"
             ],
             [
              0.5555555555555556,
              "#d8576b"
             ],
             [
              0.6666666666666666,
              "#ed7953"
             ],
             [
              0.7777777777777778,
              "#fb9f3a"
             ],
             [
              0.8888888888888888,
              "#fdca26"
             ],
             [
              1,
              "#f0f921"
             ]
            ],
            "type": "heatmapgl"
           }
          ],
          "histogram": [
           {
            "marker": {
             "colorbar": {
              "outlinewidth": 0,
              "ticks": ""
             }
            },
            "type": "histogram"
           }
          ],
          "histogram2d": [
           {
            "colorbar": {
             "outlinewidth": 0,
             "ticks": ""
            },
            "colorscale": [
             [
              0,
              "#0d0887"
             ],
             [
              0.1111111111111111,
              "#46039f"
             ],
             [
              0.2222222222222222,
              "#7201a8"
             ],
             [
              0.3333333333333333,
              "#9c179e"
             ],
             [
              0.4444444444444444,
              "#bd3786"
             ],
             [
              0.5555555555555556,
              "#d8576b"
             ],
             [
              0.6666666666666666,
              "#ed7953"
             ],
             [
              0.7777777777777778,
              "#fb9f3a"
             ],
             [
              0.8888888888888888,
              "#fdca26"
             ],
             [
              1,
              "#f0f921"
             ]
            ],
            "type": "histogram2d"
           }
          ],
          "histogram2dcontour": [
           {
            "colorbar": {
             "outlinewidth": 0,
             "ticks": ""
            },
            "colorscale": [
             [
              0,
              "#0d0887"
             ],
             [
              0.1111111111111111,
              "#46039f"
             ],
             [
              0.2222222222222222,
              "#7201a8"
             ],
             [
              0.3333333333333333,
              "#9c179e"
             ],
             [
              0.4444444444444444,
              "#bd3786"
             ],
             [
              0.5555555555555556,
              "#d8576b"
             ],
             [
              0.6666666666666666,
              "#ed7953"
             ],
             [
              0.7777777777777778,
              "#fb9f3a"
             ],
             [
              0.8888888888888888,
              "#fdca26"
             ],
             [
              1,
              "#f0f921"
             ]
            ],
            "type": "histogram2dcontour"
           }
          ],
          "mesh3d": [
           {
            "colorbar": {
             "outlinewidth": 0,
             "ticks": ""
            },
            "type": "mesh3d"
           }
          ],
          "parcoords": [
           {
            "line": {
             "colorbar": {
              "outlinewidth": 0,
              "ticks": ""
             }
            },
            "type": "parcoords"
           }
          ],
          "pie": [
           {
            "automargin": true,
            "type": "pie"
           }
          ],
          "scatter": [
           {
            "marker": {
             "colorbar": {
              "outlinewidth": 0,
              "ticks": ""
             }
            },
            "type": "scatter"
           }
          ],
          "scatter3d": [
           {
            "line": {
             "colorbar": {
              "outlinewidth": 0,
              "ticks": ""
             }
            },
            "marker": {
             "colorbar": {
              "outlinewidth": 0,
              "ticks": ""
             }
            },
            "type": "scatter3d"
           }
          ],
          "scattercarpet": [
           {
            "marker": {
             "colorbar": {
              "outlinewidth": 0,
              "ticks": ""
             }
            },
            "type": "scattercarpet"
           }
          ],
          "scattergeo": [
           {
            "marker": {
             "colorbar": {
              "outlinewidth": 0,
              "ticks": ""
             }
            },
            "type": "scattergeo"
           }
          ],
          "scattergl": [
           {
            "marker": {
             "colorbar": {
              "outlinewidth": 0,
              "ticks": ""
             }
            },
            "type": "scattergl"
           }
          ],
          "scattermapbox": [
           {
            "marker": {
             "colorbar": {
              "outlinewidth": 0,
              "ticks": ""
             }
            },
            "type": "scattermapbox"
           }
          ],
          "scatterpolar": [
           {
            "marker": {
             "colorbar": {
              "outlinewidth": 0,
              "ticks": ""
             }
            },
            "type": "scatterpolar"
           }
          ],
          "scatterpolargl": [
           {
            "marker": {
             "colorbar": {
              "outlinewidth": 0,
              "ticks": ""
             }
            },
            "type": "scatterpolargl"
           }
          ],
          "scatterternary": [
           {
            "marker": {
             "colorbar": {
              "outlinewidth": 0,
              "ticks": ""
             }
            },
            "type": "scatterternary"
           }
          ],
          "surface": [
           {
            "colorbar": {
             "outlinewidth": 0,
             "ticks": ""
            },
            "colorscale": [
             [
              0,
              "#0d0887"
             ],
             [
              0.1111111111111111,
              "#46039f"
             ],
             [
              0.2222222222222222,
              "#7201a8"
             ],
             [
              0.3333333333333333,
              "#9c179e"
             ],
             [
              0.4444444444444444,
              "#bd3786"
             ],
             [
              0.5555555555555556,
              "#d8576b"
             ],
             [
              0.6666666666666666,
              "#ed7953"
             ],
             [
              0.7777777777777778,
              "#fb9f3a"
             ],
             [
              0.8888888888888888,
              "#fdca26"
             ],
             [
              1,
              "#f0f921"
             ]
            ],
            "type": "surface"
           }
          ],
          "table": [
           {
            "cells": {
             "fill": {
              "color": "#EBF0F8"
             },
             "line": {
              "color": "white"
             }
            },
            "header": {
             "fill": {
              "color": "#C8D4E3"
             },
             "line": {
              "color": "white"
             }
            },
            "type": "table"
           }
          ]
         },
         "layout": {
          "annotationdefaults": {
           "arrowcolor": "#2a3f5f",
           "arrowhead": 0,
           "arrowwidth": 1
          },
          "autotypenumbers": "strict",
          "coloraxis": {
           "colorbar": {
            "outlinewidth": 0,
            "ticks": ""
           }
          },
          "colorscale": {
           "diverging": [
            [
             0,
             "#8e0152"
            ],
            [
             0.1,
             "#c51b7d"
            ],
            [
             0.2,
             "#de77ae"
            ],
            [
             0.3,
             "#f1b6da"
            ],
            [
             0.4,
             "#fde0ef"
            ],
            [
             0.5,
             "#f7f7f7"
            ],
            [
             0.6,
             "#e6f5d0"
            ],
            [
             0.7,
             "#b8e186"
            ],
            [
             0.8,
             "#7fbc41"
            ],
            [
             0.9,
             "#4d9221"
            ],
            [
             1,
             "#276419"
            ]
           ],
           "sequential": [
            [
             0,
             "#0d0887"
            ],
            [
             0.1111111111111111,
             "#46039f"
            ],
            [
             0.2222222222222222,
             "#7201a8"
            ],
            [
             0.3333333333333333,
             "#9c179e"
            ],
            [
             0.4444444444444444,
             "#bd3786"
            ],
            [
             0.5555555555555556,
             "#d8576b"
            ],
            [
             0.6666666666666666,
             "#ed7953"
            ],
            [
             0.7777777777777778,
             "#fb9f3a"
            ],
            [
             0.8888888888888888,
             "#fdca26"
            ],
            [
             1,
             "#f0f921"
            ]
           ],
           "sequentialminus": [
            [
             0,
             "#0d0887"
            ],
            [
             0.1111111111111111,
             "#46039f"
            ],
            [
             0.2222222222222222,
             "#7201a8"
            ],
            [
             0.3333333333333333,
             "#9c179e"
            ],
            [
             0.4444444444444444,
             "#bd3786"
            ],
            [
             0.5555555555555556,
             "#d8576b"
            ],
            [
             0.6666666666666666,
             "#ed7953"
            ],
            [
             0.7777777777777778,
             "#fb9f3a"
            ],
            [
             0.8888888888888888,
             "#fdca26"
            ],
            [
             1,
             "#f0f921"
            ]
           ]
          },
          "colorway": [
           "#636efa",
           "#EF553B",
           "#00cc96",
           "#ab63fa",
           "#FFA15A",
           "#19d3f3",
           "#FF6692",
           "#B6E880",
           "#FF97FF",
           "#FECB52"
          ],
          "font": {
           "color": "#2a3f5f"
          },
          "geo": {
           "bgcolor": "white",
           "lakecolor": "white",
           "landcolor": "#E5ECF6",
           "showlakes": true,
           "showland": true,
           "subunitcolor": "white"
          },
          "hoverlabel": {
           "align": "left"
          },
          "hovermode": "closest",
          "mapbox": {
           "style": "light"
          },
          "paper_bgcolor": "white",
          "plot_bgcolor": "#E5ECF6",
          "polar": {
           "angularaxis": {
            "gridcolor": "white",
            "linecolor": "white",
            "ticks": ""
           },
           "bgcolor": "#E5ECF6",
           "radialaxis": {
            "gridcolor": "white",
            "linecolor": "white",
            "ticks": ""
           }
          },
          "scene": {
           "xaxis": {
            "backgroundcolor": "#E5ECF6",
            "gridcolor": "white",
            "gridwidth": 2,
            "linecolor": "white",
            "showbackground": true,
            "ticks": "",
            "zerolinecolor": "white"
           },
           "yaxis": {
            "backgroundcolor": "#E5ECF6",
            "gridcolor": "white",
            "gridwidth": 2,
            "linecolor": "white",
            "showbackground": true,
            "ticks": "",
            "zerolinecolor": "white"
           },
           "zaxis": {
            "backgroundcolor": "#E5ECF6",
            "gridcolor": "white",
            "gridwidth": 2,
            "linecolor": "white",
            "showbackground": true,
            "ticks": "",
            "zerolinecolor": "white"
           }
          },
          "shapedefaults": {
           "line": {
            "color": "#2a3f5f"
           }
          },
          "ternary": {
           "aaxis": {
            "gridcolor": "white",
            "linecolor": "white",
            "ticks": ""
           },
           "baxis": {
            "gridcolor": "white",
            "linecolor": "white",
            "ticks": ""
           },
           "bgcolor": "#E5ECF6",
           "caxis": {
            "gridcolor": "white",
            "linecolor": "white",
            "ticks": ""
           }
          },
          "title": {
           "x": 0.05
          },
          "xaxis": {
           "automargin": true,
           "gridcolor": "white",
           "linecolor": "white",
           "ticks": "",
           "title": {
            "standoff": 15
           },
           "zerolinecolor": "white",
           "zerolinewidth": 2
          },
          "yaxis": {
           "automargin": true,
           "gridcolor": "white",
           "linecolor": "white",
           "ticks": "",
           "title": {
            "standoff": 15
           },
           "zerolinecolor": "white",
           "zerolinewidth": 2
          }
         }
        },
        "xaxis": {
         "anchor": "y",
         "domain": [
          0,
          1
         ],
         "title": {
          "text": "거래월"
         }
        },
        "yaxis": {
         "anchor": "x",
         "domain": [
          0,
          1
         ],
         "title": {
          "text": "평균 평당 거래금액"
         }
        }
       }
      },
      "text/html": [
       "<div>                            <div id=\"60571add-f1e7-405a-ace9-0862f30704f1\" class=\"plotly-graph-div\" style=\"height:525px; width:100%;\"></div>            <script type=\"text/javascript\">                require([\"plotly\"], function(Plotly) {                    window.PLOTLYENV=window.PLOTLYENV || {};                                    if (document.getElementById(\"60571add-f1e7-405a-ace9-0862f30704f1\")) {                    Plotly.newPlot(                        \"60571add-f1e7-405a-ace9-0862f30704f1\",                        [{\"hovertemplate\": \"\\uc804\\uc6a9\\uba74\\uc801(\\ud3c9)3=(10, 15]<br>\\uac70\\ub798\\uc6d4=%{x}<br>\\ud3c9\\uade0 \\ud3c9\\ub2f9 \\uac70\\ub798\\uae08\\uc561=%{y}<extra></extra>\", \"legendgroup\": \"(10, 15]\", \"line\": {\"color\": \"#636efa\", \"dash\": \"solid\"}, \"mode\": \"lines\", \"name\": \"(10, 15]\", \"orientation\": \"v\", \"showlegend\": true, \"type\": \"scatter\", \"x\": [1, 2, 3, 4, 5, 6, 7, 8, 9, 10, 11, 12], \"xaxis\": \"x\", \"y\": [2811.469696969697, 2587.687898089172, 2727.768382352941, 3177.45, 3422.2412993039443, 3288.8395061728397, 3233.8695652173915, 3305.4446308724832, 3392.6706948640485, 3385.7785433070867, 3305.2194871794873, 3202.862068965517], \"yaxis\": \"y\"}, {\"hovertemplate\": \"\\uc804\\uc6a9\\uba74\\uc801(\\ud3c9)3=(15, 20]<br>\\uac70\\ub798\\uc6d4=%{x}<br>\\ud3c9\\uade0 \\ud3c9\\ub2f9 \\uac70\\ub798\\uae08\\uc561=%{y}<extra></extra>\", \"legendgroup\": \"(15, 20]\", \"line\": {\"color\": \"#EF553B\", \"dash\": \"solid\"}, \"mode\": \"lines\", \"name\": \"(15, 20]\", \"orientation\": \"v\", \"showlegend\": true, \"type\": \"scatter\", \"x\": [1, 2, 3, 4, 5, 6, 7, 8, 9, 10, 11, 12], \"xaxis\": \"x\", \"y\": [2692.273381294964, 2812.963730569948, 2941.469775474957, 3274.8536880290208, 3557.8186274509803, 3690.55930416447, 3701.705929168325, 3565.018800813008, 3678.2940557601264, 3605.191582914573, 3694.764782750735, 3472.964912280702], \"yaxis\": \"y\"}, {\"hovertemplate\": \"\\uc804\\uc6a9\\uba74\\uc801(\\ud3c9)3=(20, 25]<br>\\uac70\\ub798\\uc6d4=%{x}<br>\\ud3c9\\uade0 \\ud3c9\\ub2f9 \\uac70\\ub798\\uae08\\uc561=%{y}<extra></extra>\", \"legendgroup\": \"(20, 25]\", \"line\": {\"color\": \"#00cc96\", \"dash\": \"solid\"}, \"mode\": \"lines\", \"name\": \"(20, 25]\", \"orientation\": \"v\", \"showlegend\": true, \"type\": \"scatter\", \"x\": [1, 2, 3, 4, 5, 6, 7, 8, 9, 10, 11, 12], \"xaxis\": \"x\", \"y\": [2651.8089053803337, 2838.5440313111544, 3011.1962732919255, 3248.8248638838477, 3571.500314267756, 3660.2263157894736, 3620.896261953057, 3424.971625766871, 3576.267520455354, 3593.7756588815087, 3549.9498483788198, 3307.5207808564232], \"yaxis\": \"y\"}, {\"hovertemplate\": \"\\uc804\\uc6a9\\uba74\\uc801(\\ud3c9)3=(30, 35]<br>\\uac70\\ub798\\uc6d4=%{x}<br>\\ud3c9\\uade0 \\ud3c9\\ub2f9 \\uac70\\ub798\\uae08\\uc561=%{y}<extra></extra>\", \"legendgroup\": \"(30, 35]\", \"line\": {\"color\": \"#ab63fa\", \"dash\": \"solid\"}, \"mode\": \"lines\", \"name\": \"(30, 35]\", \"orientation\": \"v\", \"showlegend\": true, \"type\": \"scatter\", \"x\": [1, 2, 3, 4, 5, 6, 7, 8, 9, 10, 11, 12], \"xaxis\": \"x\", \"y\": [2465.2035398230087, 2663.228260869565, 2832.122302158273, 3065.2369942196533, 3194.4105263157894, 3515.8518518518517, 3263.574603174603, 3030.64570230608, 3414.6279527559054, 3243.8800448430493, 3121.5386565272497, 3024.287037037037], \"yaxis\": \"y\"}, {\"hovertemplate\": \"\\uc804\\uc6a9\\uba74\\uc801(\\ud3c9)3=(35, 40]<br>\\uac70\\ub798\\uc6d4=%{x}<br>\\ud3c9\\uade0 \\ud3c9\\ub2f9 \\uac70\\ub798\\uae08\\uc561=%{y}<extra></extra>\", \"legendgroup\": \"(35, 40]\", \"line\": {\"color\": \"#FFA15A\", \"dash\": \"solid\"}, \"mode\": \"lines\", \"name\": \"(35, 40]\", \"orientation\": \"v\", \"showlegend\": true, \"type\": \"scatter\", \"x\": [1, 2, 3, 4, 5, 6, 7, 8, 9, 10, 11, 12], \"xaxis\": \"x\", \"y\": [2589.2950819672133, 2784.190476190476, 3268.6907216494847, 3432.522123893805, 3752.84236453202, 3918.306709265176, 3829.925531914894, 3354.409090909091, 3789.1609589041095, 3511.9349593495936, 3442.540682414698, 3296.71875], \"yaxis\": \"y\"}],                        {\"legend\": {\"title\": {\"text\": \"\\uc804\\uc6a9\\uba74\\uc801(\\ud3c9)3\"}, \"tracegroupgap\": 0}, \"margin\": {\"t\": 60}, \"template\": {\"data\": {\"bar\": [{\"error_x\": {\"color\": \"#2a3f5f\"}, \"error_y\": {\"color\": \"#2a3f5f\"}, \"marker\": {\"line\": {\"color\": \"#E5ECF6\", \"width\": 0.5}}, \"type\": \"bar\"}], \"barpolar\": [{\"marker\": {\"line\": {\"color\": \"#E5ECF6\", \"width\": 0.5}}, \"type\": \"barpolar\"}], \"carpet\": [{\"aaxis\": {\"endlinecolor\": \"#2a3f5f\", \"gridcolor\": \"white\", \"linecolor\": \"white\", \"minorgridcolor\": \"white\", \"startlinecolor\": \"#2a3f5f\"}, \"baxis\": {\"endlinecolor\": \"#2a3f5f\", \"gridcolor\": \"white\", \"linecolor\": \"white\", \"minorgridcolor\": \"white\", \"startlinecolor\": \"#2a3f5f\"}, \"type\": \"carpet\"}], \"choropleth\": [{\"colorbar\": {\"outlinewidth\": 0, \"ticks\": \"\"}, \"type\": \"choropleth\"}], \"contour\": [{\"colorbar\": {\"outlinewidth\": 0, \"ticks\": \"\"}, \"colorscale\": [[0.0, \"#0d0887\"], [0.1111111111111111, \"#46039f\"], [0.2222222222222222, \"#7201a8\"], [0.3333333333333333, \"#9c179e\"], [0.4444444444444444, \"#bd3786\"], [0.5555555555555556, \"#d8576b\"], [0.6666666666666666, \"#ed7953\"], [0.7777777777777778, \"#fb9f3a\"], [0.8888888888888888, \"#fdca26\"], [1.0, \"#f0f921\"]], \"type\": \"contour\"}], \"contourcarpet\": [{\"colorbar\": {\"outlinewidth\": 0, \"ticks\": \"\"}, \"type\": \"contourcarpet\"}], \"heatmap\": [{\"colorbar\": {\"outlinewidth\": 0, \"ticks\": \"\"}, \"colorscale\": [[0.0, \"#0d0887\"], [0.1111111111111111, \"#46039f\"], [0.2222222222222222, \"#7201a8\"], [0.3333333333333333, \"#9c179e\"], [0.4444444444444444, \"#bd3786\"], [0.5555555555555556, \"#d8576b\"], [0.6666666666666666, \"#ed7953\"], [0.7777777777777778, \"#fb9f3a\"], [0.8888888888888888, \"#fdca26\"], [1.0, \"#f0f921\"]], \"type\": \"heatmap\"}], \"heatmapgl\": [{\"colorbar\": {\"outlinewidth\": 0, \"ticks\": \"\"}, \"colorscale\": [[0.0, \"#0d0887\"], [0.1111111111111111, \"#46039f\"], [0.2222222222222222, \"#7201a8\"], [0.3333333333333333, \"#9c179e\"], [0.4444444444444444, \"#bd3786\"], [0.5555555555555556, \"#d8576b\"], [0.6666666666666666, \"#ed7953\"], [0.7777777777777778, \"#fb9f3a\"], [0.8888888888888888, \"#fdca26\"], [1.0, \"#f0f921\"]], \"type\": \"heatmapgl\"}], \"histogram\": [{\"marker\": {\"colorbar\": {\"outlinewidth\": 0, \"ticks\": \"\"}}, \"type\": \"histogram\"}], \"histogram2d\": [{\"colorbar\": {\"outlinewidth\": 0, \"ticks\": \"\"}, \"colorscale\": [[0.0, \"#0d0887\"], [0.1111111111111111, \"#46039f\"], [0.2222222222222222, \"#7201a8\"], [0.3333333333333333, \"#9c179e\"], [0.4444444444444444, \"#bd3786\"], [0.5555555555555556, \"#d8576b\"], [0.6666666666666666, \"#ed7953\"], [0.7777777777777778, \"#fb9f3a\"], [0.8888888888888888, \"#fdca26\"], [1.0, \"#f0f921\"]], \"type\": \"histogram2d\"}], \"histogram2dcontour\": [{\"colorbar\": {\"outlinewidth\": 0, \"ticks\": \"\"}, \"colorscale\": [[0.0, \"#0d0887\"], [0.1111111111111111, \"#46039f\"], [0.2222222222222222, \"#7201a8\"], [0.3333333333333333, \"#9c179e\"], [0.4444444444444444, \"#bd3786\"], [0.5555555555555556, \"#d8576b\"], [0.6666666666666666, \"#ed7953\"], [0.7777777777777778, \"#fb9f3a\"], [0.8888888888888888, \"#fdca26\"], [1.0, \"#f0f921\"]], \"type\": \"histogram2dcontour\"}], \"mesh3d\": [{\"colorbar\": {\"outlinewidth\": 0, \"ticks\": \"\"}, \"type\": \"mesh3d\"}], \"parcoords\": [{\"line\": {\"colorbar\": {\"outlinewidth\": 0, \"ticks\": \"\"}}, \"type\": \"parcoords\"}], \"pie\": [{\"automargin\": true, \"type\": \"pie\"}], \"scatter\": [{\"marker\": {\"colorbar\": {\"outlinewidth\": 0, \"ticks\": \"\"}}, \"type\": \"scatter\"}], \"scatter3d\": [{\"line\": {\"colorbar\": {\"outlinewidth\": 0, \"ticks\": \"\"}}, \"marker\": {\"colorbar\": {\"outlinewidth\": 0, \"ticks\": \"\"}}, \"type\": \"scatter3d\"}], \"scattercarpet\": [{\"marker\": {\"colorbar\": {\"outlinewidth\": 0, \"ticks\": \"\"}}, \"type\": \"scattercarpet\"}], \"scattergeo\": [{\"marker\": {\"colorbar\": {\"outlinewidth\": 0, \"ticks\": \"\"}}, \"type\": \"scattergeo\"}], \"scattergl\": [{\"marker\": {\"colorbar\": {\"outlinewidth\": 0, \"ticks\": \"\"}}, \"type\": \"scattergl\"}], \"scattermapbox\": [{\"marker\": {\"colorbar\": {\"outlinewidth\": 0, \"ticks\": \"\"}}, \"type\": \"scattermapbox\"}], \"scatterpolar\": [{\"marker\": {\"colorbar\": {\"outlinewidth\": 0, \"ticks\": \"\"}}, \"type\": \"scatterpolar\"}], \"scatterpolargl\": [{\"marker\": {\"colorbar\": {\"outlinewidth\": 0, \"ticks\": \"\"}}, \"type\": \"scatterpolargl\"}], \"scatterternary\": [{\"marker\": {\"colorbar\": {\"outlinewidth\": 0, \"ticks\": \"\"}}, \"type\": \"scatterternary\"}], \"surface\": [{\"colorbar\": {\"outlinewidth\": 0, \"ticks\": \"\"}, \"colorscale\": [[0.0, \"#0d0887\"], [0.1111111111111111, \"#46039f\"], [0.2222222222222222, \"#7201a8\"], [0.3333333333333333, \"#9c179e\"], [0.4444444444444444, \"#bd3786\"], [0.5555555555555556, \"#d8576b\"], [0.6666666666666666, \"#ed7953\"], [0.7777777777777778, \"#fb9f3a\"], [0.8888888888888888, \"#fdca26\"], [1.0, \"#f0f921\"]], \"type\": \"surface\"}], \"table\": [{\"cells\": {\"fill\": {\"color\": \"#EBF0F8\"}, \"line\": {\"color\": \"white\"}}, \"header\": {\"fill\": {\"color\": \"#C8D4E3\"}, \"line\": {\"color\": \"white\"}}, \"type\": \"table\"}]}, \"layout\": {\"annotationdefaults\": {\"arrowcolor\": \"#2a3f5f\", \"arrowhead\": 0, \"arrowwidth\": 1}, \"autotypenumbers\": \"strict\", \"coloraxis\": {\"colorbar\": {\"outlinewidth\": 0, \"ticks\": \"\"}}, \"colorscale\": {\"diverging\": [[0, \"#8e0152\"], [0.1, \"#c51b7d\"], [0.2, \"#de77ae\"], [0.3, \"#f1b6da\"], [0.4, \"#fde0ef\"], [0.5, \"#f7f7f7\"], [0.6, \"#e6f5d0\"], [0.7, \"#b8e186\"], [0.8, \"#7fbc41\"], [0.9, \"#4d9221\"], [1, \"#276419\"]], \"sequential\": [[0.0, \"#0d0887\"], [0.1111111111111111, \"#46039f\"], [0.2222222222222222, \"#7201a8\"], [0.3333333333333333, \"#9c179e\"], [0.4444444444444444, \"#bd3786\"], [0.5555555555555556, \"#d8576b\"], [0.6666666666666666, \"#ed7953\"], [0.7777777777777778, \"#fb9f3a\"], [0.8888888888888888, \"#fdca26\"], [1.0, \"#f0f921\"]], \"sequentialminus\": [[0.0, \"#0d0887\"], [0.1111111111111111, \"#46039f\"], [0.2222222222222222, \"#7201a8\"], [0.3333333333333333, \"#9c179e\"], [0.4444444444444444, \"#bd3786\"], [0.5555555555555556, \"#d8576b\"], [0.6666666666666666, \"#ed7953\"], [0.7777777777777778, \"#fb9f3a\"], [0.8888888888888888, \"#fdca26\"], [1.0, \"#f0f921\"]]}, \"colorway\": [\"#636efa\", \"#EF553B\", \"#00cc96\", \"#ab63fa\", \"#FFA15A\", \"#19d3f3\", \"#FF6692\", \"#B6E880\", \"#FF97FF\", \"#FECB52\"], \"font\": {\"color\": \"#2a3f5f\"}, \"geo\": {\"bgcolor\": \"white\", \"lakecolor\": \"white\", \"landcolor\": \"#E5ECF6\", \"showlakes\": true, \"showland\": true, \"subunitcolor\": \"white\"}, \"hoverlabel\": {\"align\": \"left\"}, \"hovermode\": \"closest\", \"mapbox\": {\"style\": \"light\"}, \"paper_bgcolor\": \"white\", \"plot_bgcolor\": \"#E5ECF6\", \"polar\": {\"angularaxis\": {\"gridcolor\": \"white\", \"linecolor\": \"white\", \"ticks\": \"\"}, \"bgcolor\": \"#E5ECF6\", \"radialaxis\": {\"gridcolor\": \"white\", \"linecolor\": \"white\", \"ticks\": \"\"}}, \"scene\": {\"xaxis\": {\"backgroundcolor\": \"#E5ECF6\", \"gridcolor\": \"white\", \"gridwidth\": 2, \"linecolor\": \"white\", \"showbackground\": true, \"ticks\": \"\", \"zerolinecolor\": \"white\"}, \"yaxis\": {\"backgroundcolor\": \"#E5ECF6\", \"gridcolor\": \"white\", \"gridwidth\": 2, \"linecolor\": \"white\", \"showbackground\": true, \"ticks\": \"\", \"zerolinecolor\": \"white\"}, \"zaxis\": {\"backgroundcolor\": \"#E5ECF6\", \"gridcolor\": \"white\", \"gridwidth\": 2, \"linecolor\": \"white\", \"showbackground\": true, \"ticks\": \"\", \"zerolinecolor\": \"white\"}}, \"shapedefaults\": {\"line\": {\"color\": \"#2a3f5f\"}}, \"ternary\": {\"aaxis\": {\"gridcolor\": \"white\", \"linecolor\": \"white\", \"ticks\": \"\"}, \"baxis\": {\"gridcolor\": \"white\", \"linecolor\": \"white\", \"ticks\": \"\"}, \"bgcolor\": \"#E5ECF6\", \"caxis\": {\"gridcolor\": \"white\", \"linecolor\": \"white\", \"ticks\": \"\"}}, \"title\": {\"x\": 0.05}, \"xaxis\": {\"automargin\": true, \"gridcolor\": \"white\", \"linecolor\": \"white\", \"ticks\": \"\", \"title\": {\"standoff\": 15}, \"zerolinecolor\": \"white\", \"zerolinewidth\": 2}, \"yaxis\": {\"automargin\": true, \"gridcolor\": \"white\", \"linecolor\": \"white\", \"ticks\": \"\", \"title\": {\"standoff\": 15}, \"zerolinecolor\": \"white\", \"zerolinewidth\": 2}}}, \"xaxis\": {\"anchor\": \"y\", \"domain\": [0.0, 1.0], \"title\": {\"text\": \"\\uac70\\ub798\\uc6d4\"}}, \"yaxis\": {\"anchor\": \"x\", \"domain\": [0.0, 1.0], \"title\": {\"text\": \"\\ud3c9\\uade0 \\ud3c9\\ub2f9 \\uac70\\ub798\\uae08\\uc561\"}}},                        {\"responsive\": true}                    ).then(function(){\n",
       "                            \n",
       "var gd = document.getElementById('60571add-f1e7-405a-ace9-0862f30704f1');\n",
       "var x = new MutationObserver(function (mutations, observer) {{\n",
       "        var display = window.getComputedStyle(gd).display;\n",
       "        if (!display || display === 'none') {{\n",
       "            console.log([gd, 'removed!']);\n",
       "            Plotly.purge(gd);\n",
       "            observer.disconnect();\n",
       "        }}\n",
       "}});\n",
       "\n",
       "// Listen for the removal of the full notebook cells\n",
       "var notebookContainer = gd.closest('#notebook-container');\n",
       "if (notebookContainer) {{\n",
       "    x.observe(notebookContainer, {childList: true});\n",
       "}}\n",
       "\n",
       "// Listen for the clearing of the current output cell\n",
       "var outputEl = gd.closest('.output');\n",
       "if (outputEl) {{\n",
       "    x.observe(outputEl, {childList: true});\n",
       "}}\n",
       "\n",
       "                        })                };                });            </script>        </div>"
      ]
     },
     "metadata": {},
     "output_type": "display_data"
    }
   ],
   "source": [
    "top5 = df1['전용면적(평)3'].value_counts().index[:5]\n",
    "data = df1[df1['전용면적(평)3'].isin(top5)]\n",
    "data = data.groupby(['거래월','전용면적(평)3'])['평당거래금액'].agg(['count','mean']).sort_values('거래월').reset_index()\n",
    "data.rename(columns={'mean':'평균 평당 거래금액'},inplace=True)\n",
    "\n",
    "fig = px.line(data, x=\"거래월\", y=\"평균 평당 거래금액\", color='전용면적(평)3')\n",
    "iplot(fig)"
   ]
  },
  {
   "cell_type": "markdown",
   "metadata": {},
   "source": [
    "#### 9 - 서울에서 가장 많이 거래된 아파트 평수 TOP5의 월간 평균 평당가격 추이\n",
    "- 목적 : 거래금액에서 평수를 나눈 평당 가격의 평수면적별 가격 차이\n",
    "\n",
    "\n",
    "- 결과 : 평수가 크더라도 평당 가격은 적은 평수가 더 높은것이 정상이지만 서울시 전체를 대상으로 한 그래프이기 떄문에 오차가 있다. "
   ]
  },
  {
   "cell_type": "markdown",
   "metadata": {},
   "source": [
    "----------------------------------------------------------------------------------------------------------------------------------------------------------"
   ]
  },
  {
   "cell_type": "code",
   "execution_count": 39,
   "metadata": {
    "scrolled": false
   },
   "outputs": [
    {
     "data": {
      "application/vnd.plotly.v1+json": {
       "config": {
        "linkText": "Export to plot.ly",
        "plotlyServerURL": "https://plot.ly",
        "showLink": false
       },
       "data": [
        {
         "hovertemplate": "전용면적(평)3=(10, 15]<br>거래월=%{x}<br>평균 거래금액=%{y}<extra></extra>",
         "legendgroup": "(10, 15]",
         "line": {
          "color": "#636efa",
          "dash": "solid"
         },
         "mode": "lines",
         "name": "(10, 15]",
         "orientation": "v",
         "showlegend": true,
         "type": "scatter",
         "x": [
          1,
          2,
          3,
          4,
          5,
          6,
          7,
          8,
          9,
          10,
          11,
          12
         ],
         "xaxis": "x",
         "y": [
          37952.020202020205,
          34913.69426751592,
          36836.03676470588,
          42815.190625,
          45504.408352668215,
          44443.17901234568,
          43189.49033816425,
          44329.22986577181,
          46141.09818731118,
          45157.71653543307,
          44768.35384615385,
          42460.87221095335
         ],
         "yaxis": "y"
        },
        {
         "hovertemplate": "전용면적(평)3=(15, 20]<br>거래월=%{x}<br>평균 거래금액=%{y}<extra></extra>",
         "legendgroup": "(15, 20]",
         "line": {
          "color": "#EF553B",
          "dash": "solid"
         },
         "mode": "lines",
         "name": "(15, 20]",
         "orientation": "v",
         "showlegend": true,
         "type": "scatter",
         "x": [
          1,
          2,
          3,
          4,
          5,
          6,
          7,
          8,
          9,
          10,
          11,
          12
         ],
         "xaxis": "x",
         "y": [
          47771.12949640288,
          49849.76683937824,
          52323.630397236615,
          58334.616686819834,
          63559.771241830065,
          65826.10437532947,
          66188.63390370076,
          63628.490853658535,
          65661.15781167806,
          64421.50094221105,
          65979.87520418163,
          62087.9019138756
         ],
         "yaxis": "y"
        },
        {
         "hovertemplate": "전용면적(평)3=(20, 25]<br>거래월=%{x}<br>평균 거래금액=%{y}<extra></extra>",
         "legendgroup": "(20, 25]",
         "line": {
          "color": "#00cc96",
          "dash": "solid"
         },
         "mode": "lines",
         "name": "(20, 25]",
         "orientation": "v",
         "showlegend": true,
         "type": "scatter",
         "x": [
          1,
          2,
          3,
          4,
          5,
          6,
          7,
          8,
          9,
          10,
          11,
          12
         ],
         "xaxis": "x",
         "y": [
          64915.03153988868,
          69654.22309197651,
          73437.35776397516,
          79526.44736842105,
          87636.87932118165,
          89997.1969924812,
          89348.57258765576,
          84497.92561349693,
          87884.22269654927,
          88414.236125991,
          87595.02565896898,
          81396.99937027707
         ],
         "yaxis": "y"
        },
        {
         "hovertemplate": "전용면적(평)3=(30, 35]<br>거래월=%{x}<br>평균 거래금액=%{y}<extra></extra>",
         "legendgroup": "(30, 35]",
         "line": {
          "color": "#ab63fa",
          "dash": "solid"
         },
         "mode": "lines",
         "name": "(30, 35]",
         "orientation": "v",
         "showlegend": true,
         "type": "scatter",
         "x": [
          1,
          2,
          3,
          4,
          5,
          6,
          7,
          8,
          9,
          10,
          11,
          12
         ],
         "xaxis": "x",
         "y": [
          82950.4424778761,
          88573.91304347826,
          94130.21582733814,
          102277.34104046243,
          106769.47368421052,
          117478.17129629629,
          109034.06190476191,
          101631.23689727463,
          113936.79133858268,
          108949.75224215246,
          104429.66666666667,
          101325.92592592593
         ],
         "yaxis": "y"
        },
        {
         "hovertemplate": "전용면적(평)3=(35, 40]<br>거래월=%{x}<br>평균 거래금액=%{y}<extra></extra>",
         "legendgroup": "(35, 40]",
         "line": {
          "color": "#FFA15A",
          "dash": "solid"
         },
         "mode": "lines",
         "name": "(35, 40]",
         "orientation": "v",
         "showlegend": true,
         "type": "scatter",
         "x": [
          1,
          2,
          3,
          4,
          5,
          6,
          7,
          8,
          9,
          10,
          11,
          12
         ],
         "xaxis": "x",
         "y": [
          97855.75409836066,
          104778.47619047618,
          123899.46391752578,
          129044.63716814159,
          141804.1379310345,
          147872.59424920127,
          144644.6489361702,
          127718.15702479339,
          143800.32876712328,
          133028.14024390245,
          130667.8372703412,
          124005.46875
         ],
         "yaxis": "y"
        }
       ],
       "layout": {
        "legend": {
         "title": {
          "text": "전용면적(평)3"
         },
         "tracegroupgap": 0
        },
        "margin": {
         "t": 60
        },
        "template": {
         "data": {
          "bar": [
           {
            "error_x": {
             "color": "#2a3f5f"
            },
            "error_y": {
             "color": "#2a3f5f"
            },
            "marker": {
             "line": {
              "color": "#E5ECF6",
              "width": 0.5
             }
            },
            "type": "bar"
           }
          ],
          "barpolar": [
           {
            "marker": {
             "line": {
              "color": "#E5ECF6",
              "width": 0.5
             }
            },
            "type": "barpolar"
           }
          ],
          "carpet": [
           {
            "aaxis": {
             "endlinecolor": "#2a3f5f",
             "gridcolor": "white",
             "linecolor": "white",
             "minorgridcolor": "white",
             "startlinecolor": "#2a3f5f"
            },
            "baxis": {
             "endlinecolor": "#2a3f5f",
             "gridcolor": "white",
             "linecolor": "white",
             "minorgridcolor": "white",
             "startlinecolor": "#2a3f5f"
            },
            "type": "carpet"
           }
          ],
          "choropleth": [
           {
            "colorbar": {
             "outlinewidth": 0,
             "ticks": ""
            },
            "type": "choropleth"
           }
          ],
          "contour": [
           {
            "colorbar": {
             "outlinewidth": 0,
             "ticks": ""
            },
            "colorscale": [
             [
              0,
              "#0d0887"
             ],
             [
              0.1111111111111111,
              "#46039f"
             ],
             [
              0.2222222222222222,
              "#7201a8"
             ],
             [
              0.3333333333333333,
              "#9c179e"
             ],
             [
              0.4444444444444444,
              "#bd3786"
             ],
             [
              0.5555555555555556,
              "#d8576b"
             ],
             [
              0.6666666666666666,
              "#ed7953"
             ],
             [
              0.7777777777777778,
              "#fb9f3a"
             ],
             [
              0.8888888888888888,
              "#fdca26"
             ],
             [
              1,
              "#f0f921"
             ]
            ],
            "type": "contour"
           }
          ],
          "contourcarpet": [
           {
            "colorbar": {
             "outlinewidth": 0,
             "ticks": ""
            },
            "type": "contourcarpet"
           }
          ],
          "heatmap": [
           {
            "colorbar": {
             "outlinewidth": 0,
             "ticks": ""
            },
            "colorscale": [
             [
              0,
              "#0d0887"
             ],
             [
              0.1111111111111111,
              "#46039f"
             ],
             [
              0.2222222222222222,
              "#7201a8"
             ],
             [
              0.3333333333333333,
              "#9c179e"
             ],
             [
              0.4444444444444444,
              "#bd3786"
             ],
             [
              0.5555555555555556,
              "#d8576b"
             ],
             [
              0.6666666666666666,
              "#ed7953"
             ],
             [
              0.7777777777777778,
              "#fb9f3a"
             ],
             [
              0.8888888888888888,
              "#fdca26"
             ],
             [
              1,
              "#f0f921"
             ]
            ],
            "type": "heatmap"
           }
          ],
          "heatmapgl": [
           {
            "colorbar": {
             "outlinewidth": 0,
             "ticks": ""
            },
            "colorscale": [
             [
              0,
              "#0d0887"
             ],
             [
              0.1111111111111111,
              "#46039f"
             ],
             [
              0.2222222222222222,
              "#7201a8"
             ],
             [
              0.3333333333333333,
              "#9c179e"
             ],
             [
              0.4444444444444444,
              "#bd3786"
             ],
             [
              0.5555555555555556,
              "#d8576b"
             ],
             [
              0.6666666666666666,
              "#ed7953"
             ],
             [
              0.7777777777777778,
              "#fb9f3a"
             ],
             [
              0.8888888888888888,
              "#fdca26"
             ],
             [
              1,
              "#f0f921"
             ]
            ],
            "type": "heatmapgl"
           }
          ],
          "histogram": [
           {
            "marker": {
             "colorbar": {
              "outlinewidth": 0,
              "ticks": ""
             }
            },
            "type": "histogram"
           }
          ],
          "histogram2d": [
           {
            "colorbar": {
             "outlinewidth": 0,
             "ticks": ""
            },
            "colorscale": [
             [
              0,
              "#0d0887"
             ],
             [
              0.1111111111111111,
              "#46039f"
             ],
             [
              0.2222222222222222,
              "#7201a8"
             ],
             [
              0.3333333333333333,
              "#9c179e"
             ],
             [
              0.4444444444444444,
              "#bd3786"
             ],
             [
              0.5555555555555556,
              "#d8576b"
             ],
             [
              0.6666666666666666,
              "#ed7953"
             ],
             [
              0.7777777777777778,
              "#fb9f3a"
             ],
             [
              0.8888888888888888,
              "#fdca26"
             ],
             [
              1,
              "#f0f921"
             ]
            ],
            "type": "histogram2d"
           }
          ],
          "histogram2dcontour": [
           {
            "colorbar": {
             "outlinewidth": 0,
             "ticks": ""
            },
            "colorscale": [
             [
              0,
              "#0d0887"
             ],
             [
              0.1111111111111111,
              "#46039f"
             ],
             [
              0.2222222222222222,
              "#7201a8"
             ],
             [
              0.3333333333333333,
              "#9c179e"
             ],
             [
              0.4444444444444444,
              "#bd3786"
             ],
             [
              0.5555555555555556,
              "#d8576b"
             ],
             [
              0.6666666666666666,
              "#ed7953"
             ],
             [
              0.7777777777777778,
              "#fb9f3a"
             ],
             [
              0.8888888888888888,
              "#fdca26"
             ],
             [
              1,
              "#f0f921"
             ]
            ],
            "type": "histogram2dcontour"
           }
          ],
          "mesh3d": [
           {
            "colorbar": {
             "outlinewidth": 0,
             "ticks": ""
            },
            "type": "mesh3d"
           }
          ],
          "parcoords": [
           {
            "line": {
             "colorbar": {
              "outlinewidth": 0,
              "ticks": ""
             }
            },
            "type": "parcoords"
           }
          ],
          "pie": [
           {
            "automargin": true,
            "type": "pie"
           }
          ],
          "scatter": [
           {
            "marker": {
             "colorbar": {
              "outlinewidth": 0,
              "ticks": ""
             }
            },
            "type": "scatter"
           }
          ],
          "scatter3d": [
           {
            "line": {
             "colorbar": {
              "outlinewidth": 0,
              "ticks": ""
             }
            },
            "marker": {
             "colorbar": {
              "outlinewidth": 0,
              "ticks": ""
             }
            },
            "type": "scatter3d"
           }
          ],
          "scattercarpet": [
           {
            "marker": {
             "colorbar": {
              "outlinewidth": 0,
              "ticks": ""
             }
            },
            "type": "scattercarpet"
           }
          ],
          "scattergeo": [
           {
            "marker": {
             "colorbar": {
              "outlinewidth": 0,
              "ticks": ""
             }
            },
            "type": "scattergeo"
           }
          ],
          "scattergl": [
           {
            "marker": {
             "colorbar": {
              "outlinewidth": 0,
              "ticks": ""
             }
            },
            "type": "scattergl"
           }
          ],
          "scattermapbox": [
           {
            "marker": {
             "colorbar": {
              "outlinewidth": 0,
              "ticks": ""
             }
            },
            "type": "scattermapbox"
           }
          ],
          "scatterpolar": [
           {
            "marker": {
             "colorbar": {
              "outlinewidth": 0,
              "ticks": ""
             }
            },
            "type": "scatterpolar"
           }
          ],
          "scatterpolargl": [
           {
            "marker": {
             "colorbar": {
              "outlinewidth": 0,
              "ticks": ""
             }
            },
            "type": "scatterpolargl"
           }
          ],
          "scatterternary": [
           {
            "marker": {
             "colorbar": {
              "outlinewidth": 0,
              "ticks": ""
             }
            },
            "type": "scatterternary"
           }
          ],
          "surface": [
           {
            "colorbar": {
             "outlinewidth": 0,
             "ticks": ""
            },
            "colorscale": [
             [
              0,
              "#0d0887"
             ],
             [
              0.1111111111111111,
              "#46039f"
             ],
             [
              0.2222222222222222,
              "#7201a8"
             ],
             [
              0.3333333333333333,
              "#9c179e"
             ],
             [
              0.4444444444444444,
              "#bd3786"
             ],
             [
              0.5555555555555556,
              "#d8576b"
             ],
             [
              0.6666666666666666,
              "#ed7953"
             ],
             [
              0.7777777777777778,
              "#fb9f3a"
             ],
             [
              0.8888888888888888,
              "#fdca26"
             ],
             [
              1,
              "#f0f921"
             ]
            ],
            "type": "surface"
           }
          ],
          "table": [
           {
            "cells": {
             "fill": {
              "color": "#EBF0F8"
             },
             "line": {
              "color": "white"
             }
            },
            "header": {
             "fill": {
              "color": "#C8D4E3"
             },
             "line": {
              "color": "white"
             }
            },
            "type": "table"
           }
          ]
         },
         "layout": {
          "annotationdefaults": {
           "arrowcolor": "#2a3f5f",
           "arrowhead": 0,
           "arrowwidth": 1
          },
          "autotypenumbers": "strict",
          "coloraxis": {
           "colorbar": {
            "outlinewidth": 0,
            "ticks": ""
           }
          },
          "colorscale": {
           "diverging": [
            [
             0,
             "#8e0152"
            ],
            [
             0.1,
             "#c51b7d"
            ],
            [
             0.2,
             "#de77ae"
            ],
            [
             0.3,
             "#f1b6da"
            ],
            [
             0.4,
             "#fde0ef"
            ],
            [
             0.5,
             "#f7f7f7"
            ],
            [
             0.6,
             "#e6f5d0"
            ],
            [
             0.7,
             "#b8e186"
            ],
            [
             0.8,
             "#7fbc41"
            ],
            [
             0.9,
             "#4d9221"
            ],
            [
             1,
             "#276419"
            ]
           ],
           "sequential": [
            [
             0,
             "#0d0887"
            ],
            [
             0.1111111111111111,
             "#46039f"
            ],
            [
             0.2222222222222222,
             "#7201a8"
            ],
            [
             0.3333333333333333,
             "#9c179e"
            ],
            [
             0.4444444444444444,
             "#bd3786"
            ],
            [
             0.5555555555555556,
             "#d8576b"
            ],
            [
             0.6666666666666666,
             "#ed7953"
            ],
            [
             0.7777777777777778,
             "#fb9f3a"
            ],
            [
             0.8888888888888888,
             "#fdca26"
            ],
            [
             1,
             "#f0f921"
            ]
           ],
           "sequentialminus": [
            [
             0,
             "#0d0887"
            ],
            [
             0.1111111111111111,
             "#46039f"
            ],
            [
             0.2222222222222222,
             "#7201a8"
            ],
            [
             0.3333333333333333,
             "#9c179e"
            ],
            [
             0.4444444444444444,
             "#bd3786"
            ],
            [
             0.5555555555555556,
             "#d8576b"
            ],
            [
             0.6666666666666666,
             "#ed7953"
            ],
            [
             0.7777777777777778,
             "#fb9f3a"
            ],
            [
             0.8888888888888888,
             "#fdca26"
            ],
            [
             1,
             "#f0f921"
            ]
           ]
          },
          "colorway": [
           "#636efa",
           "#EF553B",
           "#00cc96",
           "#ab63fa",
           "#FFA15A",
           "#19d3f3",
           "#FF6692",
           "#B6E880",
           "#FF97FF",
           "#FECB52"
          ],
          "font": {
           "color": "#2a3f5f"
          },
          "geo": {
           "bgcolor": "white",
           "lakecolor": "white",
           "landcolor": "#E5ECF6",
           "showlakes": true,
           "showland": true,
           "subunitcolor": "white"
          },
          "hoverlabel": {
           "align": "left"
          },
          "hovermode": "closest",
          "mapbox": {
           "style": "light"
          },
          "paper_bgcolor": "white",
          "plot_bgcolor": "#E5ECF6",
          "polar": {
           "angularaxis": {
            "gridcolor": "white",
            "linecolor": "white",
            "ticks": ""
           },
           "bgcolor": "#E5ECF6",
           "radialaxis": {
            "gridcolor": "white",
            "linecolor": "white",
            "ticks": ""
           }
          },
          "scene": {
           "xaxis": {
            "backgroundcolor": "#E5ECF6",
            "gridcolor": "white",
            "gridwidth": 2,
            "linecolor": "white",
            "showbackground": true,
            "ticks": "",
            "zerolinecolor": "white"
           },
           "yaxis": {
            "backgroundcolor": "#E5ECF6",
            "gridcolor": "white",
            "gridwidth": 2,
            "linecolor": "white",
            "showbackground": true,
            "ticks": "",
            "zerolinecolor": "white"
           },
           "zaxis": {
            "backgroundcolor": "#E5ECF6",
            "gridcolor": "white",
            "gridwidth": 2,
            "linecolor": "white",
            "showbackground": true,
            "ticks": "",
            "zerolinecolor": "white"
           }
          },
          "shapedefaults": {
           "line": {
            "color": "#2a3f5f"
           }
          },
          "ternary": {
           "aaxis": {
            "gridcolor": "white",
            "linecolor": "white",
            "ticks": ""
           },
           "baxis": {
            "gridcolor": "white",
            "linecolor": "white",
            "ticks": ""
           },
           "bgcolor": "#E5ECF6",
           "caxis": {
            "gridcolor": "white",
            "linecolor": "white",
            "ticks": ""
           }
          },
          "title": {
           "x": 0.05
          },
          "xaxis": {
           "automargin": true,
           "gridcolor": "white",
           "linecolor": "white",
           "ticks": "",
           "title": {
            "standoff": 15
           },
           "zerolinecolor": "white",
           "zerolinewidth": 2
          },
          "yaxis": {
           "automargin": true,
           "gridcolor": "white",
           "linecolor": "white",
           "ticks": "",
           "title": {
            "standoff": 15
           },
           "zerolinecolor": "white",
           "zerolinewidth": 2
          }
         }
        },
        "xaxis": {
         "anchor": "y",
         "domain": [
          0,
          1
         ],
         "title": {
          "text": "거래월"
         }
        },
        "yaxis": {
         "anchor": "x",
         "domain": [
          0,
          1
         ],
         "title": {
          "text": "평균 거래금액"
         }
        }
       }
      },
      "text/html": [
       "<div>                            <div id=\"db142b7a-556c-40ea-a09e-f60c423db5ff\" class=\"plotly-graph-div\" style=\"height:525px; width:100%;\"></div>            <script type=\"text/javascript\">                require([\"plotly\"], function(Plotly) {                    window.PLOTLYENV=window.PLOTLYENV || {};                                    if (document.getElementById(\"db142b7a-556c-40ea-a09e-f60c423db5ff\")) {                    Plotly.newPlot(                        \"db142b7a-556c-40ea-a09e-f60c423db5ff\",                        [{\"hovertemplate\": \"\\uc804\\uc6a9\\uba74\\uc801(\\ud3c9)3=(10, 15]<br>\\uac70\\ub798\\uc6d4=%{x}<br>\\ud3c9\\uade0 \\uac70\\ub798\\uae08\\uc561=%{y}<extra></extra>\", \"legendgroup\": \"(10, 15]\", \"line\": {\"color\": \"#636efa\", \"dash\": \"solid\"}, \"mode\": \"lines\", \"name\": \"(10, 15]\", \"orientation\": \"v\", \"showlegend\": true, \"type\": \"scatter\", \"x\": [1, 2, 3, 4, 5, 6, 7, 8, 9, 10, 11, 12], \"xaxis\": \"x\", \"y\": [37952.020202020205, 34913.69426751592, 36836.03676470588, 42815.190625, 45504.408352668215, 44443.17901234568, 43189.49033816425, 44329.22986577181, 46141.09818731118, 45157.71653543307, 44768.35384615385, 42460.87221095335], \"yaxis\": \"y\"}, {\"hovertemplate\": \"\\uc804\\uc6a9\\uba74\\uc801(\\ud3c9)3=(15, 20]<br>\\uac70\\ub798\\uc6d4=%{x}<br>\\ud3c9\\uade0 \\uac70\\ub798\\uae08\\uc561=%{y}<extra></extra>\", \"legendgroup\": \"(15, 20]\", \"line\": {\"color\": \"#EF553B\", \"dash\": \"solid\"}, \"mode\": \"lines\", \"name\": \"(15, 20]\", \"orientation\": \"v\", \"showlegend\": true, \"type\": \"scatter\", \"x\": [1, 2, 3, 4, 5, 6, 7, 8, 9, 10, 11, 12], \"xaxis\": \"x\", \"y\": [47771.12949640288, 49849.76683937824, 52323.630397236615, 58334.616686819834, 63559.771241830065, 65826.10437532947, 66188.63390370076, 63628.490853658535, 65661.15781167806, 64421.50094221105, 65979.87520418163, 62087.9019138756], \"yaxis\": \"y\"}, {\"hovertemplate\": \"\\uc804\\uc6a9\\uba74\\uc801(\\ud3c9)3=(20, 25]<br>\\uac70\\ub798\\uc6d4=%{x}<br>\\ud3c9\\uade0 \\uac70\\ub798\\uae08\\uc561=%{y}<extra></extra>\", \"legendgroup\": \"(20, 25]\", \"line\": {\"color\": \"#00cc96\", \"dash\": \"solid\"}, \"mode\": \"lines\", \"name\": \"(20, 25]\", \"orientation\": \"v\", \"showlegend\": true, \"type\": \"scatter\", \"x\": [1, 2, 3, 4, 5, 6, 7, 8, 9, 10, 11, 12], \"xaxis\": \"x\", \"y\": [64915.03153988868, 69654.22309197651, 73437.35776397516, 79526.44736842105, 87636.87932118165, 89997.1969924812, 89348.57258765576, 84497.92561349693, 87884.22269654927, 88414.236125991, 87595.02565896898, 81396.99937027707], \"yaxis\": \"y\"}, {\"hovertemplate\": \"\\uc804\\uc6a9\\uba74\\uc801(\\ud3c9)3=(30, 35]<br>\\uac70\\ub798\\uc6d4=%{x}<br>\\ud3c9\\uade0 \\uac70\\ub798\\uae08\\uc561=%{y}<extra></extra>\", \"legendgroup\": \"(30, 35]\", \"line\": {\"color\": \"#ab63fa\", \"dash\": \"solid\"}, \"mode\": \"lines\", \"name\": \"(30, 35]\", \"orientation\": \"v\", \"showlegend\": true, \"type\": \"scatter\", \"x\": [1, 2, 3, 4, 5, 6, 7, 8, 9, 10, 11, 12], \"xaxis\": \"x\", \"y\": [82950.4424778761, 88573.91304347826, 94130.21582733814, 102277.34104046243, 106769.47368421052, 117478.17129629629, 109034.06190476191, 101631.23689727463, 113936.79133858268, 108949.75224215246, 104429.66666666667, 101325.92592592593], \"yaxis\": \"y\"}, {\"hovertemplate\": \"\\uc804\\uc6a9\\uba74\\uc801(\\ud3c9)3=(35, 40]<br>\\uac70\\ub798\\uc6d4=%{x}<br>\\ud3c9\\uade0 \\uac70\\ub798\\uae08\\uc561=%{y}<extra></extra>\", \"legendgroup\": \"(35, 40]\", \"line\": {\"color\": \"#FFA15A\", \"dash\": \"solid\"}, \"mode\": \"lines\", \"name\": \"(35, 40]\", \"orientation\": \"v\", \"showlegend\": true, \"type\": \"scatter\", \"x\": [1, 2, 3, 4, 5, 6, 7, 8, 9, 10, 11, 12], \"xaxis\": \"x\", \"y\": [97855.75409836066, 104778.47619047618, 123899.46391752578, 129044.63716814159, 141804.1379310345, 147872.59424920127, 144644.6489361702, 127718.15702479339, 143800.32876712328, 133028.14024390245, 130667.8372703412, 124005.46875], \"yaxis\": \"y\"}],                        {\"legend\": {\"title\": {\"text\": \"\\uc804\\uc6a9\\uba74\\uc801(\\ud3c9)3\"}, \"tracegroupgap\": 0}, \"margin\": {\"t\": 60}, \"template\": {\"data\": {\"bar\": [{\"error_x\": {\"color\": \"#2a3f5f\"}, \"error_y\": {\"color\": \"#2a3f5f\"}, \"marker\": {\"line\": {\"color\": \"#E5ECF6\", \"width\": 0.5}}, \"type\": \"bar\"}], \"barpolar\": [{\"marker\": {\"line\": {\"color\": \"#E5ECF6\", \"width\": 0.5}}, \"type\": \"barpolar\"}], \"carpet\": [{\"aaxis\": {\"endlinecolor\": \"#2a3f5f\", \"gridcolor\": \"white\", \"linecolor\": \"white\", \"minorgridcolor\": \"white\", \"startlinecolor\": \"#2a3f5f\"}, \"baxis\": {\"endlinecolor\": \"#2a3f5f\", \"gridcolor\": \"white\", \"linecolor\": \"white\", \"minorgridcolor\": \"white\", \"startlinecolor\": \"#2a3f5f\"}, \"type\": \"carpet\"}], \"choropleth\": [{\"colorbar\": {\"outlinewidth\": 0, \"ticks\": \"\"}, \"type\": \"choropleth\"}], \"contour\": [{\"colorbar\": {\"outlinewidth\": 0, \"ticks\": \"\"}, \"colorscale\": [[0.0, \"#0d0887\"], [0.1111111111111111, \"#46039f\"], [0.2222222222222222, \"#7201a8\"], [0.3333333333333333, \"#9c179e\"], [0.4444444444444444, \"#bd3786\"], [0.5555555555555556, \"#d8576b\"], [0.6666666666666666, \"#ed7953\"], [0.7777777777777778, \"#fb9f3a\"], [0.8888888888888888, \"#fdca26\"], [1.0, \"#f0f921\"]], \"type\": \"contour\"}], \"contourcarpet\": [{\"colorbar\": {\"outlinewidth\": 0, \"ticks\": \"\"}, \"type\": \"contourcarpet\"}], \"heatmap\": [{\"colorbar\": {\"outlinewidth\": 0, \"ticks\": \"\"}, \"colorscale\": [[0.0, \"#0d0887\"], [0.1111111111111111, \"#46039f\"], [0.2222222222222222, \"#7201a8\"], [0.3333333333333333, \"#9c179e\"], [0.4444444444444444, \"#bd3786\"], [0.5555555555555556, \"#d8576b\"], [0.6666666666666666, \"#ed7953\"], [0.7777777777777778, \"#fb9f3a\"], [0.8888888888888888, \"#fdca26\"], [1.0, \"#f0f921\"]], \"type\": \"heatmap\"}], \"heatmapgl\": [{\"colorbar\": {\"outlinewidth\": 0, \"ticks\": \"\"}, \"colorscale\": [[0.0, \"#0d0887\"], [0.1111111111111111, \"#46039f\"], [0.2222222222222222, \"#7201a8\"], [0.3333333333333333, \"#9c179e\"], [0.4444444444444444, \"#bd3786\"], [0.5555555555555556, \"#d8576b\"], [0.6666666666666666, \"#ed7953\"], [0.7777777777777778, \"#fb9f3a\"], [0.8888888888888888, \"#fdca26\"], [1.0, \"#f0f921\"]], \"type\": \"heatmapgl\"}], \"histogram\": [{\"marker\": {\"colorbar\": {\"outlinewidth\": 0, \"ticks\": \"\"}}, \"type\": \"histogram\"}], \"histogram2d\": [{\"colorbar\": {\"outlinewidth\": 0, \"ticks\": \"\"}, \"colorscale\": [[0.0, \"#0d0887\"], [0.1111111111111111, \"#46039f\"], [0.2222222222222222, \"#7201a8\"], [0.3333333333333333, \"#9c179e\"], [0.4444444444444444, \"#bd3786\"], [0.5555555555555556, \"#d8576b\"], [0.6666666666666666, \"#ed7953\"], [0.7777777777777778, \"#fb9f3a\"], [0.8888888888888888, \"#fdca26\"], [1.0, \"#f0f921\"]], \"type\": \"histogram2d\"}], \"histogram2dcontour\": [{\"colorbar\": {\"outlinewidth\": 0, \"ticks\": \"\"}, \"colorscale\": [[0.0, \"#0d0887\"], [0.1111111111111111, \"#46039f\"], [0.2222222222222222, \"#7201a8\"], [0.3333333333333333, \"#9c179e\"], [0.4444444444444444, \"#bd3786\"], [0.5555555555555556, \"#d8576b\"], [0.6666666666666666, \"#ed7953\"], [0.7777777777777778, \"#fb9f3a\"], [0.8888888888888888, \"#fdca26\"], [1.0, \"#f0f921\"]], \"type\": \"histogram2dcontour\"}], \"mesh3d\": [{\"colorbar\": {\"outlinewidth\": 0, \"ticks\": \"\"}, \"type\": \"mesh3d\"}], \"parcoords\": [{\"line\": {\"colorbar\": {\"outlinewidth\": 0, \"ticks\": \"\"}}, \"type\": \"parcoords\"}], \"pie\": [{\"automargin\": true, \"type\": \"pie\"}], \"scatter\": [{\"marker\": {\"colorbar\": {\"outlinewidth\": 0, \"ticks\": \"\"}}, \"type\": \"scatter\"}], \"scatter3d\": [{\"line\": {\"colorbar\": {\"outlinewidth\": 0, \"ticks\": \"\"}}, \"marker\": {\"colorbar\": {\"outlinewidth\": 0, \"ticks\": \"\"}}, \"type\": \"scatter3d\"}], \"scattercarpet\": [{\"marker\": {\"colorbar\": {\"outlinewidth\": 0, \"ticks\": \"\"}}, \"type\": \"scattercarpet\"}], \"scattergeo\": [{\"marker\": {\"colorbar\": {\"outlinewidth\": 0, \"ticks\": \"\"}}, \"type\": \"scattergeo\"}], \"scattergl\": [{\"marker\": {\"colorbar\": {\"outlinewidth\": 0, \"ticks\": \"\"}}, \"type\": \"scattergl\"}], \"scattermapbox\": [{\"marker\": {\"colorbar\": {\"outlinewidth\": 0, \"ticks\": \"\"}}, \"type\": \"scattermapbox\"}], \"scatterpolar\": [{\"marker\": {\"colorbar\": {\"outlinewidth\": 0, \"ticks\": \"\"}}, \"type\": \"scatterpolar\"}], \"scatterpolargl\": [{\"marker\": {\"colorbar\": {\"outlinewidth\": 0, \"ticks\": \"\"}}, \"type\": \"scatterpolargl\"}], \"scatterternary\": [{\"marker\": {\"colorbar\": {\"outlinewidth\": 0, \"ticks\": \"\"}}, \"type\": \"scatterternary\"}], \"surface\": [{\"colorbar\": {\"outlinewidth\": 0, \"ticks\": \"\"}, \"colorscale\": [[0.0, \"#0d0887\"], [0.1111111111111111, \"#46039f\"], [0.2222222222222222, \"#7201a8\"], [0.3333333333333333, \"#9c179e\"], [0.4444444444444444, \"#bd3786\"], [0.5555555555555556, \"#d8576b\"], [0.6666666666666666, \"#ed7953\"], [0.7777777777777778, \"#fb9f3a\"], [0.8888888888888888, \"#fdca26\"], [1.0, \"#f0f921\"]], \"type\": \"surface\"}], \"table\": [{\"cells\": {\"fill\": {\"color\": \"#EBF0F8\"}, \"line\": {\"color\": \"white\"}}, \"header\": {\"fill\": {\"color\": \"#C8D4E3\"}, \"line\": {\"color\": \"white\"}}, \"type\": \"table\"}]}, \"layout\": {\"annotationdefaults\": {\"arrowcolor\": \"#2a3f5f\", \"arrowhead\": 0, \"arrowwidth\": 1}, \"autotypenumbers\": \"strict\", \"coloraxis\": {\"colorbar\": {\"outlinewidth\": 0, \"ticks\": \"\"}}, \"colorscale\": {\"diverging\": [[0, \"#8e0152\"], [0.1, \"#c51b7d\"], [0.2, \"#de77ae\"], [0.3, \"#f1b6da\"], [0.4, \"#fde0ef\"], [0.5, \"#f7f7f7\"], [0.6, \"#e6f5d0\"], [0.7, \"#b8e186\"], [0.8, \"#7fbc41\"], [0.9, \"#4d9221\"], [1, \"#276419\"]], \"sequential\": [[0.0, \"#0d0887\"], [0.1111111111111111, \"#46039f\"], [0.2222222222222222, \"#7201a8\"], [0.3333333333333333, \"#9c179e\"], [0.4444444444444444, \"#bd3786\"], [0.5555555555555556, \"#d8576b\"], [0.6666666666666666, \"#ed7953\"], [0.7777777777777778, \"#fb9f3a\"], [0.8888888888888888, \"#fdca26\"], [1.0, \"#f0f921\"]], \"sequentialminus\": [[0.0, \"#0d0887\"], [0.1111111111111111, \"#46039f\"], [0.2222222222222222, \"#7201a8\"], [0.3333333333333333, \"#9c179e\"], [0.4444444444444444, \"#bd3786\"], [0.5555555555555556, \"#d8576b\"], [0.6666666666666666, \"#ed7953\"], [0.7777777777777778, \"#fb9f3a\"], [0.8888888888888888, \"#fdca26\"], [1.0, \"#f0f921\"]]}, \"colorway\": [\"#636efa\", \"#EF553B\", \"#00cc96\", \"#ab63fa\", \"#FFA15A\", \"#19d3f3\", \"#FF6692\", \"#B6E880\", \"#FF97FF\", \"#FECB52\"], \"font\": {\"color\": \"#2a3f5f\"}, \"geo\": {\"bgcolor\": \"white\", \"lakecolor\": \"white\", \"landcolor\": \"#E5ECF6\", \"showlakes\": true, \"showland\": true, \"subunitcolor\": \"white\"}, \"hoverlabel\": {\"align\": \"left\"}, \"hovermode\": \"closest\", \"mapbox\": {\"style\": \"light\"}, \"paper_bgcolor\": \"white\", \"plot_bgcolor\": \"#E5ECF6\", \"polar\": {\"angularaxis\": {\"gridcolor\": \"white\", \"linecolor\": \"white\", \"ticks\": \"\"}, \"bgcolor\": \"#E5ECF6\", \"radialaxis\": {\"gridcolor\": \"white\", \"linecolor\": \"white\", \"ticks\": \"\"}}, \"scene\": {\"xaxis\": {\"backgroundcolor\": \"#E5ECF6\", \"gridcolor\": \"white\", \"gridwidth\": 2, \"linecolor\": \"white\", \"showbackground\": true, \"ticks\": \"\", \"zerolinecolor\": \"white\"}, \"yaxis\": {\"backgroundcolor\": \"#E5ECF6\", \"gridcolor\": \"white\", \"gridwidth\": 2, \"linecolor\": \"white\", \"showbackground\": true, \"ticks\": \"\", \"zerolinecolor\": \"white\"}, \"zaxis\": {\"backgroundcolor\": \"#E5ECF6\", \"gridcolor\": \"white\", \"gridwidth\": 2, \"linecolor\": \"white\", \"showbackground\": true, \"ticks\": \"\", \"zerolinecolor\": \"white\"}}, \"shapedefaults\": {\"line\": {\"color\": \"#2a3f5f\"}}, \"ternary\": {\"aaxis\": {\"gridcolor\": \"white\", \"linecolor\": \"white\", \"ticks\": \"\"}, \"baxis\": {\"gridcolor\": \"white\", \"linecolor\": \"white\", \"ticks\": \"\"}, \"bgcolor\": \"#E5ECF6\", \"caxis\": {\"gridcolor\": \"white\", \"linecolor\": \"white\", \"ticks\": \"\"}}, \"title\": {\"x\": 0.05}, \"xaxis\": {\"automargin\": true, \"gridcolor\": \"white\", \"linecolor\": \"white\", \"ticks\": \"\", \"title\": {\"standoff\": 15}, \"zerolinecolor\": \"white\", \"zerolinewidth\": 2}, \"yaxis\": {\"automargin\": true, \"gridcolor\": \"white\", \"linecolor\": \"white\", \"ticks\": \"\", \"title\": {\"standoff\": 15}, \"zerolinecolor\": \"white\", \"zerolinewidth\": 2}}}, \"xaxis\": {\"anchor\": \"y\", \"domain\": [0.0, 1.0], \"title\": {\"text\": \"\\uac70\\ub798\\uc6d4\"}}, \"yaxis\": {\"anchor\": \"x\", \"domain\": [0.0, 1.0], \"title\": {\"text\": \"\\ud3c9\\uade0 \\uac70\\ub798\\uae08\\uc561\"}}},                        {\"responsive\": true}                    ).then(function(){\n",
       "                            \n",
       "var gd = document.getElementById('db142b7a-556c-40ea-a09e-f60c423db5ff');\n",
       "var x = new MutationObserver(function (mutations, observer) {{\n",
       "        var display = window.getComputedStyle(gd).display;\n",
       "        if (!display || display === 'none') {{\n",
       "            console.log([gd, 'removed!']);\n",
       "            Plotly.purge(gd);\n",
       "            observer.disconnect();\n",
       "        }}\n",
       "}});\n",
       "\n",
       "// Listen for the removal of the full notebook cells\n",
       "var notebookContainer = gd.closest('#notebook-container');\n",
       "if (notebookContainer) {{\n",
       "    x.observe(notebookContainer, {childList: true});\n",
       "}}\n",
       "\n",
       "// Listen for the clearing of the current output cell\n",
       "var outputEl = gd.closest('.output');\n",
       "if (outputEl) {{\n",
       "    x.observe(outputEl, {childList: true});\n",
       "}}\n",
       "\n",
       "                        })                };                });            </script>        </div>"
      ]
     },
     "metadata": {},
     "output_type": "display_data"
    }
   ],
   "source": [
    "top5 = df1['전용면적(평)3'].value_counts().index[:5]\n",
    "\n",
    "data = df1[df1['전용면적(평)3'].isin(top5)]\n",
    "data = data.groupby(['거래월','전용면적(평)3'])['거래금액'].agg(['count','mean']).sort_values('거래월').reset_index()\n",
    "data.rename(columns={'mean':'평균 거래금액'},inplace=True)\n",
    "\n",
    "fig = px.line(data, x=\"거래월\", y=\"평균 거래금액\", color='전용면적(평)3')\n",
    "iplot(fig)"
   ]
  },
  {
   "cell_type": "markdown",
   "metadata": {},
   "source": [
    "#### 10 - 서울에서 가장 많이 팔린 아파트 평수 TOP5의 월간 평균 거래금액 추이\n",
    "- 목적 : 평수별 시간의 흐름에 따른 평균 거래금액 파악, 평수별 가격차이\n",
    "\n",
    "\n",
    "- 결과 : 상반기에 가격이 전반적으로 상승하고 하반기에는 유지되는 추세임을 알 수 있고 예상대로 평수가 클수록 가격이 비싸짐을 알 수 있다. + 간격이 비례적\n"
   ]
  },
  {
   "cell_type": "markdown",
   "metadata": {},
   "source": [
    "----------------------------------------------------------------------------------------------------------------------------------------------------------"
   ]
  },
  {
   "cell_type": "code",
   "execution_count": 40,
   "metadata": {},
   "outputs": [
    {
     "data": {
      "application/vnd.plotly.v1+json": {
       "config": {
        "plotlyServerURL": "https://plot.ly"
       },
       "data": [
        {
         "hovertemplate": "층구분=저층<br>기간=%{x}<br>mean=%{y}<br>count=%{marker.size}<extra></extra>",
         "legendgroup": "저층",
         "marker": {
          "color": "#636efa",
          "size": [
           5,
           28,
           29,
           41,
           43,
           9,
           33,
           24,
           33,
           39,
           30,
           50,
           11,
           58,
           49,
           34,
           31,
           26,
           42,
           9,
           33,
           27,
           40,
           34,
           30,
           46,
           10,
           25,
           35,
           35,
           36,
           36,
           19,
           2,
           2,
           1,
           2,
           17,
           27,
           33,
           9,
           38,
           33,
           43,
           29,
           35,
           48,
           12,
           34,
           41,
           39,
           38,
           28,
           78,
           11,
           35,
           34,
           37,
           54,
           34,
           37,
           12,
           39,
           36,
           37,
           37,
           24,
           71,
           21,
           38,
           44,
           36,
           26,
           45,
           60,
           10,
           52,
           49,
           39,
           43,
           42,
           73,
           11,
           41,
           46,
           40,
           63,
           39,
           65,
           15,
           46,
           51,
           52,
           51,
           53,
           49,
           13,
           58,
           45,
           63,
           52,
           51,
           74,
           14,
           120,
           52,
           58,
           41,
           53,
           79,
           10,
           52,
           58,
           71,
           53,
           57,
           67,
           22,
           67,
           72,
           91,
           65,
           75,
           75,
           7,
           53,
           78,
           69,
           70,
           85,
           100,
           13,
           62,
           66,
           117,
           75,
           91,
           112,
           10,
           77,
           78,
           70,
           74,
           87,
           115,
           15,
           74,
           82,
           88,
           86,
           90,
           109,
           29,
           99,
           95,
           74,
           95,
           102,
           106,
           25,
           88,
           85,
           76,
           86,
           168,
           152,
           25,
           120,
           166,
           127,
           105,
           127,
           211,
           49,
           159,
           129,
           125,
           142,
           155,
           272,
           44,
           170,
           174,
           130,
           138,
           147,
           257,
           41,
           165,
           131,
           125,
           142,
           146,
           233,
           32,
           163,
           144,
           106,
           101,
           134,
           216,
           50,
           151,
           120,
           127,
           120,
           130,
           229,
           49,
           139,
           151,
           132,
           83,
           76,
           85,
           21,
           122,
           126,
           90,
           93,
           98,
           189,
           27,
           126,
           107,
           82,
           137,
           94,
           161,
           20,
           105,
           104,
           97,
           92,
           102,
           192,
           31,
           107,
           116,
           116,
           121,
           99,
           187,
           34,
           140,
           105,
           112,
           106,
           112,
           186,
           38,
           110,
           136,
           93,
           10,
           2,
           5,
           8,
           100,
           92,
           135,
           132,
           163,
           240,
           49,
           205,
           160,
           153,
           158,
           166,
           316,
           60,
           191,
           150,
           176,
           247,
           194,
           246,
           63,
           237,
           165,
           257,
           146,
           182,
           334,
           64,
           200,
           220,
           177,
           166,
           195,
           329,
           73,
           201,
           163,
           164,
           158,
           199,
           282,
           68,
           193,
           176,
           160,
           175,
           190,
           313,
           66,
           179,
           188,
           166,
           161,
           189,
           337,
           61,
           192,
           184,
           170,
           148,
           200,
           304,
           74,
           199,
           175,
           188,
           150,
           163,
           277,
           47,
           162,
           162,
           153,
           141,
           140,
           287,
           65,
           149,
           123,
           157,
           112,
           109,
           202,
           31,
           126,
           108,
           121,
           89,
           146,
           149,
           31,
           102,
           58,
           79,
           56,
           38,
           70,
           9,
           35,
           56,
           23,
           32,
           71,
           38,
           7,
           65,
           21
          ],
          "sizemode": "area",
          "sizeref": 0.8425,
          "symbol": "circle"
         },
         "mode": "markers",
         "name": "저층",
         "showlegend": true,
         "type": "scattergl",
         "x": [
          "2019-01-01T00:00:00",
          "2019-01-02T00:00:00",
          "2019-01-03T00:00:00",
          "2019-01-04T00:00:00",
          "2019-01-05T00:00:00",
          "2019-01-06T00:00:00",
          "2019-01-07T00:00:00",
          "2019-01-08T00:00:00",
          "2019-01-09T00:00:00",
          "2019-01-10T00:00:00",
          "2019-01-11T00:00:00",
          "2019-01-12T00:00:00",
          "2019-01-13T00:00:00",
          "2019-01-14T00:00:00",
          "2019-01-15T00:00:00",
          "2019-01-16T00:00:00",
          "2019-01-17T00:00:00",
          "2019-01-18T00:00:00",
          "2019-01-19T00:00:00",
          "2019-01-20T00:00:00",
          "2019-01-21T00:00:00",
          "2019-01-22T00:00:00",
          "2019-01-23T00:00:00",
          "2019-01-24T00:00:00",
          "2019-01-25T00:00:00",
          "2019-01-26T00:00:00",
          "2019-01-27T00:00:00",
          "2019-01-28T00:00:00",
          "2019-01-29T00:00:00",
          "2019-01-30T00:00:00",
          "2019-01-31T00:00:00",
          "2019-02-01T00:00:00",
          "2019-02-02T00:00:00",
          "2019-02-03T00:00:00",
          "2019-02-04T00:00:00",
          "2019-02-05T00:00:00",
          "2019-02-06T00:00:00",
          "2019-02-07T00:00:00",
          "2019-02-08T00:00:00",
          "2019-02-09T00:00:00",
          "2019-02-10T00:00:00",
          "2019-02-11T00:00:00",
          "2019-02-12T00:00:00",
          "2019-02-13T00:00:00",
          "2019-02-14T00:00:00",
          "2019-02-15T00:00:00",
          "2019-02-16T00:00:00",
          "2019-02-17T00:00:00",
          "2019-02-18T00:00:00",
          "2019-02-19T00:00:00",
          "2019-02-20T00:00:00",
          "2019-02-21T00:00:00",
          "2019-02-22T00:00:00",
          "2019-02-23T00:00:00",
          "2019-02-24T00:00:00",
          "2019-02-25T00:00:00",
          "2019-02-26T00:00:00",
          "2019-02-27T00:00:00",
          "2019-02-28T00:00:00",
          "2019-03-01T00:00:00",
          "2019-03-02T00:00:00",
          "2019-03-03T00:00:00",
          "2019-03-04T00:00:00",
          "2019-03-05T00:00:00",
          "2019-03-06T00:00:00",
          "2019-03-07T00:00:00",
          "2019-03-08T00:00:00",
          "2019-03-09T00:00:00",
          "2019-03-10T00:00:00",
          "2019-03-11T00:00:00",
          "2019-03-12T00:00:00",
          "2019-03-13T00:00:00",
          "2019-03-14T00:00:00",
          "2019-03-15T00:00:00",
          "2019-03-16T00:00:00",
          "2019-03-17T00:00:00",
          "2019-03-18T00:00:00",
          "2019-03-19T00:00:00",
          "2019-03-20T00:00:00",
          "2019-03-21T00:00:00",
          "2019-03-22T00:00:00",
          "2019-03-23T00:00:00",
          "2019-03-24T00:00:00",
          "2019-03-25T00:00:00",
          "2019-03-26T00:00:00",
          "2019-03-27T00:00:00",
          "2019-03-28T00:00:00",
          "2019-03-29T00:00:00",
          "2019-03-30T00:00:00",
          "2019-03-31T00:00:00",
          "2019-04-01T00:00:00",
          "2019-04-02T00:00:00",
          "2019-04-03T00:00:00",
          "2019-04-04T00:00:00",
          "2019-04-05T00:00:00",
          "2019-04-06T00:00:00",
          "2019-04-07T00:00:00",
          "2019-04-08T00:00:00",
          "2019-04-09T00:00:00",
          "2019-04-10T00:00:00",
          "2019-04-11T00:00:00",
          "2019-04-12T00:00:00",
          "2019-04-13T00:00:00",
          "2019-04-14T00:00:00",
          "2019-04-15T00:00:00",
          "2019-04-16T00:00:00",
          "2019-04-17T00:00:00",
          "2019-04-18T00:00:00",
          "2019-04-19T00:00:00",
          "2019-04-20T00:00:00",
          "2019-04-21T00:00:00",
          "2019-04-22T00:00:00",
          "2019-04-23T00:00:00",
          "2019-04-24T00:00:00",
          "2019-04-25T00:00:00",
          "2019-04-26T00:00:00",
          "2019-04-27T00:00:00",
          "2019-04-28T00:00:00",
          "2019-04-29T00:00:00",
          "2019-04-30T00:00:00",
          "2019-05-01T00:00:00",
          "2019-05-02T00:00:00",
          "2019-05-03T00:00:00",
          "2019-05-04T00:00:00",
          "2019-05-05T00:00:00",
          "2019-05-06T00:00:00",
          "2019-05-07T00:00:00",
          "2019-05-08T00:00:00",
          "2019-05-09T00:00:00",
          "2019-05-10T00:00:00",
          "2019-05-11T00:00:00",
          "2019-05-12T00:00:00",
          "2019-05-13T00:00:00",
          "2019-05-14T00:00:00",
          "2019-05-15T00:00:00",
          "2019-05-16T00:00:00",
          "2019-05-17T00:00:00",
          "2019-05-18T00:00:00",
          "2019-05-19T00:00:00",
          "2019-05-20T00:00:00",
          "2019-05-21T00:00:00",
          "2019-05-22T00:00:00",
          "2019-05-23T00:00:00",
          "2019-05-24T00:00:00",
          "2019-05-25T00:00:00",
          "2019-05-26T00:00:00",
          "2019-05-27T00:00:00",
          "2019-05-28T00:00:00",
          "2019-05-29T00:00:00",
          "2019-05-30T00:00:00",
          "2019-05-31T00:00:00",
          "2019-06-01T00:00:00",
          "2019-06-02T00:00:00",
          "2019-06-03T00:00:00",
          "2019-06-04T00:00:00",
          "2019-06-05T00:00:00",
          "2019-06-06T00:00:00",
          "2019-06-07T00:00:00",
          "2019-06-08T00:00:00",
          "2019-06-09T00:00:00",
          "2019-06-10T00:00:00",
          "2019-06-11T00:00:00",
          "2019-06-12T00:00:00",
          "2019-06-13T00:00:00",
          "2019-06-14T00:00:00",
          "2019-06-15T00:00:00",
          "2019-06-16T00:00:00",
          "2019-06-17T00:00:00",
          "2019-06-18T00:00:00",
          "2019-06-19T00:00:00",
          "2019-06-20T00:00:00",
          "2019-06-21T00:00:00",
          "2019-06-22T00:00:00",
          "2019-06-23T00:00:00",
          "2019-06-24T00:00:00",
          "2019-06-25T00:00:00",
          "2019-06-26T00:00:00",
          "2019-06-27T00:00:00",
          "2019-06-28T00:00:00",
          "2019-06-29T00:00:00",
          "2019-06-30T00:00:00",
          "2019-07-01T00:00:00",
          "2019-07-02T00:00:00",
          "2019-07-03T00:00:00",
          "2019-07-04T00:00:00",
          "2019-07-05T00:00:00",
          "2019-07-06T00:00:00",
          "2019-07-07T00:00:00",
          "2019-07-08T00:00:00",
          "2019-07-09T00:00:00",
          "2019-07-10T00:00:00",
          "2019-07-11T00:00:00",
          "2019-07-12T00:00:00",
          "2019-07-13T00:00:00",
          "2019-07-14T00:00:00",
          "2019-07-15T00:00:00",
          "2019-07-16T00:00:00",
          "2019-07-17T00:00:00",
          "2019-07-18T00:00:00",
          "2019-07-19T00:00:00",
          "2019-07-20T00:00:00",
          "2019-07-21T00:00:00",
          "2019-07-22T00:00:00",
          "2019-07-23T00:00:00",
          "2019-07-24T00:00:00",
          "2019-07-25T00:00:00",
          "2019-07-26T00:00:00",
          "2019-07-27T00:00:00",
          "2019-07-28T00:00:00",
          "2019-07-29T00:00:00",
          "2019-07-30T00:00:00",
          "2019-07-31T00:00:00",
          "2019-08-01T00:00:00",
          "2019-08-02T00:00:00",
          "2019-08-03T00:00:00",
          "2019-08-04T00:00:00",
          "2019-08-05T00:00:00",
          "2019-08-06T00:00:00",
          "2019-08-07T00:00:00",
          "2019-08-08T00:00:00",
          "2019-08-09T00:00:00",
          "2019-08-10T00:00:00",
          "2019-08-11T00:00:00",
          "2019-08-12T00:00:00",
          "2019-08-13T00:00:00",
          "2019-08-14T00:00:00",
          "2019-08-15T00:00:00",
          "2019-08-16T00:00:00",
          "2019-08-17T00:00:00",
          "2019-08-18T00:00:00",
          "2019-08-19T00:00:00",
          "2019-08-20T00:00:00",
          "2019-08-21T00:00:00",
          "2019-08-22T00:00:00",
          "2019-08-23T00:00:00",
          "2019-08-24T00:00:00",
          "2019-08-25T00:00:00",
          "2019-08-26T00:00:00",
          "2019-08-27T00:00:00",
          "2019-08-28T00:00:00",
          "2019-08-29T00:00:00",
          "2019-08-30T00:00:00",
          "2019-08-31T00:00:00",
          "2019-09-01T00:00:00",
          "2019-09-02T00:00:00",
          "2019-09-03T00:00:00",
          "2019-09-04T00:00:00",
          "2019-09-05T00:00:00",
          "2019-09-06T00:00:00",
          "2019-09-07T00:00:00",
          "2019-09-08T00:00:00",
          "2019-09-09T00:00:00",
          "2019-09-10T00:00:00",
          "2019-09-11T00:00:00",
          "2019-09-12T00:00:00",
          "2019-09-13T00:00:00",
          "2019-09-14T00:00:00",
          "2019-09-15T00:00:00",
          "2019-09-16T00:00:00",
          "2019-09-17T00:00:00",
          "2019-09-18T00:00:00",
          "2019-09-19T00:00:00",
          "2019-09-20T00:00:00",
          "2019-09-21T00:00:00",
          "2019-09-22T00:00:00",
          "2019-09-23T00:00:00",
          "2019-09-24T00:00:00",
          "2019-09-25T00:00:00",
          "2019-09-26T00:00:00",
          "2019-09-27T00:00:00",
          "2019-09-28T00:00:00",
          "2019-09-29T00:00:00",
          "2019-09-30T00:00:00",
          "2019-10-01T00:00:00",
          "2019-10-02T00:00:00",
          "2019-10-03T00:00:00",
          "2019-10-04T00:00:00",
          "2019-10-05T00:00:00",
          "2019-10-06T00:00:00",
          "2019-10-07T00:00:00",
          "2019-10-08T00:00:00",
          "2019-10-09T00:00:00",
          "2019-10-10T00:00:00",
          "2019-10-11T00:00:00",
          "2019-10-12T00:00:00",
          "2019-10-13T00:00:00",
          "2019-10-14T00:00:00",
          "2019-10-15T00:00:00",
          "2019-10-16T00:00:00",
          "2019-10-17T00:00:00",
          "2019-10-18T00:00:00",
          "2019-10-19T00:00:00",
          "2019-10-20T00:00:00",
          "2019-10-21T00:00:00",
          "2019-10-22T00:00:00",
          "2019-10-23T00:00:00",
          "2019-10-24T00:00:00",
          "2019-10-25T00:00:00",
          "2019-10-26T00:00:00",
          "2019-10-27T00:00:00",
          "2019-10-28T00:00:00",
          "2019-10-29T00:00:00",
          "2019-10-30T00:00:00",
          "2019-10-31T00:00:00",
          "2019-11-01T00:00:00",
          "2019-11-02T00:00:00",
          "2019-11-03T00:00:00",
          "2019-11-04T00:00:00",
          "2019-11-05T00:00:00",
          "2019-11-06T00:00:00",
          "2019-11-07T00:00:00",
          "2019-11-08T00:00:00",
          "2019-11-09T00:00:00",
          "2019-11-10T00:00:00",
          "2019-11-11T00:00:00",
          "2019-11-12T00:00:00",
          "2019-11-13T00:00:00",
          "2019-11-14T00:00:00",
          "2019-11-15T00:00:00",
          "2019-11-16T00:00:00",
          "2019-11-17T00:00:00",
          "2019-11-18T00:00:00",
          "2019-11-19T00:00:00",
          "2019-11-20T00:00:00",
          "2019-11-21T00:00:00",
          "2019-11-22T00:00:00",
          "2019-11-23T00:00:00",
          "2019-11-24T00:00:00",
          "2019-11-25T00:00:00",
          "2019-11-26T00:00:00",
          "2019-11-27T00:00:00",
          "2019-11-28T00:00:00",
          "2019-11-29T00:00:00",
          "2019-11-30T00:00:00",
          "2019-12-01T00:00:00",
          "2019-12-02T00:00:00",
          "2019-12-03T00:00:00",
          "2019-12-04T00:00:00",
          "2019-12-05T00:00:00",
          "2019-12-06T00:00:00",
          "2019-12-07T00:00:00",
          "2019-12-08T00:00:00",
          "2019-12-09T00:00:00",
          "2019-12-10T00:00:00",
          "2019-12-11T00:00:00",
          "2019-12-12T00:00:00",
          "2019-12-13T00:00:00",
          "2019-12-14T00:00:00",
          "2019-12-15T00:00:00",
          "2019-12-16T00:00:00",
          "2019-12-17T00:00:00",
          "2019-12-18T00:00:00",
          "2019-12-19T00:00:00",
          "2019-12-20T00:00:00",
          "2019-12-21T00:00:00",
          "2019-12-22T00:00:00",
          "2019-12-23T00:00:00",
          "2019-12-24T00:00:00",
          "2019-12-25T00:00:00",
          "2019-12-26T00:00:00",
          "2019-12-27T00:00:00",
          "2019-12-28T00:00:00",
          "2019-12-29T00:00:00",
          "2019-12-30T00:00:00",
          "2019-12-31T00:00:00"
         ],
         "xaxis": "x",
         "y": [
          58940,
          50564.28571428572,
          58589.65517241379,
          65980.48780487805,
          68498.83720930232,
          56177.77777777778,
          81877.27272727272,
          66295.83333333333,
          52803.030303030304,
          76508.46153846153,
          47515,
          53118.8,
          52045.454545454544,
          44095.68965517241,
          76996.9387755102,
          55129.117647058825,
          62235.48387096774,
          53009.61538461538,
          58891.666666666664,
          62133.333333333336,
          73750.0303030303,
          50514.81481481482,
          52645,
          83982.35294117648,
          47836.666666666664,
          54746.739130434784,
          60400,
          56308,
          52733.42857142857,
          49854.28571428572,
          78755.55555555556,
          47138.88888888889,
          57800,
          98000,
          38150,
          28500,
          44950,
          86164.70588235294,
          80577.77777777778,
          54433.333333333336,
          57816.666666666664,
          63135.52631578947,
          68674.24242424243,
          50882.558139534885,
          61139.65517241379,
          61682.22857142857,
          58004.166666666664,
          51283.333333333336,
          60988.470588235294,
          52275.12195121951,
          59536.794871794875,
          63500,
          54832.142857142855,
          58013.46153846154,
          54609.09090909091,
          66231.42857142857,
          62551.470588235294,
          58283.78378378379,
          65058.333333333336,
          52300,
          42878.37837837838,
          56704.166666666664,
          65802.56410256411,
          56981.944444444445,
          46240.54054054054,
          70100,
          49666.666666666664,
          63539.718309859156,
          75633.33333333333,
          63534.21052631579,
          83632.95454545454,
          62533.055555555555,
          65523.07692307692,
          81958.88888888889,
          64556.333333333336,
          71210,
          63047.11538461538,
          58110.816326530614,
          83352.56410256411,
          58643.023255813954,
          70138.21428571429,
          69006.8493150685,
          60700,
          91867.0731707317,
          68661.89130434782,
          81705.1,
          55146.42857142857,
          73424.35897435897,
          68774.61538461539,
          57580,
          67105.39130434782,
          48102.94117647059,
          70466.34615384616,
          74529.41176470589,
          71041.50943396226,
          55515.30612244898,
          70707.69230769231,
          64955.55172413793,
          78360.95555555556,
          63898.380952380954,
          81795.19230769231,
          71741.17647058824,
          66517.56756756757,
          95957,
          53995.525,
          73302.88461538461,
          82201.72413793103,
          106232.9268292683,
          68268.8679245283,
          70503.79746835443,
          75210,
          62379.807692307695,
          72940.68965517242,
          80536.9014084507,
          72944.3396226415,
          81304.56140350878,
          74665.70149253731,
          70752.27272727272,
          87352.23880597015,
          90595.83333333333,
          75301.0989010989,
          68623.07692307692,
          80592.66666666667,
          86347.33333333333,
          66628.57142857143,
          82368.8679245283,
          97072.30769230769,
          81529.71014492754,
          80527.28571428571,
          76335.17647058824,
          74441.5,
          112488.46153846153,
          81818.54838709677,
          86066.66666666667,
          79476.92307692308,
          92542.66666666667,
          86345.27472527472,
          81533.48214285714,
          81060,
          89904.54545454546,
          87551.92307692308,
          94578,
          74610.6081081081,
          97511.49425287357,
          87517.39130434782,
          137233.33333333334,
          83028.37837837837,
          98474.14634146342,
          86729.09090909091,
          85143.6046511628,
          81321.38888888889,
          80022.47706422018,
          74258.62068965517,
          80246.9696969697,
          77406.73684210527,
          86772.95945945945,
          82220,
          72080.29411764706,
          75457.07547169812,
          80060,
          79701.59090909091,
          79502,
          81858.55263157895,
          84398.69767441861,
          68953.27380952382,
          87764.80263157895,
          97570,
          87517.5,
          77618.97590361445,
          85181.74803149606,
          91482.14285714286,
          90087.51181102362,
          83963.79146919432,
          98166.63265306123,
          86674.52830188679,
          80460.46511627907,
          80614.48,
          91151.76056338029,
          85785.10322580645,
          83185.29044117648,
          90222.72727272728,
          82892.35294117648,
          88465.5172413793,
          91298.37692307692,
          84325.88405797101,
          78100,
          79152.56809338521,
          88959.75609756098,
          79706.9696969697,
          85056.41221374046,
          82055.04,
          90605.62676056338,
          86678.14383561644,
          82303.64806866953,
          96575,
          84506,
          80193.40277777778,
          73695.75471698113,
          79559.88118811882,
          82313.58208955223,
          82539.53703703704,
          92428,
          73641.39072847682,
          85591.80833333333,
          77411.02362204724,
          81240.83333333333,
          81101.53846153847,
          76632.48034934497,
          86992.85714285714,
          77292.08633093526,
          79530.7284768212,
          89737.86363636363,
          71865.95180722892,
          101137.43421052632,
          79926.4705882353,
          81369.04761904762,
          86193.85245901639,
          83375,
          83166.66666666667,
          76950.5376344086,
          71138.82653061225,
          71741.85185185185,
          77001.85185185185,
          73667.30158730158,
          70334.10280373832,
          72070.12195121951,
          67250.36496350366,
          69214.36170212766,
          70330.80124223602,
          68770,
          79707.14285714286,
          71266.15384615384,
          65602.57731958762,
          71701.95652173914,
          72887.35294117648,
          75308.80729166667,
          73219.35483870968,
          80703.08411214953,
          67611.63793103448,
          80514.43965517242,
          63702.89256198347,
          77748.48484848485,
          82024.33155080213,
          74004.41176470589,
          74113.92857142857,
          81158.59047619048,
          75616.42857142857,
          82176.17924528301,
          79781.73214285714,
          88988.70967741935,
          78244.73684210527,
          77750,
          89276.83088235294,
          91014.19354838709,
          109245,
          74000,
          90700,
          59737.5,
          74698.4,
          86289.23913043478,
          84671.11111111111,
          83154.92424242424,
          85517.94478527608,
          72164.51666666666,
          95678.57142857143,
          80824.45853658537,
          74488.825,
          87800.02614379085,
          78339.92405063291,
          78880.52409638555,
          74213.05379746835,
          78721.66666666667,
          77153.97905759163,
          73735.4,
          85428.125,
          82500.94736842105,
          83092.69072164949,
          82907.9268292683,
          81734.92063492064,
          82103.16455696203,
          81316.77575757576,
          80778.35408560312,
          85305.2602739726,
          79832.96703296703,
          82622.15568862275,
          91498.03125,
          76686.22,
          76578.04545454546,
          78911.54802259887,
          78789.63855421687,
          82990.97435897436,
          79600,
          81753.93150684932,
          72921.83084577114,
          77598.67484662577,
          83786.76829268293,
          90614.35443037975,
          77871.15075376884,
          79599.46808510639,
          87146.82352941176,
          85502.79792746114,
          77335.9375,
          84343.90625,
          76789.37142857142,
          75746.68421052632,
          79836.90095846646,
          88831.81818181818,
          90432.43016759776,
          76392.81914893616,
          80185.3313253012,
          81899.50310559006,
          76507.93121693122,
          76265.72106824926,
          73638.52459016393,
          78990.58333333333,
          78212.5,
          81842.35294117648,
          85388.77702702703,
          84129.5,
          79502.30263157895,
          87291.08108108108,
          79845.97989949748,
          79171.31428571428,
          70091.26595744681,
          78834.6,
          72876.01226993866,
          79799.20216606498,
          80568.08510638298,
          79079.93827160494,
          75435.17901234567,
          75739.34640522876,
          73966.91489361702,
          73211.78571428571,
          69989.12891986062,
          76025.38461538461,
          76125.8389261745,
          80996.0162601626,
          55495.732484076434,
          67714.73214285714,
          68005.9633027523,
          78423.81188118811,
          69983.87096774194,
          67955.95238095238,
          68115.18518518518,
          76242.56198347108,
          73167.41573033707,
          57663.83561643836,
          78070.60402684564,
          71716.12903225806,
          63834.313725490196,
          56143.793103448275,
          46356.962025316454,
          55281.25,
          56476.31578947369,
          67405.42857142857,
          90222.22222222222,
          61925.71428571428,
          49846.42857142857,
          65091.30434782609,
          56882.1875,
          44955.633802816905,
          56427.63157894737,
          80914.28571428571,
          55103.846153846156,
          42361.90476190476
         ],
         "yaxis": "y"
        },
        {
         "hovertemplate": "층구분=중간층<br>기간=%{x}<br>mean=%{y}<br>count=%{marker.size}<extra></extra>",
         "legendgroup": "중간층",
         "marker": {
          "color": "#EF553B",
          "size": [
           1,
           14,
           12,
           15,
           32,
           2,
           29,
           23,
           22,
           19,
           22,
           29,
           6,
           19,
           34,
           28,
           23,
           17,
           33,
           6,
           22,
           26,
           20,
           8,
           27,
           30,
           3,
           23,
           16,
           20,
           14,
           31,
           8,
           1,
           1,
           2,
           13,
           19,
           34,
           6,
           27,
           21,
           19,
           17,
           24,
           35,
           7,
           20,
           21,
           19,
           21,
           17,
           32,
           6,
           28,
           17,
           18,
           25,
           29,
           24,
           2,
           22,
           23,
           21,
           26,
           33,
           50,
           9,
           24,
           16,
           26,
           25,
           30,
           40,
           6,
           29,
           29,
           24,
           22,
           28,
           54,
           4,
           41,
           26,
           23,
           36,
           34,
           59,
           3,
           36,
           32,
           35,
           30,
           43,
           40,
           10,
           44,
           39,
           38,
           29,
           36,
           55,
           3,
           56,
           28,
           35,
           27,
           38,
           69,
           13,
           30,
           40,
           48,
           34,
           51,
           59,
           16,
           36,
           38,
           62,
           47,
           52,
           60,
           5,
           43,
           56,
           35,
           46,
           55,
           67,
           15,
           63,
           50,
           60,
           61,
           65,
           78,
           17,
           51,
           60,
           59,
           53,
           50,
           101,
           13,
           67,
           71,
           60,
           76,
           64,
           107,
           17,
           75,
           61,
           64,
           99,
           118,
           84,
           14,
           93,
           61,
           81,
           54,
           84,
           129,
           23,
           110,
           179,
           95,
           96,
           92,
           179,
           26,
           132,
           126,
           94,
           91,
           108,
           194,
           36,
           104,
           112,
           107,
           92,
           127,
           193,
           24,
           146,
           99,
           119,
           120,
           122,
           187,
           29,
           114,
           84,
           95,
           83,
           104,
           189,
           36,
           91,
           102,
           119,
           116,
           101,
           203,
           36,
           93,
           108,
           106,
           61,
           60,
           82,
           16,
           106,
           78,
           80,
           82,
           89,
           133,
           13,
           91,
           79,
           64,
           85,
           61,
           116,
           22,
           94,
           80,
           76,
           80,
           84,
           149,
           30,
           104,
           73,
           86,
           80,
           85,
           168,
           24,
           107,
           83,
           82,
           82,
           69,
           133,
           31,
           86,
           89,
           67,
           8,
           3,
           6,
           15,
           61,
           91,
           91,
           87,
           113,
           202,
           45,
           130,
           139,
           123,
           114,
           111,
           245,
           36,
           136,
           129,
           120,
           171,
           132,
           214,
           33,
           149,
           91,
           253,
           103,
           155,
           304,
           53,
           149,
           142,
           119,
           133,
           148,
           262,
           41,
           160,
           134,
           132,
           119,
           120,
           229,
           45,
           126,
           107,
           132,
           147,
           135,
           219,
           47,
           149,
           145,
           137,
           124,
           140,
           239,
           52,
           167,
           142,
           148,
           110,
           138,
           231,
           38,
           135,
           133,
           124,
           97,
           125,
           201,
           24,
           113,
           117,
           96,
           106,
           85,
           215,
           32,
           103,
           78,
           119,
           65,
           72,
           130,
           24,
           89,
           76,
           67,
           58,
           99,
           137,
           28,
           63,
           43,
           31,
           32,
           27,
           55,
           2,
           50,
           54,
           10,
           28,
           19,
           29,
           5,
           19,
           21
          ],
          "sizemode": "area",
          "sizeref": 0.8425,
          "symbol": "circle"
         },
         "mode": "markers",
         "name": "중간층",
         "showlegend": true,
         "type": "scattergl",
         "x": [
          "2019-01-01T00:00:00",
          "2019-01-02T00:00:00",
          "2019-01-03T00:00:00",
          "2019-01-04T00:00:00",
          "2019-01-05T00:00:00",
          "2019-01-06T00:00:00",
          "2019-01-07T00:00:00",
          "2019-01-08T00:00:00",
          "2019-01-09T00:00:00",
          "2019-01-10T00:00:00",
          "2019-01-11T00:00:00",
          "2019-01-12T00:00:00",
          "2019-01-13T00:00:00",
          "2019-01-14T00:00:00",
          "2019-01-15T00:00:00",
          "2019-01-16T00:00:00",
          "2019-01-17T00:00:00",
          "2019-01-18T00:00:00",
          "2019-01-19T00:00:00",
          "2019-01-20T00:00:00",
          "2019-01-21T00:00:00",
          "2019-01-22T00:00:00",
          "2019-01-23T00:00:00",
          "2019-01-24T00:00:00",
          "2019-01-25T00:00:00",
          "2019-01-26T00:00:00",
          "2019-01-27T00:00:00",
          "2019-01-28T00:00:00",
          "2019-01-29T00:00:00",
          "2019-01-30T00:00:00",
          "2019-01-31T00:00:00",
          "2019-02-01T00:00:00",
          "2019-02-02T00:00:00",
          "2019-02-03T00:00:00",
          "2019-02-05T00:00:00",
          "2019-02-06T00:00:00",
          "2019-02-07T00:00:00",
          "2019-02-08T00:00:00",
          "2019-02-09T00:00:00",
          "2019-02-10T00:00:00",
          "2019-02-11T00:00:00",
          "2019-02-12T00:00:00",
          "2019-02-13T00:00:00",
          "2019-02-14T00:00:00",
          "2019-02-15T00:00:00",
          "2019-02-16T00:00:00",
          "2019-02-17T00:00:00",
          "2019-02-18T00:00:00",
          "2019-02-19T00:00:00",
          "2019-02-20T00:00:00",
          "2019-02-21T00:00:00",
          "2019-02-22T00:00:00",
          "2019-02-23T00:00:00",
          "2019-02-24T00:00:00",
          "2019-02-25T00:00:00",
          "2019-02-26T00:00:00",
          "2019-02-27T00:00:00",
          "2019-02-28T00:00:00",
          "2019-03-01T00:00:00",
          "2019-03-02T00:00:00",
          "2019-03-03T00:00:00",
          "2019-03-04T00:00:00",
          "2019-03-05T00:00:00",
          "2019-03-06T00:00:00",
          "2019-03-07T00:00:00",
          "2019-03-08T00:00:00",
          "2019-03-09T00:00:00",
          "2019-03-10T00:00:00",
          "2019-03-11T00:00:00",
          "2019-03-12T00:00:00",
          "2019-03-13T00:00:00",
          "2019-03-14T00:00:00",
          "2019-03-15T00:00:00",
          "2019-03-16T00:00:00",
          "2019-03-17T00:00:00",
          "2019-03-18T00:00:00",
          "2019-03-19T00:00:00",
          "2019-03-20T00:00:00",
          "2019-03-21T00:00:00",
          "2019-03-22T00:00:00",
          "2019-03-23T00:00:00",
          "2019-03-24T00:00:00",
          "2019-03-25T00:00:00",
          "2019-03-26T00:00:00",
          "2019-03-27T00:00:00",
          "2019-03-28T00:00:00",
          "2019-03-29T00:00:00",
          "2019-03-30T00:00:00",
          "2019-03-31T00:00:00",
          "2019-04-01T00:00:00",
          "2019-04-02T00:00:00",
          "2019-04-03T00:00:00",
          "2019-04-04T00:00:00",
          "2019-04-05T00:00:00",
          "2019-04-06T00:00:00",
          "2019-04-07T00:00:00",
          "2019-04-08T00:00:00",
          "2019-04-09T00:00:00",
          "2019-04-10T00:00:00",
          "2019-04-11T00:00:00",
          "2019-04-12T00:00:00",
          "2019-04-13T00:00:00",
          "2019-04-14T00:00:00",
          "2019-04-15T00:00:00",
          "2019-04-16T00:00:00",
          "2019-04-17T00:00:00",
          "2019-04-18T00:00:00",
          "2019-04-19T00:00:00",
          "2019-04-20T00:00:00",
          "2019-04-21T00:00:00",
          "2019-04-22T00:00:00",
          "2019-04-23T00:00:00",
          "2019-04-24T00:00:00",
          "2019-04-25T00:00:00",
          "2019-04-26T00:00:00",
          "2019-04-27T00:00:00",
          "2019-04-28T00:00:00",
          "2019-04-29T00:00:00",
          "2019-04-30T00:00:00",
          "2019-05-01T00:00:00",
          "2019-05-02T00:00:00",
          "2019-05-03T00:00:00",
          "2019-05-04T00:00:00",
          "2019-05-05T00:00:00",
          "2019-05-06T00:00:00",
          "2019-05-07T00:00:00",
          "2019-05-08T00:00:00",
          "2019-05-09T00:00:00",
          "2019-05-10T00:00:00",
          "2019-05-11T00:00:00",
          "2019-05-12T00:00:00",
          "2019-05-13T00:00:00",
          "2019-05-14T00:00:00",
          "2019-05-15T00:00:00",
          "2019-05-16T00:00:00",
          "2019-05-17T00:00:00",
          "2019-05-18T00:00:00",
          "2019-05-19T00:00:00",
          "2019-05-20T00:00:00",
          "2019-05-21T00:00:00",
          "2019-05-22T00:00:00",
          "2019-05-23T00:00:00",
          "2019-05-24T00:00:00",
          "2019-05-25T00:00:00",
          "2019-05-26T00:00:00",
          "2019-05-27T00:00:00",
          "2019-05-28T00:00:00",
          "2019-05-29T00:00:00",
          "2019-05-30T00:00:00",
          "2019-05-31T00:00:00",
          "2019-06-01T00:00:00",
          "2019-06-02T00:00:00",
          "2019-06-03T00:00:00",
          "2019-06-04T00:00:00",
          "2019-06-05T00:00:00",
          "2019-06-06T00:00:00",
          "2019-06-07T00:00:00",
          "2019-06-08T00:00:00",
          "2019-06-09T00:00:00",
          "2019-06-10T00:00:00",
          "2019-06-11T00:00:00",
          "2019-06-12T00:00:00",
          "2019-06-13T00:00:00",
          "2019-06-14T00:00:00",
          "2019-06-15T00:00:00",
          "2019-06-16T00:00:00",
          "2019-06-17T00:00:00",
          "2019-06-18T00:00:00",
          "2019-06-19T00:00:00",
          "2019-06-20T00:00:00",
          "2019-06-21T00:00:00",
          "2019-06-22T00:00:00",
          "2019-06-23T00:00:00",
          "2019-06-24T00:00:00",
          "2019-06-25T00:00:00",
          "2019-06-26T00:00:00",
          "2019-06-27T00:00:00",
          "2019-06-28T00:00:00",
          "2019-06-29T00:00:00",
          "2019-06-30T00:00:00",
          "2019-07-01T00:00:00",
          "2019-07-02T00:00:00",
          "2019-07-03T00:00:00",
          "2019-07-04T00:00:00",
          "2019-07-05T00:00:00",
          "2019-07-06T00:00:00",
          "2019-07-07T00:00:00",
          "2019-07-08T00:00:00",
          "2019-07-09T00:00:00",
          "2019-07-10T00:00:00",
          "2019-07-11T00:00:00",
          "2019-07-12T00:00:00",
          "2019-07-13T00:00:00",
          "2019-07-14T00:00:00",
          "2019-07-15T00:00:00",
          "2019-07-16T00:00:00",
          "2019-07-17T00:00:00",
          "2019-07-18T00:00:00",
          "2019-07-19T00:00:00",
          "2019-07-20T00:00:00",
          "2019-07-21T00:00:00",
          "2019-07-22T00:00:00",
          "2019-07-23T00:00:00",
          "2019-07-24T00:00:00",
          "2019-07-25T00:00:00",
          "2019-07-26T00:00:00",
          "2019-07-27T00:00:00",
          "2019-07-28T00:00:00",
          "2019-07-29T00:00:00",
          "2019-07-30T00:00:00",
          "2019-07-31T00:00:00",
          "2019-08-01T00:00:00",
          "2019-08-02T00:00:00",
          "2019-08-03T00:00:00",
          "2019-08-04T00:00:00",
          "2019-08-05T00:00:00",
          "2019-08-06T00:00:00",
          "2019-08-07T00:00:00",
          "2019-08-08T00:00:00",
          "2019-08-09T00:00:00",
          "2019-08-10T00:00:00",
          "2019-08-11T00:00:00",
          "2019-08-12T00:00:00",
          "2019-08-13T00:00:00",
          "2019-08-14T00:00:00",
          "2019-08-15T00:00:00",
          "2019-08-16T00:00:00",
          "2019-08-17T00:00:00",
          "2019-08-18T00:00:00",
          "2019-08-19T00:00:00",
          "2019-08-20T00:00:00",
          "2019-08-21T00:00:00",
          "2019-08-22T00:00:00",
          "2019-08-23T00:00:00",
          "2019-08-24T00:00:00",
          "2019-08-25T00:00:00",
          "2019-08-26T00:00:00",
          "2019-08-27T00:00:00",
          "2019-08-28T00:00:00",
          "2019-08-29T00:00:00",
          "2019-08-30T00:00:00",
          "2019-08-31T00:00:00",
          "2019-09-01T00:00:00",
          "2019-09-02T00:00:00",
          "2019-09-03T00:00:00",
          "2019-09-04T00:00:00",
          "2019-09-05T00:00:00",
          "2019-09-06T00:00:00",
          "2019-09-07T00:00:00",
          "2019-09-08T00:00:00",
          "2019-09-09T00:00:00",
          "2019-09-10T00:00:00",
          "2019-09-11T00:00:00",
          "2019-09-12T00:00:00",
          "2019-09-13T00:00:00",
          "2019-09-14T00:00:00",
          "2019-09-15T00:00:00",
          "2019-09-16T00:00:00",
          "2019-09-17T00:00:00",
          "2019-09-18T00:00:00",
          "2019-09-19T00:00:00",
          "2019-09-20T00:00:00",
          "2019-09-21T00:00:00",
          "2019-09-22T00:00:00",
          "2019-09-23T00:00:00",
          "2019-09-24T00:00:00",
          "2019-09-25T00:00:00",
          "2019-09-26T00:00:00",
          "2019-09-27T00:00:00",
          "2019-09-28T00:00:00",
          "2019-09-29T00:00:00",
          "2019-09-30T00:00:00",
          "2019-10-01T00:00:00",
          "2019-10-02T00:00:00",
          "2019-10-03T00:00:00",
          "2019-10-04T00:00:00",
          "2019-10-05T00:00:00",
          "2019-10-06T00:00:00",
          "2019-10-07T00:00:00",
          "2019-10-08T00:00:00",
          "2019-10-09T00:00:00",
          "2019-10-10T00:00:00",
          "2019-10-11T00:00:00",
          "2019-10-12T00:00:00",
          "2019-10-13T00:00:00",
          "2019-10-14T00:00:00",
          "2019-10-15T00:00:00",
          "2019-10-16T00:00:00",
          "2019-10-17T00:00:00",
          "2019-10-18T00:00:00",
          "2019-10-19T00:00:00",
          "2019-10-20T00:00:00",
          "2019-10-21T00:00:00",
          "2019-10-22T00:00:00",
          "2019-10-23T00:00:00",
          "2019-10-24T00:00:00",
          "2019-10-25T00:00:00",
          "2019-10-26T00:00:00",
          "2019-10-27T00:00:00",
          "2019-10-28T00:00:00",
          "2019-10-29T00:00:00",
          "2019-10-30T00:00:00",
          "2019-10-31T00:00:00",
          "2019-11-01T00:00:00",
          "2019-11-02T00:00:00",
          "2019-11-03T00:00:00",
          "2019-11-04T00:00:00",
          "2019-11-05T00:00:00",
          "2019-11-06T00:00:00",
          "2019-11-07T00:00:00",
          "2019-11-08T00:00:00",
          "2019-11-09T00:00:00",
          "2019-11-10T00:00:00",
          "2019-11-11T00:00:00",
          "2019-11-12T00:00:00",
          "2019-11-13T00:00:00",
          "2019-11-14T00:00:00",
          "2019-11-15T00:00:00",
          "2019-11-16T00:00:00",
          "2019-11-17T00:00:00",
          "2019-11-18T00:00:00",
          "2019-11-19T00:00:00",
          "2019-11-20T00:00:00",
          "2019-11-21T00:00:00",
          "2019-11-22T00:00:00",
          "2019-11-23T00:00:00",
          "2019-11-24T00:00:00",
          "2019-11-25T00:00:00",
          "2019-11-26T00:00:00",
          "2019-11-27T00:00:00",
          "2019-11-28T00:00:00",
          "2019-11-29T00:00:00",
          "2019-11-30T00:00:00",
          "2019-12-01T00:00:00",
          "2019-12-02T00:00:00",
          "2019-12-03T00:00:00",
          "2019-12-04T00:00:00",
          "2019-12-05T00:00:00",
          "2019-12-06T00:00:00",
          "2019-12-07T00:00:00",
          "2019-12-08T00:00:00",
          "2019-12-09T00:00:00",
          "2019-12-10T00:00:00",
          "2019-12-11T00:00:00",
          "2019-12-12T00:00:00",
          "2019-12-13T00:00:00",
          "2019-12-14T00:00:00",
          "2019-12-15T00:00:00",
          "2019-12-16T00:00:00",
          "2019-12-17T00:00:00",
          "2019-12-18T00:00:00",
          "2019-12-19T00:00:00",
          "2019-12-20T00:00:00",
          "2019-12-21T00:00:00",
          "2019-12-22T00:00:00",
          "2019-12-23T00:00:00",
          "2019-12-24T00:00:00",
          "2019-12-25T00:00:00",
          "2019-12-26T00:00:00",
          "2019-12-27T00:00:00",
          "2019-12-28T00:00:00",
          "2019-12-29T00:00:00",
          "2019-12-30T00:00:00",
          "2019-12-31T00:00:00"
         ],
         "xaxis": "x",
         "y": [
          40500,
          51817.857142857145,
          78375,
          63943.333333333336,
          55082.8125,
          55800,
          62562.06896551724,
          81717.39130434782,
          59731,
          69313.15789473684,
          74136.36363636363,
          66962.06896551725,
          46183.333333333336,
          71078.94736842105,
          30745.58823529412,
          73400,
          71047.82608695653,
          63023.529411764706,
          52696.969696969696,
          77816.66666666667,
          42750,
          48378.846153846156,
          50760,
          56050,
          60544.444444444445,
          53968.333333333336,
          77000,
          60117.391304347824,
          44440.625,
          57487.5,
          61235.71428571428,
          58016.12903225807,
          60631.25,
          87500,
          38000,
          72250,
          53376.92307692308,
          45028.94736842105,
          52729.41176470588,
          62650,
          50257.40740740741,
          58876.19047619047,
          52947.36842105263,
          57338.23529411765,
          66097.91666666667,
          54074.28571428572,
          54328.57142857143,
          73419,
          55735.71428571428,
          60634.21052631579,
          45571.42857142857,
          79719.41176470589,
          59054.6875,
          84583.33333333333,
          79701.78571428571,
          51485.294117647056,
          47777.77777777778,
          58152,
          49800,
          82812.5,
          88500,
          61418.181818181816,
          65880.43478260869,
          77052.85714285714,
          66138.46153846153,
          83486.36363636363,
          65081.4,
          54766.666666666664,
          49433.333333333336,
          67781.25,
          72761.53846153847,
          81004,
          62833.333333333336,
          61651.25,
          56033.333333333336,
          64272.41379310345,
          64572.41379310345,
          66950,
          68022.72727272728,
          66983.92857142857,
          65137.03703703704,
          60575,
          66073.17073170732,
          80307.23076923077,
          57941.30434782609,
          68169.44444444444,
          82555.88235294117,
          69196.77966101695,
          58833.333333333336,
          71786.11111111111,
          65595.3125,
          56238.57142857143,
          56231.666666666664,
          74417.44186046511,
          91231.25,
          67075,
          85004.13636363637,
          83442.35897435897,
          70586.84210526316,
          77525.6551724138,
          79679.16666666667,
          69582.72727272728,
          109833.33333333333,
          59686.607142857145,
          69785.71428571429,
          105068.57142857143,
          78592.5925925926,
          84407.8947368421,
          74510.84057971014,
          64430.769230769234,
          90252.66666666667,
          97820.125,
          70546.875,
          66179.41176470589,
          80070.19607843137,
          83661.01694915254,
          93656.25,
          87166.66666666667,
          87005.26315789473,
          73248.3870967742,
          78224.46808510639,
          98586.34615384616,
          71220,
          39244,
          74961.62790697675,
          96418.75,
          72127.14285714286,
          97023.26086956522,
          85117.27272727272,
          79897.76119402985,
          65006.666666666664,
          71725.39682539682,
          102812,
          77291.66666666667,
          73520.4918032787,
          81561.53846153847,
          86996.78205128205,
          89017.64705882352,
          76505.88235294117,
          80100.83333333333,
          76817.79661016949,
          89873.11320754717,
          87532,
          78243.56435643564,
          96684.61538461539,
          86722.0895522388,
          70252.11267605633,
          74203.33333333333,
          91470.3947368421,
          93178.90625,
          77812.05607476635,
          87471.17647058824,
          79848.53333333334,
          87015.98360655738,
          74956.25,
          88926.76767676767,
          55366.94915254237,
          82072.02380952382,
          59542.857142857145,
          74804.30107526881,
          77754.09836065574,
          79895.06172839506,
          81943.51851851853,
          83112.15476190476,
          92656.74418604652,
          86252.17391304347,
          94919.93636363637,
          50155.754189944135,
          101769.31578947368,
          99266.35416666667,
          83278.26086956522,
          89630.27932960894,
          93880.76923076923,
          94770.60606060606,
          86149.19841269842,
          97664.89361702128,
          89453.84615384616,
          94905.91666666667,
          83854.1237113402,
          86713.88888888889,
          90493.26923076923,
          83844.74107142857,
          92392.33644859813,
          72350.53260869565,
          83847.24409448818,
          94888.91191709845,
          79608.33333333333,
          83919.17808219178,
          88406.56565656565,
          91953.36134453781,
          92823.975,
          75936.47540983607,
          84364.57219251337,
          83255.1724137931,
          85699.12280701754,
          94514.28571428571,
          82276.51578947369,
          84909.63855421687,
          76702.88461538461,
          79496.13756613756,
          79279.16666666667,
          88998.9010989011,
          90842.1568627451,
          86792.85714285714,
          87945.68965517242,
          85047.12871287129,
          83430.7881773399,
          70156.94444444444,
          79909.13978494624,
          84882.77777777778,
          77426.22641509434,
          94968.03278688525,
          77084.5,
          92007.9268292683,
          86206.25,
          82050.47169811321,
          81096.15384615384,
          84915,
          65118.90243902439,
          80328.08988764045,
          72309.77443609023,
          66538.46153846153,
          82832.85714285714,
          80711.26582278482,
          79901.5625,
          68991.17647058824,
          77328.68852459016,
          81097.41379310345,
          114131.81818181818,
          78315.9574468085,
          76435.625,
          80765.78947368421,
          68668.75,
          78365.47619047618,
          81047.55033557047,
          73026.66666666667,
          76672.83653846153,
          82206.3698630137,
          92194.76744186046,
          80283,
          78190,
          74011.60714285714,
          79600,
          71564.57943925234,
          82377.03614457832,
          88122.43902439025,
          76843.90243902439,
          90518.26086956522,
          81740.9022556391,
          94039.03225806452,
          94296.51162790698,
          96200.67415730337,
          82204.17910447762,
          80723.75,
          45100,
          110750,
          94113.33333333333,
          84637.70491803279,
          88931.59340659341,
          74086.13186813187,
          92302.81609195402,
          80293.89380530974,
          82404.84653465346,
          88555.42222222222,
          84544.38461538461,
          84395.62589928058,
          87049.83739837399,
          89282.8947368421,
          82836.88288288288,
          88190.01632653062,
          106341.66666666667,
          78390.0294117647,
          86102.97674418605,
          80718.54166666667,
          88857.04678362573,
          82053.40909090909,
          83173.83177570094,
          83412.18181818182,
          86795.14093959732,
          95509.89010989011,
          83897.82608695653,
          86441.26213592233,
          79372.70967741935,
          84455.34868421052,
          94946.69811320755,
          87746.30201342281,
          83508.0985915493,
          88361.97478991597,
          77794.73684210527,
          92880.66891891892,
          84048.33969465649,
          80546.34146341463,
          81882.83125,
          81681.5223880597,
          80590.75757575757,
          87429.83193277312,
          85335.41666666667,
          80157.26637554585,
          96032.2,
          82981.70634920635,
          75857.00934579439,
          83547.53787878787,
          76732.6530612245,
          85995.26666666666,
          89305.36529680365,
          90826.59574468085,
          80412.64429530202,
          75558.18620689656,
          85702.77372262774,
          78061.12903225806,
          80619.9857142857,
          80726.14644351465,
          75461.03846153847,
          75902.31137724551,
          86038.38028169014,
          85586.82432432432,
          88397.97272727273,
          88587.3115942029,
          79462.77056277056,
          75467.1052631579,
          79930,
          87588.72180451128,
          88579.1129032258,
          81678.35051546391,
          80149.256,
          81670.39800995025,
          77816.66666666667,
          83736.27433628318,
          74572.22222222222,
          84861.97916666667,
          77892.50943396226,
          80520,
          81044.18604651163,
          87853.125,
          75474.56310679612,
          73910.89743589744,
          56053.01680672269,
          79848.46153846153,
          80097.36111111111,
          73259.07692307692,
          70622.91666666667,
          74768.53932584269,
          69480.26315789473,
          80992.53731343284,
          71801.03448275862,
          65056.0101010101,
          75334.59124087592,
          112275,
          62023.01587301587,
          60693.023255813954,
          67196.7741935484,
          63380.625,
          57596.2962962963,
          61683.63636363636,
          57000,
          55833,
          45160.18518518518,
          49410,
          52132.142857142855,
          78321.05263157895,
          70362.06896551725,
          95500,
          46544.73684210526,
          65761.90476190476
         ],
         "yaxis": "y"
        },
        {
         "hovertemplate": "층구분=고층<br>기간=%{x}<br>mean=%{y}<br>count=%{marker.size}<extra></extra>",
         "legendgroup": "고층",
         "marker": {
          "color": "#00cc96",
          "size": [
           6,
           1,
           1,
           9,
           3,
           7,
           4,
           6,
           1,
           6,
           11,
           1,
           4,
           7,
           6,
           9,
           9,
           10,
           2,
           3,
           5,
           5,
           3,
           3,
           13,
           11,
           6,
           1,
           1,
           2,
           1,
           5,
           5,
           15,
           1,
           5,
           5,
           1,
           6,
           7,
           13,
           3,
           8,
           4,
           8,
           4,
           16,
           14,
           2,
           6,
           6,
           7,
           6,
           8,
           6,
           2,
           10,
           4,
           9,
           3,
           9,
           19,
           1,
           9,
           7,
           5,
           6,
           8,
           8,
           3,
           8,
           10,
           7,
           10,
           5,
           18,
           2,
           10,
           7,
           8,
           3,
           8,
           15,
           4,
           17,
           5,
           9,
           20,
           14,
           15,
           2,
           14,
           8,
           13,
           12,
           8,
           22,
           5,
           15,
           14,
           12,
           7,
           10,
           14,
           2,
           12,
           10,
           18,
           6,
           13,
           19,
           6,
           11,
           12,
           15,
           11,
           13,
           21,
           4,
           14,
           10,
           9,
           12,
           19,
           32,
           4,
           16,
           11,
           15,
           9,
           19,
           27,
           2,
           19,
           23,
           12,
           14,
           22,
           33,
           9,
           23,
           23,
           18,
           10,
           15,
           38,
           6,
           16,
           15,
           15,
           28,
           13,
           26,
           8,
           21,
           18,
           23,
           21,
           25,
           53,
           11,
           36,
           47,
           39,
           26,
           36,
           81,
           11,
           45,
           35,
           29,
           35,
           27,
           59,
           6,
           38,
           41,
           37,
           25,
           45,
           77,
           7,
           47,
           31,
           28,
           30,
           50,
           65,
           15,
           46,
           30,
           43,
           31,
           44,
           51,
           8,
           37,
           39,
           37,
           26,
           30,
           79,
           12,
           34,
           48,
           30,
           21,
           25,
           28,
           7,
           36,
           28,
           26,
           37,
           17,
           63,
           6,
           19,
           26,
           21,
           28,
           28,
           37,
           7,
           27,
           25,
           35,
           31,
           31,
           61,
           21,
           28,
           28,
           31,
           23,
           21,
           70,
           13,
           36,
           31,
           30,
           16,
           36,
           54,
           5,
           39,
           30,
           22,
           5,
           1,
           2,
           29,
           27,
           27,
           27,
           41,
           54,
           19,
           43,
           42,
           44,
           51,
           43,
           60,
           10,
           38,
           48,
           49,
           43,
           53,
           71,
           16,
           34,
           43,
           72,
           29,
           42,
           78,
           23,
           60,
           46,
           38,
           39,
           42,
           81,
           14,
           36,
           49,
           40,
           43,
           47,
           79,
           17,
           39,
           46,
           40,
           38,
           45,
           77,
           10,
           30,
           48,
           33,
           34,
           52,
           77,
           22,
           45,
           45,
           65,
           42,
           44,
           76,
           16,
           48,
           43,
           34,
           39,
           32,
           64,
           17,
           35,
           28,
           30,
           26,
           33,
           68,
           13,
           34,
           35,
           30,
           19,
           22,
           32,
           10,
           29,
           18,
           13,
           14,
           19,
           25,
           6,
           24,
           10,
           10,
           8,
           11,
           16,
           2,
           3,
           8,
           5,
           2,
           3,
           4,
           2,
           6,
           2
          ],
          "sizemode": "area",
          "sizeref": 0.8425,
          "symbol": "circle"
         },
         "mode": "markers",
         "name": "고층",
         "showlegend": true,
         "type": "scattergl",
         "x": [
          "2019-01-02T00:00:00",
          "2019-01-03T00:00:00",
          "2019-01-04T00:00:00",
          "2019-01-05T00:00:00",
          "2019-01-06T00:00:00",
          "2019-01-07T00:00:00",
          "2019-01-08T00:00:00",
          "2019-01-09T00:00:00",
          "2019-01-10T00:00:00",
          "2019-01-11T00:00:00",
          "2019-01-12T00:00:00",
          "2019-01-13T00:00:00",
          "2019-01-14T00:00:00",
          "2019-01-15T00:00:00",
          "2019-01-16T00:00:00",
          "2019-01-17T00:00:00",
          "2019-01-18T00:00:00",
          "2019-01-19T00:00:00",
          "2019-01-20T00:00:00",
          "2019-01-21T00:00:00",
          "2019-01-22T00:00:00",
          "2019-01-23T00:00:00",
          "2019-01-24T00:00:00",
          "2019-01-25T00:00:00",
          "2019-01-26T00:00:00",
          "2019-01-28T00:00:00",
          "2019-01-29T00:00:00",
          "2019-01-30T00:00:00",
          "2019-01-31T00:00:00",
          "2019-02-01T00:00:00",
          "2019-02-03T00:00:00",
          "2019-02-07T00:00:00",
          "2019-02-08T00:00:00",
          "2019-02-09T00:00:00",
          "2019-02-10T00:00:00",
          "2019-02-11T00:00:00",
          "2019-02-12T00:00:00",
          "2019-02-13T00:00:00",
          "2019-02-14T00:00:00",
          "2019-02-15T00:00:00",
          "2019-02-16T00:00:00",
          "2019-02-17T00:00:00",
          "2019-02-18T00:00:00",
          "2019-02-19T00:00:00",
          "2019-02-20T00:00:00",
          "2019-02-21T00:00:00",
          "2019-02-22T00:00:00",
          "2019-02-23T00:00:00",
          "2019-02-24T00:00:00",
          "2019-02-25T00:00:00",
          "2019-02-26T00:00:00",
          "2019-02-27T00:00:00",
          "2019-02-28T00:00:00",
          "2019-03-01T00:00:00",
          "2019-03-02T00:00:00",
          "2019-03-03T00:00:00",
          "2019-03-04T00:00:00",
          "2019-03-05T00:00:00",
          "2019-03-06T00:00:00",
          "2019-03-07T00:00:00",
          "2019-03-08T00:00:00",
          "2019-03-09T00:00:00",
          "2019-03-10T00:00:00",
          "2019-03-11T00:00:00",
          "2019-03-12T00:00:00",
          "2019-03-13T00:00:00",
          "2019-03-14T00:00:00",
          "2019-03-15T00:00:00",
          "2019-03-16T00:00:00",
          "2019-03-17T00:00:00",
          "2019-03-18T00:00:00",
          "2019-03-19T00:00:00",
          "2019-03-20T00:00:00",
          "2019-03-21T00:00:00",
          "2019-03-22T00:00:00",
          "2019-03-23T00:00:00",
          "2019-03-24T00:00:00",
          "2019-03-25T00:00:00",
          "2019-03-26T00:00:00",
          "2019-03-27T00:00:00",
          "2019-03-28T00:00:00",
          "2019-03-29T00:00:00",
          "2019-03-30T00:00:00",
          "2019-03-31T00:00:00",
          "2019-04-01T00:00:00",
          "2019-04-02T00:00:00",
          "2019-04-03T00:00:00",
          "2019-04-04T00:00:00",
          "2019-04-05T00:00:00",
          "2019-04-06T00:00:00",
          "2019-04-07T00:00:00",
          "2019-04-08T00:00:00",
          "2019-04-09T00:00:00",
          "2019-04-10T00:00:00",
          "2019-04-11T00:00:00",
          "2019-04-12T00:00:00",
          "2019-04-13T00:00:00",
          "2019-04-14T00:00:00",
          "2019-04-15T00:00:00",
          "2019-04-16T00:00:00",
          "2019-04-17T00:00:00",
          "2019-04-18T00:00:00",
          "2019-04-19T00:00:00",
          "2019-04-20T00:00:00",
          "2019-04-21T00:00:00",
          "2019-04-22T00:00:00",
          "2019-04-23T00:00:00",
          "2019-04-24T00:00:00",
          "2019-04-25T00:00:00",
          "2019-04-26T00:00:00",
          "2019-04-27T00:00:00",
          "2019-04-28T00:00:00",
          "2019-04-29T00:00:00",
          "2019-04-30T00:00:00",
          "2019-05-01T00:00:00",
          "2019-05-02T00:00:00",
          "2019-05-03T00:00:00",
          "2019-05-04T00:00:00",
          "2019-05-05T00:00:00",
          "2019-05-06T00:00:00",
          "2019-05-07T00:00:00",
          "2019-05-08T00:00:00",
          "2019-05-09T00:00:00",
          "2019-05-10T00:00:00",
          "2019-05-11T00:00:00",
          "2019-05-12T00:00:00",
          "2019-05-13T00:00:00",
          "2019-05-14T00:00:00",
          "2019-05-15T00:00:00",
          "2019-05-16T00:00:00",
          "2019-05-17T00:00:00",
          "2019-05-18T00:00:00",
          "2019-05-19T00:00:00",
          "2019-05-20T00:00:00",
          "2019-05-21T00:00:00",
          "2019-05-22T00:00:00",
          "2019-05-23T00:00:00",
          "2019-05-24T00:00:00",
          "2019-05-25T00:00:00",
          "2019-05-26T00:00:00",
          "2019-05-27T00:00:00",
          "2019-05-28T00:00:00",
          "2019-05-29T00:00:00",
          "2019-05-30T00:00:00",
          "2019-05-31T00:00:00",
          "2019-06-01T00:00:00",
          "2019-06-02T00:00:00",
          "2019-06-03T00:00:00",
          "2019-06-04T00:00:00",
          "2019-06-05T00:00:00",
          "2019-06-06T00:00:00",
          "2019-06-07T00:00:00",
          "2019-06-08T00:00:00",
          "2019-06-09T00:00:00",
          "2019-06-10T00:00:00",
          "2019-06-11T00:00:00",
          "2019-06-12T00:00:00",
          "2019-06-13T00:00:00",
          "2019-06-14T00:00:00",
          "2019-06-15T00:00:00",
          "2019-06-16T00:00:00",
          "2019-06-17T00:00:00",
          "2019-06-18T00:00:00",
          "2019-06-19T00:00:00",
          "2019-06-20T00:00:00",
          "2019-06-21T00:00:00",
          "2019-06-22T00:00:00",
          "2019-06-23T00:00:00",
          "2019-06-24T00:00:00",
          "2019-06-25T00:00:00",
          "2019-06-26T00:00:00",
          "2019-06-27T00:00:00",
          "2019-06-28T00:00:00",
          "2019-06-29T00:00:00",
          "2019-06-30T00:00:00",
          "2019-07-01T00:00:00",
          "2019-07-02T00:00:00",
          "2019-07-03T00:00:00",
          "2019-07-04T00:00:00",
          "2019-07-05T00:00:00",
          "2019-07-06T00:00:00",
          "2019-07-07T00:00:00",
          "2019-07-08T00:00:00",
          "2019-07-09T00:00:00",
          "2019-07-10T00:00:00",
          "2019-07-11T00:00:00",
          "2019-07-12T00:00:00",
          "2019-07-13T00:00:00",
          "2019-07-14T00:00:00",
          "2019-07-15T00:00:00",
          "2019-07-16T00:00:00",
          "2019-07-17T00:00:00",
          "2019-07-18T00:00:00",
          "2019-07-19T00:00:00",
          "2019-07-20T00:00:00",
          "2019-07-21T00:00:00",
          "2019-07-22T00:00:00",
          "2019-07-23T00:00:00",
          "2019-07-24T00:00:00",
          "2019-07-25T00:00:00",
          "2019-07-26T00:00:00",
          "2019-07-27T00:00:00",
          "2019-07-28T00:00:00",
          "2019-07-29T00:00:00",
          "2019-07-30T00:00:00",
          "2019-07-31T00:00:00",
          "2019-08-01T00:00:00",
          "2019-08-02T00:00:00",
          "2019-08-03T00:00:00",
          "2019-08-04T00:00:00",
          "2019-08-05T00:00:00",
          "2019-08-06T00:00:00",
          "2019-08-07T00:00:00",
          "2019-08-08T00:00:00",
          "2019-08-09T00:00:00",
          "2019-08-10T00:00:00",
          "2019-08-11T00:00:00",
          "2019-08-12T00:00:00",
          "2019-08-13T00:00:00",
          "2019-08-14T00:00:00",
          "2019-08-15T00:00:00",
          "2019-08-16T00:00:00",
          "2019-08-17T00:00:00",
          "2019-08-18T00:00:00",
          "2019-08-19T00:00:00",
          "2019-08-20T00:00:00",
          "2019-08-21T00:00:00",
          "2019-08-22T00:00:00",
          "2019-08-23T00:00:00",
          "2019-08-24T00:00:00",
          "2019-08-25T00:00:00",
          "2019-08-26T00:00:00",
          "2019-08-27T00:00:00",
          "2019-08-28T00:00:00",
          "2019-08-29T00:00:00",
          "2019-08-30T00:00:00",
          "2019-08-31T00:00:00",
          "2019-09-01T00:00:00",
          "2019-09-02T00:00:00",
          "2019-09-03T00:00:00",
          "2019-09-04T00:00:00",
          "2019-09-05T00:00:00",
          "2019-09-06T00:00:00",
          "2019-09-07T00:00:00",
          "2019-09-08T00:00:00",
          "2019-09-09T00:00:00",
          "2019-09-10T00:00:00",
          "2019-09-11T00:00:00",
          "2019-09-12T00:00:00",
          "2019-09-13T00:00:00",
          "2019-09-15T00:00:00",
          "2019-09-16T00:00:00",
          "2019-09-17T00:00:00",
          "2019-09-18T00:00:00",
          "2019-09-19T00:00:00",
          "2019-09-20T00:00:00",
          "2019-09-21T00:00:00",
          "2019-09-22T00:00:00",
          "2019-09-23T00:00:00",
          "2019-09-24T00:00:00",
          "2019-09-25T00:00:00",
          "2019-09-26T00:00:00",
          "2019-09-27T00:00:00",
          "2019-09-28T00:00:00",
          "2019-09-29T00:00:00",
          "2019-09-30T00:00:00",
          "2019-10-01T00:00:00",
          "2019-10-02T00:00:00",
          "2019-10-03T00:00:00",
          "2019-10-04T00:00:00",
          "2019-10-05T00:00:00",
          "2019-10-06T00:00:00",
          "2019-10-07T00:00:00",
          "2019-10-08T00:00:00",
          "2019-10-09T00:00:00",
          "2019-10-10T00:00:00",
          "2019-10-11T00:00:00",
          "2019-10-12T00:00:00",
          "2019-10-13T00:00:00",
          "2019-10-14T00:00:00",
          "2019-10-15T00:00:00",
          "2019-10-16T00:00:00",
          "2019-10-17T00:00:00",
          "2019-10-18T00:00:00",
          "2019-10-19T00:00:00",
          "2019-10-20T00:00:00",
          "2019-10-21T00:00:00",
          "2019-10-22T00:00:00",
          "2019-10-23T00:00:00",
          "2019-10-24T00:00:00",
          "2019-10-25T00:00:00",
          "2019-10-26T00:00:00",
          "2019-10-27T00:00:00",
          "2019-10-28T00:00:00",
          "2019-10-29T00:00:00",
          "2019-10-30T00:00:00",
          "2019-10-31T00:00:00",
          "2019-11-01T00:00:00",
          "2019-11-02T00:00:00",
          "2019-11-03T00:00:00",
          "2019-11-04T00:00:00",
          "2019-11-05T00:00:00",
          "2019-11-06T00:00:00",
          "2019-11-07T00:00:00",
          "2019-11-08T00:00:00",
          "2019-11-09T00:00:00",
          "2019-11-10T00:00:00",
          "2019-11-11T00:00:00",
          "2019-11-12T00:00:00",
          "2019-11-13T00:00:00",
          "2019-11-14T00:00:00",
          "2019-11-15T00:00:00",
          "2019-11-16T00:00:00",
          "2019-11-17T00:00:00",
          "2019-11-18T00:00:00",
          "2019-11-19T00:00:00",
          "2019-11-20T00:00:00",
          "2019-11-21T00:00:00",
          "2019-11-22T00:00:00",
          "2019-11-23T00:00:00",
          "2019-11-24T00:00:00",
          "2019-11-25T00:00:00",
          "2019-11-26T00:00:00",
          "2019-11-27T00:00:00",
          "2019-11-28T00:00:00",
          "2019-11-29T00:00:00",
          "2019-11-30T00:00:00",
          "2019-12-01T00:00:00",
          "2019-12-02T00:00:00",
          "2019-12-03T00:00:00",
          "2019-12-04T00:00:00",
          "2019-12-05T00:00:00",
          "2019-12-06T00:00:00",
          "2019-12-07T00:00:00",
          "2019-12-08T00:00:00",
          "2019-12-09T00:00:00",
          "2019-12-10T00:00:00",
          "2019-12-11T00:00:00",
          "2019-12-12T00:00:00",
          "2019-12-13T00:00:00",
          "2019-12-14T00:00:00",
          "2019-12-15T00:00:00",
          "2019-12-16T00:00:00",
          "2019-12-17T00:00:00",
          "2019-12-18T00:00:00",
          "2019-12-19T00:00:00",
          "2019-12-20T00:00:00",
          "2019-12-21T00:00:00",
          "2019-12-22T00:00:00",
          "2019-12-23T00:00:00",
          "2019-12-24T00:00:00",
          "2019-12-25T00:00:00",
          "2019-12-26T00:00:00",
          "2019-12-27T00:00:00",
          "2019-12-28T00:00:00",
          "2019-12-29T00:00:00",
          "2019-12-30T00:00:00",
          "2019-12-31T00:00:00"
         ],
         "xaxis": "x",
         "y": [
          49116.666666666664,
          163000,
          110000,
          91377.77777777778,
          58583.333333333336,
          78671.42857142857,
          76700,
          106475,
          96000,
          131900,
          73859.09090909091,
          43700,
          59150,
          69700,
          101400.16666666667,
          64577.77777777778,
          75433.33333333333,
          50680,
          85750,
          55233.333333333336,
          112000,
          58560,
          253083.33333333334,
          37383.333333333336,
          70273.07692307692,
          85372.72727272728,
          78266.66666666667,
          160000,
          61750,
          58500,
          123000,
          72940,
          88600,
          59048.666666666664,
          60000,
          101600,
          88960,
          14800,
          108250,
          130671.42857142857,
          81838.46153846153,
          49566.666666666664,
          94212.5,
          165749.5,
          113087.5,
          124950,
          116624.875,
          62871.42857142857,
          71250,
          48916.666666666664,
          105766.66666666667,
          123671.42857142857,
          75366.66666666667,
          61823.75,
          62833.333333333336,
          87500,
          91650,
          90625,
          90633.33333333333,
          125666.66666666667,
          120388.88888888889,
          82200,
          80500,
          84000,
          160928.57142857142,
          125559.6,
          121383.33333333333,
          98600,
          95625,
          87100,
          115500,
          92100,
          99685.71428571429,
          100170,
          132600,
          106177.77777777778,
          113000,
          84130,
          95978.57142857143,
          146131.25,
          91933.33333333333,
          103112.5,
          86253.33333333333,
          160575,
          113141.17647058824,
          149700,
          114833.33333333333,
          79800,
          93442.85714285714,
          117600,
          66250,
          93321.42857142857,
          62725,
          88800,
          68966.66666666667,
          109100,
          95804.54545454546,
          91140,
          78700,
          95353.57142857143,
          121666.66666666667,
          152880,
          116680,
          101200,
          109500,
          82266.66666666667,
          85630,
          79827.77777777778,
          111116.66666666667,
          149276.92307692306,
          109278.94736842105,
          66358.33333333333,
          105454.54545454546,
          118166.66666666667,
          92240,
          131490.9090909091,
          134396.15384615384,
          106811.90476190476,
          107425,
          80903.57142857143,
          125890,
          96388.88888888889,
          86041.66666666667,
          107905.26315789473,
          118948.4375,
          140937.5,
          144018.75,
          86231.81818181818,
          111480,
          91950,
          133668.42105263157,
          99125.92592592593,
          108750,
          117310.52631578948,
          78352.17391304347,
          109108.33333333333,
          106350,
          94761.36363636363,
          94575.75757575757,
          115500,
          99417.39130434782,
          86721.73913043478,
          96572.22222222222,
          116810,
          153106.66666666666,
          104700,
          112000,
          84400,
          148826.66666666666,
          104113.33333333333,
          95428.57142857143,
          95615.38461538461,
          105403.84615384616,
          98281.25,
          110109.52380952382,
          103661.11111111111,
          99421.73913043478,
          113811.90476190476,
          87008,
          103797.92452830188,
          124609.09090909091,
          127325,
          107621.27659574468,
          111420.51282051283,
          123292.30769230769,
          124399.47222222222,
          101888.27160493827,
          111727.27272727272,
          113822.17777777778,
          114142.85714285714,
          104517.24137931035,
          131007.08571428571,
          122385.18518518518,
          95144.91525423729,
          163466.66666666666,
          105911.84210526316,
          104985.85365853658,
          114945.94594594595,
          81344,
          119687.77777777778,
          121888.31168831169,
          88100,
          109244.68085106384,
          103357.09677419355,
          115735.71428571429,
          151396.6,
          107625.8,
          101367.69230769231,
          150040,
          99807.60869565218,
          96168.33333333333,
          124458.13953488372,
          104932.25806451614,
          112514.77272727272,
          97368.62745098039,
          82787.5,
          95974.32432432432,
          87641.02564102564,
          112381.08108108108,
          101199.92307692308,
          122236.66666666667,
          113827.21518987342,
          96941.66666666667,
          109972.05882352941,
          107905.41666666667,
          94738.33333333333,
          84095.23809523809,
          109196,
          85283.92857142857,
          101685.71428571429,
          90116.66666666667,
          118669.57142857143,
          105011.53846153847,
          101745.4054054054,
          116682.35294117648,
          98344.92063492064,
          62983.333333333336,
          107657.8947368421,
          119875.76923076923,
          107038.09523809524,
          119080.35714285714,
          104716.07142857143,
          87818.91891891892,
          127171.42857142857,
          120348.14814814815,
          131404,
          104768.57142857143,
          115919.29032258065,
          122474.19354838709,
          96783.60655737705,
          107747.61904761905,
          99925,
          113510.71428571429,
          92267.74193548386,
          96352.17391304347,
          88161.90476190476,
          86706.42857142857,
          109342.30769230769,
          111677.77777777778,
          103936.54838709677,
          105346.66666666667,
          122593.625,
          128658.33333333333,
          117051.85185185185,
          95680,
          122863.84615384616,
          107850,
          107604.54545454546,
          175420,
          126000,
          67250,
          105787.93103448275,
          102353.70370370371,
          114207.4074074074,
          108133.33333333333,
          119636.58536585367,
          97883.33333333333,
          108184.21052631579,
          107534.88372093023,
          115223.80952380953,
          124437.5,
          91313.72549019608,
          124266.27906976744,
          113624.96666666666,
          162570,
          115572.36842105263,
          95779.16666666667,
          128690.8163265306,
          88539.30232558139,
          94216.98113207547,
          112459.15492957746,
          75862.5,
          115742.64705882352,
          116034.88372093023,
          104640.27777777778,
          108474.13793103448,
          123476.19047619047,
          106749.35897435897,
          92465.21739130435,
          104876.63333333333,
          109032.60869565218,
          107548.94736842105,
          99952.56410256411,
          99438.09523809524,
          94928.3950617284,
          116203.57142857143,
          112529.16666666667,
          122644.89795918367,
          109279.75,
          96833.72093023256,
          105523.40425531915,
          97959.49367088608,
          110352.94117647059,
          100765.1282051282,
          99978.47826086957,
          127122.5,
          112822.36842105263,
          114316.66666666667,
          107393.50649350649,
          94465,
          93931.66666666667,
          103680,
          124142.42424242424,
          95876.4705882353,
          96925.96153846153,
          97003.8961038961,
          105422.72727272728,
          96640,
          97423.33333333333,
          104282.30769230769,
          96002.38095238095,
          96743.18181818182,
          95698.68421052632,
          124749.375,
          111954.16666666667,
          100002.32558139534,
          90417.64705882352,
          113717.69230769231,
          101171.875,
          85487.5,
          95891.17647058824,
          108470,
          99271.42857142857,
          118796.66666666667,
          110155.76923076923,
          101690.30303030302,
          98447.05882352941,
          127961.53846153847,
          89019.11764705883,
          87260,
          84126.66666666667,
          129184.21052631579,
          100943.18181818182,
          87856.25,
          95220,
          92239.6551724138,
          89916.66666666667,
          119576.92307692308,
          113592.85714285714,
          99273.68421052632,
          87306,
          87083.33333333333,
          115977.08333333333,
          56310,
          58290,
          90187.5,
          83800,
          72446.875,
          47100,
          119000,
          108437.5,
          69840,
          64500,
          67266.66666666667,
          70675,
          88200,
          92966.66666666667,
          66650
         ],
         "yaxis": "y"
        }
       ],
       "layout": {
        "legend": {
         "itemsizing": "constant",
         "title": {
          "text": "층구분"
         },
         "tracegroupgap": 0
        },
        "template": {
         "data": {
          "bar": [
           {
            "error_x": {
             "color": "#2a3f5f"
            },
            "error_y": {
             "color": "#2a3f5f"
            },
            "marker": {
             "line": {
              "color": "#E5ECF6",
              "width": 0.5
             }
            },
            "type": "bar"
           }
          ],
          "barpolar": [
           {
            "marker": {
             "line": {
              "color": "#E5ECF6",
              "width": 0.5
             }
            },
            "type": "barpolar"
           }
          ],
          "carpet": [
           {
            "aaxis": {
             "endlinecolor": "#2a3f5f",
             "gridcolor": "white",
             "linecolor": "white",
             "minorgridcolor": "white",
             "startlinecolor": "#2a3f5f"
            },
            "baxis": {
             "endlinecolor": "#2a3f5f",
             "gridcolor": "white",
             "linecolor": "white",
             "minorgridcolor": "white",
             "startlinecolor": "#2a3f5f"
            },
            "type": "carpet"
           }
          ],
          "choropleth": [
           {
            "colorbar": {
             "outlinewidth": 0,
             "ticks": ""
            },
            "type": "choropleth"
           }
          ],
          "contour": [
           {
            "colorbar": {
             "outlinewidth": 0,
             "ticks": ""
            },
            "colorscale": [
             [
              0,
              "#0d0887"
             ],
             [
              0.1111111111111111,
              "#46039f"
             ],
             [
              0.2222222222222222,
              "#7201a8"
             ],
             [
              0.3333333333333333,
              "#9c179e"
             ],
             [
              0.4444444444444444,
              "#bd3786"
             ],
             [
              0.5555555555555556,
              "#d8576b"
             ],
             [
              0.6666666666666666,
              "#ed7953"
             ],
             [
              0.7777777777777778,
              "#fb9f3a"
             ],
             [
              0.8888888888888888,
              "#fdca26"
             ],
             [
              1,
              "#f0f921"
             ]
            ],
            "type": "contour"
           }
          ],
          "contourcarpet": [
           {
            "colorbar": {
             "outlinewidth": 0,
             "ticks": ""
            },
            "type": "contourcarpet"
           }
          ],
          "heatmap": [
           {
            "colorbar": {
             "outlinewidth": 0,
             "ticks": ""
            },
            "colorscale": [
             [
              0,
              "#0d0887"
             ],
             [
              0.1111111111111111,
              "#46039f"
             ],
             [
              0.2222222222222222,
              "#7201a8"
             ],
             [
              0.3333333333333333,
              "#9c179e"
             ],
             [
              0.4444444444444444,
              "#bd3786"
             ],
             [
              0.5555555555555556,
              "#d8576b"
             ],
             [
              0.6666666666666666,
              "#ed7953"
             ],
             [
              0.7777777777777778,
              "#fb9f3a"
             ],
             [
              0.8888888888888888,
              "#fdca26"
             ],
             [
              1,
              "#f0f921"
             ]
            ],
            "type": "heatmap"
           }
          ],
          "heatmapgl": [
           {
            "colorbar": {
             "outlinewidth": 0,
             "ticks": ""
            },
            "colorscale": [
             [
              0,
              "#0d0887"
             ],
             [
              0.1111111111111111,
              "#46039f"
             ],
             [
              0.2222222222222222,
              "#7201a8"
             ],
             [
              0.3333333333333333,
              "#9c179e"
             ],
             [
              0.4444444444444444,
              "#bd3786"
             ],
             [
              0.5555555555555556,
              "#d8576b"
             ],
             [
              0.6666666666666666,
              "#ed7953"
             ],
             [
              0.7777777777777778,
              "#fb9f3a"
             ],
             [
              0.8888888888888888,
              "#fdca26"
             ],
             [
              1,
              "#f0f921"
             ]
            ],
            "type": "heatmapgl"
           }
          ],
          "histogram": [
           {
            "marker": {
             "colorbar": {
              "outlinewidth": 0,
              "ticks": ""
             }
            },
            "type": "histogram"
           }
          ],
          "histogram2d": [
           {
            "colorbar": {
             "outlinewidth": 0,
             "ticks": ""
            },
            "colorscale": [
             [
              0,
              "#0d0887"
             ],
             [
              0.1111111111111111,
              "#46039f"
             ],
             [
              0.2222222222222222,
              "#7201a8"
             ],
             [
              0.3333333333333333,
              "#9c179e"
             ],
             [
              0.4444444444444444,
              "#bd3786"
             ],
             [
              0.5555555555555556,
              "#d8576b"
             ],
             [
              0.6666666666666666,
              "#ed7953"
             ],
             [
              0.7777777777777778,
              "#fb9f3a"
             ],
             [
              0.8888888888888888,
              "#fdca26"
             ],
             [
              1,
              "#f0f921"
             ]
            ],
            "type": "histogram2d"
           }
          ],
          "histogram2dcontour": [
           {
            "colorbar": {
             "outlinewidth": 0,
             "ticks": ""
            },
            "colorscale": [
             [
              0,
              "#0d0887"
             ],
             [
              0.1111111111111111,
              "#46039f"
             ],
             [
              0.2222222222222222,
              "#7201a8"
             ],
             [
              0.3333333333333333,
              "#9c179e"
             ],
             [
              0.4444444444444444,
              "#bd3786"
             ],
             [
              0.5555555555555556,
              "#d8576b"
             ],
             [
              0.6666666666666666,
              "#ed7953"
             ],
             [
              0.7777777777777778,
              "#fb9f3a"
             ],
             [
              0.8888888888888888,
              "#fdca26"
             ],
             [
              1,
              "#f0f921"
             ]
            ],
            "type": "histogram2dcontour"
           }
          ],
          "mesh3d": [
           {
            "colorbar": {
             "outlinewidth": 0,
             "ticks": ""
            },
            "type": "mesh3d"
           }
          ],
          "parcoords": [
           {
            "line": {
             "colorbar": {
              "outlinewidth": 0,
              "ticks": ""
             }
            },
            "type": "parcoords"
           }
          ],
          "pie": [
           {
            "automargin": true,
            "type": "pie"
           }
          ],
          "scatter": [
           {
            "marker": {
             "colorbar": {
              "outlinewidth": 0,
              "ticks": ""
             }
            },
            "type": "scatter"
           }
          ],
          "scatter3d": [
           {
            "line": {
             "colorbar": {
              "outlinewidth": 0,
              "ticks": ""
             }
            },
            "marker": {
             "colorbar": {
              "outlinewidth": 0,
              "ticks": ""
             }
            },
            "type": "scatter3d"
           }
          ],
          "scattercarpet": [
           {
            "marker": {
             "colorbar": {
              "outlinewidth": 0,
              "ticks": ""
             }
            },
            "type": "scattercarpet"
           }
          ],
          "scattergeo": [
           {
            "marker": {
             "colorbar": {
              "outlinewidth": 0,
              "ticks": ""
             }
            },
            "type": "scattergeo"
           }
          ],
          "scattergl": [
           {
            "marker": {
             "colorbar": {
              "outlinewidth": 0,
              "ticks": ""
             }
            },
            "type": "scattergl"
           }
          ],
          "scattermapbox": [
           {
            "marker": {
             "colorbar": {
              "outlinewidth": 0,
              "ticks": ""
             }
            },
            "type": "scattermapbox"
           }
          ],
          "scatterpolar": [
           {
            "marker": {
             "colorbar": {
              "outlinewidth": 0,
              "ticks": ""
             }
            },
            "type": "scatterpolar"
           }
          ],
          "scatterpolargl": [
           {
            "marker": {
             "colorbar": {
              "outlinewidth": 0,
              "ticks": ""
             }
            },
            "type": "scatterpolargl"
           }
          ],
          "scatterternary": [
           {
            "marker": {
             "colorbar": {
              "outlinewidth": 0,
              "ticks": ""
             }
            },
            "type": "scatterternary"
           }
          ],
          "surface": [
           {
            "colorbar": {
             "outlinewidth": 0,
             "ticks": ""
            },
            "colorscale": [
             [
              0,
              "#0d0887"
             ],
             [
              0.1111111111111111,
              "#46039f"
             ],
             [
              0.2222222222222222,
              "#7201a8"
             ],
             [
              0.3333333333333333,
              "#9c179e"
             ],
             [
              0.4444444444444444,
              "#bd3786"
             ],
             [
              0.5555555555555556,
              "#d8576b"
             ],
             [
              0.6666666666666666,
              "#ed7953"
             ],
             [
              0.7777777777777778,
              "#fb9f3a"
             ],
             [
              0.8888888888888888,
              "#fdca26"
             ],
             [
              1,
              "#f0f921"
             ]
            ],
            "type": "surface"
           }
          ],
          "table": [
           {
            "cells": {
             "fill": {
              "color": "#EBF0F8"
             },
             "line": {
              "color": "white"
             }
            },
            "header": {
             "fill": {
              "color": "#C8D4E3"
             },
             "line": {
              "color": "white"
             }
            },
            "type": "table"
           }
          ]
         },
         "layout": {
          "annotationdefaults": {
           "arrowcolor": "#2a3f5f",
           "arrowhead": 0,
           "arrowwidth": 1
          },
          "autotypenumbers": "strict",
          "coloraxis": {
           "colorbar": {
            "outlinewidth": 0,
            "ticks": ""
           }
          },
          "colorscale": {
           "diverging": [
            [
             0,
             "#8e0152"
            ],
            [
             0.1,
             "#c51b7d"
            ],
            [
             0.2,
             "#de77ae"
            ],
            [
             0.3,
             "#f1b6da"
            ],
            [
             0.4,
             "#fde0ef"
            ],
            [
             0.5,
             "#f7f7f7"
            ],
            [
             0.6,
             "#e6f5d0"
            ],
            [
             0.7,
             "#b8e186"
            ],
            [
             0.8,
             "#7fbc41"
            ],
            [
             0.9,
             "#4d9221"
            ],
            [
             1,
             "#276419"
            ]
           ],
           "sequential": [
            [
             0,
             "#0d0887"
            ],
            [
             0.1111111111111111,
             "#46039f"
            ],
            [
             0.2222222222222222,
             "#7201a8"
            ],
            [
             0.3333333333333333,
             "#9c179e"
            ],
            [
             0.4444444444444444,
             "#bd3786"
            ],
            [
             0.5555555555555556,
             "#d8576b"
            ],
            [
             0.6666666666666666,
             "#ed7953"
            ],
            [
             0.7777777777777778,
             "#fb9f3a"
            ],
            [
             0.8888888888888888,
             "#fdca26"
            ],
            [
             1,
             "#f0f921"
            ]
           ],
           "sequentialminus": [
            [
             0,
             "#0d0887"
            ],
            [
             0.1111111111111111,
             "#46039f"
            ],
            [
             0.2222222222222222,
             "#7201a8"
            ],
            [
             0.3333333333333333,
             "#9c179e"
            ],
            [
             0.4444444444444444,
             "#bd3786"
            ],
            [
             0.5555555555555556,
             "#d8576b"
            ],
            [
             0.6666666666666666,
             "#ed7953"
            ],
            [
             0.7777777777777778,
             "#fb9f3a"
            ],
            [
             0.8888888888888888,
             "#fdca26"
            ],
            [
             1,
             "#f0f921"
            ]
           ]
          },
          "colorway": [
           "#636efa",
           "#EF553B",
           "#00cc96",
           "#ab63fa",
           "#FFA15A",
           "#19d3f3",
           "#FF6692",
           "#B6E880",
           "#FF97FF",
           "#FECB52"
          ],
          "font": {
           "color": "#2a3f5f"
          },
          "geo": {
           "bgcolor": "white",
           "lakecolor": "white",
           "landcolor": "#E5ECF6",
           "showlakes": true,
           "showland": true,
           "subunitcolor": "white"
          },
          "hoverlabel": {
           "align": "left"
          },
          "hovermode": "closest",
          "mapbox": {
           "style": "light"
          },
          "paper_bgcolor": "white",
          "plot_bgcolor": "#E5ECF6",
          "polar": {
           "angularaxis": {
            "gridcolor": "white",
            "linecolor": "white",
            "ticks": ""
           },
           "bgcolor": "#E5ECF6",
           "radialaxis": {
            "gridcolor": "white",
            "linecolor": "white",
            "ticks": ""
           }
          },
          "scene": {
           "xaxis": {
            "backgroundcolor": "#E5ECF6",
            "gridcolor": "white",
            "gridwidth": 2,
            "linecolor": "white",
            "showbackground": true,
            "ticks": "",
            "zerolinecolor": "white"
           },
           "yaxis": {
            "backgroundcolor": "#E5ECF6",
            "gridcolor": "white",
            "gridwidth": 2,
            "linecolor": "white",
            "showbackground": true,
            "ticks": "",
            "zerolinecolor": "white"
           },
           "zaxis": {
            "backgroundcolor": "#E5ECF6",
            "gridcolor": "white",
            "gridwidth": 2,
            "linecolor": "white",
            "showbackground": true,
            "ticks": "",
            "zerolinecolor": "white"
           }
          },
          "shapedefaults": {
           "line": {
            "color": "#2a3f5f"
           }
          },
          "ternary": {
           "aaxis": {
            "gridcolor": "white",
            "linecolor": "white",
            "ticks": ""
           },
           "baxis": {
            "gridcolor": "white",
            "linecolor": "white",
            "ticks": ""
           },
           "bgcolor": "#E5ECF6",
           "caxis": {
            "gridcolor": "white",
            "linecolor": "white",
            "ticks": ""
           }
          },
          "title": {
           "x": 0.05
          },
          "xaxis": {
           "automargin": true,
           "gridcolor": "white",
           "linecolor": "white",
           "ticks": "",
           "title": {
            "standoff": 15
           },
           "zerolinecolor": "white",
           "zerolinewidth": 2
          },
          "yaxis": {
           "automargin": true,
           "gridcolor": "white",
           "linecolor": "white",
           "ticks": "",
           "title": {
            "standoff": 15
           },
           "zerolinecolor": "white",
           "zerolinewidth": 2
          }
         }
        },
        "title": {
         "text": "기간에 따른 층수별 가격변화와 거래량"
        },
        "xaxis": {
         "anchor": "y",
         "domain": [
          0,
          1
         ],
         "title": {
          "text": "기간"
         }
        },
        "yaxis": {
         "anchor": "x",
         "domain": [
          0,
          1
         ],
         "title": {
          "text": "mean"
         }
        }
       }
      },
      "text/html": [
       "<div>                            <div id=\"3be4e1fb-631e-44a9-9a44-e3147102d692\" class=\"plotly-graph-div\" style=\"height:525px; width:100%;\"></div>            <script type=\"text/javascript\">                require([\"plotly\"], function(Plotly) {                    window.PLOTLYENV=window.PLOTLYENV || {};                                    if (document.getElementById(\"3be4e1fb-631e-44a9-9a44-e3147102d692\")) {                    Plotly.newPlot(                        \"3be4e1fb-631e-44a9-9a44-e3147102d692\",                        [{\"hovertemplate\": \"\\uce35\\uad6c\\ubd84=\\uc800\\uce35<br>\\uae30\\uac04=%{x}<br>mean=%{y}<br>count=%{marker.size}<extra></extra>\", \"legendgroup\": \"\\uc800\\uce35\", \"marker\": {\"color\": \"#636efa\", \"size\": [5, 28, 29, 41, 43, 9, 33, 24, 33, 39, 30, 50, 11, 58, 49, 34, 31, 26, 42, 9, 33, 27, 40, 34, 30, 46, 10, 25, 35, 35, 36, 36, 19, 2, 2, 1, 2, 17, 27, 33, 9, 38, 33, 43, 29, 35, 48, 12, 34, 41, 39, 38, 28, 78, 11, 35, 34, 37, 54, 34, 37, 12, 39, 36, 37, 37, 24, 71, 21, 38, 44, 36, 26, 45, 60, 10, 52, 49, 39, 43, 42, 73, 11, 41, 46, 40, 63, 39, 65, 15, 46, 51, 52, 51, 53, 49, 13, 58, 45, 63, 52, 51, 74, 14, 120, 52, 58, 41, 53, 79, 10, 52, 58, 71, 53, 57, 67, 22, 67, 72, 91, 65, 75, 75, 7, 53, 78, 69, 70, 85, 100, 13, 62, 66, 117, 75, 91, 112, 10, 77, 78, 70, 74, 87, 115, 15, 74, 82, 88, 86, 90, 109, 29, 99, 95, 74, 95, 102, 106, 25, 88, 85, 76, 86, 168, 152, 25, 120, 166, 127, 105, 127, 211, 49, 159, 129, 125, 142, 155, 272, 44, 170, 174, 130, 138, 147, 257, 41, 165, 131, 125, 142, 146, 233, 32, 163, 144, 106, 101, 134, 216, 50, 151, 120, 127, 120, 130, 229, 49, 139, 151, 132, 83, 76, 85, 21, 122, 126, 90, 93, 98, 189, 27, 126, 107, 82, 137, 94, 161, 20, 105, 104, 97, 92, 102, 192, 31, 107, 116, 116, 121, 99, 187, 34, 140, 105, 112, 106, 112, 186, 38, 110, 136, 93, 10, 2, 5, 8, 100, 92, 135, 132, 163, 240, 49, 205, 160, 153, 158, 166, 316, 60, 191, 150, 176, 247, 194, 246, 63, 237, 165, 257, 146, 182, 334, 64, 200, 220, 177, 166, 195, 329, 73, 201, 163, 164, 158, 199, 282, 68, 193, 176, 160, 175, 190, 313, 66, 179, 188, 166, 161, 189, 337, 61, 192, 184, 170, 148, 200, 304, 74, 199, 175, 188, 150, 163, 277, 47, 162, 162, 153, 141, 140, 287, 65, 149, 123, 157, 112, 109, 202, 31, 126, 108, 121, 89, 146, 149, 31, 102, 58, 79, 56, 38, 70, 9, 35, 56, 23, 32, 71, 38, 7, 65, 21], \"sizemode\": \"area\", \"sizeref\": 0.8425, \"symbol\": \"circle\"}, \"mode\": \"markers\", \"name\": \"\\uc800\\uce35\", \"showlegend\": true, \"type\": \"scattergl\", \"x\": [\"2019-01-01T00:00:00\", \"2019-01-02T00:00:00\", \"2019-01-03T00:00:00\", \"2019-01-04T00:00:00\", \"2019-01-05T00:00:00\", \"2019-01-06T00:00:00\", \"2019-01-07T00:00:00\", \"2019-01-08T00:00:00\", \"2019-01-09T00:00:00\", \"2019-01-10T00:00:00\", \"2019-01-11T00:00:00\", \"2019-01-12T00:00:00\", \"2019-01-13T00:00:00\", \"2019-01-14T00:00:00\", \"2019-01-15T00:00:00\", \"2019-01-16T00:00:00\", \"2019-01-17T00:00:00\", \"2019-01-18T00:00:00\", \"2019-01-19T00:00:00\", \"2019-01-20T00:00:00\", \"2019-01-21T00:00:00\", \"2019-01-22T00:00:00\", \"2019-01-23T00:00:00\", \"2019-01-24T00:00:00\", \"2019-01-25T00:00:00\", \"2019-01-26T00:00:00\", \"2019-01-27T00:00:00\", \"2019-01-28T00:00:00\", \"2019-01-29T00:00:00\", \"2019-01-30T00:00:00\", \"2019-01-31T00:00:00\", \"2019-02-01T00:00:00\", \"2019-02-02T00:00:00\", \"2019-02-03T00:00:00\", \"2019-02-04T00:00:00\", \"2019-02-05T00:00:00\", \"2019-02-06T00:00:00\", \"2019-02-07T00:00:00\", \"2019-02-08T00:00:00\", \"2019-02-09T00:00:00\", \"2019-02-10T00:00:00\", \"2019-02-11T00:00:00\", \"2019-02-12T00:00:00\", \"2019-02-13T00:00:00\", \"2019-02-14T00:00:00\", \"2019-02-15T00:00:00\", \"2019-02-16T00:00:00\", \"2019-02-17T00:00:00\", \"2019-02-18T00:00:00\", \"2019-02-19T00:00:00\", \"2019-02-20T00:00:00\", \"2019-02-21T00:00:00\", \"2019-02-22T00:00:00\", \"2019-02-23T00:00:00\", \"2019-02-24T00:00:00\", \"2019-02-25T00:00:00\", \"2019-02-26T00:00:00\", \"2019-02-27T00:00:00\", \"2019-02-28T00:00:00\", \"2019-03-01T00:00:00\", \"2019-03-02T00:00:00\", \"2019-03-03T00:00:00\", \"2019-03-04T00:00:00\", \"2019-03-05T00:00:00\", \"2019-03-06T00:00:00\", \"2019-03-07T00:00:00\", \"2019-03-08T00:00:00\", \"2019-03-09T00:00:00\", \"2019-03-10T00:00:00\", \"2019-03-11T00:00:00\", \"2019-03-12T00:00:00\", \"2019-03-13T00:00:00\", \"2019-03-14T00:00:00\", \"2019-03-15T00:00:00\", \"2019-03-16T00:00:00\", \"2019-03-17T00:00:00\", \"2019-03-18T00:00:00\", \"2019-03-19T00:00:00\", \"2019-03-20T00:00:00\", \"2019-03-21T00:00:00\", \"2019-03-22T00:00:00\", \"2019-03-23T00:00:00\", \"2019-03-24T00:00:00\", \"2019-03-25T00:00:00\", \"2019-03-26T00:00:00\", \"2019-03-27T00:00:00\", \"2019-03-28T00:00:00\", \"2019-03-29T00:00:00\", \"2019-03-30T00:00:00\", \"2019-03-31T00:00:00\", \"2019-04-01T00:00:00\", \"2019-04-02T00:00:00\", \"2019-04-03T00:00:00\", \"2019-04-04T00:00:00\", \"2019-04-05T00:00:00\", \"2019-04-06T00:00:00\", \"2019-04-07T00:00:00\", \"2019-04-08T00:00:00\", \"2019-04-09T00:00:00\", \"2019-04-10T00:00:00\", \"2019-04-11T00:00:00\", \"2019-04-12T00:00:00\", \"2019-04-13T00:00:00\", \"2019-04-14T00:00:00\", \"2019-04-15T00:00:00\", \"2019-04-16T00:00:00\", \"2019-04-17T00:00:00\", \"2019-04-18T00:00:00\", \"2019-04-19T00:00:00\", \"2019-04-20T00:00:00\", \"2019-04-21T00:00:00\", \"2019-04-22T00:00:00\", \"2019-04-23T00:00:00\", \"2019-04-24T00:00:00\", \"2019-04-25T00:00:00\", \"2019-04-26T00:00:00\", \"2019-04-27T00:00:00\", \"2019-04-28T00:00:00\", \"2019-04-29T00:00:00\", \"2019-04-30T00:00:00\", \"2019-05-01T00:00:00\", \"2019-05-02T00:00:00\", \"2019-05-03T00:00:00\", \"2019-05-04T00:00:00\", \"2019-05-05T00:00:00\", \"2019-05-06T00:00:00\", \"2019-05-07T00:00:00\", \"2019-05-08T00:00:00\", \"2019-05-09T00:00:00\", \"2019-05-10T00:00:00\", \"2019-05-11T00:00:00\", \"2019-05-12T00:00:00\", \"2019-05-13T00:00:00\", \"2019-05-14T00:00:00\", \"2019-05-15T00:00:00\", \"2019-05-16T00:00:00\", \"2019-05-17T00:00:00\", \"2019-05-18T00:00:00\", \"2019-05-19T00:00:00\", \"2019-05-20T00:00:00\", \"2019-05-21T00:00:00\", \"2019-05-22T00:00:00\", \"2019-05-23T00:00:00\", \"2019-05-24T00:00:00\", \"2019-05-25T00:00:00\", \"2019-05-26T00:00:00\", \"2019-05-27T00:00:00\", \"2019-05-28T00:00:00\", \"2019-05-29T00:00:00\", \"2019-05-30T00:00:00\", \"2019-05-31T00:00:00\", \"2019-06-01T00:00:00\", \"2019-06-02T00:00:00\", \"2019-06-03T00:00:00\", \"2019-06-04T00:00:00\", \"2019-06-05T00:00:00\", \"2019-06-06T00:00:00\", \"2019-06-07T00:00:00\", \"2019-06-08T00:00:00\", \"2019-06-09T00:00:00\", \"2019-06-10T00:00:00\", \"2019-06-11T00:00:00\", \"2019-06-12T00:00:00\", \"2019-06-13T00:00:00\", \"2019-06-14T00:00:00\", \"2019-06-15T00:00:00\", \"2019-06-16T00:00:00\", \"2019-06-17T00:00:00\", \"2019-06-18T00:00:00\", \"2019-06-19T00:00:00\", \"2019-06-20T00:00:00\", \"2019-06-21T00:00:00\", \"2019-06-22T00:00:00\", \"2019-06-23T00:00:00\", \"2019-06-24T00:00:00\", \"2019-06-25T00:00:00\", \"2019-06-26T00:00:00\", \"2019-06-27T00:00:00\", \"2019-06-28T00:00:00\", \"2019-06-29T00:00:00\", \"2019-06-30T00:00:00\", \"2019-07-01T00:00:00\", \"2019-07-02T00:00:00\", \"2019-07-03T00:00:00\", \"2019-07-04T00:00:00\", \"2019-07-05T00:00:00\", \"2019-07-06T00:00:00\", \"2019-07-07T00:00:00\", \"2019-07-08T00:00:00\", \"2019-07-09T00:00:00\", \"2019-07-10T00:00:00\", \"2019-07-11T00:00:00\", \"2019-07-12T00:00:00\", \"2019-07-13T00:00:00\", \"2019-07-14T00:00:00\", \"2019-07-15T00:00:00\", \"2019-07-16T00:00:00\", \"2019-07-17T00:00:00\", \"2019-07-18T00:00:00\", \"2019-07-19T00:00:00\", \"2019-07-20T00:00:00\", \"2019-07-21T00:00:00\", \"2019-07-22T00:00:00\", \"2019-07-23T00:00:00\", \"2019-07-24T00:00:00\", \"2019-07-25T00:00:00\", \"2019-07-26T00:00:00\", \"2019-07-27T00:00:00\", \"2019-07-28T00:00:00\", \"2019-07-29T00:00:00\", \"2019-07-30T00:00:00\", \"2019-07-31T00:00:00\", \"2019-08-01T00:00:00\", \"2019-08-02T00:00:00\", \"2019-08-03T00:00:00\", \"2019-08-04T00:00:00\", \"2019-08-05T00:00:00\", \"2019-08-06T00:00:00\", \"2019-08-07T00:00:00\", \"2019-08-08T00:00:00\", \"2019-08-09T00:00:00\", \"2019-08-10T00:00:00\", \"2019-08-11T00:00:00\", \"2019-08-12T00:00:00\", \"2019-08-13T00:00:00\", \"2019-08-14T00:00:00\", \"2019-08-15T00:00:00\", \"2019-08-16T00:00:00\", \"2019-08-17T00:00:00\", \"2019-08-18T00:00:00\", \"2019-08-19T00:00:00\", \"2019-08-20T00:00:00\", \"2019-08-21T00:00:00\", \"2019-08-22T00:00:00\", \"2019-08-23T00:00:00\", \"2019-08-24T00:00:00\", \"2019-08-25T00:00:00\", \"2019-08-26T00:00:00\", \"2019-08-27T00:00:00\", \"2019-08-28T00:00:00\", \"2019-08-29T00:00:00\", \"2019-08-30T00:00:00\", \"2019-08-31T00:00:00\", \"2019-09-01T00:00:00\", \"2019-09-02T00:00:00\", \"2019-09-03T00:00:00\", \"2019-09-04T00:00:00\", \"2019-09-05T00:00:00\", \"2019-09-06T00:00:00\", \"2019-09-07T00:00:00\", \"2019-09-08T00:00:00\", \"2019-09-09T00:00:00\", \"2019-09-10T00:00:00\", \"2019-09-11T00:00:00\", \"2019-09-12T00:00:00\", \"2019-09-13T00:00:00\", \"2019-09-14T00:00:00\", \"2019-09-15T00:00:00\", \"2019-09-16T00:00:00\", \"2019-09-17T00:00:00\", \"2019-09-18T00:00:00\", \"2019-09-19T00:00:00\", \"2019-09-20T00:00:00\", \"2019-09-21T00:00:00\", \"2019-09-22T00:00:00\", \"2019-09-23T00:00:00\", \"2019-09-24T00:00:00\", \"2019-09-25T00:00:00\", \"2019-09-26T00:00:00\", \"2019-09-27T00:00:00\", \"2019-09-28T00:00:00\", \"2019-09-29T00:00:00\", \"2019-09-30T00:00:00\", \"2019-10-01T00:00:00\", \"2019-10-02T00:00:00\", \"2019-10-03T00:00:00\", \"2019-10-04T00:00:00\", \"2019-10-05T00:00:00\", \"2019-10-06T00:00:00\", \"2019-10-07T00:00:00\", \"2019-10-08T00:00:00\", \"2019-10-09T00:00:00\", \"2019-10-10T00:00:00\", \"2019-10-11T00:00:00\", \"2019-10-12T00:00:00\", \"2019-10-13T00:00:00\", \"2019-10-14T00:00:00\", \"2019-10-15T00:00:00\", \"2019-10-16T00:00:00\", \"2019-10-17T00:00:00\", \"2019-10-18T00:00:00\", \"2019-10-19T00:00:00\", \"2019-10-20T00:00:00\", \"2019-10-21T00:00:00\", \"2019-10-22T00:00:00\", \"2019-10-23T00:00:00\", \"2019-10-24T00:00:00\", \"2019-10-25T00:00:00\", \"2019-10-26T00:00:00\", \"2019-10-27T00:00:00\", \"2019-10-28T00:00:00\", \"2019-10-29T00:00:00\", \"2019-10-30T00:00:00\", \"2019-10-31T00:00:00\", \"2019-11-01T00:00:00\", \"2019-11-02T00:00:00\", \"2019-11-03T00:00:00\", \"2019-11-04T00:00:00\", \"2019-11-05T00:00:00\", \"2019-11-06T00:00:00\", \"2019-11-07T00:00:00\", \"2019-11-08T00:00:00\", \"2019-11-09T00:00:00\", \"2019-11-10T00:00:00\", \"2019-11-11T00:00:00\", \"2019-11-12T00:00:00\", \"2019-11-13T00:00:00\", \"2019-11-14T00:00:00\", \"2019-11-15T00:00:00\", \"2019-11-16T00:00:00\", \"2019-11-17T00:00:00\", \"2019-11-18T00:00:00\", \"2019-11-19T00:00:00\", \"2019-11-20T00:00:00\", \"2019-11-21T00:00:00\", \"2019-11-22T00:00:00\", \"2019-11-23T00:00:00\", \"2019-11-24T00:00:00\", \"2019-11-25T00:00:00\", \"2019-11-26T00:00:00\", \"2019-11-27T00:00:00\", \"2019-11-28T00:00:00\", \"2019-11-29T00:00:00\", \"2019-11-30T00:00:00\", \"2019-12-01T00:00:00\", \"2019-12-02T00:00:00\", \"2019-12-03T00:00:00\", \"2019-12-04T00:00:00\", \"2019-12-05T00:00:00\", \"2019-12-06T00:00:00\", \"2019-12-07T00:00:00\", \"2019-12-08T00:00:00\", \"2019-12-09T00:00:00\", \"2019-12-10T00:00:00\", \"2019-12-11T00:00:00\", \"2019-12-12T00:00:00\", \"2019-12-13T00:00:00\", \"2019-12-14T00:00:00\", \"2019-12-15T00:00:00\", \"2019-12-16T00:00:00\", \"2019-12-17T00:00:00\", \"2019-12-18T00:00:00\", \"2019-12-19T00:00:00\", \"2019-12-20T00:00:00\", \"2019-12-21T00:00:00\", \"2019-12-22T00:00:00\", \"2019-12-23T00:00:00\", \"2019-12-24T00:00:00\", \"2019-12-25T00:00:00\", \"2019-12-26T00:00:00\", \"2019-12-27T00:00:00\", \"2019-12-28T00:00:00\", \"2019-12-29T00:00:00\", \"2019-12-30T00:00:00\", \"2019-12-31T00:00:00\"], \"xaxis\": \"x\", \"y\": [58940.0, 50564.28571428572, 58589.65517241379, 65980.48780487805, 68498.83720930232, 56177.77777777778, 81877.27272727272, 66295.83333333333, 52803.030303030304, 76508.46153846153, 47515.0, 53118.8, 52045.454545454544, 44095.68965517241, 76996.9387755102, 55129.117647058825, 62235.48387096774, 53009.61538461538, 58891.666666666664, 62133.333333333336, 73750.0303030303, 50514.81481481482, 52645.0, 83982.35294117648, 47836.666666666664, 54746.739130434784, 60400.0, 56308.0, 52733.42857142857, 49854.28571428572, 78755.55555555556, 47138.88888888889, 57800.0, 98000.0, 38150.0, 28500.0, 44950.0, 86164.70588235294, 80577.77777777778, 54433.333333333336, 57816.666666666664, 63135.52631578947, 68674.24242424243, 50882.558139534885, 61139.65517241379, 61682.22857142857, 58004.166666666664, 51283.333333333336, 60988.470588235294, 52275.12195121951, 59536.794871794875, 63500.0, 54832.142857142855, 58013.46153846154, 54609.09090909091, 66231.42857142857, 62551.470588235294, 58283.78378378379, 65058.333333333336, 52300.0, 42878.37837837838, 56704.166666666664, 65802.56410256411, 56981.944444444445, 46240.54054054054, 70100.0, 49666.666666666664, 63539.718309859156, 75633.33333333333, 63534.21052631579, 83632.95454545454, 62533.055555555555, 65523.07692307692, 81958.88888888889, 64556.333333333336, 71210.0, 63047.11538461538, 58110.816326530614, 83352.56410256411, 58643.023255813954, 70138.21428571429, 69006.8493150685, 60700.0, 91867.0731707317, 68661.89130434782, 81705.1, 55146.42857142857, 73424.35897435897, 68774.61538461539, 57580.0, 67105.39130434782, 48102.94117647059, 70466.34615384616, 74529.41176470589, 71041.50943396226, 55515.30612244898, 70707.69230769231, 64955.55172413793, 78360.95555555556, 63898.380952380954, 81795.19230769231, 71741.17647058824, 66517.56756756757, 95957.0, 53995.525, 73302.88461538461, 82201.72413793103, 106232.9268292683, 68268.8679245283, 70503.79746835443, 75210.0, 62379.807692307695, 72940.68965517242, 80536.9014084507, 72944.3396226415, 81304.56140350878, 74665.70149253731, 70752.27272727272, 87352.23880597015, 90595.83333333333, 75301.0989010989, 68623.07692307692, 80592.66666666667, 86347.33333333333, 66628.57142857143, 82368.8679245283, 97072.30769230769, 81529.71014492754, 80527.28571428571, 76335.17647058824, 74441.5, 112488.46153846153, 81818.54838709677, 86066.66666666667, 79476.92307692308, 92542.66666666667, 86345.27472527472, 81533.48214285714, 81060.0, 89904.54545454546, 87551.92307692308, 94578.0, 74610.6081081081, 97511.49425287357, 87517.39130434782, 137233.33333333334, 83028.37837837837, 98474.14634146342, 86729.09090909091, 85143.6046511628, 81321.38888888889, 80022.47706422018, 74258.62068965517, 80246.9696969697, 77406.73684210527, 86772.95945945945, 82220.0, 72080.29411764706, 75457.07547169812, 80060.0, 79701.59090909091, 79502.0, 81858.55263157895, 84398.69767441861, 68953.27380952382, 87764.80263157895, 97570.0, 87517.5, 77618.97590361445, 85181.74803149606, 91482.14285714286, 90087.51181102362, 83963.79146919432, 98166.63265306123, 86674.52830188679, 80460.46511627907, 80614.48, 91151.76056338029, 85785.10322580645, 83185.29044117648, 90222.72727272728, 82892.35294117648, 88465.5172413793, 91298.37692307692, 84325.88405797101, 78100.0, 79152.56809338521, 88959.75609756098, 79706.9696969697, 85056.41221374046, 82055.04, 90605.62676056338, 86678.14383561644, 82303.64806866953, 96575.0, 84506.0, 80193.40277777778, 73695.75471698113, 79559.88118811882, 82313.58208955223, 82539.53703703704, 92428.0, 73641.39072847682, 85591.80833333333, 77411.02362204724, 81240.83333333333, 81101.53846153847, 76632.48034934497, 86992.85714285714, 77292.08633093526, 79530.7284768212, 89737.86363636363, 71865.95180722892, 101137.43421052632, 79926.4705882353, 81369.04761904762, 86193.85245901639, 83375.0, 83166.66666666667, 76950.5376344086, 71138.82653061225, 71741.85185185185, 77001.85185185185, 73667.30158730158, 70334.10280373832, 72070.12195121951, 67250.36496350366, 69214.36170212766, 70330.80124223602, 68770.0, 79707.14285714286, 71266.15384615384, 65602.57731958762, 71701.95652173914, 72887.35294117648, 75308.80729166667, 73219.35483870968, 80703.08411214953, 67611.63793103448, 80514.43965517242, 63702.89256198347, 77748.48484848485, 82024.33155080213, 74004.41176470589, 74113.92857142857, 81158.59047619048, 75616.42857142857, 82176.17924528301, 79781.73214285714, 88988.70967741935, 78244.73684210527, 77750.0, 89276.83088235294, 91014.19354838709, 109245.0, 74000.0, 90700.0, 59737.5, 74698.4, 86289.23913043478, 84671.11111111111, 83154.92424242424, 85517.94478527608, 72164.51666666666, 95678.57142857143, 80824.45853658537, 74488.825, 87800.02614379085, 78339.92405063291, 78880.52409638555, 74213.05379746835, 78721.66666666667, 77153.97905759163, 73735.4, 85428.125, 82500.94736842105, 83092.69072164949, 82907.9268292683, 81734.92063492064, 82103.16455696203, 81316.77575757576, 80778.35408560312, 85305.2602739726, 79832.96703296703, 82622.15568862275, 91498.03125, 76686.22, 76578.04545454546, 78911.54802259887, 78789.63855421687, 82990.97435897436, 79600.0, 81753.93150684932, 72921.83084577114, 77598.67484662577, 83786.76829268293, 90614.35443037975, 77871.15075376884, 79599.46808510639, 87146.82352941176, 85502.79792746114, 77335.9375, 84343.90625, 76789.37142857142, 75746.68421052632, 79836.90095846646, 88831.81818181818, 90432.43016759776, 76392.81914893616, 80185.3313253012, 81899.50310559006, 76507.93121693122, 76265.72106824926, 73638.52459016393, 78990.58333333333, 78212.5, 81842.35294117648, 85388.77702702703, 84129.5, 79502.30263157895, 87291.08108108108, 79845.97989949748, 79171.31428571428, 70091.26595744681, 78834.6, 72876.01226993866, 79799.20216606498, 80568.08510638298, 79079.93827160494, 75435.17901234567, 75739.34640522876, 73966.91489361702, 73211.78571428571, 69989.12891986062, 76025.38461538461, 76125.8389261745, 80996.0162601626, 55495.732484076434, 67714.73214285714, 68005.9633027523, 78423.81188118811, 69983.87096774194, 67955.95238095238, 68115.18518518518, 76242.56198347108, 73167.41573033707, 57663.83561643836, 78070.60402684564, 71716.12903225806, 63834.313725490196, 56143.793103448275, 46356.962025316454, 55281.25, 56476.31578947369, 67405.42857142857, 90222.22222222222, 61925.71428571428, 49846.42857142857, 65091.30434782609, 56882.1875, 44955.633802816905, 56427.63157894737, 80914.28571428571, 55103.846153846156, 42361.90476190476], \"yaxis\": \"y\"}, {\"hovertemplate\": \"\\uce35\\uad6c\\ubd84=\\uc911\\uac04\\uce35<br>\\uae30\\uac04=%{x}<br>mean=%{y}<br>count=%{marker.size}<extra></extra>\", \"legendgroup\": \"\\uc911\\uac04\\uce35\", \"marker\": {\"color\": \"#EF553B\", \"size\": [1, 14, 12, 15, 32, 2, 29, 23, 22, 19, 22, 29, 6, 19, 34, 28, 23, 17, 33, 6, 22, 26, 20, 8, 27, 30, 3, 23, 16, 20, 14, 31, 8, 1, 1, 2, 13, 19, 34, 6, 27, 21, 19, 17, 24, 35, 7, 20, 21, 19, 21, 17, 32, 6, 28, 17, 18, 25, 29, 24, 2, 22, 23, 21, 26, 33, 50, 9, 24, 16, 26, 25, 30, 40, 6, 29, 29, 24, 22, 28, 54, 4, 41, 26, 23, 36, 34, 59, 3, 36, 32, 35, 30, 43, 40, 10, 44, 39, 38, 29, 36, 55, 3, 56, 28, 35, 27, 38, 69, 13, 30, 40, 48, 34, 51, 59, 16, 36, 38, 62, 47, 52, 60, 5, 43, 56, 35, 46, 55, 67, 15, 63, 50, 60, 61, 65, 78, 17, 51, 60, 59, 53, 50, 101, 13, 67, 71, 60, 76, 64, 107, 17, 75, 61, 64, 99, 118, 84, 14, 93, 61, 81, 54, 84, 129, 23, 110, 179, 95, 96, 92, 179, 26, 132, 126, 94, 91, 108, 194, 36, 104, 112, 107, 92, 127, 193, 24, 146, 99, 119, 120, 122, 187, 29, 114, 84, 95, 83, 104, 189, 36, 91, 102, 119, 116, 101, 203, 36, 93, 108, 106, 61, 60, 82, 16, 106, 78, 80, 82, 89, 133, 13, 91, 79, 64, 85, 61, 116, 22, 94, 80, 76, 80, 84, 149, 30, 104, 73, 86, 80, 85, 168, 24, 107, 83, 82, 82, 69, 133, 31, 86, 89, 67, 8, 3, 6, 15, 61, 91, 91, 87, 113, 202, 45, 130, 139, 123, 114, 111, 245, 36, 136, 129, 120, 171, 132, 214, 33, 149, 91, 253, 103, 155, 304, 53, 149, 142, 119, 133, 148, 262, 41, 160, 134, 132, 119, 120, 229, 45, 126, 107, 132, 147, 135, 219, 47, 149, 145, 137, 124, 140, 239, 52, 167, 142, 148, 110, 138, 231, 38, 135, 133, 124, 97, 125, 201, 24, 113, 117, 96, 106, 85, 215, 32, 103, 78, 119, 65, 72, 130, 24, 89, 76, 67, 58, 99, 137, 28, 63, 43, 31, 32, 27, 55, 2, 50, 54, 10, 28, 19, 29, 5, 19, 21], \"sizemode\": \"area\", \"sizeref\": 0.8425, \"symbol\": \"circle\"}, \"mode\": \"markers\", \"name\": \"\\uc911\\uac04\\uce35\", \"showlegend\": true, \"type\": \"scattergl\", \"x\": [\"2019-01-01T00:00:00\", \"2019-01-02T00:00:00\", \"2019-01-03T00:00:00\", \"2019-01-04T00:00:00\", \"2019-01-05T00:00:00\", \"2019-01-06T00:00:00\", \"2019-01-07T00:00:00\", \"2019-01-08T00:00:00\", \"2019-01-09T00:00:00\", \"2019-01-10T00:00:00\", \"2019-01-11T00:00:00\", \"2019-01-12T00:00:00\", \"2019-01-13T00:00:00\", \"2019-01-14T00:00:00\", \"2019-01-15T00:00:00\", \"2019-01-16T00:00:00\", \"2019-01-17T00:00:00\", \"2019-01-18T00:00:00\", \"2019-01-19T00:00:00\", \"2019-01-20T00:00:00\", \"2019-01-21T00:00:00\", \"2019-01-22T00:00:00\", \"2019-01-23T00:00:00\", \"2019-01-24T00:00:00\", \"2019-01-25T00:00:00\", \"2019-01-26T00:00:00\", \"2019-01-27T00:00:00\", \"2019-01-28T00:00:00\", \"2019-01-29T00:00:00\", \"2019-01-30T00:00:00\", \"2019-01-31T00:00:00\", \"2019-02-01T00:00:00\", \"2019-02-02T00:00:00\", \"2019-02-03T00:00:00\", \"2019-02-05T00:00:00\", \"2019-02-06T00:00:00\", \"2019-02-07T00:00:00\", \"2019-02-08T00:00:00\", \"2019-02-09T00:00:00\", \"2019-02-10T00:00:00\", \"2019-02-11T00:00:00\", \"2019-02-12T00:00:00\", \"2019-02-13T00:00:00\", \"2019-02-14T00:00:00\", \"2019-02-15T00:00:00\", \"2019-02-16T00:00:00\", \"2019-02-17T00:00:00\", \"2019-02-18T00:00:00\", \"2019-02-19T00:00:00\", \"2019-02-20T00:00:00\", \"2019-02-21T00:00:00\", \"2019-02-22T00:00:00\", \"2019-02-23T00:00:00\", \"2019-02-24T00:00:00\", \"2019-02-25T00:00:00\", \"2019-02-26T00:00:00\", \"2019-02-27T00:00:00\", \"2019-02-28T00:00:00\", \"2019-03-01T00:00:00\", \"2019-03-02T00:00:00\", \"2019-03-03T00:00:00\", \"2019-03-04T00:00:00\", \"2019-03-05T00:00:00\", \"2019-03-06T00:00:00\", \"2019-03-07T00:00:00\", \"2019-03-08T00:00:00\", \"2019-03-09T00:00:00\", \"2019-03-10T00:00:00\", \"2019-03-11T00:00:00\", \"2019-03-12T00:00:00\", \"2019-03-13T00:00:00\", \"2019-03-14T00:00:00\", \"2019-03-15T00:00:00\", \"2019-03-16T00:00:00\", \"2019-03-17T00:00:00\", \"2019-03-18T00:00:00\", \"2019-03-19T00:00:00\", \"2019-03-20T00:00:00\", \"2019-03-21T00:00:00\", \"2019-03-22T00:00:00\", \"2019-03-23T00:00:00\", \"2019-03-24T00:00:00\", \"2019-03-25T00:00:00\", \"2019-03-26T00:00:00\", \"2019-03-27T00:00:00\", \"2019-03-28T00:00:00\", \"2019-03-29T00:00:00\", \"2019-03-30T00:00:00\", \"2019-03-31T00:00:00\", \"2019-04-01T00:00:00\", \"2019-04-02T00:00:00\", \"2019-04-03T00:00:00\", \"2019-04-04T00:00:00\", \"2019-04-05T00:00:00\", \"2019-04-06T00:00:00\", \"2019-04-07T00:00:00\", \"2019-04-08T00:00:00\", \"2019-04-09T00:00:00\", \"2019-04-10T00:00:00\", \"2019-04-11T00:00:00\", \"2019-04-12T00:00:00\", \"2019-04-13T00:00:00\", \"2019-04-14T00:00:00\", \"2019-04-15T00:00:00\", \"2019-04-16T00:00:00\", \"2019-04-17T00:00:00\", \"2019-04-18T00:00:00\", \"2019-04-19T00:00:00\", \"2019-04-20T00:00:00\", \"2019-04-21T00:00:00\", \"2019-04-22T00:00:00\", \"2019-04-23T00:00:00\", \"2019-04-24T00:00:00\", \"2019-04-25T00:00:00\", \"2019-04-26T00:00:00\", \"2019-04-27T00:00:00\", \"2019-04-28T00:00:00\", \"2019-04-29T00:00:00\", \"2019-04-30T00:00:00\", \"2019-05-01T00:00:00\", \"2019-05-02T00:00:00\", \"2019-05-03T00:00:00\", \"2019-05-04T00:00:00\", \"2019-05-05T00:00:00\", \"2019-05-06T00:00:00\", \"2019-05-07T00:00:00\", \"2019-05-08T00:00:00\", \"2019-05-09T00:00:00\", \"2019-05-10T00:00:00\", \"2019-05-11T00:00:00\", \"2019-05-12T00:00:00\", \"2019-05-13T00:00:00\", \"2019-05-14T00:00:00\", \"2019-05-15T00:00:00\", \"2019-05-16T00:00:00\", \"2019-05-17T00:00:00\", \"2019-05-18T00:00:00\", \"2019-05-19T00:00:00\", \"2019-05-20T00:00:00\", \"2019-05-21T00:00:00\", \"2019-05-22T00:00:00\", \"2019-05-23T00:00:00\", \"2019-05-24T00:00:00\", \"2019-05-25T00:00:00\", \"2019-05-26T00:00:00\", \"2019-05-27T00:00:00\", \"2019-05-28T00:00:00\", \"2019-05-29T00:00:00\", \"2019-05-30T00:00:00\", \"2019-05-31T00:00:00\", \"2019-06-01T00:00:00\", \"2019-06-02T00:00:00\", \"2019-06-03T00:00:00\", \"2019-06-04T00:00:00\", \"2019-06-05T00:00:00\", \"2019-06-06T00:00:00\", \"2019-06-07T00:00:00\", \"2019-06-08T00:00:00\", \"2019-06-09T00:00:00\", \"2019-06-10T00:00:00\", \"2019-06-11T00:00:00\", \"2019-06-12T00:00:00\", \"2019-06-13T00:00:00\", \"2019-06-14T00:00:00\", \"2019-06-15T00:00:00\", \"2019-06-16T00:00:00\", \"2019-06-17T00:00:00\", \"2019-06-18T00:00:00\", \"2019-06-19T00:00:00\", \"2019-06-20T00:00:00\", \"2019-06-21T00:00:00\", \"2019-06-22T00:00:00\", \"2019-06-23T00:00:00\", \"2019-06-24T00:00:00\", \"2019-06-25T00:00:00\", \"2019-06-26T00:00:00\", \"2019-06-27T00:00:00\", \"2019-06-28T00:00:00\", \"2019-06-29T00:00:00\", \"2019-06-30T00:00:00\", \"2019-07-01T00:00:00\", \"2019-07-02T00:00:00\", \"2019-07-03T00:00:00\", \"2019-07-04T00:00:00\", \"2019-07-05T00:00:00\", \"2019-07-06T00:00:00\", \"2019-07-07T00:00:00\", \"2019-07-08T00:00:00\", \"2019-07-09T00:00:00\", \"2019-07-10T00:00:00\", \"2019-07-11T00:00:00\", \"2019-07-12T00:00:00\", \"2019-07-13T00:00:00\", \"2019-07-14T00:00:00\", \"2019-07-15T00:00:00\", \"2019-07-16T00:00:00\", \"2019-07-17T00:00:00\", \"2019-07-18T00:00:00\", \"2019-07-19T00:00:00\", \"2019-07-20T00:00:00\", \"2019-07-21T00:00:00\", \"2019-07-22T00:00:00\", \"2019-07-23T00:00:00\", \"2019-07-24T00:00:00\", \"2019-07-25T00:00:00\", \"2019-07-26T00:00:00\", \"2019-07-27T00:00:00\", \"2019-07-28T00:00:00\", \"2019-07-29T00:00:00\", \"2019-07-30T00:00:00\", \"2019-07-31T00:00:00\", \"2019-08-01T00:00:00\", \"2019-08-02T00:00:00\", \"2019-08-03T00:00:00\", \"2019-08-04T00:00:00\", \"2019-08-05T00:00:00\", \"2019-08-06T00:00:00\", \"2019-08-07T00:00:00\", \"2019-08-08T00:00:00\", \"2019-08-09T00:00:00\", \"2019-08-10T00:00:00\", \"2019-08-11T00:00:00\", \"2019-08-12T00:00:00\", \"2019-08-13T00:00:00\", \"2019-08-14T00:00:00\", \"2019-08-15T00:00:00\", \"2019-08-16T00:00:00\", \"2019-08-17T00:00:00\", \"2019-08-18T00:00:00\", \"2019-08-19T00:00:00\", \"2019-08-20T00:00:00\", \"2019-08-21T00:00:00\", \"2019-08-22T00:00:00\", \"2019-08-23T00:00:00\", \"2019-08-24T00:00:00\", \"2019-08-25T00:00:00\", \"2019-08-26T00:00:00\", \"2019-08-27T00:00:00\", \"2019-08-28T00:00:00\", \"2019-08-29T00:00:00\", \"2019-08-30T00:00:00\", \"2019-08-31T00:00:00\", \"2019-09-01T00:00:00\", \"2019-09-02T00:00:00\", \"2019-09-03T00:00:00\", \"2019-09-04T00:00:00\", \"2019-09-05T00:00:00\", \"2019-09-06T00:00:00\", \"2019-09-07T00:00:00\", \"2019-09-08T00:00:00\", \"2019-09-09T00:00:00\", \"2019-09-10T00:00:00\", \"2019-09-11T00:00:00\", \"2019-09-12T00:00:00\", \"2019-09-13T00:00:00\", \"2019-09-14T00:00:00\", \"2019-09-15T00:00:00\", \"2019-09-16T00:00:00\", \"2019-09-17T00:00:00\", \"2019-09-18T00:00:00\", \"2019-09-19T00:00:00\", \"2019-09-20T00:00:00\", \"2019-09-21T00:00:00\", \"2019-09-22T00:00:00\", \"2019-09-23T00:00:00\", \"2019-09-24T00:00:00\", \"2019-09-25T00:00:00\", \"2019-09-26T00:00:00\", \"2019-09-27T00:00:00\", \"2019-09-28T00:00:00\", \"2019-09-29T00:00:00\", \"2019-09-30T00:00:00\", \"2019-10-01T00:00:00\", \"2019-10-02T00:00:00\", \"2019-10-03T00:00:00\", \"2019-10-04T00:00:00\", \"2019-10-05T00:00:00\", \"2019-10-06T00:00:00\", \"2019-10-07T00:00:00\", \"2019-10-08T00:00:00\", \"2019-10-09T00:00:00\", \"2019-10-10T00:00:00\", \"2019-10-11T00:00:00\", \"2019-10-12T00:00:00\", \"2019-10-13T00:00:00\", \"2019-10-14T00:00:00\", \"2019-10-15T00:00:00\", \"2019-10-16T00:00:00\", \"2019-10-17T00:00:00\", \"2019-10-18T00:00:00\", \"2019-10-19T00:00:00\", \"2019-10-20T00:00:00\", \"2019-10-21T00:00:00\", \"2019-10-22T00:00:00\", \"2019-10-23T00:00:00\", \"2019-10-24T00:00:00\", \"2019-10-25T00:00:00\", \"2019-10-26T00:00:00\", \"2019-10-27T00:00:00\", \"2019-10-28T00:00:00\", \"2019-10-29T00:00:00\", \"2019-10-30T00:00:00\", \"2019-10-31T00:00:00\", \"2019-11-01T00:00:00\", \"2019-11-02T00:00:00\", \"2019-11-03T00:00:00\", \"2019-11-04T00:00:00\", \"2019-11-05T00:00:00\", \"2019-11-06T00:00:00\", \"2019-11-07T00:00:00\", \"2019-11-08T00:00:00\", \"2019-11-09T00:00:00\", \"2019-11-10T00:00:00\", \"2019-11-11T00:00:00\", \"2019-11-12T00:00:00\", \"2019-11-13T00:00:00\", \"2019-11-14T00:00:00\", \"2019-11-15T00:00:00\", \"2019-11-16T00:00:00\", \"2019-11-17T00:00:00\", \"2019-11-18T00:00:00\", \"2019-11-19T00:00:00\", \"2019-11-20T00:00:00\", \"2019-11-21T00:00:00\", \"2019-11-22T00:00:00\", \"2019-11-23T00:00:00\", \"2019-11-24T00:00:00\", \"2019-11-25T00:00:00\", \"2019-11-26T00:00:00\", \"2019-11-27T00:00:00\", \"2019-11-28T00:00:00\", \"2019-11-29T00:00:00\", \"2019-11-30T00:00:00\", \"2019-12-01T00:00:00\", \"2019-12-02T00:00:00\", \"2019-12-03T00:00:00\", \"2019-12-04T00:00:00\", \"2019-12-05T00:00:00\", \"2019-12-06T00:00:00\", \"2019-12-07T00:00:00\", \"2019-12-08T00:00:00\", \"2019-12-09T00:00:00\", \"2019-12-10T00:00:00\", \"2019-12-11T00:00:00\", \"2019-12-12T00:00:00\", \"2019-12-13T00:00:00\", \"2019-12-14T00:00:00\", \"2019-12-15T00:00:00\", \"2019-12-16T00:00:00\", \"2019-12-17T00:00:00\", \"2019-12-18T00:00:00\", \"2019-12-19T00:00:00\", \"2019-12-20T00:00:00\", \"2019-12-21T00:00:00\", \"2019-12-22T00:00:00\", \"2019-12-23T00:00:00\", \"2019-12-24T00:00:00\", \"2019-12-25T00:00:00\", \"2019-12-26T00:00:00\", \"2019-12-27T00:00:00\", \"2019-12-28T00:00:00\", \"2019-12-29T00:00:00\", \"2019-12-30T00:00:00\", \"2019-12-31T00:00:00\"], \"xaxis\": \"x\", \"y\": [40500.0, 51817.857142857145, 78375.0, 63943.333333333336, 55082.8125, 55800.0, 62562.06896551724, 81717.39130434782, 59731.0, 69313.15789473684, 74136.36363636363, 66962.06896551725, 46183.333333333336, 71078.94736842105, 30745.58823529412, 73400.0, 71047.82608695653, 63023.529411764706, 52696.969696969696, 77816.66666666667, 42750.0, 48378.846153846156, 50760.0, 56050.0, 60544.444444444445, 53968.333333333336, 77000.0, 60117.391304347824, 44440.625, 57487.5, 61235.71428571428, 58016.12903225807, 60631.25, 87500.0, 38000.0, 72250.0, 53376.92307692308, 45028.94736842105, 52729.41176470588, 62650.0, 50257.40740740741, 58876.19047619047, 52947.36842105263, 57338.23529411765, 66097.91666666667, 54074.28571428572, 54328.57142857143, 73419.0, 55735.71428571428, 60634.21052631579, 45571.42857142857, 79719.41176470589, 59054.6875, 84583.33333333333, 79701.78571428571, 51485.294117647056, 47777.77777777778, 58152.0, 49800.0, 82812.5, 88500.0, 61418.181818181816, 65880.43478260869, 77052.85714285714, 66138.46153846153, 83486.36363636363, 65081.4, 54766.666666666664, 49433.333333333336, 67781.25, 72761.53846153847, 81004.0, 62833.333333333336, 61651.25, 56033.333333333336, 64272.41379310345, 64572.41379310345, 66950.0, 68022.72727272728, 66983.92857142857, 65137.03703703704, 60575.0, 66073.17073170732, 80307.23076923077, 57941.30434782609, 68169.44444444444, 82555.88235294117, 69196.77966101695, 58833.333333333336, 71786.11111111111, 65595.3125, 56238.57142857143, 56231.666666666664, 74417.44186046511, 91231.25, 67075.0, 85004.13636363637, 83442.35897435897, 70586.84210526316, 77525.6551724138, 79679.16666666667, 69582.72727272728, 109833.33333333333, 59686.607142857145, 69785.71428571429, 105068.57142857143, 78592.5925925926, 84407.8947368421, 74510.84057971014, 64430.769230769234, 90252.66666666667, 97820.125, 70546.875, 66179.41176470589, 80070.19607843137, 83661.01694915254, 93656.25, 87166.66666666667, 87005.26315789473, 73248.3870967742, 78224.46808510639, 98586.34615384616, 71220.0, 39244.0, 74961.62790697675, 96418.75, 72127.14285714286, 97023.26086956522, 85117.27272727272, 79897.76119402985, 65006.666666666664, 71725.39682539682, 102812.0, 77291.66666666667, 73520.4918032787, 81561.53846153847, 86996.78205128205, 89017.64705882352, 76505.88235294117, 80100.83333333333, 76817.79661016949, 89873.11320754717, 87532.0, 78243.56435643564, 96684.61538461539, 86722.0895522388, 70252.11267605633, 74203.33333333333, 91470.3947368421, 93178.90625, 77812.05607476635, 87471.17647058824, 79848.53333333334, 87015.98360655738, 74956.25, 88926.76767676767, 55366.94915254237, 82072.02380952382, 59542.857142857145, 74804.30107526881, 77754.09836065574, 79895.06172839506, 81943.51851851853, 83112.15476190476, 92656.74418604652, 86252.17391304347, 94919.93636363637, 50155.754189944135, 101769.31578947368, 99266.35416666667, 83278.26086956522, 89630.27932960894, 93880.76923076923, 94770.60606060606, 86149.19841269842, 97664.89361702128, 89453.84615384616, 94905.91666666667, 83854.1237113402, 86713.88888888889, 90493.26923076923, 83844.74107142857, 92392.33644859813, 72350.53260869565, 83847.24409448818, 94888.91191709845, 79608.33333333333, 83919.17808219178, 88406.56565656565, 91953.36134453781, 92823.975, 75936.47540983607, 84364.57219251337, 83255.1724137931, 85699.12280701754, 94514.28571428571, 82276.51578947369, 84909.63855421687, 76702.88461538461, 79496.13756613756, 79279.16666666667, 88998.9010989011, 90842.1568627451, 86792.85714285714, 87945.68965517242, 85047.12871287129, 83430.7881773399, 70156.94444444444, 79909.13978494624, 84882.77777777778, 77426.22641509434, 94968.03278688525, 77084.5, 92007.9268292683, 86206.25, 82050.47169811321, 81096.15384615384, 84915.0, 65118.90243902439, 80328.08988764045, 72309.77443609023, 66538.46153846153, 82832.85714285714, 80711.26582278482, 79901.5625, 68991.17647058824, 77328.68852459016, 81097.41379310345, 114131.81818181818, 78315.9574468085, 76435.625, 80765.78947368421, 68668.75, 78365.47619047618, 81047.55033557047, 73026.66666666667, 76672.83653846153, 82206.3698630137, 92194.76744186046, 80283.0, 78190.0, 74011.60714285714, 79600.0, 71564.57943925234, 82377.03614457832, 88122.43902439025, 76843.90243902439, 90518.26086956522, 81740.9022556391, 94039.03225806452, 94296.51162790698, 96200.67415730337, 82204.17910447762, 80723.75, 45100.0, 110750.0, 94113.33333333333, 84637.70491803279, 88931.59340659341, 74086.13186813187, 92302.81609195402, 80293.89380530974, 82404.84653465346, 88555.42222222222, 84544.38461538461, 84395.62589928058, 87049.83739837399, 89282.8947368421, 82836.88288288288, 88190.01632653062, 106341.66666666667, 78390.0294117647, 86102.97674418605, 80718.54166666667, 88857.04678362573, 82053.40909090909, 83173.83177570094, 83412.18181818182, 86795.14093959732, 95509.89010989011, 83897.82608695653, 86441.26213592233, 79372.70967741935, 84455.34868421052, 94946.69811320755, 87746.30201342281, 83508.0985915493, 88361.97478991597, 77794.73684210527, 92880.66891891892, 84048.33969465649, 80546.34146341463, 81882.83125, 81681.5223880597, 80590.75757575757, 87429.83193277312, 85335.41666666667, 80157.26637554585, 96032.2, 82981.70634920635, 75857.00934579439, 83547.53787878787, 76732.6530612245, 85995.26666666666, 89305.36529680365, 90826.59574468085, 80412.64429530202, 75558.18620689656, 85702.77372262774, 78061.12903225806, 80619.9857142857, 80726.14644351465, 75461.03846153847, 75902.31137724551, 86038.38028169014, 85586.82432432432, 88397.97272727273, 88587.3115942029, 79462.77056277056, 75467.1052631579, 79930.0, 87588.72180451128, 88579.1129032258, 81678.35051546391, 80149.256, 81670.39800995025, 77816.66666666667, 83736.27433628318, 74572.22222222222, 84861.97916666667, 77892.50943396226, 80520.0, 81044.18604651163, 87853.125, 75474.56310679612, 73910.89743589744, 56053.01680672269, 79848.46153846153, 80097.36111111111, 73259.07692307692, 70622.91666666667, 74768.53932584269, 69480.26315789473, 80992.53731343284, 71801.03448275862, 65056.0101010101, 75334.59124087592, 112275.0, 62023.01587301587, 60693.023255813954, 67196.7741935484, 63380.625, 57596.2962962963, 61683.63636363636, 57000.0, 55833.0, 45160.18518518518, 49410.0, 52132.142857142855, 78321.05263157895, 70362.06896551725, 95500.0, 46544.73684210526, 65761.90476190476], \"yaxis\": \"y\"}, {\"hovertemplate\": \"\\uce35\\uad6c\\ubd84=\\uace0\\uce35<br>\\uae30\\uac04=%{x}<br>mean=%{y}<br>count=%{marker.size}<extra></extra>\", \"legendgroup\": \"\\uace0\\uce35\", \"marker\": {\"color\": \"#00cc96\", \"size\": [6, 1, 1, 9, 3, 7, 4, 6, 1, 6, 11, 1, 4, 7, 6, 9, 9, 10, 2, 3, 5, 5, 3, 3, 13, 11, 6, 1, 1, 2, 1, 5, 5, 15, 1, 5, 5, 1, 6, 7, 13, 3, 8, 4, 8, 4, 16, 14, 2, 6, 6, 7, 6, 8, 6, 2, 10, 4, 9, 3, 9, 19, 1, 9, 7, 5, 6, 8, 8, 3, 8, 10, 7, 10, 5, 18, 2, 10, 7, 8, 3, 8, 15, 4, 17, 5, 9, 20, 14, 15, 2, 14, 8, 13, 12, 8, 22, 5, 15, 14, 12, 7, 10, 14, 2, 12, 10, 18, 6, 13, 19, 6, 11, 12, 15, 11, 13, 21, 4, 14, 10, 9, 12, 19, 32, 4, 16, 11, 15, 9, 19, 27, 2, 19, 23, 12, 14, 22, 33, 9, 23, 23, 18, 10, 15, 38, 6, 16, 15, 15, 28, 13, 26, 8, 21, 18, 23, 21, 25, 53, 11, 36, 47, 39, 26, 36, 81, 11, 45, 35, 29, 35, 27, 59, 6, 38, 41, 37, 25, 45, 77, 7, 47, 31, 28, 30, 50, 65, 15, 46, 30, 43, 31, 44, 51, 8, 37, 39, 37, 26, 30, 79, 12, 34, 48, 30, 21, 25, 28, 7, 36, 28, 26, 37, 17, 63, 6, 19, 26, 21, 28, 28, 37, 7, 27, 25, 35, 31, 31, 61, 21, 28, 28, 31, 23, 21, 70, 13, 36, 31, 30, 16, 36, 54, 5, 39, 30, 22, 5, 1, 2, 29, 27, 27, 27, 41, 54, 19, 43, 42, 44, 51, 43, 60, 10, 38, 48, 49, 43, 53, 71, 16, 34, 43, 72, 29, 42, 78, 23, 60, 46, 38, 39, 42, 81, 14, 36, 49, 40, 43, 47, 79, 17, 39, 46, 40, 38, 45, 77, 10, 30, 48, 33, 34, 52, 77, 22, 45, 45, 65, 42, 44, 76, 16, 48, 43, 34, 39, 32, 64, 17, 35, 28, 30, 26, 33, 68, 13, 34, 35, 30, 19, 22, 32, 10, 29, 18, 13, 14, 19, 25, 6, 24, 10, 10, 8, 11, 16, 2, 3, 8, 5, 2, 3, 4, 2, 6, 2], \"sizemode\": \"area\", \"sizeref\": 0.8425, \"symbol\": \"circle\"}, \"mode\": \"markers\", \"name\": \"\\uace0\\uce35\", \"showlegend\": true, \"type\": \"scattergl\", \"x\": [\"2019-01-02T00:00:00\", \"2019-01-03T00:00:00\", \"2019-01-04T00:00:00\", \"2019-01-05T00:00:00\", \"2019-01-06T00:00:00\", \"2019-01-07T00:00:00\", \"2019-01-08T00:00:00\", \"2019-01-09T00:00:00\", \"2019-01-10T00:00:00\", \"2019-01-11T00:00:00\", \"2019-01-12T00:00:00\", \"2019-01-13T00:00:00\", \"2019-01-14T00:00:00\", \"2019-01-15T00:00:00\", \"2019-01-16T00:00:00\", \"2019-01-17T00:00:00\", \"2019-01-18T00:00:00\", \"2019-01-19T00:00:00\", \"2019-01-20T00:00:00\", \"2019-01-21T00:00:00\", \"2019-01-22T00:00:00\", \"2019-01-23T00:00:00\", \"2019-01-24T00:00:00\", \"2019-01-25T00:00:00\", \"2019-01-26T00:00:00\", \"2019-01-28T00:00:00\", \"2019-01-29T00:00:00\", \"2019-01-30T00:00:00\", \"2019-01-31T00:00:00\", \"2019-02-01T00:00:00\", \"2019-02-03T00:00:00\", \"2019-02-07T00:00:00\", \"2019-02-08T00:00:00\", \"2019-02-09T00:00:00\", \"2019-02-10T00:00:00\", \"2019-02-11T00:00:00\", \"2019-02-12T00:00:00\", \"2019-02-13T00:00:00\", \"2019-02-14T00:00:00\", \"2019-02-15T00:00:00\", \"2019-02-16T00:00:00\", \"2019-02-17T00:00:00\", \"2019-02-18T00:00:00\", \"2019-02-19T00:00:00\", \"2019-02-20T00:00:00\", \"2019-02-21T00:00:00\", \"2019-02-22T00:00:00\", \"2019-02-23T00:00:00\", \"2019-02-24T00:00:00\", \"2019-02-25T00:00:00\", \"2019-02-26T00:00:00\", \"2019-02-27T00:00:00\", \"2019-02-28T00:00:00\", \"2019-03-01T00:00:00\", \"2019-03-02T00:00:00\", \"2019-03-03T00:00:00\", \"2019-03-04T00:00:00\", \"2019-03-05T00:00:00\", \"2019-03-06T00:00:00\", \"2019-03-07T00:00:00\", \"2019-03-08T00:00:00\", \"2019-03-09T00:00:00\", \"2019-03-10T00:00:00\", \"2019-03-11T00:00:00\", \"2019-03-12T00:00:00\", \"2019-03-13T00:00:00\", \"2019-03-14T00:00:00\", \"2019-03-15T00:00:00\", \"2019-03-16T00:00:00\", \"2019-03-17T00:00:00\", \"2019-03-18T00:00:00\", \"2019-03-19T00:00:00\", \"2019-03-20T00:00:00\", \"2019-03-21T00:00:00\", \"2019-03-22T00:00:00\", \"2019-03-23T00:00:00\", \"2019-03-24T00:00:00\", \"2019-03-25T00:00:00\", \"2019-03-26T00:00:00\", \"2019-03-27T00:00:00\", \"2019-03-28T00:00:00\", \"2019-03-29T00:00:00\", \"2019-03-30T00:00:00\", \"2019-03-31T00:00:00\", \"2019-04-01T00:00:00\", \"2019-04-02T00:00:00\", \"2019-04-03T00:00:00\", \"2019-04-04T00:00:00\", \"2019-04-05T00:00:00\", \"2019-04-06T00:00:00\", \"2019-04-07T00:00:00\", \"2019-04-08T00:00:00\", \"2019-04-09T00:00:00\", \"2019-04-10T00:00:00\", \"2019-04-11T00:00:00\", \"2019-04-12T00:00:00\", \"2019-04-13T00:00:00\", \"2019-04-14T00:00:00\", \"2019-04-15T00:00:00\", \"2019-04-16T00:00:00\", \"2019-04-17T00:00:00\", \"2019-04-18T00:00:00\", \"2019-04-19T00:00:00\", \"2019-04-20T00:00:00\", \"2019-04-21T00:00:00\", \"2019-04-22T00:00:00\", \"2019-04-23T00:00:00\", \"2019-04-24T00:00:00\", \"2019-04-25T00:00:00\", \"2019-04-26T00:00:00\", \"2019-04-27T00:00:00\", \"2019-04-28T00:00:00\", \"2019-04-29T00:00:00\", \"2019-04-30T00:00:00\", \"2019-05-01T00:00:00\", \"2019-05-02T00:00:00\", \"2019-05-03T00:00:00\", \"2019-05-04T00:00:00\", \"2019-05-05T00:00:00\", \"2019-05-06T00:00:00\", \"2019-05-07T00:00:00\", \"2019-05-08T00:00:00\", \"2019-05-09T00:00:00\", \"2019-05-10T00:00:00\", \"2019-05-11T00:00:00\", \"2019-05-12T00:00:00\", \"2019-05-13T00:00:00\", \"2019-05-14T00:00:00\", \"2019-05-15T00:00:00\", \"2019-05-16T00:00:00\", \"2019-05-17T00:00:00\", \"2019-05-18T00:00:00\", \"2019-05-19T00:00:00\", \"2019-05-20T00:00:00\", \"2019-05-21T00:00:00\", \"2019-05-22T00:00:00\", \"2019-05-23T00:00:00\", \"2019-05-24T00:00:00\", \"2019-05-25T00:00:00\", \"2019-05-26T00:00:00\", \"2019-05-27T00:00:00\", \"2019-05-28T00:00:00\", \"2019-05-29T00:00:00\", \"2019-05-30T00:00:00\", \"2019-05-31T00:00:00\", \"2019-06-01T00:00:00\", \"2019-06-02T00:00:00\", \"2019-06-03T00:00:00\", \"2019-06-04T00:00:00\", \"2019-06-05T00:00:00\", \"2019-06-06T00:00:00\", \"2019-06-07T00:00:00\", \"2019-06-08T00:00:00\", \"2019-06-09T00:00:00\", \"2019-06-10T00:00:00\", \"2019-06-11T00:00:00\", \"2019-06-12T00:00:00\", \"2019-06-13T00:00:00\", \"2019-06-14T00:00:00\", \"2019-06-15T00:00:00\", \"2019-06-16T00:00:00\", \"2019-06-17T00:00:00\", \"2019-06-18T00:00:00\", \"2019-06-19T00:00:00\", \"2019-06-20T00:00:00\", \"2019-06-21T00:00:00\", \"2019-06-22T00:00:00\", \"2019-06-23T00:00:00\", \"2019-06-24T00:00:00\", \"2019-06-25T00:00:00\", \"2019-06-26T00:00:00\", \"2019-06-27T00:00:00\", \"2019-06-28T00:00:00\", \"2019-06-29T00:00:00\", \"2019-06-30T00:00:00\", \"2019-07-01T00:00:00\", \"2019-07-02T00:00:00\", \"2019-07-03T00:00:00\", \"2019-07-04T00:00:00\", \"2019-07-05T00:00:00\", \"2019-07-06T00:00:00\", \"2019-07-07T00:00:00\", \"2019-07-08T00:00:00\", \"2019-07-09T00:00:00\", \"2019-07-10T00:00:00\", \"2019-07-11T00:00:00\", \"2019-07-12T00:00:00\", \"2019-07-13T00:00:00\", \"2019-07-14T00:00:00\", \"2019-07-15T00:00:00\", \"2019-07-16T00:00:00\", \"2019-07-17T00:00:00\", \"2019-07-18T00:00:00\", \"2019-07-19T00:00:00\", \"2019-07-20T00:00:00\", \"2019-07-21T00:00:00\", \"2019-07-22T00:00:00\", \"2019-07-23T00:00:00\", \"2019-07-24T00:00:00\", \"2019-07-25T00:00:00\", \"2019-07-26T00:00:00\", \"2019-07-27T00:00:00\", \"2019-07-28T00:00:00\", \"2019-07-29T00:00:00\", \"2019-07-30T00:00:00\", \"2019-07-31T00:00:00\", \"2019-08-01T00:00:00\", \"2019-08-02T00:00:00\", \"2019-08-03T00:00:00\", \"2019-08-04T00:00:00\", \"2019-08-05T00:00:00\", \"2019-08-06T00:00:00\", \"2019-08-07T00:00:00\", \"2019-08-08T00:00:00\", \"2019-08-09T00:00:00\", \"2019-08-10T00:00:00\", \"2019-08-11T00:00:00\", \"2019-08-12T00:00:00\", \"2019-08-13T00:00:00\", \"2019-08-14T00:00:00\", \"2019-08-15T00:00:00\", \"2019-08-16T00:00:00\", \"2019-08-17T00:00:00\", \"2019-08-18T00:00:00\", \"2019-08-19T00:00:00\", \"2019-08-20T00:00:00\", \"2019-08-21T00:00:00\", \"2019-08-22T00:00:00\", \"2019-08-23T00:00:00\", \"2019-08-24T00:00:00\", \"2019-08-25T00:00:00\", \"2019-08-26T00:00:00\", \"2019-08-27T00:00:00\", \"2019-08-28T00:00:00\", \"2019-08-29T00:00:00\", \"2019-08-30T00:00:00\", \"2019-08-31T00:00:00\", \"2019-09-01T00:00:00\", \"2019-09-02T00:00:00\", \"2019-09-03T00:00:00\", \"2019-09-04T00:00:00\", \"2019-09-05T00:00:00\", \"2019-09-06T00:00:00\", \"2019-09-07T00:00:00\", \"2019-09-08T00:00:00\", \"2019-09-09T00:00:00\", \"2019-09-10T00:00:00\", \"2019-09-11T00:00:00\", \"2019-09-12T00:00:00\", \"2019-09-13T00:00:00\", \"2019-09-15T00:00:00\", \"2019-09-16T00:00:00\", \"2019-09-17T00:00:00\", \"2019-09-18T00:00:00\", \"2019-09-19T00:00:00\", \"2019-09-20T00:00:00\", \"2019-09-21T00:00:00\", \"2019-09-22T00:00:00\", \"2019-09-23T00:00:00\", \"2019-09-24T00:00:00\", \"2019-09-25T00:00:00\", \"2019-09-26T00:00:00\", \"2019-09-27T00:00:00\", \"2019-09-28T00:00:00\", \"2019-09-29T00:00:00\", \"2019-09-30T00:00:00\", \"2019-10-01T00:00:00\", \"2019-10-02T00:00:00\", \"2019-10-03T00:00:00\", \"2019-10-04T00:00:00\", \"2019-10-05T00:00:00\", \"2019-10-06T00:00:00\", \"2019-10-07T00:00:00\", \"2019-10-08T00:00:00\", \"2019-10-09T00:00:00\", \"2019-10-10T00:00:00\", \"2019-10-11T00:00:00\", \"2019-10-12T00:00:00\", \"2019-10-13T00:00:00\", \"2019-10-14T00:00:00\", \"2019-10-15T00:00:00\", \"2019-10-16T00:00:00\", \"2019-10-17T00:00:00\", \"2019-10-18T00:00:00\", \"2019-10-19T00:00:00\", \"2019-10-20T00:00:00\", \"2019-10-21T00:00:00\", \"2019-10-22T00:00:00\", \"2019-10-23T00:00:00\", \"2019-10-24T00:00:00\", \"2019-10-25T00:00:00\", \"2019-10-26T00:00:00\", \"2019-10-27T00:00:00\", \"2019-10-28T00:00:00\", \"2019-10-29T00:00:00\", \"2019-10-30T00:00:00\", \"2019-10-31T00:00:00\", \"2019-11-01T00:00:00\", \"2019-11-02T00:00:00\", \"2019-11-03T00:00:00\", \"2019-11-04T00:00:00\", \"2019-11-05T00:00:00\", \"2019-11-06T00:00:00\", \"2019-11-07T00:00:00\", \"2019-11-08T00:00:00\", \"2019-11-09T00:00:00\", \"2019-11-10T00:00:00\", \"2019-11-11T00:00:00\", \"2019-11-12T00:00:00\", \"2019-11-13T00:00:00\", \"2019-11-14T00:00:00\", \"2019-11-15T00:00:00\", \"2019-11-16T00:00:00\", \"2019-11-17T00:00:00\", \"2019-11-18T00:00:00\", \"2019-11-19T00:00:00\", \"2019-11-20T00:00:00\", \"2019-11-21T00:00:00\", \"2019-11-22T00:00:00\", \"2019-11-23T00:00:00\", \"2019-11-24T00:00:00\", \"2019-11-25T00:00:00\", \"2019-11-26T00:00:00\", \"2019-11-27T00:00:00\", \"2019-11-28T00:00:00\", \"2019-11-29T00:00:00\", \"2019-11-30T00:00:00\", \"2019-12-01T00:00:00\", \"2019-12-02T00:00:00\", \"2019-12-03T00:00:00\", \"2019-12-04T00:00:00\", \"2019-12-05T00:00:00\", \"2019-12-06T00:00:00\", \"2019-12-07T00:00:00\", \"2019-12-08T00:00:00\", \"2019-12-09T00:00:00\", \"2019-12-10T00:00:00\", \"2019-12-11T00:00:00\", \"2019-12-12T00:00:00\", \"2019-12-13T00:00:00\", \"2019-12-14T00:00:00\", \"2019-12-15T00:00:00\", \"2019-12-16T00:00:00\", \"2019-12-17T00:00:00\", \"2019-12-18T00:00:00\", \"2019-12-19T00:00:00\", \"2019-12-20T00:00:00\", \"2019-12-21T00:00:00\", \"2019-12-22T00:00:00\", \"2019-12-23T00:00:00\", \"2019-12-24T00:00:00\", \"2019-12-25T00:00:00\", \"2019-12-26T00:00:00\", \"2019-12-27T00:00:00\", \"2019-12-28T00:00:00\", \"2019-12-29T00:00:00\", \"2019-12-30T00:00:00\", \"2019-12-31T00:00:00\"], \"xaxis\": \"x\", \"y\": [49116.666666666664, 163000.0, 110000.0, 91377.77777777778, 58583.333333333336, 78671.42857142857, 76700.0, 106475.0, 96000.0, 131900.0, 73859.09090909091, 43700.0, 59150.0, 69700.0, 101400.16666666667, 64577.77777777778, 75433.33333333333, 50680.0, 85750.0, 55233.333333333336, 112000.0, 58560.0, 253083.33333333334, 37383.333333333336, 70273.07692307692, 85372.72727272728, 78266.66666666667, 160000.0, 61750.0, 58500.0, 123000.0, 72940.0, 88600.0, 59048.666666666664, 60000.0, 101600.0, 88960.0, 14800.0, 108250.0, 130671.42857142857, 81838.46153846153, 49566.666666666664, 94212.5, 165749.5, 113087.5, 124950.0, 116624.875, 62871.42857142857, 71250.0, 48916.666666666664, 105766.66666666667, 123671.42857142857, 75366.66666666667, 61823.75, 62833.333333333336, 87500.0, 91650.0, 90625.0, 90633.33333333333, 125666.66666666667, 120388.88888888889, 82200.0, 80500.0, 84000.0, 160928.57142857142, 125559.6, 121383.33333333333, 98600.0, 95625.0, 87100.0, 115500.0, 92100.0, 99685.71428571429, 100170.0, 132600.0, 106177.77777777778, 113000.0, 84130.0, 95978.57142857143, 146131.25, 91933.33333333333, 103112.5, 86253.33333333333, 160575.0, 113141.17647058824, 149700.0, 114833.33333333333, 79800.0, 93442.85714285714, 117600.0, 66250.0, 93321.42857142857, 62725.0, 88800.0, 68966.66666666667, 109100.0, 95804.54545454546, 91140.0, 78700.0, 95353.57142857143, 121666.66666666667, 152880.0, 116680.0, 101200.0, 109500.0, 82266.66666666667, 85630.0, 79827.77777777778, 111116.66666666667, 149276.92307692306, 109278.94736842105, 66358.33333333333, 105454.54545454546, 118166.66666666667, 92240.0, 131490.9090909091, 134396.15384615384, 106811.90476190476, 107425.0, 80903.57142857143, 125890.0, 96388.88888888889, 86041.66666666667, 107905.26315789473, 118948.4375, 140937.5, 144018.75, 86231.81818181818, 111480.0, 91950.0, 133668.42105263157, 99125.92592592593, 108750.0, 117310.52631578948, 78352.17391304347, 109108.33333333333, 106350.0, 94761.36363636363, 94575.75757575757, 115500.0, 99417.39130434782, 86721.73913043478, 96572.22222222222, 116810.0, 153106.66666666666, 104700.0, 112000.0, 84400.0, 148826.66666666666, 104113.33333333333, 95428.57142857143, 95615.38461538461, 105403.84615384616, 98281.25, 110109.52380952382, 103661.11111111111, 99421.73913043478, 113811.90476190476, 87008.0, 103797.92452830188, 124609.09090909091, 127325.0, 107621.27659574468, 111420.51282051283, 123292.30769230769, 124399.47222222222, 101888.27160493827, 111727.27272727272, 113822.17777777778, 114142.85714285714, 104517.24137931035, 131007.08571428571, 122385.18518518518, 95144.91525423729, 163466.66666666666, 105911.84210526316, 104985.85365853658, 114945.94594594595, 81344.0, 119687.77777777778, 121888.31168831169, 88100.0, 109244.68085106384, 103357.09677419355, 115735.71428571429, 151396.6, 107625.8, 101367.69230769231, 150040.0, 99807.60869565218, 96168.33333333333, 124458.13953488372, 104932.25806451614, 112514.77272727272, 97368.62745098039, 82787.5, 95974.32432432432, 87641.02564102564, 112381.08108108108, 101199.92307692308, 122236.66666666667, 113827.21518987342, 96941.66666666667, 109972.05882352941, 107905.41666666667, 94738.33333333333, 84095.23809523809, 109196.0, 85283.92857142857, 101685.71428571429, 90116.66666666667, 118669.57142857143, 105011.53846153847, 101745.4054054054, 116682.35294117648, 98344.92063492064, 62983.333333333336, 107657.8947368421, 119875.76923076923, 107038.09523809524, 119080.35714285714, 104716.07142857143, 87818.91891891892, 127171.42857142857, 120348.14814814815, 131404.0, 104768.57142857143, 115919.29032258065, 122474.19354838709, 96783.60655737705, 107747.61904761905, 99925.0, 113510.71428571429, 92267.74193548386, 96352.17391304347, 88161.90476190476, 86706.42857142857, 109342.30769230769, 111677.77777777778, 103936.54838709677, 105346.66666666667, 122593.625, 128658.33333333333, 117051.85185185185, 95680.0, 122863.84615384616, 107850.0, 107604.54545454546, 175420.0, 126000.0, 67250.0, 105787.93103448275, 102353.70370370371, 114207.4074074074, 108133.33333333333, 119636.58536585367, 97883.33333333333, 108184.21052631579, 107534.88372093023, 115223.80952380953, 124437.5, 91313.72549019608, 124266.27906976744, 113624.96666666666, 162570.0, 115572.36842105263, 95779.16666666667, 128690.8163265306, 88539.30232558139, 94216.98113207547, 112459.15492957746, 75862.5, 115742.64705882352, 116034.88372093023, 104640.27777777778, 108474.13793103448, 123476.19047619047, 106749.35897435897, 92465.21739130435, 104876.63333333333, 109032.60869565218, 107548.94736842105, 99952.56410256411, 99438.09523809524, 94928.3950617284, 116203.57142857143, 112529.16666666667, 122644.89795918367, 109279.75, 96833.72093023256, 105523.40425531915, 97959.49367088608, 110352.94117647059, 100765.1282051282, 99978.47826086957, 127122.5, 112822.36842105263, 114316.66666666667, 107393.50649350649, 94465.0, 93931.66666666667, 103680.0, 124142.42424242424, 95876.4705882353, 96925.96153846153, 97003.8961038961, 105422.72727272728, 96640.0, 97423.33333333333, 104282.30769230769, 96002.38095238095, 96743.18181818182, 95698.68421052632, 124749.375, 111954.16666666667, 100002.32558139534, 90417.64705882352, 113717.69230769231, 101171.875, 85487.5, 95891.17647058824, 108470.0, 99271.42857142857, 118796.66666666667, 110155.76923076923, 101690.30303030302, 98447.05882352941, 127961.53846153847, 89019.11764705883, 87260.0, 84126.66666666667, 129184.21052631579, 100943.18181818182, 87856.25, 95220.0, 92239.6551724138, 89916.66666666667, 119576.92307692308, 113592.85714285714, 99273.68421052632, 87306.0, 87083.33333333333, 115977.08333333333, 56310.0, 58290.0, 90187.5, 83800.0, 72446.875, 47100.0, 119000.0, 108437.5, 69840.0, 64500.0, 67266.66666666667, 70675.0, 88200.0, 92966.66666666667, 66650.0], \"yaxis\": \"y\"}],                        {\"legend\": {\"itemsizing\": \"constant\", \"title\": {\"text\": \"\\uce35\\uad6c\\ubd84\"}, \"tracegroupgap\": 0}, \"template\": {\"data\": {\"bar\": [{\"error_x\": {\"color\": \"#2a3f5f\"}, \"error_y\": {\"color\": \"#2a3f5f\"}, \"marker\": {\"line\": {\"color\": \"#E5ECF6\", \"width\": 0.5}}, \"type\": \"bar\"}], \"barpolar\": [{\"marker\": {\"line\": {\"color\": \"#E5ECF6\", \"width\": 0.5}}, \"type\": \"barpolar\"}], \"carpet\": [{\"aaxis\": {\"endlinecolor\": \"#2a3f5f\", \"gridcolor\": \"white\", \"linecolor\": \"white\", \"minorgridcolor\": \"white\", \"startlinecolor\": \"#2a3f5f\"}, \"baxis\": {\"endlinecolor\": \"#2a3f5f\", \"gridcolor\": \"white\", \"linecolor\": \"white\", \"minorgridcolor\": \"white\", \"startlinecolor\": \"#2a3f5f\"}, \"type\": \"carpet\"}], \"choropleth\": [{\"colorbar\": {\"outlinewidth\": 0, \"ticks\": \"\"}, \"type\": \"choropleth\"}], \"contour\": [{\"colorbar\": {\"outlinewidth\": 0, \"ticks\": \"\"}, \"colorscale\": [[0.0, \"#0d0887\"], [0.1111111111111111, \"#46039f\"], [0.2222222222222222, \"#7201a8\"], [0.3333333333333333, \"#9c179e\"], [0.4444444444444444, \"#bd3786\"], [0.5555555555555556, \"#d8576b\"], [0.6666666666666666, \"#ed7953\"], [0.7777777777777778, \"#fb9f3a\"], [0.8888888888888888, \"#fdca26\"], [1.0, \"#f0f921\"]], \"type\": \"contour\"}], \"contourcarpet\": [{\"colorbar\": {\"outlinewidth\": 0, \"ticks\": \"\"}, \"type\": \"contourcarpet\"}], \"heatmap\": [{\"colorbar\": {\"outlinewidth\": 0, \"ticks\": \"\"}, \"colorscale\": [[0.0, \"#0d0887\"], [0.1111111111111111, \"#46039f\"], [0.2222222222222222, \"#7201a8\"], [0.3333333333333333, \"#9c179e\"], [0.4444444444444444, \"#bd3786\"], [0.5555555555555556, \"#d8576b\"], [0.6666666666666666, \"#ed7953\"], [0.7777777777777778, \"#fb9f3a\"], [0.8888888888888888, \"#fdca26\"], [1.0, \"#f0f921\"]], \"type\": \"heatmap\"}], \"heatmapgl\": [{\"colorbar\": {\"outlinewidth\": 0, \"ticks\": \"\"}, \"colorscale\": [[0.0, \"#0d0887\"], [0.1111111111111111, \"#46039f\"], [0.2222222222222222, \"#7201a8\"], [0.3333333333333333, \"#9c179e\"], [0.4444444444444444, \"#bd3786\"], [0.5555555555555556, \"#d8576b\"], [0.6666666666666666, \"#ed7953\"], [0.7777777777777778, \"#fb9f3a\"], [0.8888888888888888, \"#fdca26\"], [1.0, \"#f0f921\"]], \"type\": \"heatmapgl\"}], \"histogram\": [{\"marker\": {\"colorbar\": {\"outlinewidth\": 0, \"ticks\": \"\"}}, \"type\": \"histogram\"}], \"histogram2d\": [{\"colorbar\": {\"outlinewidth\": 0, \"ticks\": \"\"}, \"colorscale\": [[0.0, \"#0d0887\"], [0.1111111111111111, \"#46039f\"], [0.2222222222222222, \"#7201a8\"], [0.3333333333333333, \"#9c179e\"], [0.4444444444444444, \"#bd3786\"], [0.5555555555555556, \"#d8576b\"], [0.6666666666666666, \"#ed7953\"], [0.7777777777777778, \"#fb9f3a\"], [0.8888888888888888, \"#fdca26\"], [1.0, \"#f0f921\"]], \"type\": \"histogram2d\"}], \"histogram2dcontour\": [{\"colorbar\": {\"outlinewidth\": 0, \"ticks\": \"\"}, \"colorscale\": [[0.0, \"#0d0887\"], [0.1111111111111111, \"#46039f\"], [0.2222222222222222, \"#7201a8\"], [0.3333333333333333, \"#9c179e\"], [0.4444444444444444, \"#bd3786\"], [0.5555555555555556, \"#d8576b\"], [0.6666666666666666, \"#ed7953\"], [0.7777777777777778, \"#fb9f3a\"], [0.8888888888888888, \"#fdca26\"], [1.0, \"#f0f921\"]], \"type\": \"histogram2dcontour\"}], \"mesh3d\": [{\"colorbar\": {\"outlinewidth\": 0, \"ticks\": \"\"}, \"type\": \"mesh3d\"}], \"parcoords\": [{\"line\": {\"colorbar\": {\"outlinewidth\": 0, \"ticks\": \"\"}}, \"type\": \"parcoords\"}], \"pie\": [{\"automargin\": true, \"type\": \"pie\"}], \"scatter\": [{\"marker\": {\"colorbar\": {\"outlinewidth\": 0, \"ticks\": \"\"}}, \"type\": \"scatter\"}], \"scatter3d\": [{\"line\": {\"colorbar\": {\"outlinewidth\": 0, \"ticks\": \"\"}}, \"marker\": {\"colorbar\": {\"outlinewidth\": 0, \"ticks\": \"\"}}, \"type\": \"scatter3d\"}], \"scattercarpet\": [{\"marker\": {\"colorbar\": {\"outlinewidth\": 0, \"ticks\": \"\"}}, \"type\": \"scattercarpet\"}], \"scattergeo\": [{\"marker\": {\"colorbar\": {\"outlinewidth\": 0, \"ticks\": \"\"}}, \"type\": \"scattergeo\"}], \"scattergl\": [{\"marker\": {\"colorbar\": {\"outlinewidth\": 0, \"ticks\": \"\"}}, \"type\": \"scattergl\"}], \"scattermapbox\": [{\"marker\": {\"colorbar\": {\"outlinewidth\": 0, \"ticks\": \"\"}}, \"type\": \"scattermapbox\"}], \"scatterpolar\": [{\"marker\": {\"colorbar\": {\"outlinewidth\": 0, \"ticks\": \"\"}}, \"type\": \"scatterpolar\"}], \"scatterpolargl\": [{\"marker\": {\"colorbar\": {\"outlinewidth\": 0, \"ticks\": \"\"}}, \"type\": \"scatterpolargl\"}], \"scatterternary\": [{\"marker\": {\"colorbar\": {\"outlinewidth\": 0, \"ticks\": \"\"}}, \"type\": \"scatterternary\"}], \"surface\": [{\"colorbar\": {\"outlinewidth\": 0, \"ticks\": \"\"}, \"colorscale\": [[0.0, \"#0d0887\"], [0.1111111111111111, \"#46039f\"], [0.2222222222222222, \"#7201a8\"], [0.3333333333333333, \"#9c179e\"], [0.4444444444444444, \"#bd3786\"], [0.5555555555555556, \"#d8576b\"], [0.6666666666666666, \"#ed7953\"], [0.7777777777777778, \"#fb9f3a\"], [0.8888888888888888, \"#fdca26\"], [1.0, \"#f0f921\"]], \"type\": \"surface\"}], \"table\": [{\"cells\": {\"fill\": {\"color\": \"#EBF0F8\"}, \"line\": {\"color\": \"white\"}}, \"header\": {\"fill\": {\"color\": \"#C8D4E3\"}, \"line\": {\"color\": \"white\"}}, \"type\": \"table\"}]}, \"layout\": {\"annotationdefaults\": {\"arrowcolor\": \"#2a3f5f\", \"arrowhead\": 0, \"arrowwidth\": 1}, \"autotypenumbers\": \"strict\", \"coloraxis\": {\"colorbar\": {\"outlinewidth\": 0, \"ticks\": \"\"}}, \"colorscale\": {\"diverging\": [[0, \"#8e0152\"], [0.1, \"#c51b7d\"], [0.2, \"#de77ae\"], [0.3, \"#f1b6da\"], [0.4, \"#fde0ef\"], [0.5, \"#f7f7f7\"], [0.6, \"#e6f5d0\"], [0.7, \"#b8e186\"], [0.8, \"#7fbc41\"], [0.9, \"#4d9221\"], [1, \"#276419\"]], \"sequential\": [[0.0, \"#0d0887\"], [0.1111111111111111, \"#46039f\"], [0.2222222222222222, \"#7201a8\"], [0.3333333333333333, \"#9c179e\"], [0.4444444444444444, \"#bd3786\"], [0.5555555555555556, \"#d8576b\"], [0.6666666666666666, \"#ed7953\"], [0.7777777777777778, \"#fb9f3a\"], [0.8888888888888888, \"#fdca26\"], [1.0, \"#f0f921\"]], \"sequentialminus\": [[0.0, \"#0d0887\"], [0.1111111111111111, \"#46039f\"], [0.2222222222222222, \"#7201a8\"], [0.3333333333333333, \"#9c179e\"], [0.4444444444444444, \"#bd3786\"], [0.5555555555555556, \"#d8576b\"], [0.6666666666666666, \"#ed7953\"], [0.7777777777777778, \"#fb9f3a\"], [0.8888888888888888, \"#fdca26\"], [1.0, \"#f0f921\"]]}, \"colorway\": [\"#636efa\", \"#EF553B\", \"#00cc96\", \"#ab63fa\", \"#FFA15A\", \"#19d3f3\", \"#FF6692\", \"#B6E880\", \"#FF97FF\", \"#FECB52\"], \"font\": {\"color\": \"#2a3f5f\"}, \"geo\": {\"bgcolor\": \"white\", \"lakecolor\": \"white\", \"landcolor\": \"#E5ECF6\", \"showlakes\": true, \"showland\": true, \"subunitcolor\": \"white\"}, \"hoverlabel\": {\"align\": \"left\"}, \"hovermode\": \"closest\", \"mapbox\": {\"style\": \"light\"}, \"paper_bgcolor\": \"white\", \"plot_bgcolor\": \"#E5ECF6\", \"polar\": {\"angularaxis\": {\"gridcolor\": \"white\", \"linecolor\": \"white\", \"ticks\": \"\"}, \"bgcolor\": \"#E5ECF6\", \"radialaxis\": {\"gridcolor\": \"white\", \"linecolor\": \"white\", \"ticks\": \"\"}}, \"scene\": {\"xaxis\": {\"backgroundcolor\": \"#E5ECF6\", \"gridcolor\": \"white\", \"gridwidth\": 2, \"linecolor\": \"white\", \"showbackground\": true, \"ticks\": \"\", \"zerolinecolor\": \"white\"}, \"yaxis\": {\"backgroundcolor\": \"#E5ECF6\", \"gridcolor\": \"white\", \"gridwidth\": 2, \"linecolor\": \"white\", \"showbackground\": true, \"ticks\": \"\", \"zerolinecolor\": \"white\"}, \"zaxis\": {\"backgroundcolor\": \"#E5ECF6\", \"gridcolor\": \"white\", \"gridwidth\": 2, \"linecolor\": \"white\", \"showbackground\": true, \"ticks\": \"\", \"zerolinecolor\": \"white\"}}, \"shapedefaults\": {\"line\": {\"color\": \"#2a3f5f\"}}, \"ternary\": {\"aaxis\": {\"gridcolor\": \"white\", \"linecolor\": \"white\", \"ticks\": \"\"}, \"baxis\": {\"gridcolor\": \"white\", \"linecolor\": \"white\", \"ticks\": \"\"}, \"bgcolor\": \"#E5ECF6\", \"caxis\": {\"gridcolor\": \"white\", \"linecolor\": \"white\", \"ticks\": \"\"}}, \"title\": {\"x\": 0.05}, \"xaxis\": {\"automargin\": true, \"gridcolor\": \"white\", \"linecolor\": \"white\", \"ticks\": \"\", \"title\": {\"standoff\": 15}, \"zerolinecolor\": \"white\", \"zerolinewidth\": 2}, \"yaxis\": {\"automargin\": true, \"gridcolor\": \"white\", \"linecolor\": \"white\", \"ticks\": \"\", \"title\": {\"standoff\": 15}, \"zerolinecolor\": \"white\", \"zerolinewidth\": 2}}}, \"title\": {\"text\": \"\\uae30\\uac04\\uc5d0 \\ub530\\ub978 \\uce35\\uc218\\ubcc4 \\uac00\\uaca9\\ubcc0\\ud654\\uc640 \\uac70\\ub798\\ub7c9\"}, \"xaxis\": {\"anchor\": \"y\", \"domain\": [0.0, 1.0], \"title\": {\"text\": \"\\uae30\\uac04\"}}, \"yaxis\": {\"anchor\": \"x\", \"domain\": [0.0, 1.0], \"title\": {\"text\": \"mean\"}}},                        {\"responsive\": true}                    ).then(function(){\n",
       "                            \n",
       "var gd = document.getElementById('3be4e1fb-631e-44a9-9a44-e3147102d692');\n",
       "var x = new MutationObserver(function (mutations, observer) {{\n",
       "        var display = window.getComputedStyle(gd).display;\n",
       "        if (!display || display === 'none') {{\n",
       "            console.log([gd, 'removed!']);\n",
       "            Plotly.purge(gd);\n",
       "            observer.disconnect();\n",
       "        }}\n",
       "}});\n",
       "\n",
       "// Listen for the removal of the full notebook cells\n",
       "var notebookContainer = gd.closest('#notebook-container');\n",
       "if (notebookContainer) {{\n",
       "    x.observe(notebookContainer, {childList: true});\n",
       "}}\n",
       "\n",
       "// Listen for the clearing of the current output cell\n",
       "var outputEl = gd.closest('.output');\n",
       "if (outputEl) {{\n",
       "    x.observe(outputEl, {childList: true});\n",
       "}}\n",
       "\n",
       "                        })                };                });            </script>        </div>"
      ]
     },
     "metadata": {},
     "output_type": "display_data"
    }
   ],
   "source": [
    "import plotly.express as px\n",
    "\n",
    "dd = df1.copy()\n",
    "dd['층구분'] = np.NaN\n",
    "\n",
    "dd.at[dd['층'] > 16,'층구분'] ='고층'\n",
    "dd.at[(dd['층'] > 8) & (dd['층'] <= 16),'층구분']='중간층'\n",
    "dd.at[dd['층'] <= 8,'층구분']='저층'\n",
    "\n",
    "data = dd.groupby(['기간','층구분'])['거래금액'].agg(['mean','count']).reset_index()\n",
    "\n",
    "fig = px.scatter(data, x=\"기간\", y=\"mean\",color='층구분',size='count',\n",
    "                title=\"기간에 따른 층수별 가격변화와 거래량\")\n",
    "fig.show()"
   ]
  },
  {
   "cell_type": "markdown",
   "metadata": {},
   "source": [
    "#### 11 - 기간에 따른 층수별 거래금액 변화와 거래량\n",
    "- 목적 : 층수가 거래금액에 미치는 영향과 어떤 층수대가 많이 거래되는지 파악\n",
    "- 결과 : 저층(-8)과 중간층(9-16)은 고층(17-)보다 거래금액이 저렴한 편이고 거래량도 많다는 것을 알 수 있다."
   ]
  },
  {
   "cell_type": "markdown",
   "metadata": {},
   "source": [
    "----------------------------------------------------------------------------------------------------------------------------------------------------------"
   ]
  },
  {
   "cell_type": "code",
   "execution_count": null,
   "metadata": {},
   "outputs": [],
   "source": []
  },
  {
   "cell_type": "markdown",
   "metadata": {},
   "source": [
    "### 좋았던점\n",
    "- 분석한 결과를 시각화 한 후에 거기에서 또 어떤것들이 파생될 수 있는지에 대한 분석적인 사고방식이란 것을 조금 맛보게 되었다.\n",
    "- 팀원들과 같이 분석을 하다보니 나의 실수를 빠르게 캐치할 수 있어서 좋았다.\n",
    "\n",
    "### 아쉬운점\n",
    "- 데이터 도메인 지식이 부족해서 분석을 시작할때에 분석 방향에 대한 고민이 많았고 중간에 잘못된 가설로인해 우왕좌왕 하느라 시간을 많이 낭비했던 것이 아쉬웠다. \n"
   ]
  }
 ],
 "metadata": {
  "kernelspec": {
   "display_name": "Python 3",
   "language": "python",
   "name": "python3"
  },
  "language_info": {
   "codemirror_mode": {
    "name": "ipython",
    "version": 3
   },
   "file_extension": ".py",
   "mimetype": "text/x-python",
   "name": "python",
   "nbconvert_exporter": "python",
   "pygments_lexer": "ipython3",
   "version": "3.7.4"
  }
 },
 "nbformat": 4,
 "nbformat_minor": 2
}
