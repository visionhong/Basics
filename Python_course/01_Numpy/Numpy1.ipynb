{
 "cells": [
  {
   "cell_type": "markdown",
   "metadata": {},
   "source": [
    "### Numpy -> Numeric Python"
   ]
  },
  {
   "cell_type": "code",
   "execution_count": 5,
   "metadata": {},
   "outputs": [],
   "source": [
    "import numpy as np"
   ]
  },
  {
   "cell_type": "markdown",
   "metadata": {},
   "source": [
    "## 1. Numpy 배열과 리스트를 비교"
   ]
  },
  {
   "cell_type": "markdown",
   "metadata": {},
   "source": [
    "#### 1. array() 함수 사용"
   ]
  },
  {
   "cell_type": "code",
   "execution_count": 17,
   "metadata": {},
   "outputs": [
    {
     "name": "stdout",
     "output_type": "stream",
     "text": [
      "[4, 5, 6, 7]\n",
      "[4 5 6 7]\n",
      "<class 'list'>\n",
      "<class 'numpy.ndarray'>\n"
     ]
    }
   ],
   "source": [
    "myList = [4,5,6,7]\n",
    "myArray = np.array(myList)\n",
    "print(myList)\n",
    "print(myArray)\n",
    "'''\n",
    "ndarray\n",
    "다차원 행렬구조를 지원하는 Numpy의 핵심 클래스\n",
    "넘파이배열은 ndarray클래스 타입으로 지원된다.\n",
    "list - - - python\n",
    "ndarray - - - Numpy\n",
    "\n",
    "1차원 구조 --> vector\n",
    "2차원 구조 --> matrix\n",
    "\n",
    "'''\n",
    "print(type(myList))\n",
    "print(type(myArray))"
   ]
  },
  {
   "cell_type": "code",
   "execution_count": 21,
   "metadata": {},
   "outputs": [
    {
     "name": "stdout",
     "output_type": "stream",
     "text": [
      "[5, 6]\n",
      "[5 6]\n"
     ]
    }
   ],
   "source": [
    "myList_slice = myList[1:3] # 파이썬은 보통 카멜기법이 아니라 케밥기법\n",
    "print(myList_slice)\n",
    "\n",
    "myArray_slice = myArray[1:3] # 파이썬은 보통 카멜기법이 아니라 케밥기법\n",
    "print(myArray_slice)"
   ]
  },
  {
   "cell_type": "code",
   "execution_count": 22,
   "metadata": {},
   "outputs": [
    {
     "name": "stdout",
     "output_type": "stream",
     "text": [
      "[-5, 6] [-5  6]\n"
     ]
    }
   ],
   "source": [
    "myList_slice[0] = -5\n",
    "myArray_slice[0] = -5\n",
    "print(myList_slice, myArray_slice)"
   ]
  },
  {
   "cell_type": "code",
   "execution_count": 24,
   "metadata": {},
   "outputs": [
    {
     "name": "stdout",
     "output_type": "stream",
     "text": [
      "[4, 5, 6, 7]\n",
      "[ 4 -5  6  7]\n"
     ]
    }
   ],
   "source": [
    "# 리스트와 ndarray의 차이점 정리\n",
    "print(myList) # 안바뀜 -> 카피해서 새로운걸 만든다.\n",
    "print(myArray) # 바뀜 -> 원본을 바로 바꿔 버린다. -> 메모리 효율성이 뛰어나다"
   ]
  },
  {
   "cell_type": "markdown",
   "metadata": {},
   "source": [
    "#### 2. random() 함수 사용"
   ]
  },
  {
   "cell_type": "code",
   "execution_count": 43,
   "metadata": {},
   "outputs": [
    {
     "name": "stdout",
     "output_type": "stream",
     "text": [
      "[0.58271405 0.33136311 0.96102155 0.4351875  0.70444534]\n",
      "<class 'numpy.ndarray'>\n"
     ]
    },
    {
     "data": {
      "text/plain": [
       "array([], shape=(0, 10, 5), dtype=float64)"
      ]
     },
     "execution_count": 43,
     "metadata": {},
     "output_type": "execute_result"
    }
   ],
   "source": [
    "a = np.random.rand(5) # 0 ~ 1 uniform distribution\n",
    "print(a)\n",
    "print(type(a))"
   ]
  },
  {
   "cell_type": "code",
   "execution_count": 58,
   "metadata": {},
   "outputs": [
    {
     "data": {
      "text/plain": [
       "array([[0.26994553, 0.47619605],\n",
       "       [0.0131362 , 0.33237941],\n",
       "       [0.1745366 , 0.27933534]])"
      ]
     },
     "execution_count": 58,
     "metadata": {},
     "output_type": "execute_result"
    }
   ],
   "source": [
    "np.random.rand(3,2)"
   ]
  },
  {
   "cell_type": "code",
   "execution_count": 98,
   "metadata": {},
   "outputs": [
    {
     "data": {
      "text/plain": [
       "array([8, 3, 4, 7, 5])"
      ]
     },
     "execution_count": 98,
     "metadata": {},
     "output_type": "execute_result"
    }
   ],
   "source": [
    "np.random.randint(1,10,5)"
   ]
  },
  {
   "cell_type": "code",
   "execution_count": 82,
   "metadata": {},
   "outputs": [
    {
     "data": {
      "text/plain": [
       "array([-0.3180202 ,  0.30216296, -0.2561871 ,  0.47296654, -0.33304834,\n",
       "       -0.00471112, -0.08149999, -0.15052392,  2.2581052 , -0.03586144])"
      ]
     },
     "execution_count": 82,
     "metadata": {},
     "output_type": "execute_result"
    }
   ],
   "source": [
    "np.random.randn(10)"
   ]
  },
  {
   "cell_type": "markdown",
   "metadata": {},
   "source": [
    "## 2. numpy배열의 초기화"
   ]
  },
  {
   "cell_type": "code",
   "execution_count": null,
   "metadata": {},
   "outputs": [],
   "source": [
    "'''\n",
    "초기화\n",
    "배열의 생성함과 동시에 특정한 값을 할당(최초가 아님)\n",
    "\n",
    "zeros()\n",
    "ones()\n",
    "arange()\n",
    "rand()\n",
    "'''\n"
   ]
  },
  {
   "cell_type": "code",
   "execution_count": 112,
   "metadata": {},
   "outputs": [
    {
     "name": "stdout",
     "output_type": "stream",
     "text": [
      "[0. 0. 0. 0. 0. 0. 0. 0. 0. 0.]\n",
      "float64\n",
      "[1. 1. 1. 1. 1. 1. 1. 1. 1. 1.]\n",
      "float64\n",
      "[[1. 0. 0.]\n",
      " [0. 1. 0.]\n",
      " [0. 0. 1.]]\n",
      "float64\n",
      "[3 5 7 9]\n"
     ]
    }
   ],
   "source": [
    "#1. zeros()\n",
    "az = np.zeros(10)\n",
    "print(az)\n",
    "print(az.dtype)\n",
    "\n",
    "#2. ones()\n",
    "ao = np.ones(10)\n",
    "print(ao)\n",
    "print(ao.dtype)\n",
    "\n",
    "#3. eye() 단위행렬 생성 \n",
    "ee = np.eye(3) \n",
    "print(ee)\n",
    "print(ee.dtype)\n",
    "\n",
    "#4. arange()\n",
    "print(np.arange(3,10,2))"
   ]
  },
  {
   "cell_type": "code",
   "execution_count": 134,
   "metadata": {},
   "outputs": [
    {
     "data": {
      "text/plain": [
       "array([[4., 4., 4.],\n",
       "       [4., 4., 4.],\n",
       "       [4., 4., 4.]])"
      ]
     },
     "execution_count": 134,
     "metadata": {},
     "output_type": "execute_result"
    }
   ],
   "source": [
    "np.ones([3,3])*4"
   ]
  },
  {
   "cell_type": "code",
   "execution_count": 132,
   "metadata": {},
   "outputs": [
    {
     "data": {
      "text/plain": [
       "array([[4, 4, 4],\n",
       "       [4, 4, 4],\n",
       "       [4, 4, 4]])"
      ]
     },
     "execution_count": 132,
     "metadata": {},
     "output_type": "execute_result"
    }
   ],
   "source": [
    "np.full([3,3],4)"
   ]
  },
  {
   "cell_type": "markdown",
   "metadata": {},
   "source": [
    "## 3. 리스트와 np 배열의 차이점"
   ]
  },
  {
   "cell_type": "code",
   "execution_count": null,
   "metadata": {},
   "outputs": [],
   "source": [
    "'''\n",
    "리스트와 np배열의 차이점을 정리\n",
    "--> 리스트는 서로다른 타입의 값들이 저장이 되는 반면에\n",
    "numpy배열은 하나의 자료형만 저장할 수 있다.\n",
    "이때 저장될때 특징을 가짐 -> 타입이 다르다면 더 큰 메모리를 가지는 타입으로 자동 캐스팅된다.\n",
    "\n",
    "\n",
    "'''"
   ]
  },
  {
   "cell_type": "code",
   "execution_count": 146,
   "metadata": {},
   "outputs": [
    {
     "name": "stdout",
     "output_type": "stream",
     "text": [
      "['1' '2' '3' '4' '5']\n",
      "<class 'numpy.ndarray'>\n",
      "[1. 2. 3. 4. 5.]\n",
      "<class 'numpy.ndarray'>\n"
     ]
    }
   ],
   "source": [
    "narray_1 = np.array(L)\n",
    "print(narray_1)\n",
    "print(type(narray_1))\n",
    "\n",
    "narray_2 = np.array(number)\n",
    "print(narray_2)\n",
    "print(type(narray_2))"
   ]
  },
  {
   "cell_type": "code",
   "execution_count": 165,
   "metadata": {},
   "outputs": [
    {
     "name": "stdout",
     "output_type": "stream",
     "text": [
      "[1. 2. 3. 4. 5.]\n"
     ]
    }
   ],
   "source": [
    "#값의 타입을 명시해서 저장할 수도 있다. 이때 dtype 속성을 사용한다.\n",
    "narray_3 = np.array(L,dtype='float')\n",
    "print(narray_3)"
   ]
  },
  {
   "cell_type": "markdown",
   "metadata": {},
   "source": [
    "## 4. Numpy 배열의 속성\n",
    "-------ndim, shape, reshape, size, type"
   ]
  },
  {
   "cell_type": "code",
   "execution_count": 167,
   "metadata": {},
   "outputs": [],
   "source": [
    "a = np.zeros([3,3])"
   ]
  },
  {
   "cell_type": "code",
   "execution_count": 188,
   "metadata": {},
   "outputs": [
    {
     "name": "stdout",
     "output_type": "stream",
     "text": [
      "2\n",
      "(2, 3)\n",
      "6\n",
      "------------------------------\n",
      "int32\n",
      "<class 'numpy.ndarray'>\n",
      "------------------------------\n",
      "[[1. 2. 3.]\n",
      " [4. 5. 6.]]\n",
      "------------------------------\n",
      "[ 0  1  2  3  4  5  6  7  8  9 10 11 12 13 14 15 16 17 18 19 20 21 22 23\n",
      " 24 25 26 27 28 29 30 31]\n"
     ]
    },
    {
     "data": {
      "text/plain": [
       "array([[ 0,  1,  2,  3],\n",
       "       [ 4,  5,  6,  7],\n",
       "       [ 8,  9, 10, 11],\n",
       "       [12, 13, 14, 15],\n",
       "       [16, 17, 18, 19],\n",
       "       [20, 21, 22, 23],\n",
       "       [24, 25, 26, 27],\n",
       "       [28, 29, 30, 31]])"
      ]
     },
     "execution_count": 188,
     "metadata": {},
     "output_type": "execute_result"
    }
   ],
   "source": [
    "arr1 = np.array([[1.0,2,3],[4,5,6]]).astype('int')\n",
    "arr1\n",
    "\n",
    "# np의 함수를 이용해서\n",
    "# 차원, 몇행몇열, 데이타가 총 몇개인지\n",
    "print(arr1.ndim)\n",
    "print(arr1.shape)\n",
    "print(arr1.size)\n",
    "\n",
    "print('-'*30)\n",
    "print(arr1.dtype) # 값의 타입\n",
    "print(type(arr1)) # 객체타입\n",
    "\n",
    "print('-'*30)\n",
    "# arr1배열 원소 값의 타입을 한번에 바꿀수 있다.\n",
    "# 정수 -> 실수\n",
    "arr1_1 = arr1.astype('float') # float default값 : float64\n",
    "print(arr1_1)\n",
    "\n",
    "print('-'*30)\n",
    "arr2 = np.arange(32)\n",
    "print(arr2)\n",
    "arr2.reshape(8,4)"
   ]
  }
 ],
 "metadata": {
  "kernelspec": {
   "display_name": "Python 3",
   "language": "python",
   "name": "python3"
  },
  "language_info": {
   "codemirror_mode": {
    "name": "ipython",
    "version": 3
   },
   "file_extension": ".py",
   "mimetype": "text/x-python",
   "name": "python",
   "nbconvert_exporter": "python",
   "pygments_lexer": "ipython3",
   "version": "3.7.4"
  }
 },
 "nbformat": 4,
 "nbformat_minor": 2
}
