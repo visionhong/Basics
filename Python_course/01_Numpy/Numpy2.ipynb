{
 "cells": [
  {
   "cell_type": "markdown",
   "metadata": {},
   "source": [
    "## 1. 랜덤함수와 seed값 설정하기"
   ]
  },
  {
   "cell_type": "markdown",
   "metadata": {},
   "source": [
    "#### seed값 설정하기\n",
    "여러명이서 작업힐떼 렌담힌 값이 나오되, 동일한 랜덤한 값이 나오도록 지정하는 방법\n",
    "보통은 한 번만 지정하면 계속해서 사용할 수 있다.  \n",
    "\n",
    "시드값을 설정하지 않을때는 랜덤한 난수값이 어떤 기준으로 만들어질까?  \n",
    "컴퓨터 시각을 기준으로 그때마다 다른 값을 도출하도록 알고리즘이 구현되어져 있다.  \n",
    "시드값은 seed()함수안에 숫자를 넣음(음수는 못씀)으로써 수동으로 값을 만들어내는 알고리즘..  \n",
    "seed(0)  \n",
    "seed(100)  \n",
    "seed(23)  \n",
    "이때 seed()안에 넣는 정수가 동일하면 동일한 알고리즘이 돌기 때문에 같은 수의 난수를 지정받을 수 있다.\n"
   ]
  },
  {
   "cell_type": "code",
   "execution_count": 1,
   "metadata": {},
   "outputs": [],
   "source": [
    "import numpy as np"
   ]
  },
  {
   "cell_type": "code",
   "execution_count": 10,
   "metadata": {},
   "outputs": [],
   "source": [
    "np.random.seed(0)"
   ]
  },
  {
   "cell_type": "code",
   "execution_count": 3,
   "metadata": {},
   "outputs": [
    {
     "data": {
      "text/plain": [
       "array([[ 1.76405235,  0.40015721,  0.97873798,  2.2408932 ],\n",
       "       [ 1.86755799, -0.97727788,  0.95008842, -0.15135721],\n",
       "       [-0.10321885,  0.4105985 ,  0.14404357,  1.45427351],\n",
       "       [ 0.76103773,  0.12167502,  0.44386323,  0.33367433]])"
      ]
     },
     "execution_count": 3,
     "metadata": {},
     "output_type": "execute_result"
    }
   ],
   "source": [
    "arr1 = np.random.randn(4,4)\n",
    "arr1"
   ]
  },
  {
   "cell_type": "code",
   "execution_count": 4,
   "metadata": {},
   "outputs": [
    {
     "data": {
      "text/plain": [
       "array([1, 2, 3, 4, 5, 6, 7, 8, 9])"
      ]
     },
     "execution_count": 4,
     "metadata": {},
     "output_type": "execute_result"
    }
   ],
   "source": [
    "arr2 = np.arange(1,10)\n",
    "arr2"
   ]
  },
  {
   "cell_type": "code",
   "execution_count": 5,
   "metadata": {},
   "outputs": [
    {
     "data": {
      "text/plain": [
       "array([[1, 2, 3],\n",
       "       [4, 5, 6],\n",
       "       [7, 8, 9]])"
      ]
     },
     "execution_count": 5,
     "metadata": {},
     "output_type": "execute_result"
    }
   ],
   "source": [
    "arr3 = arr2.reshape(3,3)\n",
    "arr3"
   ]
  },
  {
   "cell_type": "code",
   "execution_count": 11,
   "metadata": {},
   "outputs": [
    {
     "name": "stdout",
     "output_type": "stream",
     "text": [
      "[[15 10 13 13]\n",
      " [17 19 13 15]\n",
      " [12 14 17 16]\n",
      " [18 18 11 16]]\n",
      "[7 7 8 1 5 9 8 9 4]\n"
     ]
    }
   ],
   "source": [
    "arr4 = np.random.randint(10,20,16).reshape(4,4)\n",
    "print(arr4)\n",
    "\n",
    "arr4_1 = np.random.randint(10,size=9)\n",
    "print(arr4_1)"
   ]
  },
  {
   "cell_type": "markdown",
   "metadata": {},
   "source": [
    "## 2. 인덱싱, 슬라이싱"
   ]
  },
  {
   "cell_type": "code",
   "execution_count": 7,
   "metadata": {},
   "outputs": [
    {
     "name": "stdout",
     "output_type": "stream",
     "text": [
      "[0 1 2 3 4]\n"
     ]
    }
   ],
   "source": [
    "narray = np.arange(5)\n",
    "print(narray)"
   ]
  },
  {
   "cell_type": "code",
   "execution_count": 8,
   "metadata": {},
   "outputs": [
    {
     "name": "stdout",
     "output_type": "stream",
     "text": [
      "1 4\n",
      "[1 2 3 4]\n",
      "[0 1 2 3 4]\n",
      "[0 1 2 3 4]\n",
      "[2 3]\n"
     ]
    }
   ],
   "source": [
    "# 1.인덱싱과 슬라이싱으로 값 추출하기\n",
    "print(narray[1],narray[-1]) # 인덱스에 음수가 붙으면 뒤에서 n번째로 이해\n",
    "print(narray[1:])\n",
    "print(narray[:])\n",
    "print(narray)\n",
    "print(narray[2:4])"
   ]
  },
  {
   "cell_type": "code",
   "execution_count": 12,
   "metadata": {},
   "outputs": [
    {
     "data": {
      "text/plain": [
       "array([[15, 10, 13, 13],\n",
       "       [17, 19, 13, 15],\n",
       "       [12, 14, 17, 16],\n",
       "       [18, 18, 11, 16]])"
      ]
     },
     "execution_count": 12,
     "metadata": {},
     "output_type": "execute_result"
    }
   ],
   "source": [
    "arr4"
   ]
  },
  {
   "cell_type": "code",
   "execution_count": 47,
   "metadata": {},
   "outputs": [
    {
     "name": "stdout",
     "output_type": "stream",
     "text": [
      "13\n",
      "------------------------------\n",
      "[17 19 13 15]\n",
      "[[15 10 13 13]]\n",
      "------------------------------\n",
      "[13 15 16 16]\n",
      "[[13]\n",
      " [15]\n",
      " [16]\n",
      " [16]]\n",
      "------------------------------\n",
      "[[10 13]\n",
      " [19 13]\n",
      " [14 17]\n",
      " [18 11]]\n",
      "------------------------------\n"
     ]
    }
   ],
   "source": [
    "# 1) arr4의 첫번째 줄의 세번째 값\n",
    "print(arr4[0,2])\n",
    "print('-'*30)\n",
    "# 2) arr4의 두번째 줄 다 가져오기\n",
    "print(arr4[1]) # 1차원으로 가져오기\n",
    "print(arr4[:1]) # 2차원으로 가져오기\n",
    "print('-'*30)\n",
    "# 3) arr4 전체 행에 대해서 4번재 열을 가져오기\n",
    "print(arr4[:,-1]) # 1차원으로 가져오기\n",
    "print(arr4[:,3:]) # 2차원으로 가져오기\n",
    "print('-'*30)\n",
    "# 4) arr4 전체 행에 대해서 1,2번째 열을 가지고 오려면\n",
    "print(arr4[:,1:3])\n",
    "print('-'*30)"
   ]
  },
  {
   "cell_type": "markdown",
   "metadata": {},
   "source": [
    "## 3. 인덱싱과 조건 슬라이싱\n",
    "---- 열거된 배열의 값에서 논리연산자 혹은 where 함수를 사용해서 내가 원하는 값을 가져올 수 있어야 한다."
   ]
  },
  {
   "cell_type": "code",
   "execution_count": 56,
   "metadata": {},
   "outputs": [
    {
     "data": {
      "text/plain": [
       "array([[ 1.86755896,  0.90604466, -0.86122569,  1.91006495],\n",
       "       [-0.26800337,  0.8024564 ,  0.94725197, -0.15501009],\n",
       "       [ 0.61407937,  0.92220667,  0.37642553, -1.09940079],\n",
       "       [ 0.29823817,  1.3263859 , -0.69456786, -0.14963454]])"
      ]
     },
     "execution_count": 56,
     "metadata": {},
     "output_type": "execute_result"
    }
   ],
   "source": [
    "arr2 = np.random.randn(4,4)\n"
   ]
  },
  {
   "cell_type": "code",
   "execution_count": 65,
   "metadata": {},
   "outputs": [
    {
     "name": "stdout",
     "output_type": "stream",
     "text": [
      "[[1.86755896 0.90604466 0.         1.91006495]\n",
      " [0.         0.8024564  0.94725197 0.        ]\n",
      " [0.61407937 0.92220667 0.37642553 0.        ]\n",
      " [0.29823817 1.3263859  0.         0.        ]]\n",
      "------------------------------\n",
      "[[1.86755896 0.90604466 0.         1.91006495]\n",
      " [0.         0.8024564  0.94725197 0.        ]\n",
      " [0.61407937 0.92220667 0.37642553 0.        ]\n",
      " [0.29823817 1.3263859  0.         0.        ]]\n",
      "------------------------------\n"
     ]
    }
   ],
   "source": [
    "# 1. 논리연산자 사용\n",
    "# arr2[arr2 < 0]\n",
    "# arr2[arr2 > 0]\n",
    "\n",
    "# 2. 0보다 작은값들(음수)은 전부 다 0으로 바꾸겠다.\n",
    "arr2[arr2 < 0] = 0\n",
    "print(arr2)\n",
    "print('-'*30)\n",
    "\n",
    "# 3. where 함수를 사용\n",
    "arr2_w = np.where(arr2>0, arr2 , 0)\n",
    "print(arr2_w)\n",
    "print('-'*30)"
   ]
  },
  {
   "cell_type": "code",
   "execution_count": 66,
   "metadata": {},
   "outputs": [
    {
     "data": {
      "text/plain": [
       "array([[1, 2],\n",
       "       [3, 4],\n",
       "       [5, 6]])"
      ]
     },
     "execution_count": 66,
     "metadata": {},
     "output_type": "execute_result"
    }
   ],
   "source": [
    "### 중요\n",
    "exama = np.array([[1,2],[3,4],[5,6]])\n",
    "exama"
   ]
  },
  {
   "cell_type": "code",
   "execution_count": 71,
   "metadata": {},
   "outputs": [
    {
     "name": "stdout",
     "output_type": "stream",
     "text": [
      "[3 4 5 6]\n"
     ]
    }
   ],
   "source": [
    "# 2보다 큰값 추출\n",
    "print(exama[exama>2])"
   ]
  },
  {
   "cell_type": "markdown",
   "metadata": {},
   "source": [
    "## 4.Numpy 통계함수\n",
    "---- sum(), min(), max(), mean(), argmax(), argmin(), cumsum()"
   ]
  },
  {
   "cell_type": "code",
   "execution_count": 74,
   "metadata": {},
   "outputs": [
    {
     "data": {
      "text/plain": [
       "array([[15, 10, 13, 13],\n",
       "       [17, 19, 13, 15],\n",
       "       [12, 14, 17, 16],\n",
       "       [18, 18, 11, 16]])"
      ]
     },
     "execution_count": 74,
     "metadata": {},
     "output_type": "execute_result"
    }
   ],
   "source": [
    "arr4"
   ]
  },
  {
   "cell_type": "code",
   "execution_count": 77,
   "metadata": {},
   "outputs": [
    {
     "data": {
      "text/plain": [
       "array([62, 61, 54, 60])"
      ]
     },
     "execution_count": 77,
     "metadata": {},
     "output_type": "execute_result"
    }
   ],
   "source": [
    "np.sum(arr4,axis=0)"
   ]
  },
  {
   "cell_type": "code",
   "execution_count": 79,
   "metadata": {},
   "outputs": [
    {
     "data": {
      "text/plain": [
       "array([3, 1, 2, 2], dtype=int64)"
      ]
     },
     "execution_count": 79,
     "metadata": {},
     "output_type": "execute_result"
    }
   ],
   "source": [
    "np.argmax(arr4,axis=0)"
   ]
  }
 ],
 "metadata": {
  "kernelspec": {
   "display_name": "Python 3",
   "language": "python",
   "name": "python3"
  },
  "language_info": {
   "codemirror_mode": {
    "name": "ipython",
    "version": 3
   },
   "file_extension": ".py",
   "mimetype": "text/x-python",
   "name": "python",
   "nbconvert_exporter": "python",
   "pygments_lexer": "ipython3",
   "version": "3.7.4"
  }
 },
 "nbformat": 4,
 "nbformat_minor": 2
}
