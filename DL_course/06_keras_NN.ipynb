{
  "nbformat": 4,
  "nbformat_minor": 0,
  "metadata": {
    "colab": {
      "name": "06_keras_NN.ipynb",
      "private_outputs": true,
      "provenance": []
    },
    "kernelspec": {
      "name": "python3",
      "display_name": "Python 3"
    }
  },
  "cells": [
    {
      "cell_type": "markdown",
      "metadata": {
        "id": "V7pb0JGzM7cT"
      },
      "source": [
        "    케라스를 사용해서 가장 간단한 모델을 하나 만든다.\r\n",
        "    입력 하나 / 출력도 하나\r\n",
        "\r\n",
        "    케라스 모델 만드는 순서\r\n",
        "    1) 데이타셋 생성\r\n",
        "    2) 시퀀스 모델 생성\r\n",
        "    3) compile() 사용해서 모델의 학습과정을 설정\r\n",
        "    4) fit() 학습을 진행\r\n",
        "    5) predict() 함수로 예측해 봄\r\n",
        "    6) evaluate() 함수 사용해서 평가함\r\n",
        "    7) accuracy 확인하기"
      ]
    },
    {
      "cell_type": "code",
      "metadata": {
        "id": "9smCyBeyNJmw"
      },
      "source": [
        "import keras\r\n",
        "import numpy as np"
      ],
      "execution_count": null,
      "outputs": []
    },
    {
      "cell_type": "code",
      "metadata": {
        "id": "NiYp-j1aNJqP"
      },
      "source": [
        "# 1. 데이터 생성\r\n",
        "x = np.array([0,1,2,3,4])\r\n",
        "y = 2 * x + 1\r\n",
        "print(x)\r\n",
        "print(y)"
      ],
      "execution_count": null,
      "outputs": []
    },
    {
      "cell_type": "code",
      "metadata": {
        "id": "hBSgE0xiNJs0"
      },
      "source": [
        "# 2. 시퀀스 모델 생성\r\n",
        "model = keras.models.Sequential()\r\n",
        "model.add(keras.layers.Dense(1, input_shape=(1,)))\r\n",
        "\r\n",
        "# unit 수 : 히든 레이어 안의 노드 개수,\r\n",
        "# **kwargs: input_shape=(~~)을 써줄 수 있음"
      ],
      "execution_count": null,
      "outputs": []
    },
    {
      "cell_type": "code",
      "metadata": {
        "id": "ZkxSlnK4NJvK"
      },
      "source": [
        "# 3. compile() 사용해서 모델의 학습과정을 설정 -> 어떻게 학습할것인지 지정\r\n",
        "model.compile(optimizer=keras.optimizers.SGD(0.01), loss='mse', metrics=['accuracy'])"
      ],
      "execution_count": null,
      "outputs": []
    },
    {
      "cell_type": "code",
      "metadata": {
        "id": "QDQGqig1NJx5"
      },
      "source": [
        "# 4. 학습진행.. fit()\r\n",
        "model.fit(x[:4], y[:4], epochs=200,verbose=2)"
      ],
      "execution_count": null,
      "outputs": []
    },
    {
      "cell_type": "code",
      "metadata": {
        "id": "zxEbYZoONJ0a"
      },
      "source": [
        "# 5. 예측하기"
      ],
      "execution_count": null,
      "outputs": []
    },
    {
      "cell_type": "code",
      "metadata": {
        "id": "DuQtf_ubOLs1"
      },
      "source": [
        "print('Prediction : ', model.predict(x[4:]).flatten())"
      ],
      "execution_count": null,
      "outputs": []
    },
    {
      "cell_type": "code",
      "metadata": {
        "id": "TrYBdgbvOLyJ"
      },
      "source": [
        "# 6. Evaluation\r\n",
        "loss_function = model.evaluate(x[3:], y[3:])\r\n",
        "# print(loss_function)\r\n",
        "print('Loss:{:.4f}, Accuracy:{}'.format(*loss_function))\r\n",
        "# loss_function이 값을 2개 return하는이 앞에 *을 붙여주면 알아서 나누라는 의미\r\n",
        "# 데이터가 너무 적어서 accuracy가 이상하게 나오지만 잘 예측함"
      ],
      "execution_count": null,
      "outputs": []
    },
    {
      "cell_type": "code",
      "metadata": {
        "id": "q-t6BeZTOL3I"
      },
      "source": [
        ""
      ],
      "execution_count": null,
      "outputs": []
    }
  ]
}