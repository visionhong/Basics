{
  "nbformat": 4,
  "nbformat_minor": 0,
  "metadata": {
    "colab": {
      "name": "07_keras_ANN.ipynb",
      "provenance": [],
      "collapsed_sections": []
    },
    "kernelspec": {
      "name": "python3",
      "display_name": "Python 3"
    },
    "accelerator": "GPU"
  },
  "cells": [
    {
      "cell_type": "code",
      "metadata": {
        "id": "Fx6e-xxwcD1e"
      },
      "source": [
        "import numpy as np\r\n",
        "from keras import datasets\r\n",
        "from keras.utils import np_utils\r\n",
        "from keras import models, layers"
      ],
      "execution_count": null,
      "outputs": []
    },
    {
      "cell_type": "markdown",
      "metadata": {
        "id": "VNJZax5rchmA"
      },
      "source": [
        "# 1. Data Loader"
      ]
    },
    {
      "cell_type": "code",
      "metadata": {
        "id": "njgyOH33cmVs"
      },
      "source": [
        "(X_train, y_train), (X_test, y_test) = datasets.mnist.load_data()"
      ],
      "execution_count": null,
      "outputs": []
    },
    {
      "cell_type": "code",
      "metadata": {
        "colab": {
          "base_uri": "https://localhost:8080/",
          "height": 282
        },
        "id": "4mr-fBvHcnsm",
        "outputId": "820130d8-b0da-4f2a-aeee-7536bef14960"
      },
      "source": [
        "import matplotlib.pyplot as plt\r\n",
        "plt.imshow(X_train[0], cmap='gray')"
      ],
      "execution_count": null,
      "outputs": [
        {
          "output_type": "execute_result",
          "data": {
            "text/plain": [
              "<matplotlib.image.AxesImage at 0x7fa5cd853c50>"
            ]
          },
          "metadata": {
            "tags": []
          },
          "execution_count": 120
        },
        {
          "output_type": "display_data",
          "data": {
            "image/png": "[encoded data removed]",
            "text/plain": [
              "<Figure size 432x288 with 1 Axes>"
            ]
          },
          "metadata": {
            "tags": [],
            "needs_background": "light"
          }
        }
      ]
    },
    {
      "cell_type": "markdown",
      "metadata": {
        "id": "AEpqDw0fcnxS"
      },
      "source": [
        "## 2. X입력 데이터 전처리"
      ]
    },
    {
      "cell_type": "code",
      "metadata": {
        "id": "U8spVWxCeZXF"
      },
      "source": [
        "L,W,H = X_train.shape"
      ],
      "execution_count": null,
      "outputs": []
    },
    {
      "cell_type": "code",
      "metadata": {
        "id": "J0cCh8vScn2V"
      },
      "source": [
        "# fc에 넣기위해 펼침\r\n",
        "X_train = X_train.reshape(-1, W*H)\r\n",
        "X_test = X_test.reshape(-1, H*W)\r\n",
        "# scaling\r\n",
        "X_train = X_train / 255\r\n",
        "X_test = X_test / 255"
      ],
      "execution_count": null,
      "outputs": []
    },
    {
      "cell_type": "code",
      "metadata": {
        "colab": {
          "base_uri": "https://localhost:8080/"
        },
        "id": "1TNh_XB7coCS",
        "outputId": "476ea86b-8890-4c8a-c274-f897447542ca"
      },
      "source": [
        "X_test[0].max()"
      ],
      "execution_count": null,
      "outputs": [
        {
          "output_type": "execute_result",
          "data": {
            "text/plain": [
              "1.0"
            ]
          },
          "metadata": {
            "tags": []
          },
          "execution_count": 123
        }
      ]
    },
    {
      "cell_type": "markdown",
      "metadata": {
        "id": "U0L2ijQpcoE4"
      },
      "source": [
        "## 3. y값 전처리(one-hot-encoding)"
      ]
    },
    {
      "cell_type": "code",
      "metadata": {
        "colab": {
          "base_uri": "https://localhost:8080/"
        },
        "id": "lHg9TdSgewQS",
        "outputId": "5ecfdba5-b5b5-425d-b18d-f539aa0041e2"
      },
      "source": [
        "y_train"
      ],
      "execution_count": null,
      "outputs": [
        {
          "output_type": "execute_result",
          "data": {
            "text/plain": [
              "array([5, 0, 4, ..., 5, 6, 8], dtype=uint8)"
            ]
          },
          "metadata": {
            "tags": []
          },
          "execution_count": 124
        }
      ]
    },
    {
      "cell_type": "code",
      "metadata": {
        "id": "9CpfL2x7gopt"
      },
      "source": [
        "Y_train = np_utils.to_categorical(y_train)\r\n",
        "Y_test = np_utils.to_categorical(y_test)"
      ],
      "execution_count": null,
      "outputs": []
    },
    {
      "cell_type": "code",
      "metadata": {
        "colab": {
          "base_uri": "https://localhost:8080/"
        },
        "id": "5FfwndX8hxM7",
        "outputId": "d3b3b9ef-e3e6-4a29-da95-8cddad5ed356"
      },
      "source": [
        "Y_train.shape"
      ],
      "execution_count": null,
      "outputs": [
        {
          "output_type": "execute_result",
          "data": {
            "text/plain": [
              "(60000, 10)"
            ]
          },
          "metadata": {
            "tags": []
          },
          "execution_count": 126
        }
      ]
    },
    {
      "cell_type": "markdown",
      "metadata": {
        "id": "E1XmO9eKhxTi"
      },
      "source": [
        "## 4. Setting Parameters"
      ]
    },
    {
      "cell_type": "code",
      "metadata": {
        "id": "0OkQvT2riIoL"
      },
      "source": [
        "input_size = 28*28\r\n",
        "hidden_size = 100\r\n",
        "num_classes = 10\r\n",
        "num_out = num_classes\r\n",
        "num_epochs = 50\r\n",
        "batch_size = 100"
      ],
      "execution_count": null,
      "outputs": []
    },
    {
      "cell_type": "markdown",
      "metadata": {
        "id": "iuJAECCTiIua"
      },
      "source": [
        "## 5. Constructor Model"
      ]
    },
    {
      "cell_type": "code",
      "metadata": {
        "id": "y2frSqMmiI0f"
      },
      "source": [
        "model = models.Sequential()\r\n",
        "model.add(layers.Dense(hidden_size, activation='relu', input_shape = (input_size,))) # 역순\r\n",
        "model.add(layers.Dense(num_classes, activation='softmax')) # sequence라서 입력을 넣지 않고 출력만 쓴다."
      ],
      "execution_count": null,
      "outputs": []
    },
    {
      "cell_type": "markdown",
      "metadata": {
        "id": "NCTK-u-DkHyK"
      },
      "source": [
        "## 6. Compile"
      ]
    },
    {
      "cell_type": "code",
      "metadata": {
        "id": "nWddeCuLkn_s"
      },
      "source": [
        "model.compile(optimizer='sgd', loss='categorical_crossentropy', metrics=['accuracy'])"
      ],
      "execution_count": null,
      "outputs": []
    },
    {
      "cell_type": "markdown",
      "metadata": {
        "id": "a7N1NyihlN_U"
      },
      "source": [
        "## 7. Training"
      ]
    },
    {
      "cell_type": "code",
      "metadata": {
        "colab": {
          "base_uri": "https://localhost:8080/"
        },
        "id": "w_mTLQSZlU37",
        "outputId": "5d0ca9aa-5269-458d-cf8d-fdeb01214fe5"
      },
      "source": [
        "model.fit(X_train, Y_train, epochs=num_epochs, batch_size=batch_size, validation_split=0.2, verbose=2)\r\n"
      ],
      "execution_count": null,
      "outputs": [
        {
          "output_type": "stream",
          "text": [
            "Epoch 1/50\n",
            "480/480 - 1s - loss: 1.2244 - accuracy: 0.6945 - val_loss: 0.6619 - val_accuracy: 0.8553\n",
            "Epoch 2/50\n",
            "480/480 - 1s - loss: 0.5791 - accuracy: 0.8582 - val_loss: 0.4600 - val_accuracy: 0.8823\n",
            "Epoch 3/50\n",
            "480/480 - 1s - loss: 0.4549 - accuracy: 0.8805 - val_loss: 0.3916 - val_accuracy: 0.8953\n",
            "Epoch 4/50\n",
            "480/480 - 1s - loss: 0.4002 - accuracy: 0.8920 - val_loss: 0.3546 - val_accuracy: 0.9027\n",
            "Epoch 5/50\n",
            "480/480 - 1s - loss: 0.3681 - accuracy: 0.8985 - val_loss: 0.3318 - val_accuracy: 0.9081\n",
            "Epoch 6/50\n",
            "480/480 - 1s - loss: 0.3458 - accuracy: 0.9035 - val_loss: 0.3163 - val_accuracy: 0.9121\n",
            "Epoch 7/50\n",
            "480/480 - 1s - loss: 0.3292 - accuracy: 0.9083 - val_loss: 0.3033 - val_accuracy: 0.9149\n",
            "Epoch 8/50\n",
            "480/480 - 1s - loss: 0.3156 - accuracy: 0.9118 - val_loss: 0.2923 - val_accuracy: 0.9183\n",
            "Epoch 9/50\n",
            "480/480 - 1s - loss: 0.3041 - accuracy: 0.9143 - val_loss: 0.2832 - val_accuracy: 0.9207\n",
            "Epoch 10/50\n",
            "480/480 - 1s - loss: 0.2942 - accuracy: 0.9166 - val_loss: 0.2755 - val_accuracy: 0.9217\n",
            "Epoch 11/50\n",
            "480/480 - 1s - loss: 0.2854 - accuracy: 0.9195 - val_loss: 0.2681 - val_accuracy: 0.9235\n",
            "Epoch 12/50\n",
            "480/480 - 1s - loss: 0.2774 - accuracy: 0.9220 - val_loss: 0.2620 - val_accuracy: 0.9251\n",
            "Epoch 13/50\n",
            "480/480 - 1s - loss: 0.2701 - accuracy: 0.9241 - val_loss: 0.2564 - val_accuracy: 0.9267\n",
            "Epoch 14/50\n",
            "480/480 - 1s - loss: 0.2636 - accuracy: 0.9260 - val_loss: 0.2517 - val_accuracy: 0.9290\n",
            "Epoch 15/50\n",
            "480/480 - 1s - loss: 0.2572 - accuracy: 0.9281 - val_loss: 0.2461 - val_accuracy: 0.9304\n",
            "Epoch 16/50\n",
            "480/480 - 1s - loss: 0.2515 - accuracy: 0.9289 - val_loss: 0.2411 - val_accuracy: 0.9315\n",
            "Epoch 17/50\n",
            "480/480 - 1s - loss: 0.2461 - accuracy: 0.9308 - val_loss: 0.2365 - val_accuracy: 0.9323\n",
            "Epoch 18/50\n",
            "480/480 - 1s - loss: 0.2409 - accuracy: 0.9323 - val_loss: 0.2326 - val_accuracy: 0.9349\n",
            "Epoch 19/50\n",
            "480/480 - 1s - loss: 0.2359 - accuracy: 0.9337 - val_loss: 0.2290 - val_accuracy: 0.9353\n",
            "Epoch 20/50\n",
            "480/480 - 1s - loss: 0.2314 - accuracy: 0.9346 - val_loss: 0.2248 - val_accuracy: 0.9359\n",
            "Epoch 21/50\n",
            "480/480 - 1s - loss: 0.2268 - accuracy: 0.9358 - val_loss: 0.2216 - val_accuracy: 0.9378\n",
            "Epoch 22/50\n",
            "480/480 - 1s - loss: 0.2226 - accuracy: 0.9372 - val_loss: 0.2182 - val_accuracy: 0.9377\n",
            "Epoch 23/50\n",
            "480/480 - 1s - loss: 0.2185 - accuracy: 0.9380 - val_loss: 0.2140 - val_accuracy: 0.9395\n",
            "Epoch 24/50\n",
            "480/480 - 1s - loss: 0.2146 - accuracy: 0.9392 - val_loss: 0.2115 - val_accuracy: 0.9411\n",
            "Epoch 25/50\n",
            "480/480 - 1s - loss: 0.2108 - accuracy: 0.9405 - val_loss: 0.2084 - val_accuracy: 0.9415\n",
            "Epoch 26/50\n",
            "480/480 - 1s - loss: 0.2074 - accuracy: 0.9413 - val_loss: 0.2057 - val_accuracy: 0.9425\n",
            "Epoch 27/50\n",
            "480/480 - 1s - loss: 0.2038 - accuracy: 0.9425 - val_loss: 0.2031 - val_accuracy: 0.9438\n",
            "Epoch 28/50\n",
            "480/480 - 1s - loss: 0.2003 - accuracy: 0.9429 - val_loss: 0.2001 - val_accuracy: 0.9446\n",
            "Epoch 29/50\n",
            "480/480 - 1s - loss: 0.1972 - accuracy: 0.9444 - val_loss: 0.1977 - val_accuracy: 0.9443\n",
            "Epoch 30/50\n",
            "480/480 - 1s - loss: 0.1940 - accuracy: 0.9450 - val_loss: 0.1955 - val_accuracy: 0.9456\n",
            "Epoch 31/50\n",
            "480/480 - 1s - loss: 0.1910 - accuracy: 0.9463 - val_loss: 0.1927 - val_accuracy: 0.9465\n",
            "Epoch 32/50\n",
            "480/480 - 1s - loss: 0.1878 - accuracy: 0.9469 - val_loss: 0.1902 - val_accuracy: 0.9480\n",
            "Epoch 33/50\n",
            "480/480 - 1s - loss: 0.1849 - accuracy: 0.9477 - val_loss: 0.1881 - val_accuracy: 0.9482\n",
            "Epoch 34/50\n",
            "480/480 - 1s - loss: 0.1822 - accuracy: 0.9487 - val_loss: 0.1856 - val_accuracy: 0.9495\n",
            "Epoch 35/50\n",
            "480/480 - 1s - loss: 0.1796 - accuracy: 0.9496 - val_loss: 0.1833 - val_accuracy: 0.9493\n",
            "Epoch 36/50\n",
            "480/480 - 1s - loss: 0.1769 - accuracy: 0.9502 - val_loss: 0.1812 - val_accuracy: 0.9498\n",
            "Epoch 37/50\n",
            "480/480 - 1s - loss: 0.1742 - accuracy: 0.9509 - val_loss: 0.1792 - val_accuracy: 0.9500\n",
            "Epoch 38/50\n",
            "480/480 - 1s - loss: 0.1717 - accuracy: 0.9519 - val_loss: 0.1773 - val_accuracy: 0.9511\n",
            "Epoch 39/50\n",
            "480/480 - 1s - loss: 0.1692 - accuracy: 0.9530 - val_loss: 0.1756 - val_accuracy: 0.9523\n",
            "Epoch 40/50\n",
            "480/480 - 1s - loss: 0.1668 - accuracy: 0.9534 - val_loss: 0.1737 - val_accuracy: 0.9529\n",
            "Epoch 41/50\n",
            "480/480 - 1s - loss: 0.1646 - accuracy: 0.9537 - val_loss: 0.1716 - val_accuracy: 0.9532\n",
            "Epoch 42/50\n",
            "480/480 - 1s - loss: 0.1623 - accuracy: 0.9544 - val_loss: 0.1701 - val_accuracy: 0.9532\n",
            "Epoch 43/50\n",
            "480/480 - 1s - loss: 0.1602 - accuracy: 0.9551 - val_loss: 0.1681 - val_accuracy: 0.9545\n",
            "Epoch 44/50\n",
            "480/480 - 1s - loss: 0.1580 - accuracy: 0.9559 - val_loss: 0.1667 - val_accuracy: 0.9548\n",
            "Epoch 45/50\n",
            "480/480 - 1s - loss: 0.1559 - accuracy: 0.9564 - val_loss: 0.1648 - val_accuracy: 0.9553\n",
            "Epoch 46/50\n",
            "480/480 - 1s - loss: 0.1538 - accuracy: 0.9568 - val_loss: 0.1644 - val_accuracy: 0.9552\n",
            "Epoch 47/50\n",
            "480/480 - 1s - loss: 0.1518 - accuracy: 0.9574 - val_loss: 0.1621 - val_accuracy: 0.9557\n",
            "Epoch 48/50\n",
            "480/480 - 1s - loss: 0.1499 - accuracy: 0.9580 - val_loss: 0.1603 - val_accuracy: 0.9567\n",
            "Epoch 49/50\n",
            "480/480 - 1s - loss: 0.1480 - accuracy: 0.9590 - val_loss: 0.1591 - val_accuracy: 0.9559\n",
            "Epoch 50/50\n",
            "480/480 - 1s - loss: 0.1462 - accuracy: 0.9595 - val_loss: 0.1578 - val_accuracy: 0.9572\n"
          ],
          "name": "stdout"
        },
        {
          "output_type": "execute_result",
          "data": {
            "text/plain": [
              "<tensorflow.python.keras.callbacks.History at 0x7fa68d34f1d0>"
            ]
          },
          "metadata": {
            "tags": []
          },
          "execution_count": 130
        }
      ]
    },
    {
      "cell_type": "code",
      "metadata": {
        "colab": {
          "base_uri": "https://localhost:8080/",
          "height": 295
        },
        "id": "fu3ThyAGqe2B",
        "outputId": "af3d3000-df62-485c-ee6f-37cfe25ae7bd"
      },
      "source": [
        "plot_loss(model.history)"
      ],
      "execution_count": null,
      "outputs": [
        {
          "output_type": "display_data",
          "data": {
            "image/png": "[encoded data removed]",
            "text/plain": [
              "<Figure size 432x288 with 1 Axes>"
            ]
          },
          "metadata": {
            "tags": [],
            "needs_background": "light"
          }
        }
      ]
    },
    {
      "cell_type": "code",
      "metadata": {
        "colab": {
          "base_uri": "https://localhost:8080/",
          "height": 295
        },
        "id": "2flBy4V-qgSO",
        "outputId": "86495854-f67e-43f4-a005-b0b693bf424b"
      },
      "source": [
        "plot_acc(model.history)"
      ],
      "execution_count": null,
      "outputs": [
        {
          "output_type": "display_data",
          "data": {
            "image/png": "[encoded data removed]",
            "text/plain": [
              "<Figure size 432x288 with 1 Axes>"
            ]
          },
          "metadata": {
            "tags": [],
            "needs_background": "light"
          }
        }
      ]
    },
    {
      "cell_type": "markdown",
      "metadata": {
        "id": "D9506-4gmTVc"
      },
      "source": [
        "## 8. Evaluate"
      ]
    },
    {
      "cell_type": "code",
      "metadata": {
        "colab": {
          "base_uri": "https://localhost:8080/"
        },
        "id": "CEycGkOcmsLM",
        "outputId": "1159c7cc-6d84-4ccc-c26e-aab62579908e"
      },
      "source": [
        "model_performance = model.evaluate(X_test, Y_test)\r\n",
        "print('Loss: {}, Accuracy :{}'.format(*model_performance))"
      ],
      "execution_count": null,
      "outputs": [
        {
          "output_type": "stream",
          "text": [
            "313/313 [==============================] - 1s 2ms/step - loss: 0.1548 - accuracy: 0.9575\n",
            "Loss: 0.15475967526435852, Accuracy :0.9574999809265137\n"
          ],
          "name": "stdout"
        }
      ]
    },
    {
      "cell_type": "markdown",
      "metadata": {
        "id": "GpjVvUfDoQHT"
      },
      "source": [
        "## 9. Loss and Accuracy visualization"
      ]
    },
    {
      "cell_type": "code",
      "metadata": {
        "id": "XFLRors6oQeD"
      },
      "source": [
        "import matplotlib.pyplot as plt\r\n",
        "# plt.plot(range(10),range(100,110)) # 기냥 그래프 나오는지만 확인\r\n",
        "\r\n",
        "# history - 트레이닝할때 나오는 모든 로그 메시지들을 다 모아서 리턴하는 객체정보\r\n",
        "\r\n",
        "# loss 관련된 plot 함수\r\n",
        "def plot_loss(history):\r\n",
        "    plt.plot(history.history['loss'])\r\n",
        "    plt.plot(history.history['val_loss'])\r\n",
        "    plt.title('model Loss')\r\n",
        "    plt.ylabel('Loss')\r\n",
        "    plt.xlabel('Epoch') # X 측이 늘어남에 따라서 Y축이 얼마나 떨어지는가가 궁금한것이다.\r\n",
        "    plt.legend(['Train','Validation'])\r\n",
        "    \r\n",
        "def plot_acc(history):\r\n",
        "    plt.plot(history.history['accuracy'])\r\n",
        "    plt.plot(history.history['val_accuracy'])\r\n",
        "    plt.title('Model Accuracy')\r\n",
        "    plt.ylabel('Accuracy')\r\n",
        "    plt.xlabel('Epoch')\r\n",
        "    plt.legend(['Train','Validation'])"
      ],
      "execution_count": null,
      "outputs": []
    }
  ]
}