{
 "cells": [
  {
   "cell_type": "markdown",
   "metadata": {},
   "source": [
    "    파이토치는 데이터의 기본단위로 텐서를 사용한다.\n",
    "    넘파이에서의 np.array() 함수와 동일하다."
   ]
  },
  {
   "cell_type": "markdown",
   "metadata": {},
   "source": [
    "### Torch Configuration"
   ]
  },
  {
   "cell_type": "code",
   "execution_count": 3,
   "metadata": {},
   "outputs": [],
   "source": [
    "import torch  # 파이토치 프레임워크 불러온다.\n",
    "import torchvision  # 파이토치 내에서도 vision, 이미지 Processing에 특화된 모듈\n",
    "import torch.nn as nn\n",
    "import torchvision.transforms as transforms # 데이터 변형"
   ]
  },
  {
   "cell_type": "markdown",
   "metadata": {},
   "source": [
    "## 1. Forward Propagation"
   ]
  },
  {
   "cell_type": "markdown",
   "metadata": {},
   "source": [
    "### Model Generator"
   ]
  },
  {
   "cell_type": "code",
   "execution_count": 39,
   "metadata": {},
   "outputs": [],
   "source": [
    "x = torch.randn(10,3)\n",
    "y = torch.randn(10,2)\n",
    "\n",
    "linear = nn.Linear(3,2)"
   ]
  },
  {
   "cell_type": "code",
   "execution_count": 40,
   "metadata": {},
   "outputs": [
    {
     "name": "stdout",
     "output_type": "stream",
     "text": [
      "Parameter containing:\n",
      "tensor([[-0.3622,  0.0370, -0.1248],\n",
      "        [-0.0061,  0.2903,  0.5464]], requires_grad=True)\n"
     ]
    }
   ],
   "source": [
    "# 3x2행이 맞지만 내부적으로 transpose를 해서 나오는걸 볼 수 있음\n",
    "print(linear.weight)"
   ]
  },
  {
   "cell_type": "code",
   "execution_count": 41,
   "metadata": {},
   "outputs": [
    {
     "name": "stdout",
     "output_type": "stream",
     "text": [
      "Parameter containing:\n",
      "tensor([0.4067, 0.1125], requires_grad=True)\n"
     ]
    }
   ],
   "source": [
    "# 10x2가 나오지 않는 이유는 bias는 static하기때문에 즉 1x2 행렬이 쭉 같은 값이기 때문에 1x2만 보임 \n",
    "print(linear.bias)"
   ]
  },
  {
   "cell_type": "markdown",
   "metadata": {},
   "source": [
    "### 선정의 - loss fuction, optimization  "
   ]
  },
  {
   "cell_type": "code",
   "execution_count": 46,
   "metadata": {},
   "outputs": [],
   "source": [
    "'''\n",
    "linear.parameters()\n",
    "학습의 주체를 해킹하고 있는 객체\n",
    "parameters() 학습의 주체를 해킹하는 함수\n",
    "즉 parameters() 안에 w,b가 있음\n",
    "'''\n",
    "loss_function = nn.MSELoss()\n",
    "optimizer = torch.optim.SGD(linear.parameters(), lr=0.01)"
   ]
  },
  {
   "cell_type": "code",
   "execution_count": 47,
   "metadata": {},
   "outputs": [],
   "source": [
    "# 모델엗가 입력값을 넣고, 모델이 예측한 값을 출력\n",
    "pred = linear(x)\n",
    "\n",
    "# loss\n",
    "loss = loss_function(pred, y)"
   ]
  },
  {
   "cell_type": "code",
   "execution_count": 49,
   "metadata": {},
   "outputs": [
    {
     "name": "stdout",
     "output_type": "stream",
     "text": [
      "loss before step BackPropagation:  1.709670066833496\n"
     ]
    }
   ],
   "source": [
    "# pytorch는 기본으로 tensor자료형이기 때문에 값만 뽑을때는 .item()사용\n",
    "print('loss before step BackPropagation: ',loss.item()) "
   ]
  },
  {
   "cell_type": "markdown",
   "metadata": {},
   "source": [
    "## 2. Back propagation"
   ]
  },
  {
   "cell_type": "code",
   "execution_count": 51,
   "metadata": {},
   "outputs": [],
   "source": [
    "loss.backward() # Loss값에 따른 weight, bias값의 미분 계싼"
   ]
  },
  {
   "cell_type": "code",
   "execution_count": 52,
   "metadata": {},
   "outputs": [
    {
     "name": "stdout",
     "output_type": "stream",
     "text": [
      "dL, dW : tensor([[-0.6689,  0.7578, -0.7872],\n",
      "        [ 0.1255,  0.3295,  0.6209]])\n",
      "dL, db : tensor([0.5864, 0.2842])\n"
     ]
    }
   ],
   "source": [
    "print('dL, dW :', linear.weight.grad)\n",
    "print('dL, db :', linear.bias.grad)"
   ]
  },
  {
   "cell_type": "code",
   "execution_count": 53,
   "metadata": {},
   "outputs": [],
   "source": [
    "optimizer.step() # # 이때 위에서 변경된 값으로 하강을 진행한다."
   ]
  },
  {
   "cell_type": "code",
   "execution_count": 54,
   "metadata": {},
   "outputs": [
    {
     "name": "stdout",
     "output_type": "stream",
     "text": [
      "Loss after Step BackPropagation 1.6841391324996948\n"
     ]
    }
   ],
   "source": [
    "# 반복효과\n",
    "pred = linear(x)\n",
    "loss = loss_function(pred, y)\n",
    "print('Loss after Step BackPropagation', loss.item())"
   ]
  },
  {
   "cell_type": "code",
   "execution_count": null,
   "metadata": {},
   "outputs": [],
   "source": []
  }
 ],
 "metadata": {
  "kernelspec": {
   "display_name": "Python 3",
   "language": "python",
   "name": "python3"
  },
  "language_info": {
   "codemirror_mode": {
    "name": "ipython",
    "version": 3
   },
   "file_extension": ".py",
   "mimetype": "text/x-python",
   "name": "python",
   "nbconvert_exporter": "python",
   "pygments_lexer": "ipython3",
   "version": "3.7.4"
  }
 },
 "nbformat": 4,
 "nbformat_minor": 2
}
