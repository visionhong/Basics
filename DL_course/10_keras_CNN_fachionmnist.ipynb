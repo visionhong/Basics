{
  "nbformat": 4,
  "nbformat_minor": 0,
  "metadata": {
    "colab": {
      "name": "10_keras_CNN_fachionmnist.ipynb",
      "provenance": []
    },
    "kernelspec": {
      "name": "python3",
      "display_name": "Python 3"
    },
    "accelerator": "GPU"
  },
  "cells": [
    {
      "cell_type": "code",
      "metadata": {
        "id": "4bJjIScCrKX-"
      },
      "source": [
        "import keras\r\n",
        "from keras import models, layers\r\n",
        "from keras import datasets\r\n",
        "from keras import backend\r\n",
        "import numpy as np\r\n",
        "import matplotlib.pyplot as plt"
      ],
      "execution_count": 656,
      "outputs": []
    },
    {
      "cell_type": "code",
      "metadata": {
        "id": "-vRd0j01rcWi"
      },
      "source": [
        "num_classes = 10\r\n",
        "(X_train, y_train), (X_test, y_test) = datasets.fashion_mnist.load_data()"
      ],
      "execution_count": 657,
      "outputs": []
    },
    {
      "cell_type": "code",
      "metadata": {
        "id": "boFrprdHrdY5"
      },
      "source": [
        "N,H,W = X_train.shape\r\n",
        "\r\n",
        "if backend.image_data_format() == 'channels_first':\r\n",
        "    X_train = X_train[:,np.newaxis,:,:]\r\n",
        "    X_test = X_test[:,np.newaxis,:,:]\r\n",
        "    input_shape = (1, H, W)\r\n",
        "\r\n",
        "elif backend.image_data_format() == 'channels_last':\r\n",
        "    X_train = X_train[:,:,:,np.newaxis]\r\n",
        "    X_test = X_test[:,:,:,np.newaxis]\r\n",
        "    input_shape = (H, W, 1)"
      ],
      "execution_count": 658,
      "outputs": []
    },
    {
      "cell_type": "code",
      "metadata": {
        "id": "f0I-MYLNrjTR"
      },
      "source": [
        "X_train = X_train / 255\r\n",
        "X_test = X_test / 255\r\n",
        "\r\n",
        "Y_train = keras.utils.to_categorical(y_train)\r\n",
        "Y_test = keras.utils.to_categorical(y_test)"
      ],
      "execution_count": 659,
      "outputs": []
    },
    {
      "cell_type": "code",
      "metadata": {
        "id": "UgLYF2grrouN"
      },
      "source": [
        "model = keras.Sequential()\r\n",
        "model.add(layers.Conv2D(32, kernel_size=(3,3), padding='same', input_shape = input_shape)) \r\n",
        "model.add(layers.BatchNormalization())\r\n",
        "model.add(layers.Activation('relu'))\r\n",
        "\r\n",
        "model.add(layers.Conv2D(32, kernel_size=(3,3), padding='same'))  \r\n",
        "model.add(layers.BatchNormalization())\r\n",
        "model.add(layers.Activation('relu'))\r\n",
        "model.add(layers.Dropout(0.20))\r\n",
        "\r\n",
        "\r\n",
        "model.add(layers.Conv2D(64, kernel_size=(3,3), padding='same'))  \r\n",
        "model.add(layers.BatchNormalization())\r\n",
        "model.add(layers.Activation('relu'))\r\n",
        "model.add(layers.MaxPool2D(pool_size=(2,2)))\r\n",
        "model.add(layers.Conv2D(64, kernel_size=(3,3), padding='same'))  \r\n",
        "model.add(layers.BatchNormalization())\r\n",
        "model.add(layers.Activation('relu'))\r\n",
        "model.add(layers.MaxPool2D(pool_size=(2,2)))\r\n",
        "model.add(layers.Dropout(0.4))\r\n",
        "\r\n",
        "\r\n",
        "model.add(layers.Flatten())  \r\n",
        "\r\n",
        "model.add(layers.Dense(512)) \r\n",
        "model.add(layers.BatchNormalization())\r\n",
        "model.add(layers.Activation('relu'))\r\n",
        "model.add(layers.Dropout(0.4))\r\n",
        "\r\n",
        "\r\n",
        "model.add(layers.Dense(64)) \r\n",
        "model.add(layers.BatchNormalization())\r\n",
        "model.add(layers.Activation('relu'))\r\n",
        "\r\n",
        "\r\n",
        "model.add(layers.Dense(num_classes, activation='softmax'))  "
      ],
      "execution_count": 660,
      "outputs": []
    },
    {
      "cell_type": "code",
      "metadata": {
        "id": "VvXFDa63shGf"
      },
      "source": [
        ""
      ],
      "execution_count": 660,
      "outputs": []
    },
    {
      "cell_type": "code",
      "metadata": {
        "colab": {
          "base_uri": "https://localhost:8080/"
        },
        "id": "RvP0JB-jr62o",
        "outputId": "40572fec-0646-45dd-e3e5-90c6094afcec"
      },
      "source": [
        "model.summary()"
      ],
      "execution_count": 661,
      "outputs": [
        {
          "output_type": "stream",
          "text": [
            "Model: \"sequential_50\"\n",
            "_________________________________________________________________\n",
            "Layer (type)                 Output Shape              Param #   \n",
            "=================================================================\n",
            "conv2d_192 (Conv2D)          (None, 28, 28, 32)        320       \n",
            "_________________________________________________________________\n",
            "batch_normalization_297 (Bat (None, 28, 28, 32)        128       \n",
            "_________________________________________________________________\n",
            "activation_297 (Activation)  (None, 28, 28, 32)        0         \n",
            "_________________________________________________________________\n",
            "conv2d_193 (Conv2D)          (None, 28, 28, 32)        9248      \n",
            "_________________________________________________________________\n",
            "batch_normalization_298 (Bat (None, 28, 28, 32)        128       \n",
            "_________________________________________________________________\n",
            "activation_298 (Activation)  (None, 28, 28, 32)        0         \n",
            "_________________________________________________________________\n",
            "dropout_186 (Dropout)        (None, 28, 28, 32)        0         \n",
            "_________________________________________________________________\n",
            "conv2d_194 (Conv2D)          (None, 28, 28, 64)        18496     \n",
            "_________________________________________________________________\n",
            "batch_normalization_299 (Bat (None, 28, 28, 64)        256       \n",
            "_________________________________________________________________\n",
            "activation_299 (Activation)  (None, 28, 28, 64)        0         \n",
            "_________________________________________________________________\n",
            "max_pooling2d_92 (MaxPooling (None, 14, 14, 64)        0         \n",
            "_________________________________________________________________\n",
            "conv2d_195 (Conv2D)          (None, 14, 14, 64)        36928     \n",
            "_________________________________________________________________\n",
            "batch_normalization_300 (Bat (None, 14, 14, 64)        256       \n",
            "_________________________________________________________________\n",
            "activation_300 (Activation)  (None, 14, 14, 64)        0         \n",
            "_________________________________________________________________\n",
            "max_pooling2d_93 (MaxPooling (None, 7, 7, 64)          0         \n",
            "_________________________________________________________________\n",
            "dropout_187 (Dropout)        (None, 7, 7, 64)          0         \n",
            "_________________________________________________________________\n",
            "flatten_49 (Flatten)         (None, 3136)              0         \n",
            "_________________________________________________________________\n",
            "dense_161 (Dense)            (None, 512)               1606144   \n",
            "_________________________________________________________________\n",
            "batch_normalization_301 (Bat (None, 512)               2048      \n",
            "_________________________________________________________________\n",
            "activation_301 (Activation)  (None, 512)               0         \n",
            "_________________________________________________________________\n",
            "dropout_188 (Dropout)        (None, 512)               0         \n",
            "_________________________________________________________________\n",
            "dense_162 (Dense)            (None, 64)                32832     \n",
            "_________________________________________________________________\n",
            "batch_normalization_302 (Bat (None, 64)                256       \n",
            "_________________________________________________________________\n",
            "activation_302 (Activation)  (None, 64)                0         \n",
            "_________________________________________________________________\n",
            "dense_163 (Dense)            (None, 10)                650       \n",
            "=================================================================\n",
            "Total params: 1,707,690\n",
            "Trainable params: 1,706,154\n",
            "Non-trainable params: 1,536\n",
            "_________________________________________________________________\n"
          ],
          "name": "stdout"
        }
      ]
    },
    {
      "cell_type": "code",
      "metadata": {
        "id": "mr6Myz6rrowX"
      },
      "source": [
        "adam = keras.optimizers.Adam(learning_rate = 0.001)\r\n",
        "model.compile(loss='categorical_crossentropy', optimizer=adam, metrics=['accuracy'])"
      ],
      "execution_count": 662,
      "outputs": []
    },
    {
      "cell_type": "code",
      "metadata": {
        "colab": {
          "base_uri": "https://localhost:8080/"
        },
        "id": "31xC4Zukroyk",
        "outputId": "f14c5a06-2cb2-4781-d73c-ee31a60964f8"
      },
      "source": [
        "model.fit(X_train, Y_train, batch_size=100, epochs=50, validation_split=.2, verbose=2)"
      ],
      "execution_count": 663,
      "outputs": [
        {
          "output_type": "stream",
          "text": [
            "Epoch 1/50\n",
            "480/480 - 5s - loss: 0.4688 - accuracy: 0.8378 - val_loss: 0.5534 - val_accuracy: 0.8027\n",
            "Epoch 2/50\n",
            "480/480 - 4s - loss: 0.2903 - accuracy: 0.8946 - val_loss: 0.2423 - val_accuracy: 0.9119\n",
            "Epoch 3/50\n",
            "480/480 - 4s - loss: 0.2513 - accuracy: 0.9078 - val_loss: 0.2180 - val_accuracy: 0.9185\n",
            "Epoch 4/50\n",
            "480/480 - 4s - loss: 0.2280 - accuracy: 0.9155 - val_loss: 0.2287 - val_accuracy: 0.9168\n",
            "Epoch 5/50\n",
            "480/480 - 4s - loss: 0.2094 - accuracy: 0.9230 - val_loss: 0.1909 - val_accuracy: 0.9313\n",
            "Epoch 6/50\n",
            "480/480 - 4s - loss: 0.1940 - accuracy: 0.9287 - val_loss: 0.1787 - val_accuracy: 0.9334\n",
            "Epoch 7/50\n",
            "480/480 - 4s - loss: 0.1821 - accuracy: 0.9323 - val_loss: 0.1921 - val_accuracy: 0.9319\n",
            "Epoch 8/50\n",
            "480/480 - 4s - loss: 0.1758 - accuracy: 0.9344 - val_loss: 0.1763 - val_accuracy: 0.9349\n",
            "Epoch 9/50\n",
            "480/480 - 4s - loss: 0.1650 - accuracy: 0.9391 - val_loss: 0.3042 - val_accuracy: 0.8913\n",
            "Epoch 10/50\n",
            "480/480 - 4s - loss: 0.1561 - accuracy: 0.9408 - val_loss: 0.1717 - val_accuracy: 0.9368\n",
            "Epoch 11/50\n",
            "480/480 - 4s - loss: 0.1439 - accuracy: 0.9473 - val_loss: 0.1861 - val_accuracy: 0.9336\n",
            "Epoch 12/50\n",
            "480/480 - 4s - loss: 0.1390 - accuracy: 0.9482 - val_loss: 0.1691 - val_accuracy: 0.9398\n",
            "Epoch 13/50\n",
            "480/480 - 4s - loss: 0.1323 - accuracy: 0.9507 - val_loss: 0.1840 - val_accuracy: 0.9332\n",
            "Epoch 14/50\n",
            "480/480 - 4s - loss: 0.1245 - accuracy: 0.9538 - val_loss: 0.1847 - val_accuracy: 0.9334\n",
            "Epoch 15/50\n",
            "480/480 - 4s - loss: 0.1156 - accuracy: 0.9574 - val_loss: 0.1841 - val_accuracy: 0.9358\n",
            "Epoch 16/50\n",
            "480/480 - 4s - loss: 0.1146 - accuracy: 0.9578 - val_loss: 0.1709 - val_accuracy: 0.9408\n",
            "Epoch 17/50\n",
            "480/480 - 4s - loss: 0.1059 - accuracy: 0.9605 - val_loss: 0.1768 - val_accuracy: 0.9390\n",
            "Epoch 18/50\n",
            "480/480 - 4s - loss: 0.0999 - accuracy: 0.9629 - val_loss: 0.1688 - val_accuracy: 0.9412\n",
            "Epoch 19/50\n",
            "480/480 - 4s - loss: 0.0974 - accuracy: 0.9642 - val_loss: 0.1739 - val_accuracy: 0.9415\n",
            "Epoch 20/50\n",
            "480/480 - 4s - loss: 0.0941 - accuracy: 0.9640 - val_loss: 0.1682 - val_accuracy: 0.9420\n",
            "Epoch 21/50\n",
            "480/480 - 4s - loss: 0.0908 - accuracy: 0.9666 - val_loss: 0.1862 - val_accuracy: 0.9392\n",
            "Epoch 22/50\n",
            "480/480 - 4s - loss: 0.0831 - accuracy: 0.9690 - val_loss: 0.1701 - val_accuracy: 0.9445\n",
            "Epoch 23/50\n",
            "480/480 - 4s - loss: 0.0831 - accuracy: 0.9689 - val_loss: 0.1668 - val_accuracy: 0.9449\n",
            "Epoch 24/50\n",
            "480/480 - 4s - loss: 0.0791 - accuracy: 0.9704 - val_loss: 0.1777 - val_accuracy: 0.9402\n",
            "Epoch 25/50\n",
            "480/480 - 4s - loss: 0.0736 - accuracy: 0.9720 - val_loss: 0.1805 - val_accuracy: 0.9420\n",
            "Epoch 26/50\n",
            "480/480 - 4s - loss: 0.0724 - accuracy: 0.9727 - val_loss: 0.1829 - val_accuracy: 0.9426\n",
            "Epoch 27/50\n",
            "480/480 - 4s - loss: 0.0714 - accuracy: 0.9735 - val_loss: 0.1868 - val_accuracy: 0.9431\n",
            "Epoch 28/50\n",
            "480/480 - 4s - loss: 0.0663 - accuracy: 0.9753 - val_loss: 0.1977 - val_accuracy: 0.9391\n",
            "Epoch 29/50\n",
            "480/480 - 4s - loss: 0.0634 - accuracy: 0.9766 - val_loss: 0.1839 - val_accuracy: 0.9434\n",
            "Epoch 30/50\n",
            "480/480 - 4s - loss: 0.0637 - accuracy: 0.9763 - val_loss: 0.2214 - val_accuracy: 0.9327\n",
            "Epoch 31/50\n",
            "480/480 - 4s - loss: 0.0607 - accuracy: 0.9777 - val_loss: 0.1887 - val_accuracy: 0.9412\n",
            "Epoch 32/50\n",
            "480/480 - 4s - loss: 0.0574 - accuracy: 0.9783 - val_loss: 0.1831 - val_accuracy: 0.9421\n",
            "Epoch 33/50\n",
            "480/480 - 4s - loss: 0.0550 - accuracy: 0.9787 - val_loss: 0.1890 - val_accuracy: 0.9435\n",
            "Epoch 34/50\n",
            "480/480 - 4s - loss: 0.0561 - accuracy: 0.9792 - val_loss: 0.1907 - val_accuracy: 0.9435\n",
            "Epoch 35/50\n",
            "480/480 - 4s - loss: 0.0541 - accuracy: 0.9802 - val_loss: 0.1875 - val_accuracy: 0.9436\n",
            "Epoch 36/50\n",
            "480/480 - 4s - loss: 0.0494 - accuracy: 0.9812 - val_loss: 0.1894 - val_accuracy: 0.9454\n",
            "Epoch 37/50\n",
            "480/480 - 4s - loss: 0.0519 - accuracy: 0.9809 - val_loss: 0.1886 - val_accuracy: 0.9448\n",
            "Epoch 38/50\n",
            "480/480 - 4s - loss: 0.0475 - accuracy: 0.9820 - val_loss: 0.2075 - val_accuracy: 0.9418\n",
            "Epoch 39/50\n",
            "480/480 - 4s - loss: 0.0475 - accuracy: 0.9829 - val_loss: 0.1935 - val_accuracy: 0.9447\n",
            "Epoch 40/50\n",
            "480/480 - 4s - loss: 0.0444 - accuracy: 0.9826 - val_loss: 0.2051 - val_accuracy: 0.9448\n",
            "Epoch 41/50\n",
            "480/480 - 4s - loss: 0.0479 - accuracy: 0.9823 - val_loss: 0.2032 - val_accuracy: 0.9438\n",
            "Epoch 42/50\n",
            "480/480 - 4s - loss: 0.0485 - accuracy: 0.9821 - val_loss: 0.2104 - val_accuracy: 0.9377\n",
            "Epoch 43/50\n",
            "480/480 - 4s - loss: 0.0428 - accuracy: 0.9850 - val_loss: 0.2143 - val_accuracy: 0.9430\n",
            "Epoch 44/50\n",
            "480/480 - 4s - loss: 0.0426 - accuracy: 0.9845 - val_loss: 0.2056 - val_accuracy: 0.9440\n",
            "Epoch 45/50\n",
            "480/480 - 4s - loss: 0.0433 - accuracy: 0.9845 - val_loss: 0.2033 - val_accuracy: 0.9416\n",
            "Epoch 46/50\n",
            "480/480 - 4s - loss: 0.0413 - accuracy: 0.9854 - val_loss: 0.2073 - val_accuracy: 0.9454\n",
            "Epoch 47/50\n",
            "480/480 - 4s - loss: 0.0391 - accuracy: 0.9858 - val_loss: 0.2124 - val_accuracy: 0.9420\n",
            "Epoch 48/50\n",
            "480/480 - 4s - loss: 0.0395 - accuracy: 0.9858 - val_loss: 0.2067 - val_accuracy: 0.9438\n",
            "Epoch 49/50\n",
            "480/480 - 4s - loss: 0.0401 - accuracy: 0.9855 - val_loss: 0.2153 - val_accuracy: 0.9439\n",
            "Epoch 50/50\n",
            "480/480 - 4s - loss: 0.0412 - accuracy: 0.9846 - val_loss: 0.2130 - val_accuracy: 0.9445\n"
          ],
          "name": "stdout"
        },
        {
          "output_type": "execute_result",
          "data": {
            "text/plain": [
              "<tensorflow.python.keras.callbacks.History at 0x7f058f5ec2e8>"
            ]
          },
          "metadata": {
            "tags": []
          },
          "execution_count": 663
        }
      ]
    },
    {
      "cell_type": "code",
      "metadata": {
        "id": "YGQy5XwWro02"
      },
      "source": [
        "def plot_loss(history):\r\n",
        "    plt.plot(history.history['loss'])\r\n",
        "    plt.plot(history.history['val_loss'])\r\n",
        "    plt.title('model Loss')\r\n",
        "    plt.ylabel('Loss')\r\n",
        "    plt.xlabel('Epoch') # X 측이 늘어남에 따라서 Y축이 얼마나 떨어지는가가 궁금한것이다.\r\n",
        "    plt.legend(['Train','Validation'])\r\n",
        "    plt.savefig('Loss_Plot.png', dpi=300)\r\n",
        "    plt.show()\r\n",
        "\r\n",
        "def plot_acc(history):\r\n",
        "    plt.plot(history.history['accuracy'])\r\n",
        "    plt.plot(history.history['val_accuracy'])\r\n",
        "    plt.title('Model Accuracy')\r\n",
        "    plt.ylabel('Accuracy')\r\n",
        "    plt.xlabel('Epoch')\r\n",
        "    plt.legend(['Train','Validation'])\r\n",
        "    plt.savefig('zAcc_Plot.png', dpi=300)\r\n",
        "    plt.show()"
      ],
      "execution_count": 664,
      "outputs": []
    },
    {
      "cell_type": "code",
      "metadata": {
        "colab": {
          "base_uri": "https://localhost:8080/",
          "height": 295
        },
        "id": "19Qsx1Dvro3K",
        "outputId": "0adeed5f-6b4a-4442-a548-4b0864ac5ca7"
      },
      "source": [
        "plot_loss(model.history)"
      ],
      "execution_count": 665,
      "outputs": [
        {
          "output_type": "display_data",
          "data": {
            "image/png": "[encoded data removed]",
            "text/plain": [
              "<Figure size 432x288 with 1 Axes>"
            ]
          },
          "metadata": {
            "tags": [],
            "needs_background": "light"
          }
        }
      ]
    },
    {
      "cell_type": "code",
      "metadata": {
        "colab": {
          "base_uri": "https://localhost:8080/",
          "height": 295
        },
        "id": "Tg7XgrI8ro5h",
        "outputId": "4d918b06-9407-4217-bb83-5c92f96dfc55"
      },
      "source": [
        "plot_acc(model.history)"
      ],
      "execution_count": 666,
      "outputs": [
        {
          "output_type": "display_data",
          "data": {
            "image/png": "[encoded data removed]",
            "text/plain": [
              "<Figure size 432x288 with 1 Axes>"
            ]
          },
          "metadata": {
            "tags": [],
            "needs_background": "light"
          }
        }
      ]
    },
    {
      "cell_type": "code",
      "metadata": {
        "colab": {
          "base_uri": "https://localhost:8080/"
        },
        "id": "swIorGYtro76",
        "outputId": "69c64433-c40b-4f21-a956-c184f06cc5fb"
      },
      "source": [
        "# evaluation\r\n",
        "model_performance = model.evaluate(X_test, Y_test, batch_size=100)\r\n",
        "print('loss: {}\\nAccuray: {}'.format(*model_performance))"
      ],
      "execution_count": 667,
      "outputs": [
        {
          "output_type": "stream",
          "text": [
            "100/100 [==============================] - 0s 3ms/step - loss: 0.2401 - accuracy: 0.9435\n",
            "loss: 0.24013271927833557\n",
            "Accuray: 0.9434999823570251\n"
          ],
          "name": "stdout"
        }
      ]
    },
    {
      "cell_type": "code",
      "metadata": {
        "id": "eI4N-Nvzro-N"
      },
      "source": [
        "model.save('my_model.h5')"
      ],
      "execution_count": 668,
      "outputs": []
    },
    {
      "cell_type": "code",
      "metadata": {
        "id": "u_O-H0BRrpFI"
      },
      "source": [
        ""
      ],
      "execution_count": 668,
      "outputs": []
    },
    {
      "cell_type": "code",
      "metadata": {
        "id": "VWuJ_PzDrpHk"
      },
      "source": [
        ""
      ],
      "execution_count": 668,
      "outputs": []
    }
  ]
}