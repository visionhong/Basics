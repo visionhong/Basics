{
  "nbformat": 4,
  "nbformat_minor": 0,
  "metadata": {
    "colab": {
      "name": "08_keras_DNN.ipynb",
      "provenance": [],
      "collapsed_sections": []
    },
    "kernelspec": {
      "name": "python3",
      "display_name": "Python 3"
    },
    "accelerator": "GPU"
  },
  "cells": [
    {
      "cell_type": "code",
      "metadata": {
        "id": "shU3Wd6ruuXy"
      },
      "source": [
        "import numpy as np\r\n",
        "from keras import datasets\r\n",
        "from keras.utils import np_utils\r\n",
        "from keras import models, layers\r\n",
        "\r\n",
        "import matplotlib.pyplot as plt"
      ],
      "execution_count": null,
      "outputs": []
    },
    {
      "cell_type": "markdown",
      "metadata": {
        "id": "uSOH8ozNvIIL"
      },
      "source": [
        "### FashionMNIST 데이터를 가지고 와서 레이어 2개 이상의 NN을 만들어보자"
      ]
    },
    {
      "cell_type": "code",
      "metadata": {
        "colab": {
          "base_uri": "https://localhost:8080/"
        },
        "id": "iZTZMKa6vyyi",
        "outputId": "eabfedb8-302d-4d2f-c226-0ec59ad3876b"
      },
      "source": [
        "(X_train, y_train), (X_test, y_test) = datasets.fashion_mnist.load_data()"
      ],
      "execution_count": null,
      "outputs": [
        {
          "output_type": "stream",
          "text": [
            "Downloading data from https://storage.googleapis.com/tensorflow/tf-keras-datasets/train-labels-idx1-ubyte.gz\n",
            "32768/29515 [=================================] - 0s 0us/step\n",
            "Downloading data from https://storage.googleapis.com/tensorflow/tf-keras-datasets/train-images-idx3-ubyte.gz\n",
            "26427392/26421880 [==============================] - 0s 0us/step\n",
            "Downloading data from https://storage.googleapis.com/tensorflow/tf-keras-datasets/t10k-labels-idx1-ubyte.gz\n",
            "8192/5148 [===============================================] - 0s 0us/step\n",
            "Downloading data from https://storage.googleapis.com/tensorflow/tf-keras-datasets/t10k-images-idx3-ubyte.gz\n",
            "4423680/4422102 [==============================] - 0s 0us/step\n"
          ],
          "name": "stdout"
        }
      ]
    },
    {
      "cell_type": "markdown",
      "metadata": {
        "id": "2PXpKBf8v95k"
      },
      "source": [
        "    **Fashion_mnist**\r\n",
        "\r\n",
        "    0\tT-shirt/top\r\n",
        "    1\tTrouser\r\n",
        "    2\tPullover\r\n",
        "    3\tDress\r\n",
        "    4\tCoat\r\n",
        "    5\tSandal\r\n",
        "    6\tShirt\r\n",
        "    7\tSneaker\r\n",
        "    8\tBag\r\n",
        "    9\tAnkle boot\r\n"
      ]
    },
    {
      "cell_type": "code",
      "metadata": {
        "colab": {
          "base_uri": "https://localhost:8080/",
          "height": 282
        },
        "id": "Wb2IYmEbw02s",
        "outputId": "2ea66fd5-f9cb-452c-bcb5-a015ad2d09df"
      },
      "source": [
        "plt.imshow(X_train[5], cmap='gray')"
      ],
      "execution_count": null,
      "outputs": [
        {
          "output_type": "execute_result",
          "data": {
            "text/plain": [
              "<matplotlib.image.AxesImage at 0x7f0417b23048>"
            ]
          },
          "metadata": {
            "tags": []
          },
          "execution_count": 3
        },
        {
          "output_type": "display_data",
          "data": {
            "image/png": "[encoded data removed]",
            "text/plain": [
              "<Figure size 432x288 with 1 Axes>"
            ]
          },
          "metadata": {
            "tags": [],
            "needs_background": "light"
          }
        }
      ]
    },
    {
      "cell_type": "code",
      "metadata": {
        "id": "E36THWYhxFuU"
      },
      "source": [
        "# preprocessing\r\n",
        "X_train = X_train.reshape(-1, X_train.shape[1] * X_train.shape[2]) / 255\r\n",
        "X_test = X_test.reshape(-1, X_test.shape[1] * X_test.shape[2]) / 255\r\n",
        "\r\n",
        "y_train = np_utils.to_categorical(y_train)\r\n",
        "y_test = np_utils.to_categorical(y_test)"
      ],
      "execution_count": null,
      "outputs": []
    },
    {
      "cell_type": "code",
      "metadata": {
        "id": "mc-Pfmq0xF2o"
      },
      "source": [
        "# model define\r\n",
        "model = models.Sequential()\r\n",
        "model.add(layers.Dense(100, activation='relu', input_shape=(784,)))\r\n",
        "model.add(layers.Dropout(.4))\r\n",
        "model.add(layers.Dense(50, activation='relu'))\r\n",
        "model.add(layers.Dropout(.4))\r\n",
        "model.add(layers.Dense(10, activation='softmax'))"
      ],
      "execution_count": null,
      "outputs": []
    },
    {
      "cell_type": "code",
      "metadata": {
        "id": "GQpzxB_nxF6U"
      },
      "source": [
        "model.compile('adam','categorical_crossentropy', metrics=['accuracy'])"
      ],
      "execution_count": null,
      "outputs": []
    },
    {
      "cell_type": "code",
      "metadata": {
        "id": "n2qnTM98zpqc"
      },
      "source": [
        "def plot_loss(history):\r\n",
        "    plt.plot(history.history['loss'])\r\n",
        "    plt.plot(history.history['val_loss'])\r\n",
        "    plt.title('model Loss')\r\n",
        "    plt.ylabel('Loss')\r\n",
        "    plt.xlabel('Epoch') # X 측이 늘어남에 따라서 Y축이 얼마나 떨어지는가가 궁금한것이다.\r\n",
        "    plt.legend(['Train','Validation'])\r\n",
        "    \r\n",
        "def plot_acc(history):\r\n",
        "    plt.plot(history.history['accuracy'])\r\n",
        "    plt.plot(history.history['val_accuracy'])\r\n",
        "    plt.title('Model Accuracy')\r\n",
        "    plt.ylabel('Accuracy')\r\n",
        "    plt.xlabel('Epoch')\r\n",
        "    plt.legend(['Train','Validation'])"
      ],
      "execution_count": null,
      "outputs": []
    },
    {
      "cell_type": "markdown",
      "metadata": {
        "id": "voo6WsmxT1qH"
      },
      "source": [
        "    Validation Test를 해야하는 이유\r\n",
        "\r\n",
        "    validation에서 현재epoch val loss평균이 이전 epoch크면 무시하고 더 낮은것만 계속 저장한다.\r\n",
        "    -> why? -> test시에 학습에서 loss가 잘못 나온 지점에서 test가 되는것을 막기 위해서"
      ]
    },
    {
      "cell_type": "code",
      "metadata": {
        "colab": {
          "base_uri": "https://localhost:8080/"
        },
        "id": "L5LLzPkuxF-E",
        "outputId": "2da381f5-4733-46c4-b95a-3c46dd4ade6e"
      },
      "source": [
        "model.fit(X_train, y_train, epochs=30, batch_size=100, validation_split=.2, verbose=2)"
      ],
      "execution_count": null,
      "outputs": [
        {
          "output_type": "stream",
          "text": [
            "Epoch 1/30\n",
            "480/480 - 3s - loss: 0.8902 - accuracy: 0.6904 - val_loss: 0.4755 - val_accuracy: 0.8273\n",
            "Epoch 2/30\n",
            "480/480 - 1s - loss: 0.5726 - accuracy: 0.8006 - val_loss: 0.4294 - val_accuracy: 0.8432\n",
            "Epoch 3/30\n",
            "480/480 - 1s - loss: 0.5123 - accuracy: 0.8221 - val_loss: 0.4247 - val_accuracy: 0.8456\n",
            "Epoch 4/30\n",
            "480/480 - 1s - loss: 0.4845 - accuracy: 0.8294 - val_loss: 0.3995 - val_accuracy: 0.8507\n",
            "Epoch 5/30\n",
            "480/480 - 1s - loss: 0.4678 - accuracy: 0.8364 - val_loss: 0.3817 - val_accuracy: 0.8594\n",
            "Epoch 6/30\n",
            "480/480 - 1s - loss: 0.4503 - accuracy: 0.8414 - val_loss: 0.3733 - val_accuracy: 0.8632\n",
            "Epoch 7/30\n",
            "480/480 - 1s - loss: 0.4348 - accuracy: 0.8458 - val_loss: 0.3693 - val_accuracy: 0.8649\n",
            "Epoch 8/30\n",
            "480/480 - 1s - loss: 0.4258 - accuracy: 0.8494 - val_loss: 0.3607 - val_accuracy: 0.8693\n",
            "Epoch 9/30\n",
            "480/480 - 1s - loss: 0.4175 - accuracy: 0.8516 - val_loss: 0.3680 - val_accuracy: 0.8663\n",
            "Epoch 10/30\n",
            "480/480 - 1s - loss: 0.4107 - accuracy: 0.8541 - val_loss: 0.3555 - val_accuracy: 0.8723\n",
            "Epoch 11/30\n",
            "480/480 - 1s - loss: 0.4029 - accuracy: 0.8580 - val_loss: 0.3592 - val_accuracy: 0.8734\n",
            "Epoch 12/30\n",
            "480/480 - 1s - loss: 0.4023 - accuracy: 0.8550 - val_loss: 0.3510 - val_accuracy: 0.8759\n",
            "Epoch 13/30\n",
            "480/480 - 1s - loss: 0.3920 - accuracy: 0.8616 - val_loss: 0.3636 - val_accuracy: 0.8662\n",
            "Epoch 14/30\n",
            "480/480 - 1s - loss: 0.3888 - accuracy: 0.8622 - val_loss: 0.3489 - val_accuracy: 0.8741\n",
            "Epoch 15/30\n",
            "480/480 - 1s - loss: 0.3821 - accuracy: 0.8622 - val_loss: 0.3450 - val_accuracy: 0.8763\n",
            "Epoch 16/30\n",
            "480/480 - 1s - loss: 0.3776 - accuracy: 0.8615 - val_loss: 0.3587 - val_accuracy: 0.8692\n",
            "Epoch 17/30\n",
            "480/480 - 1s - loss: 0.3757 - accuracy: 0.8643 - val_loss: 0.3447 - val_accuracy: 0.8769\n",
            "Epoch 18/30\n",
            "480/480 - 1s - loss: 0.3738 - accuracy: 0.8656 - val_loss: 0.3378 - val_accuracy: 0.8807\n",
            "Epoch 19/30\n",
            "480/480 - 1s - loss: 0.3720 - accuracy: 0.8672 - val_loss: 0.3442 - val_accuracy: 0.8768\n",
            "Epoch 20/30\n",
            "480/480 - 1s - loss: 0.3696 - accuracy: 0.8655 - val_loss: 0.3376 - val_accuracy: 0.8790\n",
            "Epoch 21/30\n",
            "480/480 - 1s - loss: 0.3645 - accuracy: 0.8665 - val_loss: 0.3468 - val_accuracy: 0.8731\n",
            "Epoch 22/30\n",
            "480/480 - 1s - loss: 0.3620 - accuracy: 0.8681 - val_loss: 0.3401 - val_accuracy: 0.8787\n",
            "Epoch 23/30\n",
            "480/480 - 1s - loss: 0.3565 - accuracy: 0.8703 - val_loss: 0.3505 - val_accuracy: 0.8763\n",
            "Epoch 24/30\n",
            "480/480 - 1s - loss: 0.3529 - accuracy: 0.8705 - val_loss: 0.3481 - val_accuracy: 0.8757\n",
            "Epoch 25/30\n",
            "480/480 - 1s - loss: 0.3545 - accuracy: 0.8713 - val_loss: 0.3370 - val_accuracy: 0.8798\n",
            "Epoch 26/30\n",
            "480/480 - 1s - loss: 0.3472 - accuracy: 0.8749 - val_loss: 0.3422 - val_accuracy: 0.8777\n",
            "Epoch 27/30\n",
            "480/480 - 1s - loss: 0.3451 - accuracy: 0.8734 - val_loss: 0.3451 - val_accuracy: 0.8795\n",
            "Epoch 28/30\n",
            "480/480 - 1s - loss: 0.3437 - accuracy: 0.8745 - val_loss: 0.3375 - val_accuracy: 0.8781\n",
            "Epoch 29/30\n",
            "480/480 - 1s - loss: 0.3490 - accuracy: 0.8731 - val_loss: 0.3364 - val_accuracy: 0.8830\n",
            "Epoch 30/30\n",
            "480/480 - 1s - loss: 0.3426 - accuracy: 0.8765 - val_loss: 0.3348 - val_accuracy: 0.8817\n"
          ],
          "name": "stdout"
        },
        {
          "output_type": "execute_result",
          "data": {
            "text/plain": [
              "<tensorflow.python.keras.callbacks.History at 0x7f0417acf6d8>"
            ]
          },
          "metadata": {
            "tags": []
          },
          "execution_count": 8
        }
      ]
    },
    {
      "cell_type": "code",
      "metadata": {
        "colab": {
          "base_uri": "https://localhost:8080/",
          "height": 295
        },
        "id": "JnjOt8WSxGCO",
        "outputId": "0c69c387-1bfa-46de-bd3b-407d2b2bbeea"
      },
      "source": [
        "plot_loss(model.history)"
      ],
      "execution_count": null,
      "outputs": [
        {
          "output_type": "display_data",
          "data": {
            "image/png": "[encoded data removed]",
            "text/plain": [
              "<Figure size 432x288 with 1 Axes>"
            ]
          },
          "metadata": {
            "tags": [],
            "needs_background": "light"
          }
        }
      ]
    },
    {
      "cell_type": "code",
      "metadata": {
        "colab": {
          "base_uri": "https://localhost:8080/",
          "height": 295
        },
        "id": "RI_TcRKAxGKU",
        "outputId": "a324cfcd-bea1-462a-bdcd-05862b9db72a"
      },
      "source": [
        "plot_acc(model.history)"
      ],
      "execution_count": null,
      "outputs": [
        {
          "output_type": "display_data",
          "data": {
            "image/png": "[encoded data removed]",
            "text/plain": [
              "<Figure size 432x288 with 1 Axes>"
            ]
          },
          "metadata": {
            "tags": [],
            "needs_background": "light"
          }
        }
      ]
    },
    {
      "cell_type": "code",
      "metadata": {
        "colab": {
          "base_uri": "https://localhost:8080/"
        },
        "id": "OoSfDVCQxGpp",
        "outputId": "f16d3428-1539-4b96-86d6-320954528457"
      },
      "source": [
        "# evaluation\r\n",
        "model_performance = model.evaluate(X_test, y_test, batch_size=100)\r\n",
        "print('loss: {}\\nAccuray: {}'.format(*model_performance))"
      ],
      "execution_count": null,
      "outputs": [
        {
          "output_type": "stream",
          "text": [
            "100/100 [==============================] - 0s 2ms/step - loss: 0.3598 - accuracy: 0.8729\n",
            "loss: 0.3598073124885559\n",
            "Accuray: 0.8729000091552734\n"
          ],
          "name": "stdout"
        }
      ]
    },
    {
      "cell_type": "code",
      "metadata": {
        "colab": {
          "base_uri": "https://localhost:8080/",
          "height": 299
        },
        "id": "ak1vYhyWOME2",
        "outputId": "3a18da14-0562-47e0-bf4a-50d66d81e38a"
      },
      "source": [
        "row = 2\r\n",
        "col = 5\r\n",
        "\r\n",
        "grid = range(10)\r\n",
        "fig, axs = plt.subplots(nrows=row, ncols=col, figsize=(9,6),\r\n",
        "                       subplot_kw={'xticks':[ ], 'yticks':[]}) \r\n",
        "\r\n",
        "for ax, index in zip(axs.flat,grid): \r\n",
        "    ax.imshow(X_train[index].reshape(28,28),interpolation='none',cmap='gray')\r\n",
        "plt.show()\r\n"
      ],
      "execution_count": null,
      "outputs": [
        {
          "output_type": "display_data",
          "data": {
            "image/png": "[encoded data removed]",
            "text/plain": [
              "<Figure size 648x432 with 10 Axes>"
            ]
          },
          "metadata": {
            "tags": []
          }
        }
      ]
    },
    {
      "cell_type": "code",
      "metadata": {
        "id": "jkYRNCfhZOjH"
      },
      "source": [
        ""
      ],
      "execution_count": null,
      "outputs": []
    }
  ]
}