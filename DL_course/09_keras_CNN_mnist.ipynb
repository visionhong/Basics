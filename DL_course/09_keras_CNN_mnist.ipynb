{
  "nbformat": 4,
  "nbformat_minor": 0,
  "metadata": {
    "colab": {
      "name": "09_keras_CNN_mnist.ipynb",
      "provenance": []
    },
    "kernelspec": {
      "name": "python3",
      "display_name": "Python 3"
    },
    "accelerator": "GPU"
  },
  "cells": [
    {
      "cell_type": "code",
      "metadata": {
        "id": "zNAR3HXVadvo"
      },
      "source": [
        "import keras\r\n",
        "from keras import models, layers\r\n",
        "from keras import datasets\r\n",
        "from keras import backend\r\n",
        "import numpy as np\r\n",
        "import matplotlib.pyplot as plt"
      ],
      "execution_count": null,
      "outputs": []
    },
    {
      "cell_type": "code",
      "metadata": {
        "id": "pFHgnN_-bAlH"
      },
      "source": [
        "num_classes = 10\r\n",
        "(X_train, y_train), (X_test, y_test) = datasets.mnist.load_data()"
      ],
      "execution_count": null,
      "outputs": []
    },
    {
      "cell_type": "code",
      "metadata": {
        "colab": {
          "base_uri": "https://localhost:8080/",
          "height": 35
        },
        "id": "58GNr4inbRPv",
        "outputId": "8a6a3ab7-40b3-4f55-a21a-fa2269551df7"
      },
      "source": [
        "'''\r\n",
        "cnn을 다룰때는 채널이 중요.\r\n",
        "흑백이미지라도 1이라는 값을 넣어줘야 한다.\r\n",
        "\r\n",
        "'''"
      ],
      "execution_count": null,
      "outputs": [
        {
          "output_type": "execute_result",
          "data": {
            "application/vnd.google.colaboratory.intrinsic+json": {
              "type": "string"
            },
            "text/plain": [
              "'\\ncnn을 다룰때는 채널이 중요.\\n흑백이미지라도 1이라는 값을 넣어줘야 한다.\\n\\n'"
            ]
          },
          "metadata": {
            "tags": []
          },
          "execution_count": 26
        }
      ]
    },
    {
      "cell_type": "code",
      "metadata": {
        "colab": {
          "base_uri": "https://localhost:8080/",
          "height": 35
        },
        "id": "XAMJ7DMoc1PH",
        "outputId": "4e91a81e-86af-4771-c876-471568cee479"
      },
      "source": [
        "# backend로 채널이 어떤 위치에 있는지 확인가능\r\n",
        "channel = backend.image_data_format()\r\n",
        "channel"
      ],
      "execution_count": null,
      "outputs": [
        {
          "output_type": "execute_result",
          "data": {
            "application/vnd.google.colaboratory.intrinsic+json": {
              "type": "string"
            },
            "text/plain": [
              "'channels_last'"
            ]
          },
          "metadata": {
            "tags": []
          },
          "execution_count": 27
        }
      ]
    },
    {
      "cell_type": "code",
      "metadata": {
        "id": "fvbjI4F2dJ-v"
      },
      "source": [
        "N,H,W = X_train.shape\r\n",
        "\r\n",
        "if backend.image_data_format() == 'channels_first':\r\n",
        "    X_train = X_train[:,np.newaxis,:,:]\r\n",
        "    X_test = X_test[:,np.newaxis,:,:]\r\n",
        "    input_shape = (1, H, W)\r\n",
        "\r\n",
        "elif backend.image_data_format() == 'channels_last':\r\n",
        "    X_train = X_train[:,:,:,np.newaxis]\r\n",
        "    X_test = X_test[:,:,:,np.newaxis]\r\n",
        "    input_shape = (H, W, 1)"
      ],
      "execution_count": null,
      "outputs": []
    },
    {
      "cell_type": "code",
      "metadata": {
        "id": "ZvFfpEMfd9ro"
      },
      "source": [
        "X_train = X_train / 255\r\n",
        "X_test = X_test / 255\r\n",
        "\r\n",
        "Y_train = keras.utils.to_categorical(y_train)\r\n",
        "Y_test = keras.utils.to_categorical(y_test)"
      ],
      "execution_count": null,
      "outputs": []
    },
    {
      "cell_type": "code",
      "metadata": {
        "id": "YGMccF0FeT3I"
      },
      "source": [
        "model = keras.Sequential()\r\n",
        "model.add(layers.Conv2D(32, kernel_size=(3,3), # defualt -> stride = 1 padding = 0\r\n",
        "                        activation='relu', input_shape = input_shape))  # 26 x 26 x 32\r\n",
        "\r\n",
        "model.add(layers.Conv2D(64, kernel_size=(3,3),  \r\n",
        "                        activation='relu'))  # 24 x 24 x 64\r\n",
        "\r\n",
        "model.add(layers.MaxPool2D(pool_size=(2,2))) # defualt -> stride = 2 # 12 x 12 x 64 \r\n",
        "\r\n",
        "model.add(layers.Dropout(0.25))\r\n",
        "model.add(layers.Flatten())  # 9216\r\n",
        "\r\n",
        "model.add(layers.Dense(128, activation='relu')) # 9216 -> 128\r\n",
        "model.add(layers.Dropout(0.25))\r\n",
        "model.add(layers.Dense(num_classes, activation='softmax')) # 128 -> 10"
      ],
      "execution_count": null,
      "outputs": []
    },
    {
      "cell_type": "code",
      "metadata": {
        "id": "q0YQWqeXe_mY"
      },
      "source": [
        "model.compile(loss='categorical_crossentropy', optimizer='rmsprop', metrics=['accuracy'])"
      ],
      "execution_count": null,
      "outputs": []
    },
    {
      "cell_type": "code",
      "metadata": {
        "colab": {
          "base_uri": "https://localhost:8080/"
        },
        "id": "5idwY5gGe_rg",
        "outputId": "a42cb2c0-200f-4c03-c8d0-cbbc03a5cfa5"
      },
      "source": [
        "model.fit(X_train, Y_train, batch_size=100, epochs=50, validation_split=.2, verbose=2)"
      ],
      "execution_count": null,
      "outputs": [
        {
          "output_type": "stream",
          "text": [
            "Epoch 1/50\n",
            "480/480 - 3s - loss: 0.1828 - accuracy: 0.9431 - val_loss: 0.0651 - val_accuracy: 0.9816\n",
            "Epoch 2/50\n",
            "480/480 - 2s - loss: 0.0599 - accuracy: 0.9823 - val_loss: 0.0499 - val_accuracy: 0.9862\n",
            "Epoch 3/50\n",
            "480/480 - 2s - loss: 0.0428 - accuracy: 0.9874 - val_loss: 0.0401 - val_accuracy: 0.9883\n",
            "Epoch 4/50\n",
            "480/480 - 2s - loss: 0.0331 - accuracy: 0.9896 - val_loss: 0.0377 - val_accuracy: 0.9883\n",
            "Epoch 5/50\n",
            "480/480 - 2s - loss: 0.0281 - accuracy: 0.9912 - val_loss: 0.0435 - val_accuracy: 0.9888\n",
            "Epoch 6/50\n",
            "480/480 - 2s - loss: 0.0251 - accuracy: 0.9920 - val_loss: 0.0435 - val_accuracy: 0.9878\n",
            "Epoch 7/50\n",
            "480/480 - 2s - loss: 0.0227 - accuracy: 0.9926 - val_loss: 0.0456 - val_accuracy: 0.9885\n",
            "Epoch 8/50\n",
            "480/480 - 2s - loss: 0.0216 - accuracy: 0.9933 - val_loss: 0.0496 - val_accuracy: 0.9886\n",
            "Epoch 9/50\n",
            "480/480 - 2s - loss: 0.0203 - accuracy: 0.9935 - val_loss: 0.0347 - val_accuracy: 0.9897\n",
            "Epoch 10/50\n",
            "480/480 - 2s - loss: 0.0217 - accuracy: 0.9934 - val_loss: 0.0409 - val_accuracy: 0.9904\n",
            "Epoch 11/50\n",
            "480/480 - 2s - loss: 0.0213 - accuracy: 0.9937 - val_loss: 0.0485 - val_accuracy: 0.9897\n",
            "Epoch 12/50\n",
            "480/480 - 2s - loss: 0.0220 - accuracy: 0.9937 - val_loss: 0.0409 - val_accuracy: 0.9889\n",
            "Epoch 13/50\n",
            "480/480 - 2s - loss: 0.0226 - accuracy: 0.9933 - val_loss: 0.0812 - val_accuracy: 0.9882\n",
            "Epoch 14/50\n",
            "480/480 - 2s - loss: 0.0231 - accuracy: 0.9931 - val_loss: 0.0552 - val_accuracy: 0.9891\n",
            "Epoch 15/50\n",
            "480/480 - 2s - loss: 0.0227 - accuracy: 0.9935 - val_loss: 0.0426 - val_accuracy: 0.9905\n",
            "Epoch 16/50\n",
            "480/480 - 2s - loss: 0.0227 - accuracy: 0.9934 - val_loss: 0.0511 - val_accuracy: 0.9872\n",
            "Epoch 17/50\n",
            "480/480 - 2s - loss: 0.0246 - accuracy: 0.9928 - val_loss: 0.0431 - val_accuracy: 0.9885\n",
            "Epoch 18/50\n",
            "480/480 - 2s - loss: 0.0263 - accuracy: 0.9927 - val_loss: 0.0477 - val_accuracy: 0.9909\n",
            "Epoch 19/50\n",
            "480/480 - 2s - loss: 0.0271 - accuracy: 0.9929 - val_loss: 0.0434 - val_accuracy: 0.9894\n",
            "Epoch 20/50\n",
            "480/480 - 2s - loss: 0.0248 - accuracy: 0.9932 - val_loss: 0.0502 - val_accuracy: 0.9901\n",
            "Epoch 21/50\n",
            "480/480 - 2s - loss: 0.0240 - accuracy: 0.9936 - val_loss: 0.0406 - val_accuracy: 0.9897\n",
            "Epoch 22/50\n",
            "480/480 - 2s - loss: 0.0264 - accuracy: 0.9926 - val_loss: 0.0481 - val_accuracy: 0.9875\n",
            "Epoch 23/50\n",
            "480/480 - 2s - loss: 0.0264 - accuracy: 0.9928 - val_loss: 0.0485 - val_accuracy: 0.9908\n",
            "Epoch 24/50\n",
            "480/480 - 2s - loss: 0.0262 - accuracy: 0.9927 - val_loss: 0.0421 - val_accuracy: 0.9902\n",
            "Epoch 25/50\n",
            "480/480 - 2s - loss: 0.0265 - accuracy: 0.9928 - val_loss: 0.0690 - val_accuracy: 0.9880\n",
            "Epoch 26/50\n",
            "480/480 - 2s - loss: 0.0248 - accuracy: 0.9931 - val_loss: 0.0705 - val_accuracy: 0.9883\n",
            "Epoch 27/50\n",
            "480/480 - 2s - loss: 0.0251 - accuracy: 0.9935 - val_loss: 0.0505 - val_accuracy: 0.9898\n",
            "Epoch 28/50\n",
            "480/480 - 2s - loss: 0.0246 - accuracy: 0.9934 - val_loss: 0.0454 - val_accuracy: 0.9893\n",
            "Epoch 29/50\n",
            "480/480 - 2s - loss: 0.0263 - accuracy: 0.9934 - val_loss: 0.0415 - val_accuracy: 0.9901\n",
            "Epoch 30/50\n",
            "480/480 - 2s - loss: 0.0262 - accuracy: 0.9936 - val_loss: 0.0519 - val_accuracy: 0.9862\n",
            "Epoch 31/50\n",
            "480/480 - 2s - loss: 0.0264 - accuracy: 0.9928 - val_loss: 0.0512 - val_accuracy: 0.9904\n",
            "Epoch 32/50\n",
            "480/480 - 2s - loss: 0.0267 - accuracy: 0.9929 - val_loss: 0.0571 - val_accuracy: 0.9885\n",
            "Epoch 33/50\n",
            "480/480 - 2s - loss: 0.0265 - accuracy: 0.9932 - val_loss: 0.0625 - val_accuracy: 0.9851\n",
            "Epoch 34/50\n",
            "480/480 - 2s - loss: 0.0273 - accuracy: 0.9930 - val_loss: 0.0493 - val_accuracy: 0.9902\n",
            "Epoch 35/50\n",
            "480/480 - 2s - loss: 0.0273 - accuracy: 0.9930 - val_loss: 0.0475 - val_accuracy: 0.9902\n",
            "Epoch 36/50\n",
            "480/480 - 2s - loss: 0.0245 - accuracy: 0.9933 - val_loss: 0.0584 - val_accuracy: 0.9884\n",
            "Epoch 37/50\n",
            "480/480 - 2s - loss: 0.0276 - accuracy: 0.9928 - val_loss: 0.0617 - val_accuracy: 0.9911\n",
            "Epoch 38/50\n",
            "480/480 - 2s - loss: 0.0276 - accuracy: 0.9926 - val_loss: 0.0721 - val_accuracy: 0.9904\n",
            "Epoch 39/50\n",
            "480/480 - 2s - loss: 0.0267 - accuracy: 0.9933 - val_loss: 0.0522 - val_accuracy: 0.9904\n",
            "Epoch 40/50\n",
            "480/480 - 2s - loss: 0.0277 - accuracy: 0.9926 - val_loss: 0.0478 - val_accuracy: 0.9907\n",
            "Epoch 41/50\n",
            "480/480 - 2s - loss: 0.0279 - accuracy: 0.9931 - val_loss: 0.0548 - val_accuracy: 0.9894\n",
            "Epoch 42/50\n",
            "480/480 - 2s - loss: 0.0281 - accuracy: 0.9929 - val_loss: 0.0575 - val_accuracy: 0.9899\n",
            "Epoch 43/50\n",
            "480/480 - 2s - loss: 0.0301 - accuracy: 0.9923 - val_loss: 0.0606 - val_accuracy: 0.9894\n",
            "Epoch 44/50\n",
            "480/480 - 2s - loss: 0.0282 - accuracy: 0.9926 - val_loss: 0.0452 - val_accuracy: 0.9919\n",
            "Epoch 45/50\n",
            "480/480 - 2s - loss: 0.0295 - accuracy: 0.9926 - val_loss: 0.0592 - val_accuracy: 0.9906\n",
            "Epoch 46/50\n",
            "480/480 - 2s - loss: 0.0274 - accuracy: 0.9929 - val_loss: 0.0613 - val_accuracy: 0.9889\n",
            "Epoch 47/50\n",
            "480/480 - 2s - loss: 0.0285 - accuracy: 0.9931 - val_loss: 0.0642 - val_accuracy: 0.9872\n",
            "Epoch 48/50\n",
            "480/480 - 2s - loss: 0.0306 - accuracy: 0.9922 - val_loss: 0.0813 - val_accuracy: 0.9889\n",
            "Epoch 49/50\n",
            "480/480 - 2s - loss: 0.0283 - accuracy: 0.9928 - val_loss: 0.0577 - val_accuracy: 0.9905\n",
            "Epoch 50/50\n",
            "480/480 - 2s - loss: 0.0296 - accuracy: 0.9927 - val_loss: 0.0453 - val_accuracy: 0.9910\n"
          ],
          "name": "stdout"
        },
        {
          "output_type": "execute_result",
          "data": {
            "text/plain": [
              "<tensorflow.python.keras.callbacks.History at 0x7f89d81dd828>"
            ]
          },
          "metadata": {
            "tags": []
          },
          "execution_count": 32
        }
      ]
    },
    {
      "cell_type": "code",
      "metadata": {
        "id": "D2zBekYoe_wg"
      },
      "source": [
        "def plot_loss(history):\r\n",
        "    plt.plot(history.history['loss'])\r\n",
        "    plt.plot(history.history['val_loss'])\r\n",
        "    plt.title('model Loss')\r\n",
        "    plt.ylabel('Loss')\r\n",
        "    plt.xlabel('Epoch') # X 측이 늘어남에 따라서 Y축이 얼마나 떨어지는가가 궁금한것이다.\r\n",
        "    plt.legend(['Train','Validation'])\r\n",
        "    plt.savefig('Loss_Plot.png', dpi=300)\r\n",
        "    plt.show()\r\n",
        "\r\n",
        "def plot_acc(history):\r\n",
        "    plt.plot(history.history['accuracy'])\r\n",
        "    plt.plot(history.history['val_accuracy'])\r\n",
        "    plt.title('Model Accuracy')\r\n",
        "    plt.ylabel('Accuracy')\r\n",
        "    plt.xlabel('Epoch')\r\n",
        "    plt.legend(['Train','Validation'])\r\n",
        "    plt.savefig('zAcc_Plot.png', dpi=300)\r\n",
        "    plt.show()"
      ],
      "execution_count": null,
      "outputs": []
    },
    {
      "cell_type": "code",
      "metadata": {
        "colab": {
          "base_uri": "https://localhost:8080/",
          "height": 295
        },
        "id": "feOinuzbi-rd",
        "outputId": "e5305ba7-3885-4ced-a83a-93a11b847192"
      },
      "source": [
        "plot_loss(model.history)"
      ],
      "execution_count": null,
      "outputs": [
        {
          "output_type": "display_data",
          "data": {
            "image/png": "[encoded data removed]",
            "text/plain": [
              "<Figure size 432x288 with 1 Axes>"
            ]
          },
          "metadata": {
            "tags": [],
            "needs_background": "light"
          }
        }
      ]
    },
    {
      "cell_type": "code",
      "metadata": {
        "colab": {
          "base_uri": "https://localhost:8080/",
          "height": 295
        },
        "id": "7ch65uOhi-zA",
        "outputId": "30e6cf30-2da4-4f00-b2fa-6edc35d336a1"
      },
      "source": [
        "plot_acc(model.history)"
      ],
      "execution_count": null,
      "outputs": [
        {
          "output_type": "display_data",
          "data": {
            "image/png": "[encoded data removed]",
            "text/plain": [
              "<Figure size 432x288 with 1 Axes>"
            ]
          },
          "metadata": {
            "tags": [],
            "needs_background": "light"
          }
        }
      ]
    },
    {
      "cell_type": "code",
      "metadata": {
        "colab": {
          "base_uri": "https://localhost:8080/"
        },
        "id": "18TL2AyCja2B",
        "outputId": "fcbe1e82-1dd7-4a3d-ce52-69a954222742"
      },
      "source": [
        "# evaluation\r\n",
        "model_performance = model.evaluate(X_test, Y_test, batch_size=100)\r\n",
        "print('loss: {}\\nAccuray: {}'.format(*model_performance))"
      ],
      "execution_count": null,
      "outputs": [
        {
          "output_type": "stream",
          "text": [
            "100/100 [==============================] - 0s 2ms/step - loss: 0.0425 - accuracy: 0.9912\n",
            "loss: 0.042537327855825424\n",
            "Accuray: 0.9911999702453613\n"
          ],
          "name": "stdout"
        }
      ]
    },
    {
      "cell_type": "code",
      "metadata": {
        "colab": {
          "base_uri": "https://localhost:8080/"
        },
        "id": "NzgmFY1uka4H",
        "outputId": "bfa86224-d4a3-41b8-9c55-f91072b6aa1a"
      },
      "source": [
        "model.summary()"
      ],
      "execution_count": null,
      "outputs": [
        {
          "output_type": "stream",
          "text": [
            "Model: \"sequential_1\"\n",
            "_________________________________________________________________\n",
            "Layer (type)                 Output Shape              Param #   \n",
            "=================================================================\n",
            "conv2d_2 (Conv2D)            (None, 26, 26, 32)        320       \n",
            "_________________________________________________________________\n",
            "conv2d_3 (Conv2D)            (None, 24, 24, 64)        18496     \n",
            "_________________________________________________________________\n",
            "max_pooling2d_1 (MaxPooling2 (None, 12, 12, 64)        0         \n",
            "_________________________________________________________________\n",
            "dropout_2 (Dropout)          (None, 12, 12, 64)        0         \n",
            "_________________________________________________________________\n",
            "flatten_1 (Flatten)          (None, 9216)              0         \n",
            "_________________________________________________________________\n",
            "dense_2 (Dense)              (None, 128)               1179776   \n",
            "_________________________________________________________________\n",
            "dropout_3 (Dropout)          (None, 128)               0         \n",
            "_________________________________________________________________\n",
            "dense_3 (Dense)              (None, 10)                1290      \n",
            "=================================================================\n",
            "Total params: 1,199,882\n",
            "Trainable params: 1,199,882\n",
            "Non-trainable params: 0\n",
            "_________________________________________________________________\n"
          ],
          "name": "stdout"
        }
      ]
    },
    {
      "cell_type": "markdown",
      "metadata": {
        "id": "rPLV4dgPoViZ"
      },
      "source": [
        "## 모델저장"
      ]
    },
    {
      "cell_type": "code",
      "metadata": {
        "id": "OHA6wi9Wqryb"
      },
      "source": [
        "model.save('my_model.h5')"
      ],
      "execution_count": null,
      "outputs": []
    },
    {
      "cell_type": "code",
      "metadata": {
        "id": "p2VpxQ3Aq4KB"
      },
      "source": [
        ""
      ],
      "execution_count": null,
      "outputs": []
    }
  ]
}