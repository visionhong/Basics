{
 "cells": [
  {
   "cell_type": "code",
   "execution_count": 46,
   "metadata": {},
   "outputs": [],
   "source": [
    "import torch\n",
    "import torch.nn as nn\n",
    "import numpy as np\n",
    "import matplotlib.pyplot as plt\n",
    "\n",
    "from matplotlib import style\n",
    "style.use('dark_background')"
   ]
  },
  {
   "cell_type": "code",
   "execution_count": 47,
   "metadata": {},
   "outputs": [],
   "source": [
    "# Hyper-Parameters Setting\n",
    "input_size = 1 # 1차원\n",
    "output_size = 1 # 1차원\n",
    "num_epochs = 100\n",
    "learning_rate = 0.001"
   ]
  },
  {
   "cell_type": "code",
   "execution_count": 48,
   "metadata": {},
   "outputs": [],
   "source": [
    "# Toy dataset\n",
    "x_train = np.array([[3.3], [4.4], [5.5], [6.71], [6.93], [4.168], \n",
    "                    [9.779], [6.182], [7.59], [2.167], [7.042], \n",
    "                    [10.791], [5.313], [7.997], [3.1]], dtype=np.float32)\n",
    "\n",
    "y_train = np.array([[1.7], [2.76], [2.09], [3.19], [1.694], [1.573], \n",
    "                    [3.366], [2.596], [2.53], [1.221], [2.827], \n",
    "                    [3.465], [1.65], [2.904], [1.3]], dtype=np.float32)"
   ]
  },
  {
   "cell_type": "code",
   "execution_count": 49,
   "metadata": {},
   "outputs": [],
   "source": [
    "model = nn.Linear(input_size, output_size)\n",
    "\n",
    "loss_function = nn.MSELoss()\n",
    "optimizer = torch.optim.SGD(model.parameters(), lr = learning_rate)"
   ]
  },
  {
   "cell_type": "code",
   "execution_count": 50,
   "metadata": {},
   "outputs": [
    {
     "name": "stdout",
     "output_type": "stream",
     "text": [
      "EPOCH: [0/100], Loss: 2.296123504638672\n",
      "EPOCH: [5/100], Loss: 1.0400314331054688\n",
      "EPOCH: [10/100], Loss: 0.5311442017555237\n",
      "EPOCH: [15/100], Loss: 0.32496190071105957\n",
      "EPOCH: [20/100], Loss: 0.24141019582748413\n",
      "EPOCH: [25/100], Loss: 0.20753823220729828\n",
      "EPOCH: [30/100], Loss: 0.19379247725009918\n",
      "EPOCH: [35/100], Loss: 0.18820010125637054\n",
      "EPOCH: [40/100], Loss: 0.18591095507144928\n",
      "EPOCH: [45/100], Loss: 0.1849600225687027\n",
      "EPOCH: [50/100], Loss: 0.18455129861831665\n",
      "EPOCH: [55/100], Loss: 0.18436230719089508\n",
      "EPOCH: [60/100], Loss: 0.18426232039928436\n",
      "EPOCH: [65/100], Loss: 0.1841985136270523\n",
      "EPOCH: [70/100], Loss: 0.184149369597435\n",
      "EPOCH: [75/100], Loss: 0.18410632014274597\n",
      "EPOCH: [80/100], Loss: 0.18406574428081512\n",
      "EPOCH: [85/100], Loss: 0.18402618169784546\n",
      "EPOCH: [90/100], Loss: 0.18398718535900116\n",
      "EPOCH: [95/100], Loss: 0.18394839763641357\n"
     ]
    }
   ],
   "source": [
    "# Training Model\n",
    "for epoch in range(num_epochs):\n",
    "    inputs = torch.from_numpy(x_train)\n",
    "    targets = torch.from_numpy(y_train)\n",
    "    # Forward\n",
    "    pred = model(inputs)\n",
    "    loss = loss_function(pred, targets)\n",
    "    # BackPropagation\n",
    "    optimizer.zero_grad()  # optimizer 초기화 \n",
    "    loss.backward()\n",
    "    optimizer.step()\n",
    "    \n",
    "    if epoch % 5 ==0:\n",
    "        print(f'EPOCH: [{epoch}/{num_epochs}], Loss: {loss}')"
   ]
  },
  {
   "cell_type": "markdown",
   "metadata": {},
   "source": [
    "### Visualization"
   ]
  },
  {
   "cell_type": "code",
   "execution_count": 59,
   "metadata": {},
   "outputs": [
    {
     "data": {
      "image/png": "[encoded data removed]",
      "text/plain": [
       "<Figure size 432x288 with 1 Axes>"
      ]
     },
     "metadata": {},
     "output_type": "display_data"
    }
   ],
   "source": [
    "predicted = model(torch.from_numpy(x_train)).detach().numpy()  # 분리시키고 넘파이로 바꿈\n",
    "plt.plot(x_train, y_train, 'ro', label='Original Data')\n",
    "plt.plot(x_train, predicted)\n",
    "\n",
    "plt.legend()\n",
    "plt.show()\n",
    "\n",
    "# Save the Model Value \n",
    "torch.save(model.state_dict(),'model.ckpt')"
   ]
  }
 ],
 "metadata": {
  "kernelspec": {
   "display_name": "Python 3",
   "language": "python",
   "name": "python3"
  },
  "language_info": {
   "codemirror_mode": {
    "name": "ipython",
    "version": 3
   },
   "file_extension": ".py",
   "mimetype": "text/x-python",
   "name": "python",
   "nbconvert_exporter": "python",
   "pygments_lexer": "ipython3",
   "version": "3.7.4"
  }
 },
 "nbformat": 4,
 "nbformat_minor": 2
}
