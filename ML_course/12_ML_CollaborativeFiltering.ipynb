{
 "cells": [
  {
   "cell_type": "markdown",
   "metadata": {},
   "source": [
    "## 협업 필터링 (Collaborative Filtering) 구현하기 \n",
    "\n",
    "이번 수업에서는 추천 시스템(Recommender System)에서 널리 사용되는 협업 필터링(이하 Collaborative Filtering)의 원리를 알아보고 이를 구현해보겠습니다. 추천 시스템은 사용자(이하 사용자)가 특정 물건이나 서비스(이하 상품)에 대한 선호 여부나 선호도를 예측하는 시스템을 의미합니다. 추천 시스템은 아마존과 같은 이커머스부터 페이스북과 같은 SNS, 유튜브, 넷플릭스 등과 같은 동영상 플랫폼까지 다양한 분야에서 두루 활용되고 있습니다.\n",
    "\n",
    "Collaborative Filtering에는 사용자에게 상품을 추천하는 방법이 크게 두 가지가 있습니다. 1. 사용자가 선호하는 상품과 유사한 다른 상품 을 추천(상품 기반)하거나 2. 사용자와 유사한 다른 사용자가 선호하는 상품을 추천(사용자 기반)합니다. 사용자 기반 기법이 먼저 등장한 전통적인 알고리즘이고 상품 기반 방식은 이후 아마존(Amazon)이 제안한 기법입니다. 상품 기반 기법이 더 많은 기업들에서 사용되고 있다고 합니다.\n",
    "\n",
    "사용자 기반 방식이 갖는 문제는 우선 **1. 계산 복잡성 문제**와 **2. 희소성 문제**가 대표적입니다. 아마존과 같이 거대 이커머스 회사들은 수백만 명의 사용자와 수백만 개의 상품을 관리해야하는데 사용자 기반 방식을 사용하는 경우 사용자가 추가될 때마다 나머지 모든 사용자와의 유사도를 연산해야한다는 문제점이 있습니다. 상품 기반 방식을 사용하는 경우에 미리 구해 놓은 상품 간 유사도를 활용할 수 있기 때문에 이러한 문제점이 어느 정도 해결됩니다! 물론 상품 기반 방식도 상품과 사용자가 계속 추가되므로 일정 기간마다 새롭게 유사도를 구해야하지만 사용자 기반 방식보다는 훨씬 계산 복잡성이 작습니다. 그리고 계산 복잡성 문제가 해결되는 대신 이 거대한 행렬을 저장할 공간이 따로 확보되어야한다는 점을 굳이 단점으로 뽑을 수 있습니다. 데이터 희소성 문제는 협업 필터링 알고리즘의 본질적인 취약한 점이지만 사용자가 많은 상품을 평가한 경우는 보통 없어서 이런 경우 사용자간의 유사도를 연산하는 것 자체가 어렵기 때문에 보통 사용자 기반 방식이 더 취약합니다.\n",
    "\n",
    "\n",
    "상품 / 사용자 기반 기법은 전반적으로 다음과 같은 흐름으로 동작합니다.\n",
    "\n",
    "1. 우선 사용자 $u$가 내릴 상품 $i$에 대한 평점(rating)을 추정하고자 합니다. 상품 $i$ / 사용자 $u$와 나머지 모든 상품 / 사용자의 유사도를 연산합니다.\n",
    "2. 유사도가 높은 k개 상품 / 사용자를 선택합니다. 이를 이웃이라고 부르겠습니다.\n",
    "3. 상품 기반 혹은 사용자 기반 기법에 따라 아래 단계를 수행하며 평점을 예측합니다.\n",
    "    - 상품 기반 : 이웃 상품에 내린 사용자 $u$의 평점(rating)을 상품 $i$와의 유사도에 따라 가중 평균을 구합니다. \n",
    "    - 사용자 기반 : 이웃 사용자가 상품 $i$에 내린 평점(rating)을 사용자 $u$와의 유사도에 따라 가중 평균을 구합니다.\n",
    "4. 아직 평점(rating)이 없는 항목에 대해 모든 평점(rating)을 예측합니다. 평점(rating) 예측 값 상위 n개 상품을 추천합니다.\n",
    "\n",
    "이러한 머신러닝 알고리즘을 잘 이해하는 방법은, 알고리즘을 파이썬과 같은 프로그래밍 언어로 직접 구현해보는 것입니다. 그러므로 이번 시간에는 주어진 데이터와 문제를 Collaborative Filtering을 활용하여 풀되, [surprise](http://surpriselib.com/)와 같은 추천 시스템 패키지를 사용하지 않고 파이썬으로 직접 구현해서 풀어보는 시간을 가질 것입니다."
   ]
  },
  {
   "cell_type": "code",
   "execution_count": 1,
   "metadata": {},
   "outputs": [],
   "source": [
    "import pandas as pd\n",
    "import numpy as np"
   ]
  },
  {
   "cell_type": "markdown",
   "metadata": {},
   "source": [
    "### Data Load"
   ]
  },
  {
   "cell_type": "code",
   "execution_count": 5,
   "metadata": {},
   "outputs": [
    {
     "data": {
      "text/html": [
       "<div>\n",
       "<style scoped>\n",
       "    .dataframe tbody tr th:only-of-type {\n",
       "        vertical-align: middle;\n",
       "    }\n",
       "\n",
       "    .dataframe tbody tr th {\n",
       "        vertical-align: top;\n",
       "    }\n",
       "\n",
       "    .dataframe thead th {\n",
       "        text-align: right;\n",
       "    }\n",
       "</style>\n",
       "<table border=\"1\" class=\"dataframe\">\n",
       "  <thead>\n",
       "    <tr style=\"text-align: right;\">\n",
       "      <th>책</th>\n",
       "      <th>노인과바다</th>\n",
       "      <th>백설공주</th>\n",
       "      <th>신데렐라</th>\n",
       "      <th>어린왕자</th>\n",
       "      <th>콩쥐팥쥐</th>\n",
       "      <th>흥부전</th>\n",
       "    </tr>\n",
       "    <tr>\n",
       "      <th>사람</th>\n",
       "      <th></th>\n",
       "      <th></th>\n",
       "      <th></th>\n",
       "      <th></th>\n",
       "      <th></th>\n",
       "      <th></th>\n",
       "    </tr>\n",
       "  </thead>\n",
       "  <tbody>\n",
       "    <tr>\n",
       "      <td>민수</td>\n",
       "      <td>3.0</td>\n",
       "      <td>4.0</td>\n",
       "      <td>4.0</td>\n",
       "      <td>3.0</td>\n",
       "      <td>4.0</td>\n",
       "      <td>NaN</td>\n",
       "    </tr>\n",
       "    <tr>\n",
       "      <td>민지</td>\n",
       "      <td>NaN</td>\n",
       "      <td>5.0</td>\n",
       "      <td>4.0</td>\n",
       "      <td>1.0</td>\n",
       "      <td>NaN</td>\n",
       "      <td>3.0</td>\n",
       "    </tr>\n",
       "    <tr>\n",
       "      <td>지민</td>\n",
       "      <td>4.0</td>\n",
       "      <td>1.0</td>\n",
       "      <td>NaN</td>\n",
       "      <td>5.0</td>\n",
       "      <td>2.0</td>\n",
       "      <td>3.0</td>\n",
       "    </tr>\n",
       "    <tr>\n",
       "      <td>지연</td>\n",
       "      <td>5.0</td>\n",
       "      <td>NaN</td>\n",
       "      <td>3.0</td>\n",
       "      <td>4.0</td>\n",
       "      <td>3.0</td>\n",
       "      <td>3.0</td>\n",
       "    </tr>\n",
       "    <tr>\n",
       "      <td>현우</td>\n",
       "      <td>3.0</td>\n",
       "      <td>NaN</td>\n",
       "      <td>2.0</td>\n",
       "      <td>NaN</td>\n",
       "      <td>1.0</td>\n",
       "      <td>2.0</td>\n",
       "    </tr>\n",
       "  </tbody>\n",
       "</table>\n",
       "</div>"
      ],
      "text/plain": [
       "책   노인과바다  백설공주  신데렐라  어린왕자  콩쥐팥쥐  흥부전\n",
       "사람                                    \n",
       "민수    3.0   4.0   4.0   3.0   4.0  NaN\n",
       "민지    NaN   5.0   4.0   1.0   NaN  3.0\n",
       "지민    4.0   1.0   NaN   5.0   2.0  3.0\n",
       "지연    5.0   NaN   3.0   4.0   3.0  3.0\n",
       "현우    3.0   NaN   2.0   NaN   1.0  2.0"
      ]
     },
     "execution_count": 5,
     "metadata": {},
     "output_type": "execute_result"
    }
   ],
   "source": [
    "data = pd.read_csv('../data/ratings.csv')\n",
    "data = data.pivot_table(index='사람',columns='책',values='평점')\n",
    "data"
   ]
  },
  {
   "cell_type": "markdown",
   "metadata": {},
   "source": [
    " 평점이없으면 즉 nan이면 mask를 씌워줌"
   ]
  },
  {
   "cell_type": "code",
   "execution_count": 82,
   "metadata": {},
   "outputs": [],
   "source": [
    "# 코사인 유사도 공식을 함수로 하나 만들어 놓는다.\n",
    "def get_cosine_similarity(u, v):\n",
    "    assert len(u) == len(v)\n",
    "    \n",
    "    mask = np.isfinite(u) & np.isfinite(v) # False, True, True\n",
    "    u = u[mask]\n",
    "    v = v[mask]\n",
    "    \n",
    "    uvdot = (u * v).sum() # cos 유사도 분자\n",
    "    norm1 = (u**2).sum()\n",
    "    norm2 = (v**2).sum()\n",
    "\n",
    "    # 코사인 유사도 공식\n",
    "    score = uvdot / np.sqrt(norm1 * norm2)\n",
    "    return score"
   ]
  },
  {
   "cell_type": "code",
   "execution_count": 89,
   "metadata": {},
   "outputs": [
    {
     "data": {
      "text/plain": [
       "0.8944271909999159"
      ]
     },
     "execution_count": 89,
     "metadata": {},
     "output_type": "execute_result"
    }
   ],
   "source": [
    "# example\n",
    "u = np.array([np.nan,4,3])\n",
    "v = np.array([3,2,4])\n",
    "\n",
    "get_cosine_similarity(u, v)"
   ]
  },
  {
   "cell_type": "markdown",
   "metadata": {},
   "source": [
    "#### 민지와 민수의 유사도를 출력"
   ]
  },
  {
   "cell_type": "code",
   "execution_count": 38,
   "metadata": {},
   "outputs": [
    {
     "data": {
      "text/plain": [
       "0.9398272507881658"
      ]
     },
     "execution_count": 38,
     "metadata": {},
     "output_type": "execute_result"
    }
   ],
   "source": [
    "u = data.loc[\"민수\"]\n",
    "v = data.loc[\"민지\"]\n",
    "get_cosine_similarity(u,v)"
   ]
  },
  {
   "cell_type": "code",
   "execution_count": null,
   "metadata": {},
   "outputs": [],
   "source": []
  },
  {
   "cell_type": "markdown",
   "metadata": {},
   "source": [
    "## Notation\n",
    "\n",
    "$r_{ui}$를 사용자 $u$가 상품 $i$에 내린 ratings, $I_{uv}$ 를 사용자 $u$와 사용자 $v$가 모두 평가한 상품 집합, $U_{ij}$를 상품 $i$와 상품 $j$를 모두 평가한 사용자 집합이라고 표기하겠습니다."
   ]
  },
  {
   "cell_type": "markdown",
   "metadata": {},
   "source": [
    "## Calculate Similarity \n",
    "\n",
    "#### 사용자 기반(User-based)  기법\n",
    "\n",
    "1. 사용자 \"민지\"와 나머지 모든 사용자의 유사도를 연산합니다. \"민지\"-\"현우\", \"민지\"-\"민수\", \"민지\"-\"지민\", \"민지\"-\"지연\"의 유사도를 연산합니다.\n",
    "\n",
    "<table>\n",
    "  <thead>\n",
    "    <tr style=\"text-align: right;\">\n",
    "      <th>사용자</th>\n",
    "      <th>유사도</th>\n",
    "    </tr>\n",
    "  </thead>\n",
    "  <tbody>\n",
    "    <tr>\n",
    "      <td>현우</td>\n",
    "      <td>0.7261</td>\n",
    "    </tr>\n",
    "    <tr>\n",
    "      <th>민수</th>\n",
    "      <td>0.9547</td>\n",
    "    </tr>\n",
    "    <tr>\n",
    "      <td>지민</td>\n",
    "      <td>0.5985</td>\n",
    "    </tr>\n",
    "    <tr>\n",
    "      <th>지연</th>\n",
    "      <td>0.8541</td>\n",
    "    </tr>\n",
    "  </tbody>\n",
    "</table>\n",
    "\n",
    "#### 상품 기반 (Item-based) 기법\n",
    "\n",
    "1. 상품 \"노인과바다\"와 나머지 모든 상품의 유사도를 연사합니다. \"노인과바다\"-\"백설공주\", \"노인과바다\"-\"신데렐라\", \"노인과바다\"-\"어린왕자\", \"노인과바다\"-\"콩쥐팥쥐\", \"노인과바다\"-\"흥부전\"의 유사도를 연산합니다.\n",
    "\n",
    "<table>\n",
    "  <thead>\n",
    "    <tr style=\"text-align: right;\">\n",
    "      <th>상품</th>\n",
    "      <th>유사도</th>\n",
    "    </tr>\n",
    "  </thead>\n",
    "  <tbody>\n",
    "    <tr>\n",
    "      <td>백설공주</td>\n",
    "      <td>0.7761</td>\n",
    "    </tr>\n",
    "    <tr>\n",
    "      <td>신데렐라</td>\n",
    "      <td>0.8794</td>\n",
    "    </tr>\n",
    "    <tr>\n",
    "      <th>어린왕자</th>\n",
    "      <td>0.9830</td>\n",
    "    </tr>\n",
    "    <tr>\n",
    "      <td>콩쥐팥쥐</td>\n",
    "      <td>0.9032</td>\n",
    "    </tr>\n",
    "    <tr>\n",
    "      <th>흥부전</th>\n",
    "      <td>0.9949</td>\n",
    "    </tr>\n",
    "  </tbody>\n",
    "</table>\n",
    "\n",
    "\n",
    "그렇다면 임의의 두 사용자 혹은 임의의 두 상품, 즉 두 값이 얼마나 유사한지를 어떻게 판단할 수 있을까요? 우리가 알고 있는 가장 대표적인 방법으로 두 데이터가 얼마나 가까운지를 유클리디안 거리(Euclidean Distance)를 활용하여 측정해볼 수도 있습니다. \n",
    "\n",
    "이 외에도 다양한 유사도 메트릭을 사용하여 유사한 정도를 파악하는 것이 가능합니다. 주로 유사도 측정을 위하여 피어슨 상관계수(Pearson Correlation Coefficient), 스피어만 순위 상관계수(Sprearman Rank Correlation Coefficient), 켄달의 타우(Kendall's Tau), 코사인 유사도(Cosine Similarity), 자카드 유사도(Jaccard Coefficient) 등을 활용합니다.\n",
    "\n",
    "이번 과제에서는 자주 쓰이는 피어슨 상관계수(Pearson Correlation Coefficient)에 대하여 더 자세하게 알아보고 이를 직접 구현해보겠습니다. "
   ]
  },
  {
   "cell_type": "markdown",
   "metadata": {},
   "source": [
    "### 모든 사용자들의 유사도를 검색\n",
    "    itertools 모듈을 이용해서 datasets안에있는 모든 사람들의 유삳를 검색\n",
    "    itertools은 파이썬에서 조합, 순열을 만들때 사용하는 중요한 모듈\n",
    "    이번에는 조합을 만들어보겠다.\n",
    "\n",
    "    민수-민지, 민수-지민, 민수-지연 ...\n"
   ]
  },
  {
   "cell_type": "code",
   "execution_count": 67,
   "metadata": {},
   "outputs": [],
   "source": [
    "def get_cosine_similarity_table(data):\n",
    "    from itertools import product # itertools 모듈의 product\n",
    "    \n",
    "    index_combinations = list(product(data.index, repeat=2)) # repeat는 몇명씩 묶을거냐?\n",
    "\n",
    "    similarity_list = []\n",
    "    for uname, vname in index_combinations:\n",
    "        u = data.loc[uname]\n",
    "        v = data.loc[vname]\n",
    "        score = get_cosine_similarity(u,v)\n",
    "        similarity = { # json형식을 저장\n",
    "            'u':uname,\n",
    "            'v':vname,\n",
    "            'score':score\n",
    "        }    \n",
    "        similarity_list.append(similarity) # 딕셔너리를 추가\n",
    "\n",
    "    similarity_df = pd.DataFrame(similarity_list)\n",
    "    similarity_table = similarityDF.pivot_table(index='u',columns='v',values='score')\n",
    "    return similarity_table"
   ]
  },
  {
   "cell_type": "code",
   "execution_count": 103,
   "metadata": {},
   "outputs": [
    {
     "data": {
      "text/html": [
       "<div>\n",
       "<style scoped>\n",
       "    .dataframe tbody tr th:only-of-type {\n",
       "        vertical-align: middle;\n",
       "    }\n",
       "\n",
       "    .dataframe tbody tr th {\n",
       "        vertical-align: top;\n",
       "    }\n",
       "\n",
       "    .dataframe thead th {\n",
       "        text-align: right;\n",
       "    }\n",
       "</style>\n",
       "<table border=\"1\" class=\"dataframe\">\n",
       "  <thead>\n",
       "    <tr style=\"text-align: right;\">\n",
       "      <th>v</th>\n",
       "      <th>민수</th>\n",
       "      <th>민지</th>\n",
       "      <th>지민</th>\n",
       "      <th>지연</th>\n",
       "      <th>현우</th>\n",
       "    </tr>\n",
       "    <tr>\n",
       "      <th>u</th>\n",
       "      <th></th>\n",
       "      <th></th>\n",
       "      <th></th>\n",
       "      <th></th>\n",
       "      <th></th>\n",
       "    </tr>\n",
       "  </thead>\n",
       "  <tbody>\n",
       "    <tr>\n",
       "      <td>민수</td>\n",
       "      <td>1.000000</td>\n",
       "      <td>0.939827</td>\n",
       "      <td>0.813206</td>\n",
       "      <td>0.938986</td>\n",
       "      <td>0.876523</td>\n",
       "    </tr>\n",
       "    <tr>\n",
       "      <td>민지</td>\n",
       "      <td>0.939827</td>\n",
       "      <td>1.000000</td>\n",
       "      <td>0.542857</td>\n",
       "      <td>0.840841</td>\n",
       "      <td>0.989949</td>\n",
       "    </tr>\n",
       "    <tr>\n",
       "      <td>지민</td>\n",
       "      <td>0.813206</td>\n",
       "      <td>0.542857</td>\n",
       "      <td>1.000000</td>\n",
       "      <td>0.974406</td>\n",
       "      <td>0.992583</td>\n",
       "    </tr>\n",
       "    <tr>\n",
       "      <td>지연</td>\n",
       "      <td>0.938986</td>\n",
       "      <td>0.840841</td>\n",
       "      <td>0.974406</td>\n",
       "      <td>1.000000</td>\n",
       "      <td>0.980581</td>\n",
       "    </tr>\n",
       "    <tr>\n",
       "      <td>현우</td>\n",
       "      <td>0.876523</td>\n",
       "      <td>0.989949</td>\n",
       "      <td>0.992583</td>\n",
       "      <td>0.980581</td>\n",
       "      <td>1.000000</td>\n",
       "    </tr>\n",
       "  </tbody>\n",
       "</table>\n",
       "</div>"
      ],
      "text/plain": [
       "v         민수        민지        지민        지연        현우\n",
       "u                                                   \n",
       "민수  1.000000  0.939827  0.813206  0.938986  0.876523\n",
       "민지  0.939827  1.000000  0.542857  0.840841  0.989949\n",
       "지민  0.813206  0.542857  1.000000  0.974406  0.992583\n",
       "지연  0.938986  0.840841  0.974406  1.000000  0.980581\n",
       "현우  0.876523  0.989949  0.992583  0.980581  1.000000"
      ]
     },
     "execution_count": 103,
     "metadata": {},
     "output_type": "execute_result"
    }
   ],
   "source": [
    "similarity_Table = get_cosine_similarity_table(data)\n",
    "similarity_Table"
   ]
  },
  {
   "cell_type": "markdown",
   "metadata": {},
   "source": [
    "### 퍙점 예측하기\n",
    "\n",
    "평점을 예측하면 나머지 애들도 조금씩 바뀜"
   ]
  },
  {
   "cell_type": "code",
   "execution_count": 92,
   "metadata": {},
   "outputs": [
    {
     "data": {
      "text/html": [
       "<div>\n",
       "<style scoped>\n",
       "    .dataframe tbody tr th:only-of-type {\n",
       "        vertical-align: middle;\n",
       "    }\n",
       "\n",
       "    .dataframe tbody tr th {\n",
       "        vertical-align: top;\n",
       "    }\n",
       "\n",
       "    .dataframe thead th {\n",
       "        text-align: right;\n",
       "    }\n",
       "</style>\n",
       "<table border=\"1\" class=\"dataframe\">\n",
       "  <thead>\n",
       "    <tr style=\"text-align: right;\">\n",
       "      <th>책</th>\n",
       "      <th>노인과바다</th>\n",
       "      <th>백설공주</th>\n",
       "      <th>신데렐라</th>\n",
       "      <th>어린왕자</th>\n",
       "      <th>콩쥐팥쥐</th>\n",
       "      <th>흥부전</th>\n",
       "    </tr>\n",
       "    <tr>\n",
       "      <th>사람</th>\n",
       "      <th></th>\n",
       "      <th></th>\n",
       "      <th></th>\n",
       "      <th></th>\n",
       "      <th></th>\n",
       "      <th></th>\n",
       "    </tr>\n",
       "  </thead>\n",
       "  <tbody>\n",
       "    <tr>\n",
       "      <td>민수</td>\n",
       "      <td>3.0</td>\n",
       "      <td>4.0</td>\n",
       "      <td>4.0</td>\n",
       "      <td>3.0</td>\n",
       "      <td>4.0</td>\n",
       "      <td>NaN</td>\n",
       "    </tr>\n",
       "    <tr>\n",
       "      <td>민지</td>\n",
       "      <td>NaN</td>\n",
       "      <td>5.0</td>\n",
       "      <td>4.0</td>\n",
       "      <td>1.0</td>\n",
       "      <td>NaN</td>\n",
       "      <td>3.0</td>\n",
       "    </tr>\n",
       "    <tr>\n",
       "      <td>지민</td>\n",
       "      <td>4.0</td>\n",
       "      <td>1.0</td>\n",
       "      <td>NaN</td>\n",
       "      <td>5.0</td>\n",
       "      <td>2.0</td>\n",
       "      <td>3.0</td>\n",
       "    </tr>\n",
       "    <tr>\n",
       "      <td>지연</td>\n",
       "      <td>5.0</td>\n",
       "      <td>NaN</td>\n",
       "      <td>3.0</td>\n",
       "      <td>4.0</td>\n",
       "      <td>3.0</td>\n",
       "      <td>3.0</td>\n",
       "    </tr>\n",
       "    <tr>\n",
       "      <td>현우</td>\n",
       "      <td>3.0</td>\n",
       "      <td>NaN</td>\n",
       "      <td>2.0</td>\n",
       "      <td>NaN</td>\n",
       "      <td>1.0</td>\n",
       "      <td>2.0</td>\n",
       "    </tr>\n",
       "  </tbody>\n",
       "</table>\n",
       "</div>"
      ],
      "text/plain": [
       "책   노인과바다  백설공주  신데렐라  어린왕자  콩쥐팥쥐  흥부전\n",
       "사람                                    \n",
       "민수    3.0   4.0   4.0   3.0   4.0  NaN\n",
       "민지    NaN   5.0   4.0   1.0   NaN  3.0\n",
       "지민    4.0   1.0   NaN   5.0   2.0  3.0\n",
       "지연    5.0   NaN   3.0   4.0   3.0  3.0\n",
       "현우    3.0   NaN   2.0   NaN   1.0  2.0"
      ]
     },
     "execution_count": 92,
     "metadata": {},
     "output_type": "execute_result"
    }
   ],
   "source": [
    "data"
   ]
  },
  {
   "cell_type": "code",
   "execution_count": 98,
   "metadata": {},
   "outputs": [
    {
     "data": {
      "text/plain": [
       "사람\n",
       "민수    3.0\n",
       "민지    NaN\n",
       "지민    4.0\n",
       "지연    5.0\n",
       "현우    3.0\n",
       "Name: 노인과바다, dtype: float64"
      ]
     },
     "execution_count": 98,
     "metadata": {},
     "output_type": "execute_result"
    }
   ],
   "source": [
    "data['노인과바다']"
   ]
  },
  {
   "cell_type": "code",
   "execution_count": 182,
   "metadata": {},
   "outputs": [],
   "source": [
    "# 특정한 사용자의 책에 대한 평점을 예측하는 함수\n",
    "\n",
    "def predict_ratings(user_name, book_name):\n",
    "    # 노인과 바다에 대한 민지의 평점을 알고싶다.\n",
    "    # 일단 자기자신을 제외시켜야한다.\n",
    "    # 본인을 제외한 다른사람의 노인과바다에 대한 평점을 받아본다.\n",
    "    neighbors_data = data[book_name].drop(index=user_name)\n",
    "   \n",
    "    neighbors_similarity = similarity_Table[user_name].drop(index=user_name)\n",
    "    # 민지를 제외한 사람들의 평점과 유사도를 각각 곱해서 element sum을 한다.\n",
    "    # 왜냐하면 다른 사람들과의 유사도와 책의 평점 정보 둘다 필요하기 때문\n",
    "    nominator = (neighbors_data * neighbors_similarity).sum()  # 분자\n",
    "    \n",
    "    # 민지를 제외한 사람들의 유사도의 합\n",
    "    denominator = neighbors_similarity.sum() # 분모\n",
    "    score = nominator / denominator\n",
    "    return score"
   ]
  },
  {
   "cell_type": "code",
   "execution_count": 183,
   "metadata": {},
   "outputs": [
    {
     "data": {
      "text/plain": [
       "1.298385019374905"
      ]
     },
     "execution_count": 183,
     "metadata": {},
     "output_type": "execute_result"
    }
   ],
   "source": [
    "predict_ratings('민지','백설공주')"
   ]
  },
  {
   "cell_type": "code",
   "execution_count": 116,
   "metadata": {},
   "outputs": [
    {
     "data": {
      "text/html": [
       "<div>\n",
       "<style scoped>\n",
       "    .dataframe tbody tr th:only-of-type {\n",
       "        vertical-align: middle;\n",
       "    }\n",
       "\n",
       "    .dataframe tbody tr th {\n",
       "        vertical-align: top;\n",
       "    }\n",
       "\n",
       "    .dataframe thead th {\n",
       "        text-align: right;\n",
       "    }\n",
       "</style>\n",
       "<table border=\"1\" class=\"dataframe\">\n",
       "  <thead>\n",
       "    <tr style=\"text-align: right;\">\n",
       "      <th>책</th>\n",
       "      <th>노인과바다</th>\n",
       "      <th>백설공주</th>\n",
       "      <th>신데렐라</th>\n",
       "      <th>어린왕자</th>\n",
       "      <th>콩쥐팥쥐</th>\n",
       "      <th>흥부전</th>\n",
       "    </tr>\n",
       "    <tr>\n",
       "      <th>사람</th>\n",
       "      <th></th>\n",
       "      <th></th>\n",
       "      <th></th>\n",
       "      <th></th>\n",
       "      <th></th>\n",
       "      <th></th>\n",
       "    </tr>\n",
       "  </thead>\n",
       "  <tbody>\n",
       "    <tr>\n",
       "      <td>민수</td>\n",
       "      <td>3.0</td>\n",
       "      <td>4.0</td>\n",
       "      <td>4.0</td>\n",
       "      <td>3.0</td>\n",
       "      <td>4.0</td>\n",
       "      <td>NaN</td>\n",
       "    </tr>\n",
       "    <tr>\n",
       "      <td>민지</td>\n",
       "      <td>NaN</td>\n",
       "      <td>5.0</td>\n",
       "      <td>4.0</td>\n",
       "      <td>1.0</td>\n",
       "      <td>NaN</td>\n",
       "      <td>3.0</td>\n",
       "    </tr>\n",
       "    <tr>\n",
       "      <td>지민</td>\n",
       "      <td>4.0</td>\n",
       "      <td>1.0</td>\n",
       "      <td>NaN</td>\n",
       "      <td>5.0</td>\n",
       "      <td>2.0</td>\n",
       "      <td>3.0</td>\n",
       "    </tr>\n",
       "    <tr>\n",
       "      <td>지연</td>\n",
       "      <td>5.0</td>\n",
       "      <td>NaN</td>\n",
       "      <td>3.0</td>\n",
       "      <td>4.0</td>\n",
       "      <td>3.0</td>\n",
       "      <td>3.0</td>\n",
       "    </tr>\n",
       "    <tr>\n",
       "      <td>현우</td>\n",
       "      <td>3.0</td>\n",
       "      <td>NaN</td>\n",
       "      <td>2.0</td>\n",
       "      <td>NaN</td>\n",
       "      <td>1.0</td>\n",
       "      <td>2.0</td>\n",
       "    </tr>\n",
       "  </tbody>\n",
       "</table>\n",
       "</div>"
      ],
      "text/plain": [
       "책   노인과바다  백설공주  신데렐라  어린왕자  콩쥐팥쥐  흥부전\n",
       "사람                                    \n",
       "민수    3.0   4.0   4.0   3.0   4.0  NaN\n",
       "민지    NaN   5.0   4.0   1.0   NaN  3.0\n",
       "지민    4.0   1.0   NaN   5.0   2.0  3.0\n",
       "지연    5.0   NaN   3.0   4.0   3.0  3.0\n",
       "현우    3.0   NaN   2.0   NaN   1.0  2.0"
      ]
     },
     "execution_count": 116,
     "metadata": {},
     "output_type": "execute_result"
    }
   ],
   "source": [
    "data"
   ]
  },
  {
   "cell_type": "code",
   "execution_count": 120,
   "metadata": {},
   "outputs": [
    {
     "data": {
      "text/html": [
       "<div>\n",
       "<style scoped>\n",
       "    .dataframe tbody tr th:only-of-type {\n",
       "        vertical-align: middle;\n",
       "    }\n",
       "\n",
       "    .dataframe tbody tr th {\n",
       "        vertical-align: top;\n",
       "    }\n",
       "\n",
       "    .dataframe thead th {\n",
       "        text-align: right;\n",
       "    }\n",
       "</style>\n",
       "<table border=\"1\" class=\"dataframe\">\n",
       "  <thead>\n",
       "    <tr style=\"text-align: right;\">\n",
       "      <th>v</th>\n",
       "      <th>민수</th>\n",
       "      <th>민지</th>\n",
       "      <th>지민</th>\n",
       "      <th>지연</th>\n",
       "      <th>현우</th>\n",
       "    </tr>\n",
       "    <tr>\n",
       "      <th>u</th>\n",
       "      <th></th>\n",
       "      <th></th>\n",
       "      <th></th>\n",
       "      <th></th>\n",
       "      <th></th>\n",
       "    </tr>\n",
       "  </thead>\n",
       "  <tbody>\n",
       "    <tr>\n",
       "      <td>민수</td>\n",
       "      <td>1.000000</td>\n",
       "      <td>0.939827</td>\n",
       "      <td>0.813206</td>\n",
       "      <td>0.938986</td>\n",
       "      <td>0.876523</td>\n",
       "    </tr>\n",
       "    <tr>\n",
       "      <td>민지</td>\n",
       "      <td>0.939827</td>\n",
       "      <td>1.000000</td>\n",
       "      <td>0.542857</td>\n",
       "      <td>0.840841</td>\n",
       "      <td>0.989949</td>\n",
       "    </tr>\n",
       "    <tr>\n",
       "      <td>지민</td>\n",
       "      <td>0.813206</td>\n",
       "      <td>0.542857</td>\n",
       "      <td>1.000000</td>\n",
       "      <td>0.974406</td>\n",
       "      <td>0.992583</td>\n",
       "    </tr>\n",
       "    <tr>\n",
       "      <td>지연</td>\n",
       "      <td>0.938986</td>\n",
       "      <td>0.840841</td>\n",
       "      <td>0.974406</td>\n",
       "      <td>1.000000</td>\n",
       "      <td>0.980581</td>\n",
       "    </tr>\n",
       "    <tr>\n",
       "      <td>현우</td>\n",
       "      <td>0.876523</td>\n",
       "      <td>0.989949</td>\n",
       "      <td>0.992583</td>\n",
       "      <td>0.980581</td>\n",
       "      <td>1.000000</td>\n",
       "    </tr>\n",
       "  </tbody>\n",
       "</table>\n",
       "</div>"
      ],
      "text/plain": [
       "v         민수        민지        지민        지연        현우\n",
       "u                                                   \n",
       "민수  1.000000  0.939827  0.813206  0.938986  0.876523\n",
       "민지  0.939827  1.000000  0.542857  0.840841  0.989949\n",
       "지민  0.813206  0.542857  1.000000  0.974406  0.992583\n",
       "지연  0.938986  0.840841  0.974406  1.000000  0.980581\n",
       "현우  0.876523  0.989949  0.992583  0.980581  1.000000"
      ]
     },
     "execution_count": 120,
     "metadata": {},
     "output_type": "execute_result"
    }
   ],
   "source": [
    "similarity_Table"
   ]
  },
  {
   "cell_type": "markdown",
   "metadata": {},
   "source": [
    "### 이제 모든 nan값을 다 채워보자 (이때 기존에 있던 평점들의 값도 조금 바뀐다.)"
   ]
  },
  {
   "cell_type": "code",
   "execution_count": 125,
   "metadata": {},
   "outputs": [
    {
     "data": {
      "text/plain": [
       "(Index(['민수', '민지', '지민', '지연', '현우'], dtype='object', name='사람'),\n",
       " Index(['노인과바다', '백설공주', '신데렐라', '어린왕자', '콩쥐팥쥐', '흥부전'], dtype='object', name='책'))"
      ]
     },
     "execution_count": 125,
     "metadata": {},
     "output_type": "execute_result"
    }
   ],
   "source": [
    "data.index, data.columns"
   ]
  },
  {
   "cell_type": "code",
   "execution_count": 135,
   "metadata": {},
   "outputs": [
    {
     "data": {
      "text/html": [
       "<div>\n",
       "<style scoped>\n",
       "    .dataframe tbody tr th:only-of-type {\n",
       "        vertical-align: middle;\n",
       "    }\n",
       "\n",
       "    .dataframe tbody tr th {\n",
       "        vertical-align: top;\n",
       "    }\n",
       "\n",
       "    .dataframe thead th {\n",
       "        text-align: right;\n",
       "    }\n",
       "</style>\n",
       "<table border=\"1\" class=\"dataframe\">\n",
       "  <thead>\n",
       "    <tr style=\"text-align: right;\">\n",
       "      <th>book</th>\n",
       "      <th>노인과바다</th>\n",
       "      <th>백설공주</th>\n",
       "      <th>신데렐라</th>\n",
       "      <th>어린왕자</th>\n",
       "      <th>콩쥐팥쥐</th>\n",
       "      <th>흥부전</th>\n",
       "    </tr>\n",
       "    <tr>\n",
       "      <th>user</th>\n",
       "      <th></th>\n",
       "      <th></th>\n",
       "      <th></th>\n",
       "      <th></th>\n",
       "      <th></th>\n",
       "      <th></th>\n",
       "    </tr>\n",
       "  </thead>\n",
       "  <tbody>\n",
       "    <tr>\n",
       "      <td>민수</td>\n",
       "      <td>2.964046</td>\n",
       "      <td>1.544704</td>\n",
       "      <td>2.334094</td>\n",
       "      <td>2.455289</td>\n",
       "      <td>1.490775</td>\n",
       "      <td>2.754375</td>\n",
       "    </tr>\n",
       "    <tr>\n",
       "      <td>민지</td>\n",
       "      <td>3.671361</td>\n",
       "      <td>1.298385</td>\n",
       "      <td>2.493374</td>\n",
       "      <td>2.685136</td>\n",
       "      <td>2.522275</td>\n",
       "      <td>1.850321</td>\n",
       "    </tr>\n",
       "    <tr>\n",
       "      <td>지민</td>\n",
       "      <td>3.096369</td>\n",
       "      <td>1.795672</td>\n",
       "      <td>3.109381</td>\n",
       "      <td>2.070415</td>\n",
       "      <td>2.157241</td>\n",
       "      <td>1.967154</td>\n",
       "    </tr>\n",
       "    <tr>\n",
       "      <td>지연</td>\n",
       "      <td>2.585490</td>\n",
       "      <td>2.392236</td>\n",
       "      <td>2.431305</td>\n",
       "      <td>2.283870</td>\n",
       "      <td>1.790005</td>\n",
       "      <td>1.983205</td>\n",
       "    </tr>\n",
       "    <tr>\n",
       "      <td>현우</td>\n",
       "      <td>2.995806</td>\n",
       "      <td>2.460760</td>\n",
       "      <td>2.710577</td>\n",
       "      <td>3.256756</td>\n",
       "      <td>2.196302</td>\n",
       "      <td>2.315152</td>\n",
       "    </tr>\n",
       "  </tbody>\n",
       "</table>\n",
       "</div>"
      ],
      "text/plain": [
       "book     노인과바다      백설공주      신데렐라      어린왕자      콩쥐팥쥐       흥부전\n",
       "user                                                            \n",
       "민수    2.964046  1.544704  2.334094  2.455289  1.490775  2.754375\n",
       "민지    3.671361  1.298385  2.493374  2.685136  2.522275  1.850321\n",
       "지민    3.096369  1.795672  3.109381  2.070415  2.157241  1.967154\n",
       "지연    2.585490  2.392236  2.431305  2.283870  1.790005  1.983205\n",
       "현우    2.995806  2.460760  2.710577  3.256756  2.196302  2.315152"
      ]
     },
     "execution_count": 135,
     "metadata": {},
     "output_type": "execute_result"
    }
   ],
   "source": [
    "data_combinations = list(product(data.index,data.columns))\n",
    "\n",
    "rating_list = []\n",
    "\n",
    "for user_name, book_name in data_combinations:\n",
    "    score = predict_ratings(user_name, book_name)\n",
    "\n",
    "    rating_predict = {\n",
    "        'user':user_name,\n",
    "        'book':book_name,\n",
    "        'score':score\n",
    "    }\n",
    "    rating_list.append(rating_predict)\n",
    "\n",
    "rating_table = pd.DataFrame(rating_list).pivot_table(index='user',columns='book',values='score')\n",
    "rating_table"
   ]
  },
  {
   "cell_type": "code",
   "execution_count": 130,
   "metadata": {},
   "outputs": [
    {
     "data": {
      "text/html": [
       "<div>\n",
       "<style scoped>\n",
       "    .dataframe tbody tr th:only-of-type {\n",
       "        vertical-align: middle;\n",
       "    }\n",
       "\n",
       "    .dataframe tbody tr th {\n",
       "        vertical-align: top;\n",
       "    }\n",
       "\n",
       "    .dataframe thead th {\n",
       "        text-align: right;\n",
       "    }\n",
       "</style>\n",
       "<table border=\"1\" class=\"dataframe\">\n",
       "  <thead>\n",
       "    <tr style=\"text-align: right;\">\n",
       "      <th>책</th>\n",
       "      <th>노인과바다</th>\n",
       "      <th>백설공주</th>\n",
       "      <th>신데렐라</th>\n",
       "      <th>어린왕자</th>\n",
       "      <th>콩쥐팥쥐</th>\n",
       "      <th>흥부전</th>\n",
       "    </tr>\n",
       "    <tr>\n",
       "      <th>사람</th>\n",
       "      <th></th>\n",
       "      <th></th>\n",
       "      <th></th>\n",
       "      <th></th>\n",
       "      <th></th>\n",
       "      <th></th>\n",
       "    </tr>\n",
       "  </thead>\n",
       "  <tbody>\n",
       "    <tr>\n",
       "      <td>민수</td>\n",
       "      <td>3.0</td>\n",
       "      <td>4.0</td>\n",
       "      <td>4.0</td>\n",
       "      <td>3.0</td>\n",
       "      <td>4.0</td>\n",
       "      <td>NaN</td>\n",
       "    </tr>\n",
       "    <tr>\n",
       "      <td>민지</td>\n",
       "      <td>NaN</td>\n",
       "      <td>5.0</td>\n",
       "      <td>4.0</td>\n",
       "      <td>1.0</td>\n",
       "      <td>NaN</td>\n",
       "      <td>3.0</td>\n",
       "    </tr>\n",
       "    <tr>\n",
       "      <td>지민</td>\n",
       "      <td>4.0</td>\n",
       "      <td>1.0</td>\n",
       "      <td>NaN</td>\n",
       "      <td>5.0</td>\n",
       "      <td>2.0</td>\n",
       "      <td>3.0</td>\n",
       "    </tr>\n",
       "    <tr>\n",
       "      <td>지연</td>\n",
       "      <td>5.0</td>\n",
       "      <td>NaN</td>\n",
       "      <td>3.0</td>\n",
       "      <td>4.0</td>\n",
       "      <td>3.0</td>\n",
       "      <td>3.0</td>\n",
       "    </tr>\n",
       "    <tr>\n",
       "      <td>현우</td>\n",
       "      <td>3.0</td>\n",
       "      <td>NaN</td>\n",
       "      <td>2.0</td>\n",
       "      <td>NaN</td>\n",
       "      <td>1.0</td>\n",
       "      <td>2.0</td>\n",
       "    </tr>\n",
       "  </tbody>\n",
       "</table>\n",
       "</div>"
      ],
      "text/plain": [
       "책   노인과바다  백설공주  신데렐라  어린왕자  콩쥐팥쥐  흥부전\n",
       "사람                                    \n",
       "민수    3.0   4.0   4.0   3.0   4.0  NaN\n",
       "민지    NaN   5.0   4.0   1.0   NaN  3.0\n",
       "지민    4.0   1.0   NaN   5.0   2.0  3.0\n",
       "지연    5.0   NaN   3.0   4.0   3.0  3.0\n",
       "현우    3.0   NaN   2.0   NaN   1.0  2.0"
      ]
     },
     "execution_count": 130,
     "metadata": {},
     "output_type": "execute_result"
    }
   ],
   "source": [
    "data"
   ]
  },
  {
   "cell_type": "code",
   "execution_count": 132,
   "metadata": {},
   "outputs": [
    {
     "data": {
      "text/html": [
       "<div>\n",
       "<style scoped>\n",
       "    .dataframe tbody tr th:only-of-type {\n",
       "        vertical-align: middle;\n",
       "    }\n",
       "\n",
       "    .dataframe tbody tr th {\n",
       "        vertical-align: top;\n",
       "    }\n",
       "\n",
       "    .dataframe thead th {\n",
       "        text-align: right;\n",
       "    }\n",
       "</style>\n",
       "<table border=\"1\" class=\"dataframe\">\n",
       "  <thead>\n",
       "    <tr style=\"text-align: right;\">\n",
       "      <th>v</th>\n",
       "      <th>민수</th>\n",
       "      <th>민지</th>\n",
       "      <th>지민</th>\n",
       "      <th>지연</th>\n",
       "      <th>현우</th>\n",
       "    </tr>\n",
       "    <tr>\n",
       "      <th>u</th>\n",
       "      <th></th>\n",
       "      <th></th>\n",
       "      <th></th>\n",
       "      <th></th>\n",
       "      <th></th>\n",
       "    </tr>\n",
       "  </thead>\n",
       "  <tbody>\n",
       "    <tr>\n",
       "      <td>민수</td>\n",
       "      <td>1.000000</td>\n",
       "      <td>0.939827</td>\n",
       "      <td>0.813206</td>\n",
       "      <td>0.938986</td>\n",
       "      <td>0.876523</td>\n",
       "    </tr>\n",
       "    <tr>\n",
       "      <td>민지</td>\n",
       "      <td>0.939827</td>\n",
       "      <td>1.000000</td>\n",
       "      <td>0.542857</td>\n",
       "      <td>0.840841</td>\n",
       "      <td>0.989949</td>\n",
       "    </tr>\n",
       "    <tr>\n",
       "      <td>지민</td>\n",
       "      <td>0.813206</td>\n",
       "      <td>0.542857</td>\n",
       "      <td>1.000000</td>\n",
       "      <td>0.974406</td>\n",
       "      <td>0.992583</td>\n",
       "    </tr>\n",
       "    <tr>\n",
       "      <td>지연</td>\n",
       "      <td>0.938986</td>\n",
       "      <td>0.840841</td>\n",
       "      <td>0.974406</td>\n",
       "      <td>1.000000</td>\n",
       "      <td>0.980581</td>\n",
       "    </tr>\n",
       "    <tr>\n",
       "      <td>현우</td>\n",
       "      <td>0.876523</td>\n",
       "      <td>0.989949</td>\n",
       "      <td>0.992583</td>\n",
       "      <td>0.980581</td>\n",
       "      <td>1.000000</td>\n",
       "    </tr>\n",
       "  </tbody>\n",
       "</table>\n",
       "</div>"
      ],
      "text/plain": [
       "v         민수        민지        지민        지연        현우\n",
       "u                                                   \n",
       "민수  1.000000  0.939827  0.813206  0.938986  0.876523\n",
       "민지  0.939827  1.000000  0.542857  0.840841  0.989949\n",
       "지민  0.813206  0.542857  1.000000  0.974406  0.992583\n",
       "지연  0.938986  0.840841  0.974406  1.000000  0.980581\n",
       "현우  0.876523  0.989949  0.992583  0.980581  1.000000"
      ]
     },
     "execution_count": 132,
     "metadata": {},
     "output_type": "execute_result"
    }
   ],
   "source": [
    "similarity_Table"
   ]
  },
  {
   "cell_type": "markdown",
   "metadata": {},
   "source": [
    "### 민지에게 가장 추천하고 싶은책은?\n"
   ]
  },
  {
   "cell_type": "code",
   "execution_count": 166,
   "metadata": {},
   "outputs": [
    {
     "data": {
      "text/plain": [
       "Index(['노인과바다'], dtype='object', name='book')"
      ]
     },
     "execution_count": 166,
     "metadata": {},
     "output_type": "execute_result"
    }
   ],
   "source": [
    "def recommand(user_name, n=1):\n",
    "    return rating_table.loc[user_name].sort_values(ascending=False).index[:n]\n",
    "\n",
    "recommand('민지')"
   ]
  },
  {
   "cell_type": "markdown",
   "metadata": {},
   "source": [
    "### 지금 백설공주 책에 가장 관심이 잇을것 같은 사용자 2명은?"
   ]
  },
  {
   "cell_type": "code",
   "execution_count": 167,
   "metadata": {},
   "outputs": [
    {
     "data": {
      "text/plain": [
       "Index(['민지', '지민'], dtype='object', name='user')"
      ]
     },
     "execution_count": 167,
     "metadata": {},
     "output_type": "execute_result"
    }
   ],
   "source": [
    "def interested_user(book_name, n=1):\n",
    "    return rating_table[book_name].sort_values(ascending=False).index[:n]\n",
    "\n",
    "interested_user('노인과바다',2)"
   ]
  }
 ],
 "metadata": {
  "kernelspec": {
   "display_name": "Python 3",
   "language": "python",
   "name": "python3"
  },
  "language_info": {
   "codemirror_mode": {
    "name": "ipython",
    "version": 3
   },
   "file_extension": ".py",
   "mimetype": "text/x-python",
   "name": "python",
   "nbconvert_exporter": "python",
   "pygments_lexer": "ipython3",
   "version": "3.7.4"
  }
 },
 "nbformat": 4,
 "nbformat_minor": 4
}
