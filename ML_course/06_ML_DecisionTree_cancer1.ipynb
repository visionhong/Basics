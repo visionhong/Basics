{
 "cells": [
  {
   "cell_type": "code",
   "execution_count": 1,
   "metadata": {},
   "outputs": [],
   "source": [
    "from sklearn.tree import DecisionTreeClassifier\n",
    "from sklearn.datasets import load_breast_cancer\n",
    "from sklearn.model_selection import train_test_split, GridSearchCV\n",
    "from sklearn.metrics import accuracy_score\n",
    "\n",
    "import numpy as np\n",
    "import pandas as pd\n",
    "import matplotlib.pyplot as plt\n",
    "from matplotlib import style\n",
    "style.use('dark_background')"
   ]
  },
  {
   "cell_type": "markdown",
   "metadata": {},
   "source": [
    "### 1. Load DataSets"
   ]
  },
  {
   "cell_type": "code",
   "execution_count": 2,
   "metadata": {},
   "outputs": [
    {
     "data": {
      "text/plain": [
       "dict_keys(['data', 'target', 'target_names', 'DESCR', 'feature_names', 'filename'])"
      ]
     },
     "execution_count": 2,
     "metadata": {},
     "output_type": "execute_result"
    }
   ],
   "source": [
    "cancer = load_breast_cancer()\n",
    "cancer.keys()"
   ]
  },
  {
   "cell_type": "markdown",
   "metadata": {},
   "source": [
    "### 2. Cancer Data Analysis"
   ]
  },
  {
   "cell_type": "code",
   "execution_count": 3,
   "metadata": {},
   "outputs": [
    {
     "data": {
      "text/html": [
       "<div>\n",
       "<style scoped>\n",
       "    .dataframe tbody tr th:only-of-type {\n",
       "        vertical-align: middle;\n",
       "    }\n",
       "\n",
       "    .dataframe tbody tr th {\n",
       "        vertical-align: top;\n",
       "    }\n",
       "\n",
       "    .dataframe thead th {\n",
       "        text-align: right;\n",
       "    }\n",
       "</style>\n",
       "<table border=\"1\" class=\"dataframe\">\n",
       "  <thead>\n",
       "    <tr style=\"text-align: right;\">\n",
       "      <th></th>\n",
       "      <th>mean radius</th>\n",
       "      <th>mean texture</th>\n",
       "      <th>mean perimeter</th>\n",
       "      <th>mean area</th>\n",
       "      <th>mean smoothness</th>\n",
       "      <th>mean compactness</th>\n",
       "      <th>mean concavity</th>\n",
       "      <th>mean concave points</th>\n",
       "      <th>mean symmetry</th>\n",
       "      <th>mean fractal dimension</th>\n",
       "      <th>...</th>\n",
       "      <th>worst radius</th>\n",
       "      <th>worst texture</th>\n",
       "      <th>worst perimeter</th>\n",
       "      <th>worst area</th>\n",
       "      <th>worst smoothness</th>\n",
       "      <th>worst compactness</th>\n",
       "      <th>worst concavity</th>\n",
       "      <th>worst concave points</th>\n",
       "      <th>worst symmetry</th>\n",
       "      <th>worst fractal dimension</th>\n",
       "    </tr>\n",
       "  </thead>\n",
       "  <tbody>\n",
       "    <tr>\n",
       "      <td>0</td>\n",
       "      <td>17.99</td>\n",
       "      <td>10.38</td>\n",
       "      <td>122.8</td>\n",
       "      <td>1001.0</td>\n",
       "      <td>0.11840</td>\n",
       "      <td>0.27760</td>\n",
       "      <td>0.3001</td>\n",
       "      <td>0.14710</td>\n",
       "      <td>0.2419</td>\n",
       "      <td>0.07871</td>\n",
       "      <td>...</td>\n",
       "      <td>25.38</td>\n",
       "      <td>17.33</td>\n",
       "      <td>184.6</td>\n",
       "      <td>2019.0</td>\n",
       "      <td>0.1622</td>\n",
       "      <td>0.6656</td>\n",
       "      <td>0.7119</td>\n",
       "      <td>0.2654</td>\n",
       "      <td>0.4601</td>\n",
       "      <td>0.11890</td>\n",
       "    </tr>\n",
       "    <tr>\n",
       "      <td>1</td>\n",
       "      <td>20.57</td>\n",
       "      <td>17.77</td>\n",
       "      <td>132.9</td>\n",
       "      <td>1326.0</td>\n",
       "      <td>0.08474</td>\n",
       "      <td>0.07864</td>\n",
       "      <td>0.0869</td>\n",
       "      <td>0.07017</td>\n",
       "      <td>0.1812</td>\n",
       "      <td>0.05667</td>\n",
       "      <td>...</td>\n",
       "      <td>24.99</td>\n",
       "      <td>23.41</td>\n",
       "      <td>158.8</td>\n",
       "      <td>1956.0</td>\n",
       "      <td>0.1238</td>\n",
       "      <td>0.1866</td>\n",
       "      <td>0.2416</td>\n",
       "      <td>0.1860</td>\n",
       "      <td>0.2750</td>\n",
       "      <td>0.08902</td>\n",
       "    </tr>\n",
       "    <tr>\n",
       "      <td>2</td>\n",
       "      <td>19.69</td>\n",
       "      <td>21.25</td>\n",
       "      <td>130.0</td>\n",
       "      <td>1203.0</td>\n",
       "      <td>0.10960</td>\n",
       "      <td>0.15990</td>\n",
       "      <td>0.1974</td>\n",
       "      <td>0.12790</td>\n",
       "      <td>0.2069</td>\n",
       "      <td>0.05999</td>\n",
       "      <td>...</td>\n",
       "      <td>23.57</td>\n",
       "      <td>25.53</td>\n",
       "      <td>152.5</td>\n",
       "      <td>1709.0</td>\n",
       "      <td>0.1444</td>\n",
       "      <td>0.4245</td>\n",
       "      <td>0.4504</td>\n",
       "      <td>0.2430</td>\n",
       "      <td>0.3613</td>\n",
       "      <td>0.08758</td>\n",
       "    </tr>\n",
       "  </tbody>\n",
       "</table>\n",
       "<p>3 rows × 30 columns</p>\n",
       "</div>"
      ],
      "text/plain": [
       "   mean radius  mean texture  mean perimeter  mean area  mean smoothness  \\\n",
       "0        17.99         10.38           122.8     1001.0          0.11840   \n",
       "1        20.57         17.77           132.9     1326.0          0.08474   \n",
       "2        19.69         21.25           130.0     1203.0          0.10960   \n",
       "\n",
       "   mean compactness  mean concavity  mean concave points  mean symmetry  \\\n",
       "0           0.27760          0.3001              0.14710         0.2419   \n",
       "1           0.07864          0.0869              0.07017         0.1812   \n",
       "2           0.15990          0.1974              0.12790         0.2069   \n",
       "\n",
       "   mean fractal dimension  ...  worst radius  worst texture  worst perimeter  \\\n",
       "0                 0.07871  ...         25.38          17.33            184.6   \n",
       "1                 0.05667  ...         24.99          23.41            158.8   \n",
       "2                 0.05999  ...         23.57          25.53            152.5   \n",
       "\n",
       "   worst area  worst smoothness  worst compactness  worst concavity  \\\n",
       "0      2019.0            0.1622             0.6656           0.7119   \n",
       "1      1956.0            0.1238             0.1866           0.2416   \n",
       "2      1709.0            0.1444             0.4245           0.4504   \n",
       "\n",
       "   worst concave points  worst symmetry  worst fractal dimension  \n",
       "0                0.2654          0.4601                  0.11890  \n",
       "1                0.1860          0.2750                  0.08902  \n",
       "2                0.2430          0.3613                  0.08758  \n",
       "\n",
       "[3 rows x 30 columns]"
      ]
     },
     "execution_count": 3,
     "metadata": {},
     "output_type": "execute_result"
    }
   ],
   "source": [
    "pd.DataFrame(cancer.data, columns=cancer.feature_names).head(3)"
   ]
  },
  {
   "cell_type": "code",
   "execution_count": 4,
   "metadata": {},
   "outputs": [],
   "source": [
    "X = cancer.data\n",
    "y = cancer.target"
   ]
  },
  {
   "cell_type": "code",
   "execution_count": 5,
   "metadata": {},
   "outputs": [
    {
     "name": "stdout",
     "output_type": "stream",
     "text": [
      "Feature_names \n",
      " ['mean radius' 'mean texture' 'mean perimeter' 'mean area'\n",
      " 'mean smoothness' 'mean compactness' 'mean concavity'\n",
      " 'mean concave points' 'mean symmetry' 'mean fractal dimension'\n",
      " 'radius error' 'texture error' 'perimeter error' 'area error'\n",
      " 'smoothness error' 'compactness error' 'concavity error'\n",
      " 'concave points error' 'symmetry error' 'fractal dimension error'\n",
      " 'worst radius' 'worst texture' 'worst perimeter' 'worst area'\n",
      " 'worst smoothness' 'worst compactness' 'worst concavity'\n",
      " 'worst concave points' 'worst symmetry' 'worst fractal dimension']\n",
      "----------------------------------------------------------------------\n",
      "target_names \n",
      " ['malignant' 'benign']\n",
      "----------------------------------------------------------------------\n",
      "Data shape\n",
      " (569, 30)\n"
     ]
    }
   ],
   "source": [
    "print('Feature_names \\n', cancer.feature_names)\n",
    "print('-'*70)\n",
    "print('target_names \\n', cancer.target_names)\n",
    "print('-'*70)\n",
    "print('Data shape\\n', cancer.data.shape)"
   ]
  },
  {
   "cell_type": "code",
   "execution_count": 6,
   "metadata": {},
   "outputs": [
    {
     "data": {
      "text/plain": [
       "array([212, 357], dtype=int64)"
      ]
     },
     "execution_count": 6,
     "metadata": {},
     "output_type": "execute_result"
    }
   ],
   "source": [
    "# binary일때 개수 셈에 용이\n",
    "np.bincount(cancer.target)\n",
    "# 좌 악성(0), 우 양성(1)"
   ]
  },
  {
   "cell_type": "code",
   "execution_count": 7,
   "metadata": {},
   "outputs": [
    {
     "name": "stdout",
     "output_type": "stream",
     "text": [
      "Sample Count per class : \n",
      "{'malignant': 212, 'benign': 357}\n"
     ]
    }
   ],
   "source": [
    "print('Sample Count per class : \\n{}'.format({n:v for n,v in zip(cancer.target_names, np.bincount(cancer.target))}))"
   ]
  },
  {
   "cell_type": "code",
   "execution_count": 8,
   "metadata": {},
   "outputs": [
    {
     "data": {
      "text/plain": [
       "['0 : mean radius',\n",
       " '1 : mean texture',\n",
       " '2 : mean perimeter',\n",
       " '3 : mean area',\n",
       " '4 : mean smoothness',\n",
       " '5 : mean compactness',\n",
       " '6 : mean concavity',\n",
       " '7 : mean concave points',\n",
       " '8 : mean symmetry',\n",
       " '9 : mean fractal dimension',\n",
       " '10 : radius error',\n",
       " '11 : texture error',\n",
       " '12 : perimeter error',\n",
       " '13 : area error',\n",
       " '14 : smoothness error',\n",
       " '15 : compactness error',\n",
       " '16 : concavity error',\n",
       " '17 : concave points error',\n",
       " '18 : symmetry error',\n",
       " '19 : fractal dimension error',\n",
       " '20 : worst radius',\n",
       " '21 : worst texture',\n",
       " '22 : worst perimeter',\n",
       " '23 : worst area',\n",
       " '24 : worst smoothness',\n",
       " '25 : worst compactness',\n",
       " '26 : worst concavity',\n",
       " '27 : worst concave points',\n",
       " '28 : worst symmetry',\n",
       " '29 : worst fractal dimension']"
      ]
     },
     "execution_count": 8,
     "metadata": {},
     "output_type": "execute_result"
    }
   ],
   "source": [
    "[f\"{idx} : {o}\" for idx,o in enumerate(cancer.feature_names)]"
   ]
  },
  {
   "cell_type": "markdown",
   "metadata": {},
   "source": [
    "### 3. Model Generator and Train"
   ]
  },
  {
   "cell_type": "code",
   "execution_count": 9,
   "metadata": {},
   "outputs": [
    {
     "data": {
      "text/plain": [
       "GridSearchCV(cv=5, error_score='raise-deprecating',\n",
       "             estimator=DecisionTreeClassifier(class_weight=None,\n",
       "                                              criterion='gini', max_depth=None,\n",
       "                                              max_features=None,\n",
       "                                              max_leaf_nodes=None,\n",
       "                                              min_impurity_decrease=0.0,\n",
       "                                              min_impurity_split=None,\n",
       "                                              min_samples_leaf=1,\n",
       "                                              min_samples_split=2,\n",
       "                                              min_weight_fraction_leaf=0.0,\n",
       "                                              presort=False, random_state=None,\n",
       "                                              splitter='best'),\n",
       "             iid='warn', n_jobs=None,\n",
       "             param_grid={'max_depth': [3, 4, 5, 6, 7],\n",
       "                         'min_samples_split': [15, 20, 25, 30, 35, 40, 45]},\n",
       "             pre_dispatch='2*n_jobs', refit=True, return_train_score=False,\n",
       "             scoring=None, verbose=0)"
      ]
     },
     "execution_count": 9,
     "metadata": {},
     "output_type": "execute_result"
    }
   ],
   "source": [
    "params = {'max_depth':[3,4,5,6,7], 'min_samples_split':[15,20,25,30,35,40,45]}\n",
    "\n",
    "X_train, X_test, y_train, y_test = train_test_split(X, y, test_size=0.2, shuffle=True)\n",
    "\n",
    "grid_clf = GridSearchCV(DecisionTreeClassifier(), params, cv=5, refit=True)\n",
    "grid_clf.fit(X_train, y_train)\n",
    "grid_clf"
   ]
  },
  {
   "cell_type": "markdown",
   "metadata": {},
   "source": [
    "### 4. Predict"
   ]
  },
  {
   "cell_type": "code",
   "execution_count": 10,
   "metadata": {},
   "outputs": [
    {
     "name": "stdout",
     "output_type": "stream",
     "text": [
      "최적 파라미터: {'max_depth': 3, 'min_samples_split': 20}\n",
      "best score 0.9340659340659341\n"
     ]
    }
   ],
   "source": [
    "print('최적 파라미터:',grid_clf.best_params_)\n",
    "print('best score',grid_clf.best_score_)\n",
    "estimator = grid_clf.best_estimator_\n",
    "pred = estimator.predict(X_test)\n"
   ]
  },
  {
   "cell_type": "markdown",
   "metadata": {},
   "source": [
    "### 5. Evaluate"
   ]
  },
  {
   "cell_type": "code",
   "execution_count": 11,
   "metadata": {},
   "outputs": [
    {
     "data": {
      "text/plain": [
       "0.9298245614035088"
      ]
     },
     "execution_count": 11,
     "metadata": {},
     "output_type": "execute_result"
    }
   ],
   "source": [
    "score = accuracy_score(pred,y_test, normalize=True)\n",
    "# score = accuracy_score(pred,y_test, normalize=False)  #예측한 건수로 출력\n",
    "score"
   ]
  },
  {
   "cell_type": "markdown",
   "metadata": {},
   "source": [
    "### 6. Grapviz"
   ]
  },
  {
   "cell_type": "code",
   "execution_count": 12,
   "metadata": {},
   "outputs": [
    {
     "data": {
      "image/svg+xml": [
       "<?xml version=\"1.0\" encoding=\"UTF-8\" standalone=\"no\"?>\r\n",
       "<!DOCTYPE svg PUBLIC \"-//W3C//DTD SVG 1.1//EN\"\r\n",
       " \"http://www.w3.org/Graphics/SVG/1.1/DTD/svg11.dtd\">\r\n",
       "<!-- Generated by graphviz version 2.38.0 (20140413.2041)\r\n",
       " -->\r\n",
       "<!-- Title: Tree Pages: 1 -->\r\n",
       "<svg width=\"722pt\" height=\"433pt\"\r\n",
       " viewBox=\"0.00 0.00 721.50 433.00\" xmlns=\"http://www.w3.org/2000/svg\" xmlns:xlink=\"http://www.w3.org/1999/xlink\">\r\n",
       "<g id=\"graph0\" class=\"graph\" transform=\"scale(1 1) rotate(0) translate(4 429)\">\r\n",
       "<title>Tree</title>\r\n",
       "<polygon fill=\"white\" stroke=\"none\" points=\"-4,4 -4,-429 717.5,-429 717.5,4 -4,4\"/>\r\n",
       "<!-- 0 -->\r\n",
       "<g id=\"node1\" class=\"node\"><title>0</title>\r\n",
       "<polygon fill=\"#afd7f5\" stroke=\"black\" points=\"537.5,-425 346.5,-425 346.5,-342 537.5,-342 537.5,-425\"/>\r\n",
       "<text text-anchor=\"middle\" x=\"442\" y=\"-409.8\" font-family=\"Times New Roman,serif\" font-size=\"14.00\">worst concave points &lt;= 0.145</text>\r\n",
       "<text text-anchor=\"middle\" x=\"442\" y=\"-394.8\" font-family=\"Times New Roman,serif\" font-size=\"14.00\">gini = 0.468</text>\r\n",
       "<text text-anchor=\"middle\" x=\"442\" y=\"-379.8\" font-family=\"Times New Roman,serif\" font-size=\"14.00\">samples = 455</text>\r\n",
       "<text text-anchor=\"middle\" x=\"442\" y=\"-364.8\" font-family=\"Times New Roman,serif\" font-size=\"14.00\">value = [170, 285]</text>\r\n",
       "<text text-anchor=\"middle\" x=\"442\" y=\"-349.8\" font-family=\"Times New Roman,serif\" font-size=\"14.00\">class = benign</text>\r\n",
       "</g>\r\n",
       "<!-- 1 -->\r\n",
       "<g id=\"node2\" class=\"node\"><title>1</title>\r\n",
       "<polygon fill=\"#4ea8e8\" stroke=\"black\" points=\"422,-306 282,-306 282,-223 422,-223 422,-306\"/>\r\n",
       "<text text-anchor=\"middle\" x=\"352\" y=\"-290.8\" font-family=\"Times New Roman,serif\" font-size=\"14.00\">worst radius &lt;= 17.72</text>\r\n",
       "<text text-anchor=\"middle\" x=\"352\" y=\"-275.8\" font-family=\"Times New Roman,serif\" font-size=\"14.00\">gini = 0.175</text>\r\n",
       "<text text-anchor=\"middle\" x=\"352\" y=\"-260.8\" font-family=\"Times New Roman,serif\" font-size=\"14.00\">samples = 309</text>\r\n",
       "<text text-anchor=\"middle\" x=\"352\" y=\"-245.8\" font-family=\"Times New Roman,serif\" font-size=\"14.00\">value = [30, 279]</text>\r\n",
       "<text text-anchor=\"middle\" x=\"352\" y=\"-230.8\" font-family=\"Times New Roman,serif\" font-size=\"14.00\">class = benign</text>\r\n",
       "</g>\r\n",
       "<!-- 0&#45;&gt;1 -->\r\n",
       "<g id=\"edge1\" class=\"edge\"><title>0&#45;&gt;1</title>\r\n",
       "<path fill=\"none\" stroke=\"black\" d=\"M410.775,-341.907C403.864,-332.923 396.473,-323.315 389.346,-314.05\"/>\r\n",
       "<polygon fill=\"black\" stroke=\"black\" points=\"392.041,-311.813 383.17,-306.021 386.493,-316.081 392.041,-311.813\"/>\r\n",
       "<text text-anchor=\"middle\" x=\"379.936\" y=\"-327.111\" font-family=\"Times New Roman,serif\" font-size=\"14.00\">True</text>\r\n",
       "</g>\r\n",
       "<!-- 8 -->\r\n",
       "<g id=\"node9\" class=\"node\"><title>8</title>\r\n",
       "<polygon fill=\"#e68641\" stroke=\"black\" points=\"607.5,-306 458.5,-306 458.5,-223 607.5,-223 607.5,-306\"/>\r\n",
       "<text text-anchor=\"middle\" x=\"533\" y=\"-290.8\" font-family=\"Times New Roman,serif\" font-size=\"14.00\">concavity error &lt;= 0.13</text>\r\n",
       "<text text-anchor=\"middle\" x=\"533\" y=\"-275.8\" font-family=\"Times New Roman,serif\" font-size=\"14.00\">gini = 0.079</text>\r\n",
       "<text text-anchor=\"middle\" x=\"533\" y=\"-260.8\" font-family=\"Times New Roman,serif\" font-size=\"14.00\">samples = 146</text>\r\n",
       "<text text-anchor=\"middle\" x=\"533\" y=\"-245.8\" font-family=\"Times New Roman,serif\" font-size=\"14.00\">value = [140, 6]</text>\r\n",
       "<text text-anchor=\"middle\" x=\"533\" y=\"-230.8\" font-family=\"Times New Roman,serif\" font-size=\"14.00\">class = malignant</text>\r\n",
       "</g>\r\n",
       "<!-- 0&#45;&gt;8 -->\r\n",
       "<g id=\"edge8\" class=\"edge\"><title>0&#45;&gt;8</title>\r\n",
       "<path fill=\"none\" stroke=\"black\" d=\"M473.572,-341.907C480.56,-332.923 488.033,-323.315 495.239,-314.05\"/>\r\n",
       "<polygon fill=\"black\" stroke=\"black\" points=\"498.107,-316.063 501.484,-306.021 492.582,-311.766 498.107,-316.063\"/>\r\n",
       "<text text-anchor=\"middle\" x=\"504.585\" y=\"-327.128\" font-family=\"Times New Roman,serif\" font-size=\"14.00\">False</text>\r\n",
       "</g>\r\n",
       "<!-- 2 -->\r\n",
       "<g id=\"node3\" class=\"node\"><title>2</title>\r\n",
       "<polygon fill=\"#41a1e6\" stroke=\"black\" points=\"236.5,-187 105.5,-187 105.5,-104 236.5,-104 236.5,-187\"/>\r\n",
       "<text text-anchor=\"middle\" x=\"171\" y=\"-171.8\" font-family=\"Times New Roman,serif\" font-size=\"14.00\">area error &lt;= 35.435</text>\r\n",
       "<text text-anchor=\"middle\" x=\"171\" y=\"-156.8\" font-family=\"Times New Roman,serif\" font-size=\"14.00\">gini = 0.074</text>\r\n",
       "<text text-anchor=\"middle\" x=\"171\" y=\"-141.8\" font-family=\"Times New Roman,serif\" font-size=\"14.00\">samples = 287</text>\r\n",
       "<text text-anchor=\"middle\" x=\"171\" y=\"-126.8\" font-family=\"Times New Roman,serif\" font-size=\"14.00\">value = [11, 276]</text>\r\n",
       "<text text-anchor=\"middle\" x=\"171\" y=\"-111.8\" font-family=\"Times New Roman,serif\" font-size=\"14.00\">class = benign</text>\r\n",
       "</g>\r\n",
       "<!-- 1&#45;&gt;2 -->\r\n",
       "<g id=\"edge2\" class=\"edge\"><title>1&#45;&gt;2</title>\r\n",
       "<path fill=\"none\" stroke=\"black\" d=\"M289.203,-222.907C274.041,-213.106 257.73,-202.563 242.213,-192.533\"/>\r\n",
       "<polygon fill=\"black\" stroke=\"black\" points=\"243.984,-189.51 233.686,-187.021 240.184,-195.389 243.984,-189.51\"/>\r\n",
       "</g>\r\n",
       "<!-- 5 -->\r\n",
       "<g id=\"node6\" class=\"node\"><title>5</title>\r\n",
       "<polygon fill=\"#e99558\" stroke=\"black\" points=\"432.5,-187 271.5,-187 271.5,-104 432.5,-104 432.5,-187\"/>\r\n",
       "<text text-anchor=\"middle\" x=\"352\" y=\"-171.8\" font-family=\"Times New Roman,serif\" font-size=\"14.00\">worst concavity &lt;= 0.191</text>\r\n",
       "<text text-anchor=\"middle\" x=\"352\" y=\"-156.8\" font-family=\"Times New Roman,serif\" font-size=\"14.00\">gini = 0.236</text>\r\n",
       "<text text-anchor=\"middle\" x=\"352\" y=\"-141.8\" font-family=\"Times New Roman,serif\" font-size=\"14.00\">samples = 22</text>\r\n",
       "<text text-anchor=\"middle\" x=\"352\" y=\"-126.8\" font-family=\"Times New Roman,serif\" font-size=\"14.00\">value = [19, 3]</text>\r\n",
       "<text text-anchor=\"middle\" x=\"352\" y=\"-111.8\" font-family=\"Times New Roman,serif\" font-size=\"14.00\">class = malignant</text>\r\n",
       "</g>\r\n",
       "<!-- 1&#45;&gt;5 -->\r\n",
       "<g id=\"edge5\" class=\"edge\"><title>1&#45;&gt;5</title>\r\n",
       "<path fill=\"none\" stroke=\"black\" d=\"M352,-222.907C352,-214.649 352,-205.864 352,-197.302\"/>\r\n",
       "<polygon fill=\"black\" stroke=\"black\" points=\"355.5,-197.021 352,-187.021 348.5,-197.021 355.5,-197.021\"/>\r\n",
       "</g>\r\n",
       "<!-- 3 -->\r\n",
       "<g id=\"node4\" class=\"node\"><title>3</title>\r\n",
       "<polygon fill=\"#3d9fe5\" stroke=\"black\" points=\"104,-68 0,-68 0,-0 104,-0 104,-68\"/>\r\n",
       "<text text-anchor=\"middle\" x=\"52\" y=\"-52.8\" font-family=\"Times New Roman,serif\" font-size=\"14.00\">gini = 0.036</text>\r\n",
       "<text text-anchor=\"middle\" x=\"52\" y=\"-37.8\" font-family=\"Times New Roman,serif\" font-size=\"14.00\">samples = 269</text>\r\n",
       "<text text-anchor=\"middle\" x=\"52\" y=\"-22.8\" font-family=\"Times New Roman,serif\" font-size=\"14.00\">value = [5, 264]</text>\r\n",
       "<text text-anchor=\"middle\" x=\"52\" y=\"-7.8\" font-family=\"Times New Roman,serif\" font-size=\"14.00\">class = benign</text>\r\n",
       "</g>\r\n",
       "<!-- 2&#45;&gt;3 -->\r\n",
       "<g id=\"edge3\" class=\"edge\"><title>2&#45;&gt;3</title>\r\n",
       "<path fill=\"none\" stroke=\"black\" d=\"M126.689,-103.726C116.578,-94.423 105.841,-84.5428 95.7541,-75.2612\"/>\r\n",
       "<polygon fill=\"black\" stroke=\"black\" points=\"97.9173,-72.4953 88.1886,-68.2996 93.1774,-77.6464 97.9173,-72.4953\"/>\r\n",
       "</g>\r\n",
       "<!-- 4 -->\r\n",
       "<g id=\"node5\" class=\"node\"><title>4</title>\r\n",
       "<polygon fill=\"#9ccef2\" stroke=\"black\" points=\"220,-68 122,-68 122,-0 220,-0 220,-68\"/>\r\n",
       "<text text-anchor=\"middle\" x=\"171\" y=\"-52.8\" font-family=\"Times New Roman,serif\" font-size=\"14.00\">gini = 0.444</text>\r\n",
       "<text text-anchor=\"middle\" x=\"171\" y=\"-37.8\" font-family=\"Times New Roman,serif\" font-size=\"14.00\">samples = 18</text>\r\n",
       "<text text-anchor=\"middle\" x=\"171\" y=\"-22.8\" font-family=\"Times New Roman,serif\" font-size=\"14.00\">value = [6, 12]</text>\r\n",
       "<text text-anchor=\"middle\" x=\"171\" y=\"-7.8\" font-family=\"Times New Roman,serif\" font-size=\"14.00\">class = benign</text>\r\n",
       "</g>\r\n",
       "<!-- 2&#45;&gt;4 -->\r\n",
       "<g id=\"edge4\" class=\"edge\"><title>2&#45;&gt;4</title>\r\n",
       "<path fill=\"none\" stroke=\"black\" d=\"M171,-103.726C171,-95.5175 171,-86.8595 171,-78.56\"/>\r\n",
       "<polygon fill=\"black\" stroke=\"black\" points=\"174.5,-78.2996 171,-68.2996 167.5,-78.2996 174.5,-78.2996\"/>\r\n",
       "</g>\r\n",
       "<!-- 6 -->\r\n",
       "<g id=\"node7\" class=\"node\"><title>6</title>\r\n",
       "<polygon fill=\"#bddef6\" stroke=\"black\" points=\"335.5,-68 238.5,-68 238.5,-0 335.5,-0 335.5,-68\"/>\r\n",
       "<text text-anchor=\"middle\" x=\"287\" y=\"-52.8\" font-family=\"Times New Roman,serif\" font-size=\"14.00\">gini = 0.48</text>\r\n",
       "<text text-anchor=\"middle\" x=\"287\" y=\"-37.8\" font-family=\"Times New Roman,serif\" font-size=\"14.00\">samples = 5</text>\r\n",
       "<text text-anchor=\"middle\" x=\"287\" y=\"-22.8\" font-family=\"Times New Roman,serif\" font-size=\"14.00\">value = [2, 3]</text>\r\n",
       "<text text-anchor=\"middle\" x=\"287\" y=\"-7.8\" font-family=\"Times New Roman,serif\" font-size=\"14.00\">class = benign</text>\r\n",
       "</g>\r\n",
       "<!-- 5&#45;&gt;6 -->\r\n",
       "<g id=\"edge6\" class=\"edge\"><title>5&#45;&gt;6</title>\r\n",
       "<path fill=\"none\" stroke=\"black\" d=\"M327.796,-103.726C322.599,-94.9703 317.098,-85.7032 311.875,-76.9051\"/>\r\n",
       "<polygon fill=\"black\" stroke=\"black\" points=\"314.881,-75.1121 306.767,-68.2996 308.862,-78.6853 314.881,-75.1121\"/>\r\n",
       "</g>\r\n",
       "<!-- 7 -->\r\n",
       "<g id=\"node8\" class=\"node\"><title>7</title>\r\n",
       "<polygon fill=\"#e58139\" stroke=\"black\" points=\"466.5,-68 353.5,-68 353.5,-0 466.5,-0 466.5,-68\"/>\r\n",
       "<text text-anchor=\"middle\" x=\"410\" y=\"-52.8\" font-family=\"Times New Roman,serif\" font-size=\"14.00\">gini = 0.0</text>\r\n",
       "<text text-anchor=\"middle\" x=\"410\" y=\"-37.8\" font-family=\"Times New Roman,serif\" font-size=\"14.00\">samples = 17</text>\r\n",
       "<text text-anchor=\"middle\" x=\"410\" y=\"-22.8\" font-family=\"Times New Roman,serif\" font-size=\"14.00\">value = [17, 0]</text>\r\n",
       "<text text-anchor=\"middle\" x=\"410\" y=\"-7.8\" font-family=\"Times New Roman,serif\" font-size=\"14.00\">class = malignant</text>\r\n",
       "</g>\r\n",
       "<!-- 5&#45;&gt;7 -->\r\n",
       "<g id=\"edge7\" class=\"edge\"><title>5&#45;&gt;7</title>\r\n",
       "<path fill=\"none\" stroke=\"black\" d=\"M373.597,-103.726C378.187,-95.0615 383.041,-85.8962 387.658,-77.1802\"/>\r\n",
       "<polygon fill=\"black\" stroke=\"black\" points=\"390.774,-78.7748 392.362,-68.2996 384.588,-75.4982 390.774,-78.7748\"/>\r\n",
       "</g>\r\n",
       "<!-- 9 -->\r\n",
       "<g id=\"node10\" class=\"node\"><title>9</title>\r\n",
       "<polygon fill=\"#e6843d\" stroke=\"black\" points=\"598.5,-187 467.5,-187 467.5,-104 598.5,-104 598.5,-187\"/>\r\n",
       "<text text-anchor=\"middle\" x=\"533\" y=\"-171.8\" font-family=\"Times New Roman,serif\" font-size=\"14.00\">area error &lt;= 17.435</text>\r\n",
       "<text text-anchor=\"middle\" x=\"533\" y=\"-156.8\" font-family=\"Times New Roman,serif\" font-size=\"14.00\">gini = 0.041</text>\r\n",
       "<text text-anchor=\"middle\" x=\"533\" y=\"-141.8\" font-family=\"Times New Roman,serif\" font-size=\"14.00\">samples = 143</text>\r\n",
       "<text text-anchor=\"middle\" x=\"533\" y=\"-126.8\" font-family=\"Times New Roman,serif\" font-size=\"14.00\">value = [140, 3]</text>\r\n",
       "<text text-anchor=\"middle\" x=\"533\" y=\"-111.8\" font-family=\"Times New Roman,serif\" font-size=\"14.00\">class = malignant</text>\r\n",
       "</g>\r\n",
       "<!-- 8&#45;&gt;9 -->\r\n",
       "<g id=\"edge9\" class=\"edge\"><title>8&#45;&gt;9</title>\r\n",
       "<path fill=\"none\" stroke=\"black\" d=\"M533,-222.907C533,-214.649 533,-205.864 533,-197.302\"/>\r\n",
       "<polygon fill=\"black\" stroke=\"black\" points=\"536.5,-197.021 533,-187.021 529.5,-197.021 536.5,-197.021\"/>\r\n",
       "</g>\r\n",
       "<!-- 12 -->\r\n",
       "<g id=\"node13\" class=\"node\"><title>12</title>\r\n",
       "<polygon fill=\"#399de5\" stroke=\"black\" points=\"713.5,-179.5 616.5,-179.5 616.5,-111.5 713.5,-111.5 713.5,-179.5\"/>\r\n",
       "<text text-anchor=\"middle\" x=\"665\" y=\"-164.3\" font-family=\"Times New Roman,serif\" font-size=\"14.00\">gini = 0.0</text>\r\n",
       "<text text-anchor=\"middle\" x=\"665\" y=\"-149.3\" font-family=\"Times New Roman,serif\" font-size=\"14.00\">samples = 3</text>\r\n",
       "<text text-anchor=\"middle\" x=\"665\" y=\"-134.3\" font-family=\"Times New Roman,serif\" font-size=\"14.00\">value = [0, 3]</text>\r\n",
       "<text text-anchor=\"middle\" x=\"665\" y=\"-119.3\" font-family=\"Times New Roman,serif\" font-size=\"14.00\">class = benign</text>\r\n",
       "</g>\r\n",
       "<!-- 8&#45;&gt;12 -->\r\n",
       "<g id=\"edge12\" class=\"edge\"><title>8&#45;&gt;12</title>\r\n",
       "<path fill=\"none\" stroke=\"black\" d=\"M578.797,-222.907C592.117,-211.101 606.653,-198.217 619.929,-186.45\"/>\r\n",
       "<polygon fill=\"black\" stroke=\"black\" points=\"622.419,-188.919 627.581,-179.667 617.776,-183.681 622.419,-188.919\"/>\r\n",
       "</g>\r\n",
       "<!-- 10 -->\r\n",
       "<g id=\"node11\" class=\"node\"><title>10</title>\r\n",
       "<polygon fill=\"#9ccef2\" stroke=\"black\" points=\"581.5,-68 484.5,-68 484.5,-0 581.5,-0 581.5,-68\"/>\r\n",
       "<text text-anchor=\"middle\" x=\"533\" y=\"-52.8\" font-family=\"Times New Roman,serif\" font-size=\"14.00\">gini = 0.444</text>\r\n",
       "<text text-anchor=\"middle\" x=\"533\" y=\"-37.8\" font-family=\"Times New Roman,serif\" font-size=\"14.00\">samples = 3</text>\r\n",
       "<text text-anchor=\"middle\" x=\"533\" y=\"-22.8\" font-family=\"Times New Roman,serif\" font-size=\"14.00\">value = [1, 2]</text>\r\n",
       "<text text-anchor=\"middle\" x=\"533\" y=\"-7.8\" font-family=\"Times New Roman,serif\" font-size=\"14.00\">class = benign</text>\r\n",
       "</g>\r\n",
       "<!-- 9&#45;&gt;10 -->\r\n",
       "<g id=\"edge10\" class=\"edge\"><title>9&#45;&gt;10</title>\r\n",
       "<path fill=\"none\" stroke=\"black\" d=\"M533,-103.726C533,-95.5175 533,-86.8595 533,-78.56\"/>\r\n",
       "<polygon fill=\"black\" stroke=\"black\" points=\"536.5,-78.2996 533,-68.2996 529.5,-78.2996 536.5,-78.2996\"/>\r\n",
       "</g>\r\n",
       "<!-- 11 -->\r\n",
       "<g id=\"node12\" class=\"node\"><title>11</title>\r\n",
       "<polygon fill=\"#e5823a\" stroke=\"black\" points=\"712.5,-68 599.5,-68 599.5,-0 712.5,-0 712.5,-68\"/>\r\n",
       "<text text-anchor=\"middle\" x=\"656\" y=\"-52.8\" font-family=\"Times New Roman,serif\" font-size=\"14.00\">gini = 0.014</text>\r\n",
       "<text text-anchor=\"middle\" x=\"656\" y=\"-37.8\" font-family=\"Times New Roman,serif\" font-size=\"14.00\">samples = 140</text>\r\n",
       "<text text-anchor=\"middle\" x=\"656\" y=\"-22.8\" font-family=\"Times New Roman,serif\" font-size=\"14.00\">value = [139, 1]</text>\r\n",
       "<text text-anchor=\"middle\" x=\"656\" y=\"-7.8\" font-family=\"Times New Roman,serif\" font-size=\"14.00\">class = malignant</text>\r\n",
       "</g>\r\n",
       "<!-- 9&#45;&gt;11 -->\r\n",
       "<g id=\"edge11\" class=\"edge\"><title>9&#45;&gt;11</title>\r\n",
       "<path fill=\"none\" stroke=\"black\" d=\"M578.801,-103.726C589.353,-94.3318 600.567,-84.349 611.082,-74.9883\"/>\r\n",
       "<polygon fill=\"black\" stroke=\"black\" points=\"613.453,-77.5631 618.595,-68.2996 608.799,-72.3347 613.453,-77.5631\"/>\r\n",
       "</g>\r\n",
       "</g>\r\n",
       "</svg>\r\n"
      ],
      "text/plain": [
       "<graphviz.files.Source at 0x22e75260dc8>"
      ]
     },
     "metadata": {},
     "output_type": "display_data"
    },
    {
     "data": {
      "text/plain": [
       "'cancer_tree.png.pdf'"
      ]
     },
     "execution_count": 12,
     "metadata": {},
     "output_type": "execute_result"
    }
   ],
   "source": [
    "from sklearn.tree import export_graphviz\n",
    "import graphviz\n",
    "# impurity : 지니계수\n",
    "# filled : 색채움\n",
    "\n",
    "export_graphviz(estimator, out_file='cancer_tree.dot', class_names=cancer.target_names,\n",
    "               feature_names=cancer.feature_names, impurity=True, filled=True)\n",
    "\n",
    "# 위에서 생성된 tree.dot 파일을 Graphviz가 읽어서 주피터 노트북상에서 시각화\n",
    "with open('cancer_tree.dot') as f:\n",
    "    dot_graph = f.read()\n",
    "dot = graphviz.Source(dot_graph)\n",
    "display(dot)\n",
    "dot.render(filename='cancer_tree.png')\n"
   ]
  },
  {
   "cell_type": "markdown",
   "metadata": {},
   "source": [
    "### 7. Feature importance"
   ]
  },
  {
   "cell_type": "code",
   "execution_count": 13,
   "metadata": {},
   "outputs": [
    {
     "data": {
      "image/png": "[encoded data removed]",
      "text/plain": [
       "<Figure size 720x504 with 1 Axes>"
      ]
     },
     "metadata": {
      "needs_background": "dark"
     },
     "output_type": "display_data"
    }
   ],
   "source": [
    "def plot_feature_importances_cancer(model):\n",
    "    plt.figure(figsize=(10,7))\n",
    "    n_features = cancer.data.shape[1]\n",
    "    plt.barh(range(n_features), model.feature_importances_, align='center')\n",
    "    plt.yticks(np.arange(n_features),cancer.feature_names)\n",
    "    plt.xlabel('Feature Impotance')\n",
    "    plt.ylabel('Features')\n",
    "    plt.ylim(-1, n_features) # 그림의 범위를 수동으로 지정할때\n",
    "    \n",
    "plot_feature_importances_cancer(estimator)\n"
   ]
  },
  {
   "cell_type": "code",
   "execution_count": null,
   "metadata": {},
   "outputs": [],
   "source": []
  },
  {
   "cell_type": "code",
   "execution_count": null,
   "metadata": {},
   "outputs": [],
   "source": []
  },
  {
   "cell_type": "code",
   "execution_count": null,
   "metadata": {},
   "outputs": [],
   "source": []
  }
 ],
 "metadata": {
  "kernelspec": {
   "display_name": "Python 3",
   "language": "python",
   "name": "python3"
  },
  "language_info": {
   "codemirror_mode": {
    "name": "ipython",
    "version": 3
   },
   "file_extension": ".py",
   "mimetype": "text/x-python",
   "name": "python",
   "nbconvert_exporter": "python",
   "pygments_lexer": "ipython3",
   "version": "3.7.4"
  }
 },
 "nbformat": 4,
 "nbformat_minor": 2
}
